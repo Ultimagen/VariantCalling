{
 "cells": [
  {
   "cell_type": "code",
   "execution_count": null,
   "id": "7be18dd9-b5b7-4837-baea-0539db97a24e",
   "metadata": {
    "pycharm": {
     "name": "#%%\n"
    },
    "tags": []
   },
   "outputs": [],
   "source": [
    "from IPython.display import Image, display\n",
    "\n",
    "import matplotlib.pyplot as plt\n",
    "import numpy as np\n",
    "import pandas as pd"
   ]
  },
  {
   "cell_type": "code",
   "execution_count": null,
   "id": "c094d42e-3e04-4dd0-b7c0-de8bf24dcc8d",
   "metadata": {
    "pycharm": {
     "name": "#%%\n"
    },
    "tags": []
   },
   "outputs": [],
   "source": [
    "import os\n",
    "import sys\n",
    "\n",
    "for path in [\n",
    "    os.path.join(os.environ[\"HOME\"], \"proj/VariantCalling\"),\n",
    "    \"/VariantCalling\",\n",
    "]:\n",
    "    if os.path.isdir(path) and path not in sys.path:\n",
    "        sys.path.insert(1, path)\n",
    "from ugvc.mrd.balanced_strand_utils import (\n",
    "    BalancedStrandAdapterVersions,\n",
    "    HistogramColumnNames,\n",
    "    STRAND_RATIO_LOWER_THRESH,\n",
    "    STRAND_RATIO_UPPER_THRESH,\n",
    "    MIN_TOTAL_HMER_LENGTHS_IN_LOOPS,\n",
    "    MAX_TOTAL_HMER_LENGTHS_IN_LOOPS,\n",
    "    _assert_adapter_version_supported\n",
    ")"
   ]
  },
  {
   "cell_type": "code",
   "execution_count": null,
   "id": "4640f487",
   "metadata": {},
   "outputs": [],
   "source": [
    "IMAGE_WIDTH = 800"
   ]
  },
  {
   "cell_type": "code",
   "execution_count": null,
   "id": "231dac91-4733-408d-8437-fc0c93e5556a",
   "metadata": {
    "pycharm": {
     "name": "#%%\n"
    },
    "tags": [
     "parameters"
    ]
   },
   "outputs": [],
   "source": [
    "# input parameters\n",
    "adapter_version = None\n",
    "statistics_h5 = None\n",
    "trimmer_histogram_png = None\n",
    "strand_ratio_png = None\n",
    "strand_ratio_category_png = None\n",
    "strand_ratio_category_concordance_png = None\n",
    "sr_lower = STRAND_RATIO_LOWER_THRESH\n",
    "sr_upper = STRAND_RATIO_UPPER_THRESH\n",
    "min_total_hmer_lengths_in_loops = MIN_TOTAL_HMER_LENGTHS_IN_LOOPS\n",
    "max_total_hmer_lengths_in_loops = MAX_TOTAL_HMER_LENGTHS_IN_LOOPS\n",
    "illustration_file = None"
   ]
  },
  {
   "cell_type": "code",
   "execution_count": null,
   "id": "e673e452",
   "metadata": {},
   "outputs": [],
   "source": [
    "if (\n",
    "    statistics_h5 is None\n",
    "    or adapter_version is None\n",
    "    or trimmer_histogram_png is None\n",
    "    or strand_ratio_category_png is None\n",
    "):\n",
    "    raise ValueError(\"Missing required input files\")"
   ]
  },
  {
   "cell_type": "code",
   "execution_count": null,
   "id": "7bd43d93",
   "metadata": {},
   "outputs": [],
   "source": [
    "_assert_adapter_version_supported(adapter_version)"
   ]
  },
  {
   "cell_type": "markdown",
   "id": "a29013df",
   "metadata": {},
   "source": [
    "# Main statistics"
   ]
  },
  {
   "cell_type": "code",
   "execution_count": null,
   "id": "4b0e7c71",
   "metadata": {},
   "outputs": [],
   "source": [
    "df_sorter_stats_shortlist = pd.read_hdf(statistics_h5, key=\"stats_shortlist\").dropna()\n",
    "display(df_sorter_stats_shortlist.style.format(\"{:.2f}\"))\n",
    "print(\"\\n\\n\\n\\n\")"
   ]
  },
  {
   "cell_type": "markdown",
   "id": "ef043764",
   "metadata": {},
   "source": [
    "- \"MIXED read mean coverage\" is the coverage of reads where both loops were detected as MIXED\n",
    "- \"% MIXED (both tags) of all reads\" measured the ratio of reads where both loops were detected as MIXED out of all the reads\n",
    "- \"% MIXED reads (both tags) where end was reached\" measured the ratio of reads where both loops were detected as MIXED out of the reads where the read end was reached so that the end loop could be measured"
   ]
  },
  {
   "cell_type": "markdown",
   "id": "0f2f342e",
   "metadata": {},
   "source": [
    "# QC plots"
   ]
  },
  {
   "cell_type": "code",
   "execution_count": null,
   "id": "8cd8a5d8",
   "metadata": {},
   "outputs": [],
   "source": [
    "display(Image(strand_ratio_category_png, width=IMAGE_WIDTH))\n",
    "caption = {\n",
    "    BalancedStrandAdapterVersions.LA_v5.value: \"\"\"\n",
    "This barplot shows the ratio of each category type in the data according to the spec in the top of the file.\"\"\",\n",
    "    BalancedStrandAdapterVersions.LA_v6.value: \"\"\"\n",
    "This barplot shows the ratio of each category type in the data according to the spec in the top of the file.\n",
    "The end loop breakdown is only for the reads that reached the end loop.\"\"\",\n",
    "    BalancedStrandAdapterVersions.LA_v5and6.value: \"\"\"\n",
    "This barplot shows the ratio of each category type in the data according to the spec in the top of the file.\n",
    "The categories are reported separately for the start- and end-loops.\n",
    "The end loop breakdown is shown only for the reads that reached the end loop.\"\"\",\n",
    "    BalancedStrandAdapterVersions.LA_v7.value: \"\"\"\n",
    "This barplot shows the ratio of each category type in the data according to the spec in the top of the file.\n",
    "The categories are reported separately for the start- and end-loops.\n",
    "The end loop breakdown is shown only for the reads that reached the end loop.\"\"\",\n",
    "}\n",
    "print(caption[adapter_version])\n",
    "print(\"\\n\\n\\n\\n\")"
   ]
  },
  {
   "cell_type": "code",
   "execution_count": null,
   "id": "2f0a33dd",
   "metadata": {},
   "outputs": [],
   "source": [
    "caption = {\n",
    "    BalancedStrandAdapterVersions.LA_v5.value: \"\"\"\n",
    "This barplot shows the MINUS/PLUS ratio distribution for all the reads.\"\"\",\n",
    "    BalancedStrandAdapterVersions.LA_v6.value: \"\"\"\n",
    "This barplot shows the MINUS/PLUS ratio distribution for all the reads.\"\"\",\n",
    "    BalancedStrandAdapterVersions.LA_v5and6.value: \"\"\"\n",
    "This barplot shows the MINUS/PLUS ratio distribution for all the reads, for each loop separately.\"\"\",\n",
    "}\n",
    "if adapter_version in caption and strand_ratio_png:\n",
    "    display(Image(strand_ratio_png, width=IMAGE_WIDTH))\n",
    "    print(caption[adapter_version])\n",
    "    print(\"\\n\\n\\n\\n\")"
   ]
  },
  {
   "cell_type": "code",
   "execution_count": null,
   "id": "afabb930",
   "metadata": {},
   "outputs": [],
   "source": [
    "if strand_ratio_category_concordance_png is not None:\n",
    "    display(Image(strand_ratio_category_concordance_png, width=IMAGE_WIDTH))\n",
    "    caption = {\n",
    "        BalancedStrandAdapterVersions.LA_v5and6.value: \"\"\"\n",
    "These plots show the concordance between the strand ratio categories of the start-loop and end-loop. Each loop is assigned a category separately, and the concordance is plotted. The top plot includes all the reads, including those with END_UNREACHED, while the bottom includes reads where the end was reached only.\"\"\",\n",
    "        BalancedStrandAdapterVersions.LA_v7.value: \"\"\"\n",
    "These plots show the concordance between the strand ratio categories of the start-loop and end-loop. Each loop is assigned a category separately, and the concordance is plotted. The top plot includes all the reads, including those with END_UNREACHED, while the bottom includes reads where the end was reached only.\"\"\",\n",
    "    }\n",
    "    print(caption[adapter_version])\n",
    "print(\"\\n\\n\\n\\n\")"
   ]
  },
  {
   "cell_type": "code",
   "execution_count": null,
   "id": "ebd8d749",
   "metadata": {},
   "outputs": [],
   "source": [
    "display(Image(trimmer_histogram_png, width=IMAGE_WIDTH))\n",
    "caption = {\n",
    "    BalancedStrandAdapterVersions.LA_v5.value: \"\"\"\n",
    "This plot shows the homopolymers called in the A and T hmers in the start loop.\"\"\",\n",
    "    BalancedStrandAdapterVersions.LA_v6.value: \"\"\"\n",
    "This plot shows the homopolymers called in the A and T hmers in the end loop.\"\"\",\n",
    "    BalancedStrandAdapterVersions.LA_v5and6.value: \"\"\"\n",
    "This plot shows the homopolymers called in the A and T hmers in the start loop (left) and end loop (right).\"\"\",\n",
    "    BalancedStrandAdapterVersions.LA_v7.value: \"\"\"\n",
    "This plot shows the homopolymers called in the A, T, G and C hmers in the start loop (left) and in the T, G, C, A hmers in the end loop (right).\n",
    "The loops are expected to yield:\n",
    "- A signel of [1 1 1 1], AGCT and GCAT for the start and end loops, for MIXED reads\n",
    "- A signal of [0 2 0 2], TTCC and CCTT for the start and end loops, for MINUS-only reads\n",
    "- A signal of [2 0 2 0], AAGG and GGAA for the start and end loops, for PLUS-only reads\n",
    "\"\"\",\n",
    "}\n",
    "print(caption[adapter_version])\n",
    "print(\"\\n\\n\\n\\n\")"
   ]
  },
  {
   "cell_type": "markdown",
   "id": "ea04578c",
   "metadata": {},
   "source": [
    "# About PPM-Seq"
   ]
  },
  {
   "cell_type": "markdown",
   "id": "2fd2071c",
   "metadata": {},
   "source": [
    "Identifying single nucleotide variants (SNVs) is fundamental to genomics. While consensus mutation calling, requiring multiple variant-containing reads to call genetic variation, is often used, it is unsuitable in calling rare SNVs, such as in circulating tumor DNA or somatic mosaicism, where often only a single supporting read is available. Paired Plus and Minus strand Sequencing (PPM-Seq), a PCR-free library preparation technology that uniquely leverages the Ultima Genomics clonal amplification process, overcomes this challenge. Here, DNA denaturation is not required prior to clonal amplification so both native strands are clonally amplified on many sequencing beads, allowing for a linear increase in duplex recovery and scalable duplex coverage without requiring unique molecular identifiers or redundant sequencing. \n",
    "\n",
    "In PPM-Seq, modified Ultima Genomics adapters containing mismatched homopolymers are used to detect reads that are the result of the mixture of the two native DNA strands. While some reads are amplicons of only the Plus or Minus strands and are generally of typical UG read SNV accuracy, the so-called Mixed reads exhibit much lower error rates, well below 1E-6, facilitating the accurate detection of rare SNVs. Artifactual mutations manifesting on one strand only are common sources of error in SNV detection from NGS. While beads that are amplicons of Plus or Minus strand only are exposed to these artifacts that would appear as high-quality reads, in Mixed beads they create an inconsistent signal that translates into a low quality base or read, preventing them from being read as false positive SNVs. \n",
    "\n",
    "This report is generated from preprocessing of the PPM-Seq sequencing data, and is intended to be used as a QC report for the library prep and sequencing run. The distribution of the MINUS/PLUS ratio, assignment of reads to categories (MIXED/MINUS/PLUS/UNDETERMINED), and with the raw calls are shown."
   ]
  },
  {
   "cell_type": "code",
   "execution_count": null,
   "id": "b21c5b11",
   "metadata": {},
   "outputs": [],
   "source": [
    "if illustration_file is not None:\n",
    "    display(Image(illustration_file, width=IMAGE_WIDTH))"
   ]
  },
  {
   "cell_type": "markdown",
   "id": "ddb11fe7",
   "metadata": {},
   "source": [
    "# PPM-Seq adapter version"
   ]
  },
  {
   "cell_type": "code",
   "execution_count": null,
   "id": "c569ce6e",
   "metadata": {},
   "outputs": [],
   "source": [
    "adapter_version_desc = {\n",
    "    BalancedStrandAdapterVersions.LA_v5.value: f\"\"\"\n",
    "The LA_v5 (LA=Loop Adapter) adapter is used in this sample. It is composed of a 6A-6A loop in the start of the read, so that reads are expected to ideally yield:\n",
    "- 0A and 6T for MINUS-only reads\n",
    "- 6A and 0T for PLUS-only reads\n",
    "- 3A and 3T for 50% MINUS - 50% PLUS reads\n",
    "\n",
    "In practice, homopolymer errors are allowed according to the spec below.\n",
    "\n",
    "The MINUS/PLUS strand ratio is calculated as:\n",
    "MINUS/PLUS = T_hmer / (A_hmer + T_hmer)\n",
    "\n",
    "The sum of the lengths of the hmers is:\n",
    "MINUS+PLUS = A_hmer + T_hmer\n",
    "\n",
    "Values with {min_total_hmer_lengths_in_loops}<=MINUS+PLUS<={max_total_hmer_lengths_in_loops} are considered as valid, the rest are denoted as UNDETERMINED.\n",
    "Following that filter, the MINUS/PLUS strand ratio is interpreted to read categories as follows:\n",
    "- MINUS-only: MINUS/PLUS = 1\n",
    "- PLUS-only: MINUS/PLUS = 0\n",
    "- MIXED: {sr_lower} <= MINUS/PLUS <= {sr_upper}\n",
    "- UNDETERMINED: (0 < MINUS/PLUS < {sr_lower}) or ({sr_upper} < MINUS/PLUS < 1)\n",
    "\"\"\",\n",
    "    BalancedStrandAdapterVersions.LA_v6.value: f\"\"\"\n",
    "The LA_v6 (LA=Loop Adapter) adapter is used in this sample. It is composed of a 6A-6A loop in the end of the read, so that reads are expected to ideally yield:\n",
    "- 0A and 6T for MINUS-only reads\n",
    "- 6A and 0T for PLUS-only reads\n",
    "- 3A and 3T for 50% MINUS - 50% PLUS reads\n",
    "\n",
    "In practice, homopolymer errors are allowed according to the spec below.\n",
    "\n",
    "The MINUS/PLUS strand ratio is calculated as:\n",
    "MINUS/PLUS = T_hmer / (A_hmer + T_hmer)\n",
    "\n",
    "The sum of the lengths of the hmers is:\n",
    "MINUS+PLUS = A_hmer + T_hmer\n",
    "\n",
    "Values with {min_total_hmer_lengths_in_loops}<=MINUS+PLUS<={max_total_hmer_lengths_in_loops} are considered as valid, the rest are denoted as UNDETERMINED.\n",
    "Following that filter, the MINUS/PLUS strand ratio is interpreted to read categories as follows:\n",
    "- MINUS-only: MINUS/PLUS = 1\n",
    "- PLUS-only: MINUS/PLUS = 0\n",
    "- MIXED: {sr_lower} <= MINUS/PLUS <= {sr_upper}\n",
    "- UNDETERMINED: (0 < MINUS/PLUS < {sr_lower}) or ({sr_upper} < MINUS/PLUS < 1)\n",
    "\n",
    "Additionally, since the loop is at the end of the reads it is not necessarily reached, in which case the reads is annotated as END_UNREACHED.\n",
    "\"\"\",\n",
    "    BalancedStrandAdapterVersions.LA_v5and6.value: f\"\"\"\n",
    "The PPM-Seq-v1 adapter is used in this sample. It is composed of a 6A-6A loop in the start and in the end of the read, so that reads are expected to ideally yield in each loop:\n",
    "- 0A and 6T for MINUS-only reads\n",
    "- 6A and 0T for PLUS-only reads\n",
    "- 3A and 3T for 50% MINUS - 50% PLUS reads\n",
    "\n",
    "In practice, homopolymer errors are allowed according to the spec below.\n",
    "\n",
    "The MINUS/PLUS strand ratio is calculated as:\n",
    "MINUS/PLUS = T_hmer / (A_hmer + T_hmer)\n",
    "\n",
    "The sum of the lengths of the hmers is:\n",
    "MINUS+PLUS = A_hmer + T_hmer\n",
    "\n",
    "Values with {min_total_hmer_lengths_in_loops}<=MINUS+PLUS<={max_total_hmer_lengths_in_loops} are considered as valid, the rest are denoted as UNDETERMINED.\n",
    "Following that filter, the MINUS/PLUS strand ratio is interpreted to read categories as follows:\n",
    "- MINUS-only: MINUS/PLUS = 1\n",
    "- PLUS-only: MINUS/PLUS = 0\n",
    "- MIXED: {sr_lower} <= MINUS/PLUS <= {sr_upper}\n",
    "- UNDETERMINED: (0 < MINUS/PLUS < {sr_lower}) or ({sr_upper} < MINUS/PLUS < 1)\n",
    "\n",
    "Additionally, since the end loop is at the end of the reads it is not necessarily reached, in which case the loop is annotated as END_UNREACHED.\"\"\",\n",
    "    BalancedStrandAdapterVersions.LA_v7.value: f\"\"\"\n",
    "The PPM-Seq-v2 adapter is used in this sample. It is composed of an AAGG-AAGG loop in the start and a GGAA-GGAA loop in the end of the read, so that reads are expected to ideally yield in each loop:\n",
    "- TTCC and CCTT for MINUS-only reads\n",
    "- AAGG and GGAA for PLUS-only reads\n",
    "- AGCT and GCAT for 50% MINUS - 50% PLUS reads\n",
    "\n",
    "Up to 2 homopolymer errors are allowed, as long as the distance from the second best fit is at least 4.\n",
    "\n",
    "Additionally, since the end loop is at the end of the reads it is not necessarily reached, in which case the loop is annotated as END_UNREACHED.\"\"\",\n",
    "}\n",
    "print(adapter_version_desc[adapter_version])\n",
    "print(\"\\n\\n\\n\\n\")"
   ]
  },
  {
   "cell_type": "markdown",
   "id": "318c00be",
   "metadata": {},
   "source": [
    "# Detailed statistics"
   ]
  },
  {
   "cell_type": "code",
   "execution_count": null,
   "id": "aa0ceb18",
   "metadata": {},
   "outputs": [],
   "source": [
    "with pd.HDFStore(statistics_h5) as s:\n",
    "    keys = s.keys()\n",
    "for key in sorted(keys):\n",
    "    if key in [\"/sorter_stats_shortlist\", \"sorter_stats_shortlist\"]:  # already shown\n",
    "        continue\n",
    "    print(f\"\\n\\nStatistics table:{key.replace('/', ' ')}\")\n",
    "    df = pd.read_hdf(statistics_h5, key=key)\n",
    "    if key in [\"trimmer_histogram\", \"/trimmer_histogram\"]:\n",
    "        df = df.sort_values(\n",
    "            HistogramColumnNames.COUNT_NORM.value, ascending=False\n",
    "        ).reset_index(drop=True)\n",
    "    display(df.head(50))\n",
    "print(\"\\n\\n\\n\\n\")"
   ]
  }
 ],
 "metadata": {
  "kernelspec": {
   "display_name": "genomics.py3",
   "language": "python",
   "name": "python3"
  },
  "language_info": {
   "codemirror_mode": {
    "name": "ipython",
    "version": 3
   },
   "file_extension": ".py",
   "mimetype": "text/x-python",
   "name": "python",
   "nbconvert_exporter": "python",
   "pygments_lexer": "ipython3",
   "version": "3.7.8"
  },
  "toc-autonumbering": true
 },
 "nbformat": 4,
 "nbformat_minor": 5
}
