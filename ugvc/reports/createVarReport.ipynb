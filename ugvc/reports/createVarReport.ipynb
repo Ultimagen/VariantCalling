{
 "cells": [
  {
   "cell_type": "code",
   "execution_count": null,
   "metadata": {
    "ExecuteTime": {
     "end_time": "2022-07-25T13:41:08.009132Z",
     "start_time": "2022-07-25T13:41:06.919618Z"
    }
   },
   "outputs": [],
   "source": [
    "import pandas as pd\n",
    "from ugvc.reports.report_utils import ReportUtils\n",
    "from ugvc.reports.report_data_loader import ReportDataLoader\n",
    "from IPython.display import display, Markdown\n",
    "\n",
    "pd.options.display.float_format = '{:,.2%}'.format\n",
    "pd.set_option('display.max_colwidth', None)"
   ]
  },
  {
   "cell_type": "code",
   "execution_count": null,
   "metadata": {
    "tags": [
     "parameters"
    ]
   },
   "outputs": [],
   "source": [
    "run_id = \"NA\"\n",
    "pipeline_version = \"NA\"\n",
    "h5_concordance_file = \"comp.h5\"\n",
    "verbosity = 3\n",
    "reference_version = \"hg38\"\n",
    "truth_sample_name = \"NA\"\n",
    "h5outfile = \"var_report.h5\"    \n",
    "exome_column_name = \"exome.twist\"\n",
    "model_name = None\n",
    "model_pkl = None"
   ]
  },
  {
   "cell_type": "code",
   "execution_count": null,
   "metadata": {
    "ExecuteTime": {
     "end_time": "2022-07-25T13:41:08.938665Z",
     "start_time": "2022-07-25T13:41:08.864530Z"
    },
    "jupyter": {
     "outputs_hidden": false
    },
    "pycharm": {
     "name": "#%%\n"
    }
   },
   "outputs": [],
   "source": [
    "parameters = {\n",
    "    'h5_concordance_file': h5_concordance_file,\n",
    "    'run_id': run_id,\n",
    "    'pipeline_version': str(pipeline_version),\n",
    "    'verbosity': str(verbosity),\n",
    "    'reference_version': reference_version,\n",
    "    'truth_sample_name': truth_sample_name,\n",
    "    'h5outfile': h5outfile,\n",
    "    'model_pkl': model_pkl,\n",
    "    'model_name': model_name\n",
    "}\n",
    "\n",
    "parameters = {name: parameters[name] for name in parameters if parameters[name] is not None}\n",
    "param_names = list(parameters)\n",
    "\n",
    "report_utils = ReportUtils(verbosity, h5outfile)\n",
    "\n",
    "if verbosity > 1:\n",
    "    display(Markdown(f\"# Variant Calling report {pipeline_version} (INTERNAL usage)\"))\n",
    "else:\n",
    "    display(Markdown(f\"# Variant Calling report {pipeline_version}\"))"
   ]
  },
  {
   "cell_type": "markdown",
   "metadata": {},
   "source": [
    "## 1. Input Parameters <a class=\"anchor\" id=\"input_parameters\"></a>"
   ]
  },
  {
   "cell_type": "code",
   "execution_count": null,
   "metadata": {
    "pycharm": {
     "name": "#%%\n"
    }
   },
   "outputs": [],
   "source": [
    "# load data\n",
    "data_loader = ReportDataLoader(concordance_file=parameters['h5_concordance_file'],\n",
    "                               reference_version=reference_version,\n",
    "                              exome_column_name=exome_column_name)\n",
    "data = data_loader.load_concordance_df()"
   ]
  },
  {
   "cell_type": "code",
   "execution_count": null,
   "metadata": {
    "ExecuteTime": {
     "end_time": "2022-07-25T13:41:11.945866Z",
     "start_time": "2022-07-25T13:41:11.910842Z"
    }
   },
   "outputs": [],
   "source": [
    "if 'well_mapped_coverage' in data.columns:\n",
    "    parameters['mean_var_depth'] = '{:.2f}'.format(data['well_mapped_coverage'].mean())\n",
    "    param_names.append('mean_var_depth')\n",
    "\n",
    "parameters_df = pd.DataFrame.from_dict(parameters, orient='index', columns=['value']).reindex(param_names)\n",
    "parameters_df.to_hdf(h5outfile, key=\"parameters\")\n",
    "display(parameters_df)"
   ]
  },
  {
   "cell_type": "code",
   "execution_count": null,
   "metadata": {},
   "outputs": [],
   "source": [
    "anchor = report_utils.get_anchor(\"top\")\n",
    "display(Markdown(f\"## Table of Contents {anchor}\"))\n",
    "tc = \"* [Input Parameters](#input_parameters)\\n\"\n",
    "tc += \"* [All data](#all_data)\\n\"\n",
    "if verbosity > 1:\n",
    "    tc += \"\\t* [General accuracy](#gen_acc_all_data)\\n\"\n",
    "    tc += \"\\t* [Error types](#err_types_all_data)\\n\"\n",
    "    tc += \"\\t* [Stratified analysis](#all_data_bases)\\n\"\n",
    "    tc += \"\\t* [Homozygous genotyping](#all_data_hom)\\n\"\n",
    "tc += \"* [UG high confidence regions](#ug_hcr)\\n\"\n",
    "if verbosity > 1:\n",
    "    tc += \"\\t* [General accuracy](#gen_acc_ug_hcr)\\n\"\n",
    "    tc += \"\\t* [Error types](#err_types_ug_hcr)\\n\"\n",
    "    tc += \"\\t* [Homozygous genotyping](#ug_hcr_hom)\\n\"\n",
    "\n",
    "tc += \"* [Exome](#exome)\\n\"\n",
    "if verbosity > 1:\n",
    "    tc += \"\\t* [General accuracy](#gen_acc_exome)\\n\"\n",
    "    tc += \"\\t* [Error types](#err_types_exome)\\n\"\n",
    "    tc += \"\\t* [Indel error examples](#exome_indel_errors)\\n\"\n",
    "    tc += \"\\t* [snp errors examples](#exome_snp_errors)\\n\"\n",
    "\n",
    "\n",
    "if verbosity > 2:\n",
    "    tc += \"* [Indel analysis](#indel_analysis)\\n\"\n",
    "    tc += \"\\t* [All data](#all_data_indel_analysis)\\n\"\n",
    "    tc += \"\\t* [UG HCR](#ug_hcr_indel_analysis)\\n\"\n",
    "    tc += \"\\t* [Exome](#exome_indel_analysis)\\n\"\n",
    "display(Markdown(tc))"
   ]
  },
  {
   "cell_type": "markdown",
   "metadata": {},
   "source": [
    "## 2. Performance over all Data <a class=\"anchor\" id=\"all_data\"></a> \n",
    "The concordance between the variant calling results and the ground truth sample is presented below.\n",
    "* Red line - precision and recall over different tree-scores.\n",
    "* Red dot - precision and recall values for the chosen threshold.\n",
    "* Black dot -precision and recall after filtering systematic errors (SEC)\n",
    "\n",
    "[top](#top)"
   ]
  },
  {
   "cell_type": "code",
   "execution_count": null,
   "metadata": {},
   "outputs": [],
   "source": [
    "pd.options.display.float_format = '{:,.2%}'.format\n",
    "if verbosity > 1:\n",
    "    categories = ['SNP', 'Indel', 'non-hmer Indel', 'non-hmer Indel w/o LCR', 'hmer Indel <=4', 'hmer Indel >4,<=8',\n",
    "              'hmer Indel 4', 'hmer Indel 5', 'hmer Indel 6', 'hmer Indel 7', 'hmer Indel 8',\n",
    "              'hmer Indel >8,<=10', 'hmer Indel >10,<=12', 'hmer Indel >12,<=14', 'hmer Indel >15,<=19', 'hmer Indel >=20']\n",
    "else:\n",
    "    categories = ['SNP', 'Indel']\n",
    "\n",
    "report_utils.basic_analysis(data, categories, 'all_data', 'sec_data')"
   ]
  },
  {
   "cell_type": "code",
   "execution_count": null,
   "metadata": {
    "pycharm": {
     "name": "#%%\n"
    }
   },
   "outputs": [],
   "source": [
    "if verbosity > 1:\n",
    "    anchor = report_utils.get_anchor('all_data_bases')\n",
    "    display(Markdown(f\"## 2.1 Stratified by base {anchor}\"))\n",
    "    display(Markdown(f\"#### (A,T)\"))\n",
    "    categories = ['SNP', 'Indel', 'hmer Indel <=4', 'hmer Indel >4,<=8', 'hmer Indel >8,<=10',\n",
    "                  'hmer Indel >10,<=12', 'hmer Indel >12,<=14', 'hmer Indel >15,<=19', 'hmer Indel >=20']\n",
    "    at_df = report_utils.base_stratification_analysis(data, categories, ('A', 'T'))"
   ]
  },
  {
   "cell_type": "code",
   "execution_count": null,
   "metadata": {},
   "outputs": [],
   "source": [
    "if verbosity > 1:\n",
    "    display(Markdown(f\"#### (G,C)\"))\n",
    "    categories = ['SNP', 'Indel', 'hmer Indel <=4', 'hmer Indel >4,<=8', 'hmer Indel >8,<=10']\n",
    "    gc_df = report_utils.base_stratification_analysis(data, categories,('G', 'C')) \n",
    "    \n",
    "    base_strat_df = pd.concat([at_df, gc_df])\n",
    "    report_utils.make_multi_index(base_strat_df)\n",
    "    base_strat_df.to_hdf(h5outfile, key=\"all_data_per_base\")"
   ]
  },
  {
   "cell_type": "code",
   "execution_count": null,
   "metadata": {},
   "outputs": [],
   "source": [
    "if verbosity > 1:\n",
    "    anchor = report_utils.get_anchor('all_data_hom')\n",
    "    display(Markdown(f\"### 2.2 Homozygous genotyping accuracy {anchor}\"))\n",
    "    display(Markdown(f\"The precision and recall of called homozygous variants (where the variant was not classified as False Negative)\"))\n",
    "    categories = ['SNP', 'Indel', 'non-hmer Indel', 'hmer Indel <=4', 'hmer Indel >4,<=8', \n",
    "                  'hmer Indel >8,<=10', 'hmer Indel >10,<=12', 'hmer Indel >12,<=14', 'hmer Indel >15,<=19', 'hmer Indel >=20']\n",
    "    report_utils.homozygous_genotyping_analysis(data, categories, \"all_data_homozygous\")"
   ]
  },
  {
   "cell_type": "markdown",
   "metadata": {},
   "source": [
    "## 3. Performance over UG high confidence regions <a class=\"anchor\" id=\"ug_hcr\"></a>\n",
    "\n",
    "Variant calling peformance exclusing genomic areas where UG performance is poor, i.e:\n",
    "- Homopolymers - runs of length 11 bp and above, padded with four bases around the genomic coordinates,\n",
    "- AT-rich regions - bases where the GC content of the surrounding 40 bases is lower than 5%,\n",
    "- Tandem repeats,\n",
    "- Low mapping quality - regions that are covered by at least 20 reads, but less than 10% of these reads are aligned with mapping quality > 20,\n",
    "- High coverage variability - regions with coverage that is highly variable between samples (std/mean > 0.5)\n",
    "\n",
    "[top](#top)"
   ]
  },
  {
   "cell_type": "code",
   "execution_count": null,
   "metadata": {
    "pycharm": {
     "name": "#%%\n"
    }
   },
   "outputs": [],
   "source": [
    "pd.options.display.float_format = '{:,.2%}'.format\n",
    "ug_hcr_data = data.query(\"ug_hcr==True\").copy()\n",
    "\n",
    "if verbosity > 1:\n",
    "    categories = ['SNP', 'Indel', 'non-hmer Indel', 'non-hmer Indel w/o LCR', 'hmer Indel <=4', 'hmer Indel >4,<=8',\n",
    "              'hmer Indel 4', 'hmer Indel 5', 'hmer Indel 6', 'hmer Indel 7', 'hmer Indel 8', 'hmer Indel >8,<=10']\n",
    "else:\n",
    "    categories = ['SNP', 'Indel']\n",
    "    \n",
    "report_utils.basic_analysis(ug_hcr_data, categories, 'ug_hcr', 'ug_hcr_sec_data')"
   ]
  },
  {
   "cell_type": "code",
   "execution_count": null,
   "metadata": {
    "pycharm": {
     "name": "#%%\n"
    }
   },
   "outputs": [],
   "source": [
    "if verbosity > 1:\n",
    "    anchor = report_utils.get_anchor('ug_hcr_hom')\n",
    "    display(Markdown(f\"### 3.1 Homozygous genotyping accuracy {anchor}\"))\n",
    "    display(Markdown(f\"The precision and recall of called homozygous variants (where the variant was not classified as False Negative)\"))\n",
    "    categories = ['SNP', 'Indel', 'non-hmer Indel', 'hmer Indel <=4', 'hmer Indel >4,<=8', 'hmer Indel >8,<=10']\n",
    "    report_utils.homozygous_genotyping_analysis(ug_hcr_data, categories, \"ug_hcr_homozygous\")"
   ]
  },
  {
   "cell_type": "markdown",
   "metadata": {},
   "source": [
    "## 4. Performance over exome <a class=\"anchor\" id=\"exome\"></a>\n",
    "Performance over exome regions (defined in exome_column_name)\n",
    "\n",
    "[top](#top)"
   ]
  },
  {
   "cell_type": "code",
   "execution_count": null,
   "metadata": {},
   "outputs": [],
   "source": [
    "exome_data = data[data[exome_column_name]].copy()\n",
    "\n",
    "if verbosity > 1:\n",
    "    categories = ['SNP', 'Indel', 'non-hmer Indel', 'hmer Indel <=4', 'hmer Indel >4,<=8', 'hmer Indel >8,<=10']\n",
    "else:\n",
    "    categories = ['SNP', 'Indel']\n",
    "    \n",
    "report_utils.basic_analysis(exome_data, categories, 'exome', 'exome_sec_data')\n"
   ]
  },
  {
   "cell_type": "code",
   "execution_count": null,
   "metadata": {},
   "outputs": [],
   "source": [
    "if verbosity > 1:\n",
    "    pd.options.display.max_rows = None\n",
    "    pd.options.display.float_format = '{:.2f}'.format\n",
    "    anchor = report_utils.get_anchor('exome_indel_errors')\n",
    "    present_columns = [x for x in ['alleles',  'call', 'base', 'gt_ultima', 'gt_ground_truth', 'ad',\n",
    "                                    'max_vaf', 'ug_hcr', 'mappability.0', 'hmer_length'] if x in exome_data.columns]\n",
    "    indel_errors = exome_data['indel'] & ((exome_data['fp'] & (exome_data['filter'] == 'PASS')) | exome_data['fn'])\n",
    "    hmer_indel_errors = indel_errors & (exome_data['hmer_length'] > 0)\n",
    "    non_hmer_indel_errors = indel_errors & (exome_data['hmer_length'] == 0)\n",
    "    display(Markdown(f'### Hmer INDEL Errors: {anchor}'))\n",
    "    display(exome_data[hmer_indel_errors][present_columns])\n",
    "    display(Markdown(f'### Non-hmer INDEL Errors: {anchor}'))\n",
    "    display(exome_data[non_hmer_indel_errors][present_columns])\n",
    "    anchor = report_utils.get_anchor('exome_snp_errors')\n",
    "    display(Markdown(f'### SNP Errors: {anchor}'))\n",
    "    display(exome_data[~exome_data['tp'] & ~exome_data['indel'] & (exome_data['filter'] == 'PASS')][present_columns].head(20))"
   ]
  },
  {
   "cell_type": "code",
   "execution_count": null,
   "metadata": {
    "pycharm": {
     "name": "#%%\n"
    }
   },
   "outputs": [],
   "source": [
    "d = data\n",
    "if 'well_mapped_coverage' in d.columns and 'mappability.0' in d.columns and verbosity > 1:\n",
    "    anchor = report_utils.get_anchor('well_mapped_coverage')\n",
    "    display(Markdown(f\"## 5. Performance over regions with coverage>=20 and excluding areas with mappability {anchor}\"))    \n",
    "    good_cov_data = d[(d['well_mapped_coverage'] >= 20) & (d['mappability.0'])].copy()\n",
    "    categories = ['SNP', 'Indel', 'non-hmer Indel', 'non-hmer Indel w/o LCR', 'hmer Indel <=4', 'hmer Indel >4,<=8',\n",
    "                  'hmer Indel 4', 'hmer Indel 5', 'hmer Indel 6', 'hmer Indel 7', 'hmer Indel 8', 'hmer Indel >8,<=10']\n",
    "    df = report_utils.basic_analysis(good_cov_data, categories, 'good_cvg_data')\n",
    "    \n",
    "    display(Markdown(f\"### 5.1 Homozygous genotyping accuracy\"))\n",
    "    display(Markdown(f\"The precision and recall of called homozygous variants (where the variant was not classfied as False Negative)\"))\n",
    "    categories = ['SNP', 'Indel', 'non-hmer Indel', 'non-hmer Indel w/o LCR', 'hmer Indel <=4', 'hmer Indel >4,<=8']\n",
    "    report_utils.homozygous_genotyping_analysis(good_cov_data, categories, \"good_cvg_data_homozygous\")"
   ]
  },
  {
   "cell_type": "code",
   "execution_count": null,
   "metadata": {},
   "outputs": [],
   "source": [
    "d = data\n",
    "if 'callable' in d.columns and verbosity > 1:\n",
    "    anchor = report_utils.get_anchor('callable')\n",
    "    display(Markdown(f\"## 6. Performance over callable regions {anchor}\"))    \n",
    "    callable_data = d[d['callable']].copy()\n",
    "    categories = ['SNP', 'Indel', 'non-hmer Indel', 'non-hmer Indel w/o LCR', 'hmer Indel <=4', 'hmer Indel >4,<=8',\n",
    "                  'hmer Indel 4', 'hmer Indel 5', 'hmer Indel 6', 'hmer Indel 7', 'hmer Indel 8', 'hmer Indel >8,<=10',\n",
    "                  'hmer Indel >10,<=12', 'hmer Indel >12,<=14', 'hmer Indel >15,<=19', 'hmer Indel >=20']\n",
    "    df = report_utils.basic_analysis(callable_data, categories, 'callable_data')\n",
    "  "
   ]
  },
  {
   "cell_type": "code",
   "execution_count": null,
   "metadata": {},
   "outputs": [],
   "source": [
    "if verbosity > 2:\n",
    "    anchor = report_utils.get_anchor('indel_analysis')\n",
    "    display(Markdown(f\"## 7. Indel analysis\\n {anchor}\"\n",
    "    \"For each factor, show the following histograms\\n\"\n",
    "    \"* Number of false positive variants per bin\\n\"\n",
    "    \"* Number of true positive variants per bin\\n\"\n",
    "    \"* Number of false negative variants per bin\\n\"\n",
    "    \"* precision per bin (as line plot)\\n\"\n",
    "    \"* recall per bin (as lint plot)\\n\\n\"\n",
    "    \"Notes:\\n\"\n",
    "    \"* Insertions / Deletions are displayed separately (two colors)\\n\"\n",
    "    \"* homopolymer deletions and non-homopolymer deletions are displayed separately (separate plots)\\n\\n\"\n",
    "    \"[top](#top)\"))\n",
    "    anchor = report_utils.get_anchor('all_data_indel_analysis')\n",
    "    display(Markdown(f\"### 7.1 All data {anchor}\"))\n",
    "    report_utils.indel_analysis(data, 'wg')\n",
    "    anchor = report_utils.get_anchor('ug_hcr_indel_analysis')\n",
    "    display(Markdown(f\"### 7.2 UG-HCR {anchor}\"))\n",
    "    report_utils.indel_analysis(ug_hcr_data, 'ug-hcr')\n",
    "    anchor = report_utils.get_anchor('exome_indel_analysis')\n",
    "    display(Markdown(f\"### 7.3 exome {anchor}\"))\n",
    "    report_utils.indel_analysis(exome_data, 'exome')"
   ]
  }
 ],
 "metadata": {
  "celltoolbar": "Tags",
  "kernelspec": {
   "display_name": "genomics.py3",
   "language": "python",
   "name": "python3"
  },
  "language_info": {
   "codemirror_mode": {
    "name": "ipython",
    "version": 3
   },
   "file_extension": ".py",
   "mimetype": "text/x-python",
   "name": "python",
   "nbconvert_exporter": "python",
   "pygments_lexer": "ipython3",
   "version": "3.10.14"
  },
  "toc": {
   "base_numbering": 1,
   "nav_menu": {},
   "number_sections": true,
   "sideBar": true,
   "skip_h1_title": false,
   "title_cell": "Table of Contents",
   "title_sidebar": "Contents",
   "toc_cell": false,
   "toc_position": {},
   "toc_section_display": true,
   "toc_window_display": false
  }
 },
 "nbformat": 4,
 "nbformat_minor": 4
}
