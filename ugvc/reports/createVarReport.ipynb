{
 "cells": [
  {
   "cell_type": "code",
   "execution_count": 1,
   "metadata": {
    "ExecuteTime": {
     "end_time": "2022-07-25T13:41:08.009132Z",
     "start_time": "2022-07-25T13:41:06.919618Z"
    }
   },
   "outputs": [
    {
     "name": "stdout",
     "output_type": "stream",
     "text": [
      "WARNING: mpld3 not available\n"
     ]
    }
   ],
   "source": [
    "import pandas as pd\n",
    "from ugvc.reports.report_utils import ShortReportUtils, parse_config\n",
    "from ugvc.reports.report_data_loader import ReportDataLoader\n",
    "from IPython.display import display, Markdown\n",
    "\n",
    "pd.options.display.float_format = '{:,.2%}'.format\n",
    "pd.set_option('display.max_colwidth', None)"
   ]
  },
  {
   "cell_type": "code",
   "execution_count": 10,
   "metadata": {
    "tags": [
     "parameters"
    ]
   },
   "outputs": [],
   "source": [
    "run_id = \"NA\"\n",
    "pipeline_version = \"NA\"\n",
    "h5_concordance_file = \"NA\"\n",
    "verbosity = 1\n",
    "reference_version = \"hg38\"\n",
    "truth_sample_name = \"NA\"\n",
    "h5outfile = \"var_report.h5\"    \n",
    "model_name_with_gt = None\n",
    "model_name_without_gt = None\n",
    "model_pkl_with_gt = None\n",
    "model_pkl_without_gt = None\n",
    "model_name = None"
   ]
  },
  {
   "cell_type": "code",
   "execution_count": 21,
   "metadata": {
    "ExecuteTime": {
     "end_time": "2022-07-25T13:41:08.938665Z",
     "start_time": "2022-07-25T13:41:08.864530Z"
    },
    "jupyter": {
     "outputs_hidden": false
    },
    "pycharm": {
     "name": "#%%\n"
    }
   },
   "outputs": [
    {
     "data": {
      "text/markdown": [
       "# Variant Calling report vNA"
      ],
      "text/plain": [
       "<IPython.core.display.Markdown object>"
      ]
     },
     "metadata": {},
     "output_type": "display_data"
    }
   ],
   "source": [
    "parameters = {\n",
    "    'h5_concordance_file': h5_concordance_file,\n",
    "    'run_id': run_id,\n",
    "    'pipeline_version': str(pipeline_version),\n",
    "    'verbosity': str(verbosity),\n",
    "    'reference_version': reference_version,\n",
    "    'truth_sample_name': truth_sample_name,\n",
    "    'h5outfile': h5outfile,\n",
    "    'model_name_with_gt': model_name_with_gt,\n",
    "    'model_name_without_gt': model_name_without_gt,\n",
    "    'model_pkl_with_gt': model_pkl_with_gt,\n",
    "    'model_pkl_without_gt': model_pkl_without_gt,\n",
    "    'model_name': model_name\n",
    "}\n",
    "\n",
    "parameters = {name: parameters[name] for name in parameters if parameters[name] is not None}\n",
    "param_names = list(parameters)\n",
    "\n",
    "report_utils = ShortReportUtils(verbosity, h5outfile)\n",
    "\n",
    "if verbosity > 1:\n",
    "    display(Markdown(f\"# Variant Calling report v{pipeline_version} (INTERNAL usage)\"))\n",
    "else:\n",
    "    display(Markdown(f\"# Variant Calling report v{pipeline_version}\"))"
   ]
  },
  {
   "cell_type": "markdown",
   "metadata": {},
   "source": [
    "## 1. Input Parameters"
   ]
  },
  {
   "cell_type": "code",
   "execution_count": 12,
   "metadata": {
    "pycharm": {
     "name": "#%%\n"
    }
   },
   "outputs": [],
   "source": [
    "# load data\n",
    "data_loader = ReportDataLoader(concordance_file=parameters['h5_concordance_file'],\n",
    "                               reference_version=reference_version)\n",
    "data = data_loader.load_concordance_df()"
   ]
  },
  {
   "cell_type": "code",
   "execution_count": 22,
   "metadata": {
    "ExecuteTime": {
     "end_time": "2022-07-25T13:41:11.945866Z",
     "start_time": "2022-07-25T13:41:11.910842Z"
    }
   },
   "outputs": [
    {
     "data": {
      "text/html": [
       "<div>\n",
       "<style scoped>\n",
       "    .dataframe tbody tr th:only-of-type {\n",
       "        vertical-align: middle;\n",
       "    }\n",
       "\n",
       "    .dataframe tbody tr th {\n",
       "        vertical-align: top;\n",
       "    }\n",
       "\n",
       "    .dataframe thead th {\n",
       "        text-align: right;\n",
       "    }\n",
       "</style>\n",
       "<table border=\"1\" class=\"dataframe\">\n",
       "  <thead>\n",
       "    <tr style=\"text-align: right;\">\n",
       "      <th></th>\n",
       "      <th>value</th>\n",
       "    </tr>\n",
       "  </thead>\n",
       "  <tbody>\n",
       "    <tr>\n",
       "      <th>h5_concordance_file</th>\n",
       "      <td>output_vcf_eval_outputs.comp.h5</td>\n",
       "    </tr>\n",
       "    <tr>\n",
       "      <th>run_id</th>\n",
       "      <td>NA</td>\n",
       "    </tr>\n",
       "    <tr>\n",
       "      <th>pipeline_version</th>\n",
       "      <td>NA</td>\n",
       "    </tr>\n",
       "    <tr>\n",
       "      <th>verbosity</th>\n",
       "      <td>1</td>\n",
       "    </tr>\n",
       "    <tr>\n",
       "      <th>reference_version</th>\n",
       "      <td>hg38</td>\n",
       "    </tr>\n",
       "    <tr>\n",
       "      <th>truth_sample_name</th>\n",
       "      <td>NA</td>\n",
       "    </tr>\n",
       "    <tr>\n",
       "      <th>h5outfile</th>\n",
       "      <td>var_report.h5</td>\n",
       "    </tr>\n",
       "  </tbody>\n",
       "</table>\n",
       "</div>"
      ],
      "text/plain": [
       "                                               value\n",
       "h5_concordance_file  output_vcf_eval_outputs.comp.h5\n",
       "run_id                                            NA\n",
       "pipeline_version                                  NA\n",
       "verbosity                                          1\n",
       "reference_version                               hg38\n",
       "truth_sample_name                                 NA\n",
       "h5outfile                              var_report.h5"
      ]
     },
     "metadata": {},
     "output_type": "display_data"
    }
   ],
   "source": [
    "if 'well_mapped_coverage' in data.columns:\n",
    "    parameters['mean_var_depth'] = '{:.2f}'.format(data['well_mapped_coverage'].mean())\n",
    "    param_names.append('mean_var_depth')\n",
    "\n",
    "parameters_df = pd.DataFrame.from_dict(parameters, orient='index', columns=['value']).reindex(param_names)\n",
    "parameters_df.to_hdf(h5outfile, key=\"parameters\")\n",
    "display(parameters_df)"
   ]
  },
  {
   "cell_type": "markdown",
   "metadata": {},
   "source": [
    "## 2. Performance over all Data\n",
    "The concordance between the variant calling results and the ground truth sample is presented below.\n",
    "* Red line - precision and recall over different tree-scores.\n",
    "* Red dot - precision and recall values for the chosen threshold.\n",
    "* Black dot -precision and recall after filtering systematic errors (SEC)"
   ]
  },
  {
   "cell_type": "code",
   "execution_count": 23,
   "metadata": {},
   "outputs": [
    {
     "data": {
      "image/png": "[encoded data removed]",
      "text/plain": [
       "<Figure size 1080x216 with 2 Axes>"
      ]
     },
     "metadata": {
      "needs_background": "light"
     },
     "output_type": "display_data"
    },
    {
     "data": {
      "text/html": [
       "<div>\n",
       "<style scoped>\n",
       "    .dataframe tbody tr th:only-of-type {\n",
       "        vertical-align: middle;\n",
       "    }\n",
       "\n",
       "    .dataframe tbody tr th {\n",
       "        vertical-align: top;\n",
       "    }\n",
       "\n",
       "    .dataframe thead th {\n",
       "        text-align: right;\n",
       "    }\n",
       "</style>\n",
       "<table border=\"1\" class=\"dataframe\">\n",
       "  <thead>\n",
       "    <tr style=\"text-align: right;\">\n",
       "      <th></th>\n",
       "      <th>true vars</th>\n",
       "      <th>fn</th>\n",
       "      <th>fp</th>\n",
       "      <th>fp(filter)</th>\n",
       "      <th>precision</th>\n",
       "      <th>F1</th>\n",
       "    </tr>\n",
       "  </thead>\n",
       "  <tbody>\n",
       "    <tr>\n",
       "      <th>SNP</th>\n",
       "      <td>69175</td>\n",
       "      <td>460</td>\n",
       "      <td>81</td>\n",
       "      <td>81</td>\n",
       "      <td>99.88%</td>\n",
       "      <td>99.61%</td>\n",
       "    </tr>\n",
       "    <tr>\n",
       "      <th>Indel</th>\n",
       "      <td>9986</td>\n",
       "      <td>986</td>\n",
       "      <td>600</td>\n",
       "      <td>600</td>\n",
       "      <td>93.75%</td>\n",
       "      <td>91.90%</td>\n",
       "    </tr>\n",
       "  </tbody>\n",
       "</table>\n",
       "</div>"
      ],
      "text/plain": [
       "       true vars   fn   fp  fp(filter)  precision     F1\n",
       "SNP        69175  460   81          81     99.88% 99.61%\n",
       "Indel       9986  986  600         600     93.75% 91.90%"
      ]
     },
     "metadata": {},
     "output_type": "display_data"
    },
    {
     "data": {
      "text/html": [
       "<div>\n",
       "<style scoped>\n",
       "    .dataframe tbody tr th:only-of-type {\n",
       "        vertical-align: middle;\n",
       "    }\n",
       "\n",
       "    .dataframe tbody tr th {\n",
       "        vertical-align: top;\n",
       "    }\n",
       "\n",
       "    .dataframe thead th {\n",
       "        text-align: right;\n",
       "    }\n",
       "</style>\n",
       "<table border=\"1\" class=\"dataframe\">\n",
       "  <thead>\n",
       "    <tr style=\"text-align: right;\">\n",
       "      <th></th>\n",
       "    </tr>\n",
       "  </thead>\n",
       "  <tbody>\n",
       "  </tbody>\n",
       "</table>\n",
       "</div>"
      ],
      "text/plain": [
       "Empty DataFrame\n",
       "Columns: []\n",
       "Index: []"
      ]
     },
     "metadata": {},
     "output_type": "display_data"
    }
   ],
   "source": [
    "pd.options.display.float_format = '{:,.2%}'.format\n",
    "if verbosity > 1:\n",
    "    categories = ['SNP', 'Indel', 'non-hmer Indel', 'non-hmer Indel w/o LCR', 'hmer Indel <=4', 'hmer Indel >4,<=8',\n",
    "              'hmer Indel 4', 'hmer Indel 5', 'hmer Indel 6', 'hmer Indel 7', 'hmer Indel 8',\n",
    "              'hmer Indel >8,<=10', 'hmer Indel >10,<=14', 'hmer Indel >15,<=19', 'hmer Indel >=20']\n",
    "else:\n",
    "    categories = ['SNP', 'Indel']\n",
    "\n",
    "report_utils.basic_analysis(data, categories, 'all_data', 'sec_data')"
   ]
  },
  {
   "cell_type": "code",
   "execution_count": null,
   "metadata": {
    "pycharm": {
     "name": "#%%\n"
    }
   },
   "outputs": [],
   "source": [
    "if verbosity > 1:\n",
    "    display(Markdown(f\"## 2.1 Stratified by base\"))\n",
    "    display(Markdown(f\"#### (A,T)\"))\n",
    "    categories = ['SNP', 'Indel', 'hmer Indel <=4', 'hmer Indel >4,<=8', 'hmer Indel >8,<=10',\n",
    "                  'hmer Indel >10,<=14', 'hmer Indel >15,<=19', 'hmer Indel >=20']\n",
    "    at_df = report_utils.base_stratification_analysis(data, categories, ('A', 'T'))"
   ]
  },
  {
   "cell_type": "code",
   "execution_count": null,
   "metadata": {},
   "outputs": [],
   "source": [
    "if verbosity > 1:\n",
    "    display(Markdown(f\"#### (G,C)\"))\n",
    "    categories = ['SNP', 'Indel', 'hmer Indel <=4', 'hmer Indel >4,<=8', 'hmer Indel >8,<=10']\n",
    "    gc_df = report_utils.base_stratification_analysis(data, categories,('G', 'C'))   "
   ]
  },
  {
   "cell_type": "code",
   "execution_count": null,
   "metadata": {},
   "outputs": [],
   "source": [
    "if verbosity > 1:\n",
    "    display(Markdown(f\"### 2.2 Homozygous genotyping accuracy\"))\n",
    "    display(Markdown(f\"The precision and recall of called homozygous variants (where the variant was not classified as False Negative)\"))\n",
    "    categories = ['SNP', 'Indel', 'non-hmer Indel', 'hmer Indel <=4', 'hmer Indel >4,<=8', \n",
    "                  'hmer Indel >8,<=10', 'hmer Indel >10,<=14', 'hmer Indel >15,<=19', 'hmer Indel >=20']\n",
    "    df = report_utils.homozygous_genotyping_analysis(data, categories, \"wg_homozygous\")"
   ]
  },
  {
   "cell_type": "markdown",
   "metadata": {},
   "source": [
    "## 3. Performance over UG high confidence regions\n",
    "\n",
    "Variant calling peformance exclusing genomic areas where UG performance is poor, i.e:\n",
    "- Homopolymers - runs of length 11 bp and above, padded with four bases around the genomic coordinates,\n",
    "- AT-rich regions - bases where the GC content of the surrounding 40 bases is lower than 5%,\n",
    "- Tandem repeats,\n",
    "- Low mapping quality - regions that are covered by at least 20 reads, but less than 10% of these reads are aligned with mapping quality > 20,\n",
    "- High coverage variability - regions with coverage that is highly variable between samples (std/mean > 0.5)"
   ]
  },
  {
   "cell_type": "code",
   "execution_count": null,
   "metadata": {
    "pycharm": {
     "name": "#%%\n"
    }
   },
   "outputs": [],
   "source": [
    "pd.options.display.float_format = '{:,.2%}'.format\n",
    "ug_hcr_data = data.query(\"ug_hcr==True\").copy()\n",
    "\n",
    "if verbosity > 1:\n",
    "    categories = ['SNP', 'Indel', 'non-hmer Indel', 'non-hmer Indel w/o LCR', 'hmer Indel <=4', 'hmer Indel >4,<=8',\n",
    "              'hmer Indel 4', 'hmer Indel 5', 'hmer Indel 6', 'hmer Indel 7', 'hmer Indel 8', 'hmer Indel >8,<=10']\n",
    "else:\n",
    "    categories = ['SNP', 'Indel']\n",
    "    \n",
    "report_utils.basic_analysis(ug_hcr_data, categories, 'ug_hcr', 'ug_hcr_sec_data')"
   ]
  },
  {
   "cell_type": "markdown",
   "metadata": {
    "pycharm": {
     "name": "#%% md\n"
    }
   },
   "source": []
  },
  {
   "cell_type": "code",
   "execution_count": null,
   "metadata": {
    "pycharm": {
     "name": "#%%\n"
    }
   },
   "outputs": [],
   "source": [
    "if verbosity > 1:\n",
    "    display(Markdown(f\"### 3.1 Homozygous genotyping accuracy\"))\n",
    "    display(Markdown(f\"The precision and recall of called homozygous variants (where the variant was not classified as False Negative)\"))\n",
    "    categories = ['SNP', 'Indel', 'non-hmer Indel', 'hmer Indel <=4', 'hmer Indel >4,<=8', 'hmer Indel >8,<=10']\n",
    "    df = report_utils.homozygous_genotyping_analysis(ug_hcr_data, categories, \"ug_hcr_homozygous\")"
   ]
  },
  {
   "cell_type": "code",
   "execution_count": null,
   "metadata": {
    "pycharm": {
     "name": "#%%\n"
    }
   },
   "outputs": [],
   "source": [
    "d = data\n",
    "if 'well_mapped_coverage' in d.columns and verbosity > 1:\n",
    "    display(Markdown(f\"## 4. Performance over regions with coverage>=20 and excluding areas with mappability\"))    \n",
    "    good_cov_data = d[(d['well_mapped_coverage'] >= 20) & (d['mappability.0'])].copy()\n",
    "    categories = ['SNP', 'Indel', 'non-hmer Indel', 'non-hmer Indel w/o LCR', 'hmer Indel <=4', 'hmer Indel >4,<=8',\n",
    "                  'hmer Indel 4', 'hmer Indel 5', 'hmer Indel 6', 'hmer Indel 7', 'hmer Indel 8', 'hmer Indel >8,<=10']\n",
    "    df = report_utils.basic_analysis(good_cov_data, categories, 'good_cvg_data')\n",
    "    \n",
    "    display(Markdown(f\"### 4.1 Homozygous genotyping accuracy\"))\n",
    "    display(Markdown(f\"The precision and recall of called homozygous variants (where the variant was not classfied as False Negative)\"))\n",
    "    categories = ['SNP', 'Indel', 'non-hmer Indel', 'non-hmer Indel w/o LCR', 'hmer Indel <=4', 'hmer Indel >4,<=8']\n",
    "    report_utils.homozygous_genotyping_analysis(good_cov_data, categories, \"good_cvg_data_homozygous\")"
   ]
  }
 ],
 "metadata": {
  "celltoolbar": "Tags",
  "kernelspec": {
   "display_name": "Python 3 (ipykernel)",
   "language": "python",
   "name": "python3"
  },
  "language_info": {
   "codemirror_mode": {
    "name": "ipython",
    "version": 3
   },
   "file_extension": ".py",
   "mimetype": "text/x-python",
   "name": "python",
   "nbconvert_exporter": "python",
   "pygments_lexer": "ipython3",
   "version": "3.7.8"
  },
  "toc": {
   "base_numbering": 1,
   "nav_menu": {},
   "number_sections": true,
   "sideBar": true,
   "skip_h1_title": false,
   "title_cell": "Table of Contents",
   "title_sidebar": "Contents",
   "toc_cell": false,
   "toc_position": {},
   "toc_section_display": true,
   "toc_window_display": false
  },
  "vscode": {
   "interpreter": {
    "hash": "bc36206dbe58b785ad40f638920d85ef700f7c1350ad4e63cc5ca6f235c38c67"
   }
  }
 },
 "nbformat": 4,
 "nbformat_minor": 4
}
