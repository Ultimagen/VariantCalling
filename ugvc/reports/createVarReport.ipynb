{
 "cells": [
  {
   "cell_type": "markdown",
   "metadata": {},
   "source": [
    "## Variant Calling Report v1.2.6\n",
    "## 1. Input Parameters"
   ]
  },
  {
   "cell_type": "code",
   "execution_count": 11,
   "metadata": {
    "ExecuteTime": {
     "end_time": "2022-05-19T19:01:15.289099Z",
     "start_time": "2022-05-19T19:01:15.277328Z"
    }
   },
   "outputs": [],
   "source": [
    "import pandas as pd\n",
    "import h5py\n",
    "import matplotlib.pyplot as plt\n",
    "import numpy as np\n",
    "import nexusplt as nxp\n",
    "from configparser import ConfigParser\n",
    "\n",
    "pd.options.display.float_format = '{:,.2%}'.format\n",
    "pd.set_option('display.max_colwidth', None)"
   ]
  },
  {
   "cell_type": "code",
   "execution_count": 12,
   "metadata": {
    "ExecuteTime": {
     "end_time": "2022-05-19T19:01:15.678627Z",
     "start_time": "2022-05-19T19:01:15.453035Z"
    }
   },
   "outputs": [
    {
     "data": {
      "text/html": [
       "<div>\n",
       "<style scoped>\n",
       "    .dataframe tbody tr th:only-of-type {\n",
       "        vertical-align: middle;\n",
       "    }\n",
       "\n",
       "    .dataframe tbody tr th {\n",
       "        vertical-align: top;\n",
       "    }\n",
       "\n",
       "    .dataframe thead th {\n",
       "        text-align: right;\n",
       "    }\n",
       "</style>\n",
       "<table border=\"1\" class=\"dataframe\">\n",
       "  <thead>\n",
       "    <tr style=\"text-align: right;\">\n",
       "      <th></th>\n",
       "      <th>value</th>\n",
       "    </tr>\n",
       "  </thead>\n",
       "  <tbody>\n",
       "    <tr>\n",
       "      <th>run_id</th>\n",
       "      <td>140479-BC21</td>\n",
       "    </tr>\n",
       "    <tr>\n",
       "      <th>pipeline_version</th>\n",
       "      <td>2.4.1</td>\n",
       "    </tr>\n",
       "    <tr>\n",
       "      <th>h5_concordance_file</th>\n",
       "      <td>./test.untrained.h5</td>\n",
       "    </tr>\n",
       "    <tr>\n",
       "      <th>h5_model_file</th>\n",
       "      <td>./test.trained.h5</td>\n",
       "    </tr>\n",
       "    <tr>\n",
       "      <th>reference_version</th>\n",
       "      <td>hg38</td>\n",
       "    </tr>\n",
       "    <tr>\n",
       "      <th>model_name_with_gt</th>\n",
       "      <td>untrained_ignore_gt_excl_hpol_runs</td>\n",
       "    </tr>\n",
       "    <tr>\n",
       "      <th>model_name_without_gt</th>\n",
       "      <td>threshold_model_recall_precision_ignore_gt_excl_hpol_runs</td>\n",
       "    </tr>\n",
       "    <tr>\n",
       "      <th>model_pkl_with_gt</th>\n",
       "      <td>dummy1.pkl</td>\n",
       "    </tr>\n",
       "    <tr>\n",
       "      <th>model_pkl_without_gt</th>\n",
       "      <td>dummy2.pkl</td>\n",
       "    </tr>\n",
       "    <tr>\n",
       "      <th>mean_var_depth</th>\n",
       "      <td>64.32</td>\n",
       "    </tr>\n",
       "    <tr>\n",
       "      <th>truth_sample_name</th>\n",
       "      <td>NA</td>\n",
       "    </tr>\n",
       "  </tbody>\n",
       "</table>\n",
       "</div>"
      ],
      "text/plain": [
       "                                                                           value\n",
       "run_id                                                               140479-BC21\n",
       "pipeline_version                                                           2.4.1\n",
       "h5_concordance_file                                          ./test.untrained.h5\n",
       "h5_model_file                                                  ./test.trained.h5\n",
       "reference_version                                                           hg38\n",
       "model_name_with_gt                            untrained_ignore_gt_excl_hpol_runs\n",
       "model_name_without_gt  threshold_model_recall_precision_ignore_gt_excl_hpol_runs\n",
       "model_pkl_with_gt                                                     dummy1.pkl\n",
       "model_pkl_without_gt                                                  dummy2.pkl\n",
       "mean_var_depth                                                             64.32\n",
       "truth_sample_name                                                             NA"
      ]
     },
     "execution_count": 12,
     "metadata": {},
     "output_type": "execute_result"
    }
   ],
   "source": [
    "configFile='var_report.config'\n",
    "parser = ConfigParser()\n",
    "parser.read(configFile)\n",
    "\n",
    "prmNames=['run_id','pipeline_version', \n",
    "          'h5_concordance_file', 'h5_model_file', \n",
    "          'model_name_with_gt','model_name_without_gt',\n",
    "          'model_pkl_with_gt','model_pkl_without_gt'\n",
    "         ]\n",
    "\n",
    "prm={}\n",
    "for name in prmNames:\n",
    "    prm[name]=parser.get('VarReport', name)\n",
    "\n",
    "h5outfile = parser.get('VarReport', 'h5_output', fallback='var_report.h5')\n",
    "imgpref = parser.get('VarReport', 'image_output_prefix', fallback=prm['run_id']+'.vars')+'.'\n",
    "reference_version = parser.get('VarReport', 'reference_version', fallback='hg38')\n",
    "prm['reference_version'] = reference_version\n",
    "imgdir = 'plots'\n",
    "\n",
    "sources = {'Trained wo gt':(prm['h5_concordance_file'],\"concordance\"),\n",
    "           'Trained with gt':(prm['h5_model_file'],\"scored_concordance\"),\n",
    "          }\n",
    "\n",
    "data = {}\n",
    "\n",
    "if reference_version == \"hg38\":\n",
    "    columns_to_select = ['indel','hmer_indel_length', 'tree_score',\n",
    "                     'filter','blacklst', 'classify','classify_gt',\n",
    "                     'indel_length','hmer_indel_nuc','ref',\n",
    "                     'gt_ground_truth','well_mapped_coverage','mappability.0','ug_hcr','LCR-hs38']\n",
    "    rename_dict = {'LCR-hs38':'LCR'}\n",
    "elif reference_version == \"hg19\":\n",
    "        columns_to_select = ['indel','hmer_indel_length', 'tree_score',\n",
    "                         'filter','blacklst', 'classify','classify_gt',\n",
    "                         'indel_length','hmer_indel_nuc','ref',\n",
    "                         'gt_ground_truth','well_mapped_coverage', 'LCR-hg19_tab_no_chr', 'mappability.hg19.0_tab_no_chr','ug_hcr_hg19_no_chr']\n",
    "        rename_dict = {'LCR-hg19_tab_no_chr':'LCR', \n",
    "                       'mappability.hg19.0_tab_no_chr':'mappability.0',\n",
    "                       'ug_hcr_hg19_no_chr':'ug_hcr'}\n",
    "for s in sources:\n",
    "    data[s]={}\n",
    "    d=pd.read_hdf(sources[s][0], key=sources[s][1], mode='r')\n",
    "    data[s]=d.rename(columns=rename_dict)\n",
    "\n",
    "# Load the concordance data for the entire genome\n",
    "with pd.HDFStore(prm['h5_concordance_file']) as hdf:\n",
    "    keys=hdf.keys()\n",
    "    wg_dfs=[pd.read_hdf(hdf,k) for k in keys if k not in ['/concordance','/input_args']]\n",
    "    wg_dfs = [ w[[ x for x in columns_to_select if x in w.columns]] for w in wg_dfs]\n",
    "    wg_df=pd.concat(wg_dfs)\n",
    "    wg_df.rename(columns=rename_dict,inplace=True)\n",
    "    \n",
    "data['whole genome'] = wg_df\n",
    "sources['whole genome'] = (prm['h5_concordance_file'],\"all\")\n",
    "   \n",
    "if 'well_mapped_coverage' in data['whole genome'].columns:\n",
    "    prm['mean_var_depth']='{:.2f}'.format(data['Trained wo gt']['well_mapped_coverage'].mean())\n",
    "    prmNames.append('mean_var_depth')\n",
    "  \n",
    "try:\n",
    "    args=pd.read_hdf(sources['Trained wo gt'][0], 'input_args', mode='r')\n",
    "    prm['truth_sample_name']=args['truth_sample_name'][0]\n",
    "except:\n",
    "    prm['truth_sample_name']=parser.get('VarReport', 'truth_sample_name', fallback='NA')\n",
    "prmNames.append('truth_sample_name')\n",
    "\n",
    "\n",
    "prmdf = pd.DataFrame.from_dict(prm, orient='index',columns=['value']).reindex(prmNames)\n",
    "prmdf.to_hdf(h5outfile, key=\"parameters\")\n",
    "\n",
    "prmdf\n",
    "\n"
   ]
  },
  {
   "cell_type": "code",
   "execution_count": 13,
   "metadata": {
    "ExecuteTime": {
     "end_time": "2022-05-19T19:01:15.923806Z",
     "start_time": "2022-05-19T19:01:15.912129Z"
    },
    "pycharm": {
     "name": "#%%\n"
    }
   },
   "outputs": [],
   "source": [
    "def filterByCategory(data,cat):\n",
    "    if cat=='SNP':\n",
    "        return data[data['indel']==False]\n",
    "    if cat=='Indel':\n",
    "        return data[data['indel']==True]\n",
    "    elif cat=='non-hmer Indel':\n",
    "        return data[(data['indel']==True) & (data['hmer_indel_length']==0) & (data['indel_length']>0)]\n",
    "    elif cat=='non-hmer Indel w/o LCR':\n",
    "        return data[(data['indel']==True) & (data['hmer_indel_length']==0) & (data['indel_length']>0) & \n",
    "                (~data['LCR'])]\n",
    "    elif cat=='hmer Indel <=4':\n",
    "        return data[(data['indel']==True) & (data['hmer_indel_length']>0) & (data['hmer_indel_length']<=4)]\n",
    "    elif cat=='hmer Indel >4,<=8':\n",
    "        return data[(data['indel']==True) & (data['hmer_indel_length']>4) & (data['hmer_indel_length']<=8)]\n",
    "    elif cat=='hmer Indel >8,<=10':\n",
    "        return data[(data['indel']==True) & (data['hmer_indel_length']>8) & (data['hmer_indel_length']<=10)]\n",
    "    for i in range (1,10):\n",
    "        if cat=='hmer Indel {0:d}'.format(i):\n",
    "            return data[(data['indel']==True) & (data['hmer_indel_length']==i)]\n",
    "    return None\n"
   ]
  },
  {
   "cell_type": "code",
   "execution_count": 14,
   "metadata": {
    "ExecuteTime": {
     "end_time": "2022-05-19T19:01:16.414284Z",
     "start_time": "2022-05-19T19:01:16.396637Z"
    }
   },
   "outputs": [],
   "source": [
    "def calcPerformance(data):\n",
    "    classify_col='classify_gt' \n",
    "    d=data.copy()\n",
    "    \n",
    "    # Calculate precision and recall continuously along the tree_score values\n",
    "    d['tree_score'] = np.where(d[classify_col]=='fn',-1,d['tree_score'])\n",
    "    d=d[[classify_col,'tree_score','filter']].sort_values(by=['tree_score'])\n",
    "    \n",
    "    d['label'] = np.where(d[classify_col]=='fp',0,1)\n",
    "\n",
    "    d.loc[d['filter']=='HPOL_RUN','filter']='PASS'\n",
    "    d.loc[d[classify_col]=='fn','filter']='MISS'\n",
    "\n",
    "    num=len(d)\n",
    "    numPos=sum(d['label'])\n",
    "    numNeg=num-numPos\n",
    "    if num<10:\n",
    "        return (pd.DataFrame(),None,numPos,numNeg)\n",
    "    \n",
    "    d['fn']=np.cumsum(d['label'])\n",
    "    d['tp']=numPos-(d['fn'])\n",
    "    d['fp']=numNeg-np.cumsum(1-d['label'])\n",
    "\n",
    "    d['recall']=d['tp']/(d['tp']+d['fn'])\n",
    "    d['precision']=d['tp']/(d['tp']+d['fp'])\n",
    "\n",
    "    d['f1']=d['tp']/(d['tp']+0.5*d['fn']+0.5*d['fp'])\n",
    "\n",
    "    d['mask']=((d['tp']+d['fn'])>=20) & ((d['tp']+d['fp'])>=20) & (d['tree_score']>=0)\n",
    "    if len(d[d['mask']])==0:\n",
    "        return (pd.DataFrame(),None,numPos,numNeg)\n",
    "\n",
    "    # Calculate the precision and recall as ouputted by the model (based on the FILTER column)\n",
    "    d['class'] = np.where(d['label']==0,'FP','FN')\n",
    "    d.loc[(d['label']==1) & (d['filter']=='PASS'),'class']='TP'\n",
    "    d.loc[(d['label']==0) & (d['filter']!='PASS'),'class']='TN'\n",
    "\n",
    "    fn=len(d[d['class']=='FN'])\n",
    "    tp=len(d[d['class']=='TP'])\n",
    "    fp=len(d[d['class']=='FP'])\n",
    "\n",
    "    recall=tp/(tp+fn) if (tp+fn>0) else np.nan\n",
    "    precision=tp/(tp+fp) if (tp+fp>0) else np.nan\n",
    "    max_recall=1-len(d[d['filter']=='MISS'])/numPos\n",
    "\n",
    "    f1=tp/(tp+0.5*fn+0.5*fp)\n",
    "    \n",
    "    return (d[['recall','precision']][d['mask']],\n",
    "            dict({'recall':recall,'precision':precision,'f1':f1}),\n",
    "            numPos,numNeg)\n",
    "\n"
   ]
  },
  {
   "cell_type": "code",
   "execution_count": 15,
   "metadata": {
    "ExecuteTime": {
     "end_time": "2022-05-19T19:01:16.767613Z",
     "start_time": "2022-05-19T19:01:16.745417Z"
    }
   },
   "outputs": [],
   "source": [
    "def plotPerformance(perfCurve,optRes,categories,source=sources,ext=None,img=None,legend=None,optRes_SEC=None):\n",
    "    n=len(categories)\n",
    "    nrow=int(np.ceil(n/5))\n",
    "    ncol=int(max(5,n))\n",
    "    fig, ax = plt.subplots(1,n,figsize=(4*n,4))\n",
    "    #fig, ax = plt.subplots(1,ncol) #figsize=(4*nrow,4*ncol)\n",
    "    #ax=ax.flatten()\n",
    "    \n",
    "    col=['r','b','g','m','k']\n",
    "\n",
    "    for i,cat in enumerate(categories):\n",
    "        for j,s in enumerate(source):\n",
    "            perf=perfCurve[s][cat]\n",
    "            opt=optRes[s][cat]\n",
    "            if optRes_SEC is not None:\n",
    "                opt_sec=optRes_SEC[s][cat]\n",
    "            if not perf.empty:\n",
    "                ax[i].plot(perf.recall,perf.precision,'-',label=s,color=col[j])    \n",
    "                ax[i].plot(opt.get('recall'),opt.get('precision'),'o',color=col[j])\n",
    "                if optRes_SEC is not None:\n",
    "                    ax[i].plot(opt_sec.get('recall'),opt_sec.get('precision'),'o',color=\"black\")\n",
    "            title=cat if ext==None else '{0} ({1})'.format(cat,ext)\n",
    "            ax[i].set_title(title)\n",
    "            ax[i].set_xlabel(\"Recall\")\n",
    "            ax[i].set_xlim([0.4,1])\n",
    "            ax[i].set_ylim([0.4,1])\n",
    "            ax[i].grid(True)\n",
    "\n",
    "    ax[0].set_ylabel(\"Precision\")\n",
    "    if legend: \n",
    "        ax[0].legend(loc='lower left')    \n",
    "    if img:\n",
    "        nxp.save(fig,imgpref+img,'png',outdir=imgdir)\n",
    "    \n",
    "    \n",
    "def getPerformance(data,categories):\n",
    "    optTab={}\n",
    "    optRes={}\n",
    "    perfCurve={}\n",
    "    for s in sources:\n",
    "        optTab[s]=pd.DataFrame()\n",
    "        optRes[s]={}\n",
    "        perfCurve[s]={}\n",
    "\n",
    "        for i,cat in enumerate(categories):\n",
    "            d=filterByCategory(data[s],cat)\n",
    "            perf,opt,pos,neg=calcPerformance(d)\n",
    "            perfCurve[s][cat]=perf\n",
    "            optRes[s][cat]=opt\n",
    "            \n",
    "            row=pd.DataFrame({'# pos':pos,\n",
    "                              '# neg':neg,\n",
    "                              'max recall':np.nan if perf.empty else max(perf.recall),\n",
    "                              'recall':np.nan if perf.empty else opt.get('recall'),\n",
    "                              'precision':np.nan if perf.empty else opt.get('precision'),\n",
    "                              'F1':np.nan if perf.empty else opt.get('f1')\n",
    "                             },index=[cat])\n",
    "            optTab[s]=pd.concat([optTab[s],row])\n",
    "            \n",
    "    return optTab,optRes,perfCurve"
   ]
  },
  {
   "cell_type": "markdown",
   "metadata": {
    "pycharm": {
     "name": "#%% md\n"
    }
   },
   "source": [
    "## 2. Performance over all Data\n",
    "The concordance between the variant calling results and the ground truth sample is presented below.\n",
    "* Red line - precision and recall over different tree-scores.\n",
    "* Red dot - precision and recall values for the chosen threshold.\n",
    "* Black dot -precision and recall after filtering systematic errors (SEC)"
   ]
  },
  {
   "cell_type": "code",
   "execution_count": 16,
   "metadata": {
    "ExecuteTime": {
     "end_time": "2022-05-19T19:01:17.474245Z",
     "start_time": "2022-05-19T19:01:17.466805Z"
    }
   },
   "outputs": [],
   "source": [
    "def has_sec(x):\n",
    "    res = False\n",
    "    if x is not None:\n",
    "        if x==x:\n",
    "            if \"SEC\" in x:\n",
    "                res=True\n",
    "    return res\n",
    "\n",
    "sec_df = data['whole genome'].copy()\n",
    "data_SEC={}\n",
    "if 'blacklst' in sec_df.columns:\n",
    "    is_sec = sec_df['blacklst'].apply(has_sec)\n",
    "    sec_df.loc[is_sec,'filter'] = \"SEC\"\n",
    "    sec_df.loc[(is_sec) & (sec_df['classify_gt']=='tp'),'classify_gt'] = \"fn\"\n",
    "    sec_df_new=sec_df[~((is_sec) & (sec_df['classify_gt']=='fp'))]\n",
    "    data_SEC={'whole genome': sec_df_new,'Trained wo gt':data['Trained wo gt'].copy(), 'Trained with gt':data['Trained with gt'].copy()}"
   ]
  },
  {
   "cell_type": "code",
   "execution_count": 17,
   "metadata": {
    "ExecuteTime": {
     "end_time": "2022-05-19T19:01:18.924411Z",
     "start_time": "2022-05-19T19:01:17.875413Z"
    }
   },
   "outputs": [
    {
     "data": {
      "image/png": "[encoded data removed]",
      "text/plain": [
       "<Figure size 1728x288 with 6 Axes>"
      ]
     },
     "metadata": {
      "needs_background": "light"
     },
     "output_type": "display_data"
    }
   ],
   "source": [
    "categories=['SNP','Indel','non-hmer Indel','non-hmer Indel w/o LCR','hmer Indel <=4','hmer Indel >4,<=8']\n",
    "optTab1,optRes,perfCurve=getPerformance(data,categories)\n",
    "if data_SEC :\n",
    "    SEC_optTab1,SEC_optRes,SEC_perfCurve=getPerformance(data_SEC,categories)\n",
    "    plotPerformance(perfCurve,optRes,categories,img='all.primary',source={'whole genome':sources['whole genome']},optRes_SEC=SEC_optRes)\n",
    "else:\n",
    "    plotPerformance(perfCurve,optRes,categories,img='all.primary',source={'whole genome':sources['whole genome']})"
   ]
  },
  {
   "cell_type": "code",
   "execution_count": 18,
   "metadata": {
    "ExecuteTime": {
     "end_time": "2022-05-19T19:01:19.833468Z",
     "start_time": "2022-05-19T19:01:18.926158Z"
    }
   },
   "outputs": [
    {
     "data": {
      "image/png": "[encoded data removed]",
      "text/plain": [
       "<Figure size 1728x288 with 6 Axes>"
      ]
     },
     "metadata": {
      "needs_background": "light"
     },
     "output_type": "display_data"
    }
   ],
   "source": [
    "categories=['hmer Indel 4','hmer Indel 5','hmer Indel 6','hmer Indel 7','hmer Indel 8','hmer Indel >8,<=10']\n",
    "optTab2,optRes,perfCurve=getPerformance(data,categories)\n",
    "if data_SEC :\n",
    "    SEC_optTab2,SEC_optRes,SEC_perfCurve=getPerformance(data_SEC,categories)\n",
    "    plotPerformance(perfCurve,optRes,categories,img='all.primary',source={'whole genome':sources['whole genome']},optRes_SEC=SEC_optRes)\n",
    "else:\n",
    "    plotPerformance(perfCurve,optRes,categories,img='all.primary',source={'whole genome':sources['whole genome']})"
   ]
  },
  {
   "cell_type": "code",
   "execution_count": 19,
   "metadata": {
    "ExecuteTime": {
     "end_time": "2022-05-19T19:01:19.876255Z",
     "start_time": "2022-05-19T19:01:19.834838Z"
    }
   },
   "outputs": [
    {
     "data": {
      "text/html": [
       "<div>\n",
       "<style scoped>\n",
       "    .dataframe tbody tr th:only-of-type {\n",
       "        vertical-align: middle;\n",
       "    }\n",
       "\n",
       "    .dataframe tbody tr th {\n",
       "        vertical-align: top;\n",
       "    }\n",
       "\n",
       "    .dataframe thead th {\n",
       "        text-align: right;\n",
       "    }\n",
       "</style>\n",
       "<table border=\"1\" class=\"dataframe\">\n",
       "  <thead>\n",
       "    <tr style=\"text-align: right;\">\n",
       "      <th></th>\n",
       "      <th># pos</th>\n",
       "      <th># neg</th>\n",
       "      <th>max recall</th>\n",
       "      <th>recall</th>\n",
       "      <th>precision</th>\n",
       "      <th>F1</th>\n",
       "    </tr>\n",
       "  </thead>\n",
       "  <tbody>\n",
       "    <tr>\n",
       "      <th>SNP</th>\n",
       "      <td>1726</td>\n",
       "      <td>15</td>\n",
       "      <td>99.25%</td>\n",
       "      <td>99.19%</td>\n",
       "      <td>99.71%</td>\n",
       "      <td>99.45%</td>\n",
       "    </tr>\n",
       "    <tr>\n",
       "      <th>Indel</th>\n",
       "      <td>211</td>\n",
       "      <td>48</td>\n",
       "      <td>72.51%</td>\n",
       "      <td>70.62%</td>\n",
       "      <td>89.76%</td>\n",
       "      <td>79.05%</td>\n",
       "    </tr>\n",
       "    <tr>\n",
       "      <th>non-hmer Indel</th>\n",
       "      <td>88</td>\n",
       "      <td>6</td>\n",
       "      <td>96.59%</td>\n",
       "      <td>95.45%</td>\n",
       "      <td>97.67%</td>\n",
       "      <td>96.55%</td>\n",
       "    </tr>\n",
       "    <tr>\n",
       "      <th>non-hmer Indel w/o LCR</th>\n",
       "      <td>63</td>\n",
       "      <td>4</td>\n",
       "      <td>100.00%</td>\n",
       "      <td>100.00%</td>\n",
       "      <td>100.00%</td>\n",
       "      <td>100.00%</td>\n",
       "    </tr>\n",
       "    <tr>\n",
       "      <th>hmer Indel &lt;=4</th>\n",
       "      <td>27</td>\n",
       "      <td>23</td>\n",
       "      <td>100.00%</td>\n",
       "      <td>96.30%</td>\n",
       "      <td>100.00%</td>\n",
       "      <td>98.11%</td>\n",
       "    </tr>\n",
       "    <tr>\n",
       "      <th>hmer Indel &gt;4,&lt;=8</th>\n",
       "      <td>17</td>\n",
       "      <td>5</td>\n",
       "      <td>NaN</td>\n",
       "      <td>NaN</td>\n",
       "      <td>NaN</td>\n",
       "      <td>NaN</td>\n",
       "    </tr>\n",
       "    <tr>\n",
       "      <th>hmer Indel 4</th>\n",
       "      <td>4</td>\n",
       "      <td>2</td>\n",
       "      <td>NaN</td>\n",
       "      <td>NaN</td>\n",
       "      <td>NaN</td>\n",
       "      <td>NaN</td>\n",
       "    </tr>\n",
       "    <tr>\n",
       "      <th>hmer Indel 5</th>\n",
       "      <td>6</td>\n",
       "      <td>2</td>\n",
       "      <td>NaN</td>\n",
       "      <td>NaN</td>\n",
       "      <td>NaN</td>\n",
       "      <td>NaN</td>\n",
       "    </tr>\n",
       "    <tr>\n",
       "      <th>hmer Indel 6</th>\n",
       "      <td>3</td>\n",
       "      <td>2</td>\n",
       "      <td>NaN</td>\n",
       "      <td>NaN</td>\n",
       "      <td>NaN</td>\n",
       "      <td>NaN</td>\n",
       "    </tr>\n",
       "    <tr>\n",
       "      <th>hmer Indel 7</th>\n",
       "      <td>2</td>\n",
       "      <td>1</td>\n",
       "      <td>NaN</td>\n",
       "      <td>NaN</td>\n",
       "      <td>NaN</td>\n",
       "      <td>NaN</td>\n",
       "    </tr>\n",
       "    <tr>\n",
       "      <th>hmer Indel 8</th>\n",
       "      <td>6</td>\n",
       "      <td>0</td>\n",
       "      <td>NaN</td>\n",
       "      <td>NaN</td>\n",
       "      <td>NaN</td>\n",
       "      <td>NaN</td>\n",
       "    </tr>\n",
       "    <tr>\n",
       "      <th>hmer Indel &gt;8,&lt;=10</th>\n",
       "      <td>13</td>\n",
       "      <td>3</td>\n",
       "      <td>NaN</td>\n",
       "      <td>NaN</td>\n",
       "      <td>NaN</td>\n",
       "      <td>NaN</td>\n",
       "    </tr>\n",
       "  </tbody>\n",
       "</table>\n",
       "</div>"
      ],
      "text/plain": [
       "                        # pos  # neg  max recall  recall  precision      F1\n",
       "SNP                      1726     15      99.25%  99.19%     99.71%  99.45%\n",
       "Indel                     211     48      72.51%  70.62%     89.76%  79.05%\n",
       "non-hmer Indel             88      6      96.59%  95.45%     97.67%  96.55%\n",
       "non-hmer Indel w/o LCR     63      4     100.00% 100.00%    100.00% 100.00%\n",
       "hmer Indel <=4             27     23     100.00%  96.30%    100.00%  98.11%\n",
       "hmer Indel >4,<=8          17      5         NaN     NaN        NaN     NaN\n",
       "hmer Indel 4                4      2         NaN     NaN        NaN     NaN\n",
       "hmer Indel 5                6      2         NaN     NaN        NaN     NaN\n",
       "hmer Indel 6                3      2         NaN     NaN        NaN     NaN\n",
       "hmer Indel 7                2      1         NaN     NaN        NaN     NaN\n",
       "hmer Indel 8                6      0         NaN     NaN        NaN     NaN\n",
       "hmer Indel >8,<=10         13      3         NaN     NaN        NaN     NaN"
      ]
     },
     "metadata": {},
     "output_type": "display_data"
    }
   ],
   "source": [
    "pd.options.display.float_format = '{:,.2%}'.format\n",
    "\n",
    "optTab={}\n",
    "for s in sources:\n",
    "    optTab[s]=pd.concat([optTab1[s], optTab2[s]])\n",
    "\n",
    "df=pd.concat([optTab[s] for s in sources], axis=1, keys=[s for s in sources])\n",
    "df.to_hdf(h5outfile, key=\"all_data\")\n",
    "\n",
    "if data_SEC :\n",
    "    df_SEC=pd.concat([SEC_optTab1['whole genome'],SEC_optTab2['whole genome']])\n",
    "    df_SEC.to_hdf(h5outfile, key=\"sec_data\")\n",
    "    display(pd.concat([df['whole genome'],df_SEC], keys=['Whole genome','After filtering systematic errors'], axis=1))\n",
    "else:\n",
    "    display(df['whole genome'])"
   ]
  },
  {
   "cell_type": "markdown",
   "metadata": {
    "pycharm": {
     "name": "#%% md\n"
    }
   },
   "source": [
    "### 2.1 Homozygous genotyping accuracy"
   ]
  },
  {
   "cell_type": "markdown",
   "metadata": {},
   "source": [
    "The precision and recall of called homozygous variants (where the variant was not classfied as False Negative)"
   ]
  },
  {
   "cell_type": "code",
   "execution_count": 20,
   "metadata": {
    "ExecuteTime": {
     "end_time": "2022-05-19T19:01:20.959734Z",
     "start_time": "2022-05-19T19:01:20.668279Z"
    },
    "pycharm": {
     "name": "#%%\n"
    }
   },
   "outputs": [
    {
     "data": {
      "text/html": [
       "<div>\n",
       "<style scoped>\n",
       "    .dataframe tbody tr th:only-of-type {\n",
       "        vertical-align: middle;\n",
       "    }\n",
       "\n",
       "    .dataframe tbody tr th {\n",
       "        vertical-align: top;\n",
       "    }\n",
       "\n",
       "    .dataframe thead th {\n",
       "        text-align: right;\n",
       "    }\n",
       "</style>\n",
       "<table border=\"1\" class=\"dataframe\">\n",
       "  <thead>\n",
       "    <tr style=\"text-align: right;\">\n",
       "      <th></th>\n",
       "      <th># pos</th>\n",
       "      <th># neg</th>\n",
       "      <th>max recall</th>\n",
       "      <th>recall</th>\n",
       "      <th>precision</th>\n",
       "      <th>F1</th>\n",
       "    </tr>\n",
       "  </thead>\n",
       "  <tbody>\n",
       "    <tr>\n",
       "      <th>SNP</th>\n",
       "      <td>764</td>\n",
       "      <td>0</td>\n",
       "      <td>99.74%</td>\n",
       "      <td>99.87%</td>\n",
       "      <td>100.00%</td>\n",
       "      <td>99.93%</td>\n",
       "    </tr>\n",
       "    <tr>\n",
       "      <th>Indel</th>\n",
       "      <td>60</td>\n",
       "      <td>0</td>\n",
       "      <td>98.33%</td>\n",
       "      <td>100.00%</td>\n",
       "      <td>100.00%</td>\n",
       "      <td>100.00%</td>\n",
       "    </tr>\n",
       "    <tr>\n",
       "      <th>non-hmer Indel</th>\n",
       "      <td>33</td>\n",
       "      <td>0</td>\n",
       "      <td>96.97%</td>\n",
       "      <td>100.00%</td>\n",
       "      <td>100.00%</td>\n",
       "      <td>100.00%</td>\n",
       "    </tr>\n",
       "    <tr>\n",
       "      <th>non-hmer Indel w/o LCR</th>\n",
       "      <td>27</td>\n",
       "      <td>0</td>\n",
       "      <td>96.30%</td>\n",
       "      <td>100.00%</td>\n",
       "      <td>100.00%</td>\n",
       "      <td>100.00%</td>\n",
       "    </tr>\n",
       "    <tr>\n",
       "      <th>hmer Indel &lt;=4</th>\n",
       "      <td>10</td>\n",
       "      <td>0</td>\n",
       "      <td>NaN</td>\n",
       "      <td>NaN</td>\n",
       "      <td>NaN</td>\n",
       "      <td>NaN</td>\n",
       "    </tr>\n",
       "    <tr>\n",
       "      <th>hmer Indel &gt;4,&lt;=8</th>\n",
       "      <td>9</td>\n",
       "      <td>0</td>\n",
       "      <td>NaN</td>\n",
       "      <td>NaN</td>\n",
       "      <td>NaN</td>\n",
       "      <td>NaN</td>\n",
       "    </tr>\n",
       "  </tbody>\n",
       "</table>\n",
       "</div>"
      ],
      "text/plain": [
       "                        # pos  # neg  max recall  recall  precision      F1\n",
       "SNP                       764      0      99.74%  99.87%    100.00%  99.93%\n",
       "Indel                      60      0      98.33% 100.00%    100.00% 100.00%\n",
       "non-hmer Indel             33      0      96.97% 100.00%    100.00% 100.00%\n",
       "non-hmer Indel w/o LCR     27      0      96.30% 100.00%    100.00% 100.00%\n",
       "hmer Indel <=4             10      0         NaN     NaN        NaN     NaN\n",
       "hmer Indel >4,<=8           9      0         NaN     NaN        NaN     NaN"
      ]
     },
     "metadata": {},
     "output_type": "display_data"
    }
   ],
   "source": [
    "categories=['SNP','Indel','non-hmer Indel','non-hmer Indel w/o LCR','hmer Indel <=4','hmer Indel >4,<=8']\n",
    "\n",
    "hmzData={}\n",
    "for s in sources:\n",
    "        d=data[s]\n",
    "        hmzData[s]=d[(d['gt_ground_truth']==(1,1)) & (d['classify']!='fn')]\n",
    "optTab,optRes,perfCurve=getPerformance(hmzData,categories)\n",
    "df=pd.concat([optTab[s] for s in sources], axis=1, keys=[s for s in sources])\n",
    "df.to_hdf(h5outfile, key=\"all_data_homozygous\")\n",
    "\n",
    "display(df['whole genome'])"
   ]
  },
  {
   "cell_type": "markdown",
   "metadata": {
    "pycharm": {
     "name": "#%% md\n"
    }
   },
   "source": [
    "### 2.2 Stratified by base"
   ]
  },
  {
   "cell_type": "markdown",
   "metadata": {},
   "source": [
    "#### (A,T)"
   ]
  },
  {
   "cell_type": "code",
   "execution_count": 21,
   "metadata": {
    "ExecuteTime": {
     "end_time": "2022-05-19T19:01:22.055847Z",
     "start_time": "2022-05-19T19:01:21.317172Z"
    },
    "pycharm": {
     "name": "#%%\n"
    }
   },
   "outputs": [
    {
     "data": {
      "image/png": "[encoded data removed]",
      "text/plain": [
       "<Figure size 1728x288 with 6 Axes>"
      ]
     },
     "metadata": {
      "needs_background": "light"
     },
     "output_type": "display_data"
    }
   ],
   "source": [
    "categories=['SNP','Indel','non-hmer Indel','hmer Indel <=4','hmer Indel >4,<=8','hmer Indel >8,<=10']\n",
    "\n",
    "baseData={}\n",
    "b =('A','T')\n",
    "for s in sources:\n",
    "        d=data[s]\n",
    "        baseData[s]=d[((d['indel']==False) & ((d['ref']==b[0]) | (d['ref']==b[1]))) |\n",
    "                      ((d['hmer_indel_length']>0) & ((d['hmer_indel_nuc']==b[0]) | (d['hmer_indel_nuc']==b[1])))\n",
    "                     ]\n",
    "optTab1,optRes,perfCurve=getPerformance(baseData,categories)\n",
    "for s in sources:\n",
    "    optTab1[s].rename(index={a:'{0} ({1}/{2})'.format(a,b[0],b[1]) for a in optTab1[s].index}, inplace=True)\n",
    "plotPerformance(perfCurve,optRes,categories,source={'whole genome':sources['whole genome']})"
   ]
  },
  {
   "cell_type": "markdown",
   "metadata": {
    "pycharm": {
     "name": "#%% md\n"
    }
   },
   "source": [
    "#### (G,C)"
   ]
  },
  {
   "cell_type": "code",
   "execution_count": 22,
   "metadata": {
    "ExecuteTime": {
     "end_time": "2022-05-19T19:01:22.747866Z",
     "start_time": "2022-05-19T19:01:22.057580Z"
    },
    "pycharm": {
     "name": "#%%\n"
    }
   },
   "outputs": [
    {
     "data": {
      "image/png": "[encoded data removed]",
      "text/plain": [
       "<Figure size 1728x288 with 6 Axes>"
      ]
     },
     "metadata": {
      "needs_background": "light"
     },
     "output_type": "display_data"
    }
   ],
   "source": [
    "categories=['SNP','Indel','non-hmer Indel','hmer Indel <=4','hmer Indel >4,<=8','hmer Indel >8,<=10']\n",
    "baseData={}\n",
    "b =('C','G')\n",
    "for s in sources:\n",
    "        d=data[s]\n",
    "        baseData[s]=d[((d['indel']==False) & ((d['ref']==b[0]) | (d['ref']==b[1]))) |\n",
    "                      ((d['hmer_indel_length']>0) & ((d['hmer_indel_nuc']==b[0]) | (d['hmer_indel_nuc']==b[1])))\n",
    "                     ]\n",
    "optTab2,optRes,perfCurve=getPerformance(baseData,categories)\n",
    "for s in sources:\n",
    "    optTab2[s].rename(index={a:'{0} ({1}/{2})'.format(a,b[0],b[1]) for a in optTab2[s].index}, inplace=True)\n",
    "plotPerformance(perfCurve,optRes,categories,source={'whole genome':sources['whole genome']})"
   ]
  },
  {
   "cell_type": "code",
   "execution_count": 23,
   "metadata": {
    "ExecuteTime": {
     "end_time": "2022-05-19T19:01:22.782749Z",
     "start_time": "2022-05-19T19:01:22.749254Z"
    },
    "pycharm": {
     "name": "#%%\n"
    }
   },
   "outputs": [
    {
     "data": {
      "text/html": [
       "<div>\n",
       "<style scoped>\n",
       "    .dataframe tbody tr th:only-of-type {\n",
       "        vertical-align: middle;\n",
       "    }\n",
       "\n",
       "    .dataframe tbody tr th {\n",
       "        vertical-align: top;\n",
       "    }\n",
       "\n",
       "    .dataframe thead th {\n",
       "        text-align: right;\n",
       "    }\n",
       "</style>\n",
       "<table border=\"1\" class=\"dataframe\">\n",
       "  <thead>\n",
       "    <tr style=\"text-align: right;\">\n",
       "      <th></th>\n",
       "      <th># pos</th>\n",
       "      <th># neg</th>\n",
       "      <th>max recall</th>\n",
       "      <th>recall</th>\n",
       "      <th>precision</th>\n",
       "      <th>F1</th>\n",
       "    </tr>\n",
       "  </thead>\n",
       "  <tbody>\n",
       "    <tr>\n",
       "      <th>SNP (A/T)</th>\n",
       "      <td>855</td>\n",
       "      <td>11</td>\n",
       "      <td>99.42%</td>\n",
       "      <td>99.42%</td>\n",
       "      <td>99.65%</td>\n",
       "      <td>99.53%</td>\n",
       "    </tr>\n",
       "    <tr>\n",
       "      <th>Indel (A/T)</th>\n",
       "      <td>112</td>\n",
       "      <td>9</td>\n",
       "      <td>50.89%</td>\n",
       "      <td>50.00%</td>\n",
       "      <td>88.89%</td>\n",
       "      <td>64.00%</td>\n",
       "    </tr>\n",
       "    <tr>\n",
       "      <th>non-hmer Indel (A/T)</th>\n",
       "      <td>0</td>\n",
       "      <td>0</td>\n",
       "      <td>NaN</td>\n",
       "      <td>NaN</td>\n",
       "      <td>NaN</td>\n",
       "      <td>NaN</td>\n",
       "    </tr>\n",
       "    <tr>\n",
       "      <th>hmer Indel &lt;=4 (A/T)</th>\n",
       "      <td>19</td>\n",
       "      <td>0</td>\n",
       "      <td>NaN</td>\n",
       "      <td>NaN</td>\n",
       "      <td>NaN</td>\n",
       "      <td>NaN</td>\n",
       "    </tr>\n",
       "    <tr>\n",
       "      <th>hmer Indel &gt;4,&lt;=8 (A/T)</th>\n",
       "      <td>15</td>\n",
       "      <td>3</td>\n",
       "      <td>NaN</td>\n",
       "      <td>NaN</td>\n",
       "      <td>NaN</td>\n",
       "      <td>NaN</td>\n",
       "    </tr>\n",
       "    <tr>\n",
       "      <th>hmer Indel &gt;8,&lt;=10 (A/T)</th>\n",
       "      <td>12</td>\n",
       "      <td>2</td>\n",
       "      <td>NaN</td>\n",
       "      <td>NaN</td>\n",
       "      <td>NaN</td>\n",
       "      <td>NaN</td>\n",
       "    </tr>\n",
       "    <tr>\n",
       "      <th>SNP (C/G)</th>\n",
       "      <td>871</td>\n",
       "      <td>4</td>\n",
       "      <td>99.08%</td>\n",
       "      <td>98.97%</td>\n",
       "      <td>99.77%</td>\n",
       "      <td>99.37%</td>\n",
       "    </tr>\n",
       "    <tr>\n",
       "      <th>Indel (C/G)</th>\n",
       "      <td>11</td>\n",
       "      <td>26</td>\n",
       "      <td>NaN</td>\n",
       "      <td>NaN</td>\n",
       "      <td>NaN</td>\n",
       "      <td>NaN</td>\n",
       "    </tr>\n",
       "    <tr>\n",
       "      <th>non-hmer Indel (C/G)</th>\n",
       "      <td>0</td>\n",
       "      <td>0</td>\n",
       "      <td>NaN</td>\n",
       "      <td>NaN</td>\n",
       "      <td>NaN</td>\n",
       "      <td>NaN</td>\n",
       "    </tr>\n",
       "    <tr>\n",
       "      <th>hmer Indel &lt;=4 (C/G)</th>\n",
       "      <td>8</td>\n",
       "      <td>23</td>\n",
       "      <td>NaN</td>\n",
       "      <td>NaN</td>\n",
       "      <td>NaN</td>\n",
       "      <td>NaN</td>\n",
       "    </tr>\n",
       "    <tr>\n",
       "      <th>hmer Indel &gt;4,&lt;=8 (C/G)</th>\n",
       "      <td>2</td>\n",
       "      <td>2</td>\n",
       "      <td>NaN</td>\n",
       "      <td>NaN</td>\n",
       "      <td>NaN</td>\n",
       "      <td>NaN</td>\n",
       "    </tr>\n",
       "    <tr>\n",
       "      <th>hmer Indel &gt;8,&lt;=10 (C/G)</th>\n",
       "      <td>1</td>\n",
       "      <td>0</td>\n",
       "      <td>NaN</td>\n",
       "      <td>NaN</td>\n",
       "      <td>NaN</td>\n",
       "      <td>NaN</td>\n",
       "    </tr>\n",
       "  </tbody>\n",
       "</table>\n",
       "</div>"
      ],
      "text/plain": [
       "                          # pos  # neg  max recall  recall  precision     F1\n",
       "SNP (A/T)                   855     11      99.42%  99.42%     99.65% 99.53%\n",
       "Indel (A/T)                 112      9      50.89%  50.00%     88.89% 64.00%\n",
       "non-hmer Indel (A/T)          0      0         NaN     NaN        NaN    NaN\n",
       "hmer Indel <=4 (A/T)         19      0         NaN     NaN        NaN    NaN\n",
       "hmer Indel >4,<=8 (A/T)      15      3         NaN     NaN        NaN    NaN\n",
       "hmer Indel >8,<=10 (A/T)     12      2         NaN     NaN        NaN    NaN\n",
       "SNP (C/G)                   871      4      99.08%  98.97%     99.77% 99.37%\n",
       "Indel (C/G)                  11     26         NaN     NaN        NaN    NaN\n",
       "non-hmer Indel (C/G)          0      0         NaN     NaN        NaN    NaN\n",
       "hmer Indel <=4 (C/G)          8     23         NaN     NaN        NaN    NaN\n",
       "hmer Indel >4,<=8 (C/G)       2      2         NaN     NaN        NaN    NaN\n",
       "hmer Indel >8,<=10 (C/G)      1      0         NaN     NaN        NaN    NaN"
      ]
     },
     "execution_count": 23,
     "metadata": {},
     "output_type": "execute_result"
    }
   ],
   "source": [
    "optTab={}\n",
    "for s in sources:\n",
    "    optTab[s]=pd.concat([optTab1[s], optTab2[s]])\n",
    "df=pd.concat([optTab[s] for s in sources], axis=1, keys=[s for s in sources])\n",
    "df.to_hdf(h5outfile, key=\"all_data_per_base\")\n",
    "df['whole genome']"
   ]
  },
  {
   "cell_type": "markdown",
   "metadata": {
    "pycharm": {
     "name": "#%% md\n"
    }
   },
   "source": [
    "## 3. Performance over UG high confidence regions\n",
    "\n",
    "Variant calling peformance exclusing genomic areas where UG performance is poor, i.e:\n",
    "- Homopolymers - runs of length 11 bp and above, padded with four bases around the genomic coordinates,\n",
    "- AT-rich regions - bases where the GC content of the surrounding 40 bases is lower than 5%,\n",
    "- Tandem repeats,\n",
    "- Low mapping quality - regions that are covered by at least 20 reads, but less than 10% of these reads are aligned with mapping quality > 20,\n",
    "- High coverage variability - regions with coverage that is highly variable between samples (std/mean > 0.5)"
   ]
  },
  {
   "cell_type": "code",
   "execution_count": 24,
   "metadata": {
    "ExecuteTime": {
     "end_time": "2022-05-19T19:01:22.803384Z",
     "start_time": "2022-05-19T19:01:22.785261Z"
    },
    "pycharm": {
     "name": "#%%\n"
    }
   },
   "outputs": [],
   "source": [
    "filtData={}\n",
    "for s in sources:\n",
    "    d=data[s]\n",
    "    if s == 'whole genome':\n",
    "        filtData[s]=d.query(\"ug_hcr==True\").copy()\n",
    "    else:\n",
    "        filtData[s]=d.copy()\n"
   ]
  },
  {
   "cell_type": "code",
   "execution_count": 25,
   "metadata": {
    "ExecuteTime": {
     "end_time": "2022-05-19T19:01:23.845777Z",
     "start_time": "2022-05-19T19:01:22.805199Z"
    }
   },
   "outputs": [
    {
     "data": {
      "image/png": "[encoded data removed]",
      "text/plain": [
       "<Figure size 1728x288 with 6 Axes>"
      ]
     },
     "metadata": {
      "needs_background": "light"
     },
     "output_type": "display_data"
    }
   ],
   "source": [
    "categories=['SNP','Indel','non-hmer Indel','non-hmer Indel w/o LCR','hmer Indel <=4','hmer Indel >4,<=8']\n",
    "optTab1,optRes,perfCurve=getPerformance(filtData,categories)\n",
    "plotPerformance(perfCurve,optRes,categories,img='hicvg.primary',source={'whole genome':sources['whole genome']})"
   ]
  },
  {
   "cell_type": "code",
   "execution_count": 26,
   "metadata": {
    "ExecuteTime": {
     "end_time": "2022-05-19T19:01:24.800926Z",
     "start_time": "2022-05-19T19:01:23.847176Z"
    }
   },
   "outputs": [
    {
     "data": {
      "image/png": "[encoded data removed]",
      "text/plain": [
       "<Figure size 1728x288 with 6 Axes>"
      ]
     },
     "metadata": {
      "needs_background": "light"
     },
     "output_type": "display_data"
    }
   ],
   "source": [
    "categories=['hmer Indel 4','hmer Indel 5','hmer Indel 6','hmer Indel 7','hmer Indel 8','hmer Indel >8,<=10']\n",
    "optTab2,optRes,perfCurve=getPerformance(filtData,categories)\n",
    "plotPerformance(perfCurve,optRes,categories,img='hicvg.hmers',source={'whole genome':sources['whole genome']})"
   ]
  },
  {
   "cell_type": "code",
   "execution_count": 27,
   "metadata": {
    "ExecuteTime": {
     "end_time": "2022-05-19T19:01:24.835324Z",
     "start_time": "2022-05-19T19:01:24.802768Z"
    }
   },
   "outputs": [
    {
     "data": {
      "text/html": [
       "<div>\n",
       "<style scoped>\n",
       "    .dataframe tbody tr th:only-of-type {\n",
       "        vertical-align: middle;\n",
       "    }\n",
       "\n",
       "    .dataframe tbody tr th {\n",
       "        vertical-align: top;\n",
       "    }\n",
       "\n",
       "    .dataframe thead th {\n",
       "        text-align: right;\n",
       "    }\n",
       "</style>\n",
       "<table border=\"1\" class=\"dataframe\">\n",
       "  <thead>\n",
       "    <tr style=\"text-align: right;\">\n",
       "      <th></th>\n",
       "      <th># pos</th>\n",
       "      <th># neg</th>\n",
       "      <th>max recall</th>\n",
       "      <th>recall</th>\n",
       "      <th>precision</th>\n",
       "      <th>F1</th>\n",
       "    </tr>\n",
       "  </thead>\n",
       "  <tbody>\n",
       "    <tr>\n",
       "      <th>SNP</th>\n",
       "      <td>1697</td>\n",
       "      <td>11</td>\n",
       "      <td>99.71%</td>\n",
       "      <td>99.65%</td>\n",
       "      <td>99.94%</td>\n",
       "      <td>99.79%</td>\n",
       "    </tr>\n",
       "    <tr>\n",
       "      <th>Indel</th>\n",
       "      <td>132</td>\n",
       "      <td>33</td>\n",
       "      <td>100.00%</td>\n",
       "      <td>97.73%</td>\n",
       "      <td>96.99%</td>\n",
       "      <td>97.36%</td>\n",
       "    </tr>\n",
       "    <tr>\n",
       "      <th>non-hmer Indel</th>\n",
       "      <td>76</td>\n",
       "      <td>4</td>\n",
       "      <td>100.00%</td>\n",
       "      <td>100.00%</td>\n",
       "      <td>98.70%</td>\n",
       "      <td>99.35%</td>\n",
       "    </tr>\n",
       "    <tr>\n",
       "      <th>non-hmer Indel w/o LCR</th>\n",
       "      <td>60</td>\n",
       "      <td>3</td>\n",
       "      <td>100.00%</td>\n",
       "      <td>100.00%</td>\n",
       "      <td>100.00%</td>\n",
       "      <td>100.00%</td>\n",
       "    </tr>\n",
       "    <tr>\n",
       "      <th>hmer Indel &lt;=4</th>\n",
       "      <td>26</td>\n",
       "      <td>22</td>\n",
       "      <td>100.00%</td>\n",
       "      <td>96.15%</td>\n",
       "      <td>100.00%</td>\n",
       "      <td>98.04%</td>\n",
       "    </tr>\n",
       "    <tr>\n",
       "      <th>hmer Indel &gt;4,&lt;=8</th>\n",
       "      <td>17</td>\n",
       "      <td>5</td>\n",
       "      <td>NaN</td>\n",
       "      <td>NaN</td>\n",
       "      <td>NaN</td>\n",
       "      <td>NaN</td>\n",
       "    </tr>\n",
       "    <tr>\n",
       "      <th>hmer Indel 4</th>\n",
       "      <td>4</td>\n",
       "      <td>2</td>\n",
       "      <td>NaN</td>\n",
       "      <td>NaN</td>\n",
       "      <td>NaN</td>\n",
       "      <td>NaN</td>\n",
       "    </tr>\n",
       "    <tr>\n",
       "      <th>hmer Indel 5</th>\n",
       "      <td>6</td>\n",
       "      <td>2</td>\n",
       "      <td>NaN</td>\n",
       "      <td>NaN</td>\n",
       "      <td>NaN</td>\n",
       "      <td>NaN</td>\n",
       "    </tr>\n",
       "    <tr>\n",
       "      <th>hmer Indel 6</th>\n",
       "      <td>3</td>\n",
       "      <td>2</td>\n",
       "      <td>NaN</td>\n",
       "      <td>NaN</td>\n",
       "      <td>NaN</td>\n",
       "      <td>NaN</td>\n",
       "    </tr>\n",
       "    <tr>\n",
       "      <th>hmer Indel 7</th>\n",
       "      <td>2</td>\n",
       "      <td>1</td>\n",
       "      <td>NaN</td>\n",
       "      <td>NaN</td>\n",
       "      <td>NaN</td>\n",
       "      <td>NaN</td>\n",
       "    </tr>\n",
       "    <tr>\n",
       "      <th>hmer Indel 8</th>\n",
       "      <td>6</td>\n",
       "      <td>0</td>\n",
       "      <td>NaN</td>\n",
       "      <td>NaN</td>\n",
       "      <td>NaN</td>\n",
       "      <td>NaN</td>\n",
       "    </tr>\n",
       "    <tr>\n",
       "      <th>hmer Indel &gt;8,&lt;=10</th>\n",
       "      <td>13</td>\n",
       "      <td>2</td>\n",
       "      <td>NaN</td>\n",
       "      <td>NaN</td>\n",
       "      <td>NaN</td>\n",
       "      <td>NaN</td>\n",
       "    </tr>\n",
       "  </tbody>\n",
       "</table>\n",
       "</div>"
      ],
      "text/plain": [
       "                        # pos  # neg  max recall  recall  precision      F1\n",
       "SNP                      1697     11      99.71%  99.65%     99.94%  99.79%\n",
       "Indel                     132     33     100.00%  97.73%     96.99%  97.36%\n",
       "non-hmer Indel             76      4     100.00% 100.00%     98.70%  99.35%\n",
       "non-hmer Indel w/o LCR     60      3     100.00% 100.00%    100.00% 100.00%\n",
       "hmer Indel <=4             26     22     100.00%  96.15%    100.00%  98.04%\n",
       "hmer Indel >4,<=8          17      5         NaN     NaN        NaN     NaN\n",
       "hmer Indel 4                4      2         NaN     NaN        NaN     NaN\n",
       "hmer Indel 5                6      2         NaN     NaN        NaN     NaN\n",
       "hmer Indel 6                3      2         NaN     NaN        NaN     NaN\n",
       "hmer Indel 7                2      1         NaN     NaN        NaN     NaN\n",
       "hmer Indel 8                6      0         NaN     NaN        NaN     NaN\n",
       "hmer Indel >8,<=10         13      2         NaN     NaN        NaN     NaN"
      ]
     },
     "execution_count": 27,
     "metadata": {},
     "output_type": "execute_result"
    }
   ],
   "source": [
    "optTab={}\n",
    "for s in sources:\n",
    "    optTab[s]=pd.concat([optTab1[s], optTab2[s]])\n",
    "df=pd.concat([optTab[s] for s in sources], axis=1, keys=[s for s in sources])\n",
    "df.to_hdf(h5outfile, key=\"ug_hcr\")\n",
    "defTable=df.copy()\n",
    "df['whole genome']"
   ]
  },
  {
   "cell_type": "markdown",
   "metadata": {
    "pycharm": {
     "name": "#%% md\n"
    }
   },
   "source": [
    "### 3.1 Homozygous genotyping accuracy"
   ]
  },
  {
   "cell_type": "code",
   "execution_count": 28,
   "metadata": {
    "ExecuteTime": {
     "end_time": "2022-05-19T19:01:25.111617Z",
     "start_time": "2022-05-19T19:01:24.836802Z"
    },
    "pycharm": {
     "name": "#%%\n"
    }
   },
   "outputs": [
    {
     "data": {
      "text/html": [
       "<div>\n",
       "<style scoped>\n",
       "    .dataframe tbody tr th:only-of-type {\n",
       "        vertical-align: middle;\n",
       "    }\n",
       "\n",
       "    .dataframe tbody tr th {\n",
       "        vertical-align: top;\n",
       "    }\n",
       "\n",
       "    .dataframe thead th {\n",
       "        text-align: right;\n",
       "    }\n",
       "</style>\n",
       "<table border=\"1\" class=\"dataframe\">\n",
       "  <thead>\n",
       "    <tr style=\"text-align: right;\">\n",
       "      <th></th>\n",
       "      <th># pos</th>\n",
       "      <th># neg</th>\n",
       "      <th>max recall</th>\n",
       "      <th>recall</th>\n",
       "      <th>precision</th>\n",
       "      <th>F1</th>\n",
       "    </tr>\n",
       "  </thead>\n",
       "  <tbody>\n",
       "    <tr>\n",
       "      <th>SNP</th>\n",
       "      <td>750</td>\n",
       "      <td>0</td>\n",
       "      <td>99.73%</td>\n",
       "      <td>99.87%</td>\n",
       "      <td>100.00%</td>\n",
       "      <td>99.93%</td>\n",
       "    </tr>\n",
       "    <tr>\n",
       "      <th>Indel</th>\n",
       "      <td>55</td>\n",
       "      <td>0</td>\n",
       "      <td>98.18%</td>\n",
       "      <td>100.00%</td>\n",
       "      <td>100.00%</td>\n",
       "      <td>100.00%</td>\n",
       "    </tr>\n",
       "    <tr>\n",
       "      <th>non-hmer Indel</th>\n",
       "      <td>32</td>\n",
       "      <td>0</td>\n",
       "      <td>96.88%</td>\n",
       "      <td>100.00%</td>\n",
       "      <td>100.00%</td>\n",
       "      <td>100.00%</td>\n",
       "    </tr>\n",
       "    <tr>\n",
       "      <th>hmer Indel &lt;=4</th>\n",
       "      <td>10</td>\n",
       "      <td>0</td>\n",
       "      <td>NaN</td>\n",
       "      <td>NaN</td>\n",
       "      <td>NaN</td>\n",
       "      <td>NaN</td>\n",
       "    </tr>\n",
       "    <tr>\n",
       "      <th>hmer Indel &gt;4,&lt;=8</th>\n",
       "      <td>9</td>\n",
       "      <td>0</td>\n",
       "      <td>NaN</td>\n",
       "      <td>NaN</td>\n",
       "      <td>NaN</td>\n",
       "      <td>NaN</td>\n",
       "    </tr>\n",
       "    <tr>\n",
       "      <th>hmer Indel &gt;8,&lt;=10</th>\n",
       "      <td>4</td>\n",
       "      <td>0</td>\n",
       "      <td>NaN</td>\n",
       "      <td>NaN</td>\n",
       "      <td>NaN</td>\n",
       "      <td>NaN</td>\n",
       "    </tr>\n",
       "  </tbody>\n",
       "</table>\n",
       "</div>"
      ],
      "text/plain": [
       "                    # pos  # neg  max recall  recall  precision      F1\n",
       "SNP                   750      0      99.73%  99.87%    100.00%  99.93%\n",
       "Indel                  55      0      98.18% 100.00%    100.00% 100.00%\n",
       "non-hmer Indel         32      0      96.88% 100.00%    100.00% 100.00%\n",
       "hmer Indel <=4         10      0         NaN     NaN        NaN     NaN\n",
       "hmer Indel >4,<=8       9      0         NaN     NaN        NaN     NaN\n",
       "hmer Indel >8,<=10      4      0         NaN     NaN        NaN     NaN"
      ]
     },
     "execution_count": 28,
     "metadata": {},
     "output_type": "execute_result"
    }
   ],
   "source": [
    "categories=['SNP','Indel','non-hmer Indel','hmer Indel <=4','hmer Indel >4,<=8','hmer Indel >8,<=10']\n",
    "\n",
    "hmzData={}\n",
    "for s in sources:\n",
    "        d=filtData[s]\n",
    "        hmzData[s]=d[(d['gt_ground_truth']==(1,1)) & (d['classify']!='fn')]\n",
    "optTab,optRes,perfCurve=getPerformance(hmzData,categories)\n",
    "df=pd.concat([optTab[s] for s in sources], axis=1, keys=[s for s in sources])\n",
    "df.to_hdf(h5outfile, key=\"ug_hcr_homozygous\")\n",
    "df['whole genome']"
   ]
  },
  {
   "cell_type": "markdown",
   "metadata": {},
   "source": [
    "## 4. Performance over regions with coverage>=20 and excluding areas with mappability"
   ]
  },
  {
   "cell_type": "code",
   "execution_count": 29,
   "metadata": {
    "ExecuteTime": {
     "end_time": "2022-05-19T19:01:26.978049Z",
     "start_time": "2022-05-19T19:01:25.113179Z"
    },
    "pycharm": {
     "name": "#%%\n"
    }
   },
   "outputs": [
    {
     "data": {
      "image/png": "[encoded data removed]",
      "text/plain": [
       "<Figure size 1728x288 with 6 Axes>"
      ]
     },
     "metadata": {
      "needs_background": "light"
     },
     "output_type": "display_data"
    },
    {
     "data": {
      "image/png": "[encoded data removed]",
      "text/plain": [
       "<Figure size 1728x288 with 6 Axes>"
      ]
     },
     "metadata": {
      "needs_background": "light"
     },
     "output_type": "display_data"
    }
   ],
   "source": [
    "if 'well_mapped_coverage' in data['whole genome'].columns:\n",
    "    filtData={}\n",
    "    for s in sources:\n",
    "        d=data[s]\n",
    "        filtData[s]=d[(d['well_mapped_coverage']>=20) &\n",
    "                      (d['mappability.0'])\n",
    "                     ]\n",
    "    categories=['SNP','Indel','non-hmer Indel','non-hmer Indel w/o LCR','hmer Indel <=4','hmer Indel >4,<=8']\n",
    "    optTab1,optRes,perfCurve=getPerformance(filtData,categories)\n",
    "    plotPerformance(perfCurve,optRes,categories,img='hicvg.primary',source={'whole genome':sources['whole genome']})\n",
    "\n",
    "\n",
    "    categories=['hmer Indel 4','hmer Indel 5','hmer Indel 6','hmer Indel 7','hmer Indel 8','hmer Indel >8,<=10']\n",
    "    optTab2,optRes,perfCurve=getPerformance(filtData,categories)\n",
    "    plotPerformance(perfCurve,optRes,categories,img='hicvg.hmers',source={'whole genome':sources['whole genome']})\n",
    "\n",
    "    optTab={}\n",
    "    for s in sources:\n",
    "        optTab[s]=pd.concat([optTab1[s], optTab2[s]])\n",
    "    df=pd.concat([optTab[s] for s in sources], axis=1, keys=[s for s in sources])\n",
    "    df.to_hdf(h5outfile, key=\"good_cvg_data\")\n",
    "    defTable=df.copy()\n",
    "    df['whole genome']\n",
    "else:\n",
    "    print(\"No coverage data available\")"
   ]
  },
  {
   "cell_type": "markdown",
   "metadata": {},
   "source": [
    "### 4.1 Homozygous genotyping accuracy"
   ]
  },
  {
   "cell_type": "code",
   "execution_count": 30,
   "metadata": {
    "ExecuteTime": {
     "end_time": "2022-05-19T19:01:27.259327Z",
     "start_time": "2022-05-19T19:01:26.979350Z"
    },
    "pycharm": {
     "name": "#%%\n"
    }
   },
   "outputs": [
    {
     "data": {
      "text/html": [
       "<div>\n",
       "<style scoped>\n",
       "    .dataframe tbody tr th:only-of-type {\n",
       "        vertical-align: middle;\n",
       "    }\n",
       "\n",
       "    .dataframe tbody tr th {\n",
       "        vertical-align: top;\n",
       "    }\n",
       "\n",
       "    .dataframe thead th {\n",
       "        text-align: right;\n",
       "    }\n",
       "</style>\n",
       "<table border=\"1\" class=\"dataframe\">\n",
       "  <thead>\n",
       "    <tr style=\"text-align: right;\">\n",
       "      <th></th>\n",
       "      <th># pos</th>\n",
       "      <th># neg</th>\n",
       "      <th>max recall</th>\n",
       "      <th>recall</th>\n",
       "      <th>precision</th>\n",
       "      <th>F1</th>\n",
       "    </tr>\n",
       "  </thead>\n",
       "  <tbody>\n",
       "    <tr>\n",
       "      <th>SNP</th>\n",
       "      <td>750</td>\n",
       "      <td>0</td>\n",
       "      <td>99.87%</td>\n",
       "      <td>100.00%</td>\n",
       "      <td>100.00%</td>\n",
       "      <td>100.00%</td>\n",
       "    </tr>\n",
       "    <tr>\n",
       "      <th>Indel</th>\n",
       "      <td>59</td>\n",
       "      <td>0</td>\n",
       "      <td>98.31%</td>\n",
       "      <td>100.00%</td>\n",
       "      <td>100.00%</td>\n",
       "      <td>100.00%</td>\n",
       "    </tr>\n",
       "    <tr>\n",
       "      <th>non-hmer Indel</th>\n",
       "      <td>32</td>\n",
       "      <td>0</td>\n",
       "      <td>96.88%</td>\n",
       "      <td>100.00%</td>\n",
       "      <td>100.00%</td>\n",
       "      <td>100.00%</td>\n",
       "    </tr>\n",
       "    <tr>\n",
       "      <th>non-hmer Indel w/o LCR</th>\n",
       "      <td>26</td>\n",
       "      <td>0</td>\n",
       "      <td>96.15%</td>\n",
       "      <td>100.00%</td>\n",
       "      <td>100.00%</td>\n",
       "      <td>100.00%</td>\n",
       "    </tr>\n",
       "    <tr>\n",
       "      <th>hmer Indel &lt;=4</th>\n",
       "      <td>10</td>\n",
       "      <td>0</td>\n",
       "      <td>NaN</td>\n",
       "      <td>NaN</td>\n",
       "      <td>NaN</td>\n",
       "      <td>NaN</td>\n",
       "    </tr>\n",
       "    <tr>\n",
       "      <th>hmer Indel &gt;4,&lt;=8</th>\n",
       "      <td>9</td>\n",
       "      <td>0</td>\n",
       "      <td>NaN</td>\n",
       "      <td>NaN</td>\n",
       "      <td>NaN</td>\n",
       "      <td>NaN</td>\n",
       "    </tr>\n",
       "  </tbody>\n",
       "</table>\n",
       "</div>"
      ],
      "text/plain": [
       "                        # pos  # neg  max recall  recall  precision      F1\n",
       "SNP                       750      0      99.87% 100.00%    100.00% 100.00%\n",
       "Indel                      59      0      98.31% 100.00%    100.00% 100.00%\n",
       "non-hmer Indel             32      0      96.88% 100.00%    100.00% 100.00%\n",
       "non-hmer Indel w/o LCR     26      0      96.15% 100.00%    100.00% 100.00%\n",
       "hmer Indel <=4             10      0         NaN     NaN        NaN     NaN\n",
       "hmer Indel >4,<=8           9      0         NaN     NaN        NaN     NaN"
      ]
     },
     "execution_count": 30,
     "metadata": {},
     "output_type": "execute_result"
    }
   ],
   "source": [
    "categories=['SNP','Indel','non-hmer Indel','non-hmer Indel w/o LCR','hmer Indel <=4','hmer Indel >4,<=8']\n",
    "\n",
    "hmzData={}\n",
    "for s in sources:\n",
    "        d=filtData[s]\n",
    "        hmzData[s]=d[(d['gt_ground_truth']==(1,1)) & (d['classify_gt']!='fn')]\n",
    "optTab,optRes,perfCurve=getPerformance(hmzData,categories)\n",
    "df=pd.concat([optTab[s] for s in sources], axis=1, keys=[s for s in sources])\n",
    "df.to_hdf(h5outfile, key=\"good_cvg_data_homozygous\")\n",
    "df['whole genome']"
   ]
  },
  {
   "cell_type": "markdown",
   "metadata": {
    "pycharm": {
     "name": "#%% md\n"
    }
   },
   "source": [
    "##  5. Trained with and without Ground Truth"
   ]
  },
  {
   "cell_type": "markdown",
   "metadata": {},
   "source": [
    "<ul>\n",
    "<li><b>Trained wo gt - Trained without ground truth </b></li>\n",
    "Random forest model trained on chromosome 9 using known variants in dbSNP and on common fp variants\n",
    "<li><b>Trained with gt - Trained with ground truth</b></li>\n",
    "Simple threshold model trained on chromosome 9 using its own ground truth\n",
    "</ul>"
   ]
  },
  {
   "cell_type": "code",
   "execution_count": 31,
   "metadata": {
    "ExecuteTime": {
     "end_time": "2022-05-19T19:01:28.317261Z",
     "start_time": "2022-05-19T19:01:27.261576Z"
    },
    "jupyter": {
     "outputs_hidden": false
    },
    "pycharm": {
     "name": "#%%\n"
    }
   },
   "outputs": [
    {
     "data": {
      "image/png": "[encoded data removed]",
      "text/plain": [
       "<Figure size 1728x288 with 6 Axes>"
      ]
     },
     "metadata": {
      "needs_background": "light"
     },
     "output_type": "display_data"
    }
   ],
   "source": [
    "categories=['SNP','Indel','non-hmer Indel','non-hmer Indel w/o LCR','hmer Indel <=4','hmer Indel >4,<=8']\n",
    "optTab1,optRes,perfCurve=getPerformance(data,categories)\n",
    "plotPerformance(perfCurve,optRes,categories,img='all.primary',source={'Trained wo gt':sources['Trained wo gt'], 'Trained with gt': sources['Trained wo gt']},legend=sources[s])"
   ]
  },
  {
   "cell_type": "code",
   "execution_count": 32,
   "metadata": {
    "ExecuteTime": {
     "end_time": "2022-05-19T19:01:29.298915Z",
     "start_time": "2022-05-19T19:01:28.319204Z"
    },
    "jupyter": {
     "outputs_hidden": false
    },
    "pycharm": {
     "name": "#%%\n"
    }
   },
   "outputs": [
    {
     "data": {
      "image/png": "[encoded data removed]",
      "text/plain": [
       "<Figure size 1728x288 with 6 Axes>"
      ]
     },
     "metadata": {
      "needs_background": "light"
     },
     "output_type": "display_data"
    }
   ],
   "source": [
    "categories=['hmer Indel 4','hmer Indel 5','hmer Indel 6','hmer Indel 7','hmer Indel 8','hmer Indel >8,<=10']\n",
    "optTab2,optRes,perfCurve=getPerformance(data,categories)\n",
    "plotPerformance(perfCurve,optRes,categories,img='all.hmers',source={'Trained wo gt':sources['Trained wo gt'], 'Trained with gt': sources['Trained wo gt']},legend=sources[s])"
   ]
  },
  {
   "cell_type": "code",
   "execution_count": 33,
   "metadata": {
    "ExecuteTime": {
     "end_time": "2022-05-19T19:01:29.338471Z",
     "start_time": "2022-05-19T19:01:29.300594Z"
    },
    "jupyter": {
     "outputs_hidden": false
    },
    "pycharm": {
     "name": "#%%\n"
    }
   },
   "outputs": [
    {
     "data": {
      "text/html": [
       "<div>\n",
       "<style scoped>\n",
       "    .dataframe tbody tr th:only-of-type {\n",
       "        vertical-align: middle;\n",
       "    }\n",
       "\n",
       "    .dataframe tbody tr th {\n",
       "        vertical-align: top;\n",
       "    }\n",
       "\n",
       "    .dataframe thead tr th {\n",
       "        text-align: left;\n",
       "    }\n",
       "</style>\n",
       "<table border=\"1\" class=\"dataframe\">\n",
       "  <thead>\n",
       "    <tr>\n",
       "      <th></th>\n",
       "      <th colspan=\"6\" halign=\"left\">Trained wo gt</th>\n",
       "      <th colspan=\"6\" halign=\"left\">Trained with gt</th>\n",
       "    </tr>\n",
       "    <tr>\n",
       "      <th></th>\n",
       "      <th># pos</th>\n",
       "      <th># neg</th>\n",
       "      <th>max recall</th>\n",
       "      <th>recall</th>\n",
       "      <th>precision</th>\n",
       "      <th>F1</th>\n",
       "      <th># pos</th>\n",
       "      <th># neg</th>\n",
       "      <th>max recall</th>\n",
       "      <th>recall</th>\n",
       "      <th>precision</th>\n",
       "      <th>F1</th>\n",
       "    </tr>\n",
       "  </thead>\n",
       "  <tbody>\n",
       "    <tr>\n",
       "      <th>SNP</th>\n",
       "      <td>4307</td>\n",
       "      <td>35</td>\n",
       "      <td>99.61%</td>\n",
       "      <td>99.58%</td>\n",
       "      <td>99.51%</td>\n",
       "      <td>99.55%</td>\n",
       "      <td>6838</td>\n",
       "      <td>65</td>\n",
       "      <td>99.39%</td>\n",
       "      <td>99.25%</td>\n",
       "      <td>99.46%</td>\n",
       "      <td>99.36%</td>\n",
       "    </tr>\n",
       "    <tr>\n",
       "      <th>Indel</th>\n",
       "      <td>543</td>\n",
       "      <td>115</td>\n",
       "      <td>73.30%</td>\n",
       "      <td>71.82%</td>\n",
       "      <td>94.43%</td>\n",
       "      <td>81.59%</td>\n",
       "      <td>900</td>\n",
       "      <td>197</td>\n",
       "      <td>72.56%</td>\n",
       "      <td>71.89%</td>\n",
       "      <td>91.13%</td>\n",
       "      <td>80.37%</td>\n",
       "    </tr>\n",
       "    <tr>\n",
       "      <th>non-hmer Indel</th>\n",
       "      <td>250</td>\n",
       "      <td>34</td>\n",
       "      <td>90.80%</td>\n",
       "      <td>90.40%</td>\n",
       "      <td>95.36%</td>\n",
       "      <td>92.81%</td>\n",
       "      <td>397</td>\n",
       "      <td>48</td>\n",
       "      <td>91.18%</td>\n",
       "      <td>90.93%</td>\n",
       "      <td>93.77%</td>\n",
       "      <td>92.33%</td>\n",
       "    </tr>\n",
       "    <tr>\n",
       "      <th>non-hmer Indel w/o LCR</th>\n",
       "      <td>174</td>\n",
       "      <td>20</td>\n",
       "      <td>95.40%</td>\n",
       "      <td>95.40%</td>\n",
       "      <td>98.81%</td>\n",
       "      <td>97.08%</td>\n",
       "      <td>311</td>\n",
       "      <td>29</td>\n",
       "      <td>95.82%</td>\n",
       "      <td>95.50%</td>\n",
       "      <td>97.38%</td>\n",
       "      <td>96.43%</td>\n",
       "    </tr>\n",
       "    <tr>\n",
       "      <th>hmer Indel &lt;=4</th>\n",
       "      <td>70</td>\n",
       "      <td>57</td>\n",
       "      <td>100.00%</td>\n",
       "      <td>97.14%</td>\n",
       "      <td>100.00%</td>\n",
       "      <td>98.55%</td>\n",
       "      <td>125</td>\n",
       "      <td>107</td>\n",
       "      <td>96.80%</td>\n",
       "      <td>96.80%</td>\n",
       "      <td>87.68%</td>\n",
       "      <td>92.02%</td>\n",
       "    </tr>\n",
       "    <tr>\n",
       "      <th>hmer Indel &gt;4,&lt;=8</th>\n",
       "      <td>46</td>\n",
       "      <td>10</td>\n",
       "      <td>97.83%</td>\n",
       "      <td>95.65%</td>\n",
       "      <td>97.78%</td>\n",
       "      <td>96.70%</td>\n",
       "      <td>81</td>\n",
       "      <td>17</td>\n",
       "      <td>100.00%</td>\n",
       "      <td>97.53%</td>\n",
       "      <td>94.05%</td>\n",
       "      <td>95.76%</td>\n",
       "    </tr>\n",
       "    <tr>\n",
       "      <th>hmer Indel 4</th>\n",
       "      <td>6</td>\n",
       "      <td>9</td>\n",
       "      <td>NaN</td>\n",
       "      <td>NaN</td>\n",
       "      <td>NaN</td>\n",
       "      <td>NaN</td>\n",
       "      <td>22</td>\n",
       "      <td>19</td>\n",
       "      <td>100.00%</td>\n",
       "      <td>100.00%</td>\n",
       "      <td>81.48%</td>\n",
       "      <td>89.80%</td>\n",
       "    </tr>\n",
       "    <tr>\n",
       "      <th>hmer Indel 5</th>\n",
       "      <td>11</td>\n",
       "      <td>4</td>\n",
       "      <td>NaN</td>\n",
       "      <td>NaN</td>\n",
       "      <td>NaN</td>\n",
       "      <td>NaN</td>\n",
       "      <td>18</td>\n",
       "      <td>7</td>\n",
       "      <td>NaN</td>\n",
       "      <td>NaN</td>\n",
       "      <td>NaN</td>\n",
       "      <td>NaN</td>\n",
       "    </tr>\n",
       "    <tr>\n",
       "      <th>hmer Indel 6</th>\n",
       "      <td>13</td>\n",
       "      <td>3</td>\n",
       "      <td>NaN</td>\n",
       "      <td>NaN</td>\n",
       "      <td>NaN</td>\n",
       "      <td>NaN</td>\n",
       "      <td>18</td>\n",
       "      <td>3</td>\n",
       "      <td>NaN</td>\n",
       "      <td>NaN</td>\n",
       "      <td>NaN</td>\n",
       "      <td>NaN</td>\n",
       "    </tr>\n",
       "    <tr>\n",
       "      <th>hmer Indel 7</th>\n",
       "      <td>11</td>\n",
       "      <td>3</td>\n",
       "      <td>NaN</td>\n",
       "      <td>NaN</td>\n",
       "      <td>NaN</td>\n",
       "      <td>NaN</td>\n",
       "      <td>20</td>\n",
       "      <td>4</td>\n",
       "      <td>100.00%</td>\n",
       "      <td>100.00%</td>\n",
       "      <td>86.96%</td>\n",
       "      <td>93.02%</td>\n",
       "    </tr>\n",
       "    <tr>\n",
       "      <th>hmer Indel 8</th>\n",
       "      <td>11</td>\n",
       "      <td>0</td>\n",
       "      <td>NaN</td>\n",
       "      <td>NaN</td>\n",
       "      <td>NaN</td>\n",
       "      <td>NaN</td>\n",
       "      <td>25</td>\n",
       "      <td>3</td>\n",
       "      <td>100.00%</td>\n",
       "      <td>96.00%</td>\n",
       "      <td>100.00%</td>\n",
       "      <td>97.96%</td>\n",
       "    </tr>\n",
       "    <tr>\n",
       "      <th>hmer Indel &gt;8,&lt;=10</th>\n",
       "      <td>35</td>\n",
       "      <td>0</td>\n",
       "      <td>91.43%</td>\n",
       "      <td>85.71%</td>\n",
       "      <td>100.00%</td>\n",
       "      <td>92.31%</td>\n",
       "      <td>55</td>\n",
       "      <td>9</td>\n",
       "      <td>90.91%</td>\n",
       "      <td>85.45%</td>\n",
       "      <td>92.16%</td>\n",
       "      <td>88.68%</td>\n",
       "    </tr>\n",
       "  </tbody>\n",
       "</table>\n",
       "</div>"
      ],
      "text/plain": [
       "                       Trained wo gt                                           \\\n",
       "                               # pos # neg max recall recall precision     F1   \n",
       "SNP                             4307    35     99.61% 99.58%    99.51% 99.55%   \n",
       "Indel                            543   115     73.30% 71.82%    94.43% 81.59%   \n",
       "non-hmer Indel                   250    34     90.80% 90.40%    95.36% 92.81%   \n",
       "non-hmer Indel w/o LCR           174    20     95.40% 95.40%    98.81% 97.08%   \n",
       "hmer Indel <=4                    70    57    100.00% 97.14%   100.00% 98.55%   \n",
       "hmer Indel >4,<=8                 46    10     97.83% 95.65%    97.78% 96.70%   \n",
       "hmer Indel 4                       6     9        NaN    NaN       NaN    NaN   \n",
       "hmer Indel 5                      11     4        NaN    NaN       NaN    NaN   \n",
       "hmer Indel 6                      13     3        NaN    NaN       NaN    NaN   \n",
       "hmer Indel 7                      11     3        NaN    NaN       NaN    NaN   \n",
       "hmer Indel 8                      11     0        NaN    NaN       NaN    NaN   \n",
       "hmer Indel >8,<=10                35     0     91.43% 85.71%   100.00% 92.31%   \n",
       "\n",
       "                       Trained with gt                                     \\\n",
       "                                 # pos # neg max recall  recall precision   \n",
       "SNP                               6838    65     99.39%  99.25%    99.46%   \n",
       "Indel                              900   197     72.56%  71.89%    91.13%   \n",
       "non-hmer Indel                     397    48     91.18%  90.93%    93.77%   \n",
       "non-hmer Indel w/o LCR             311    29     95.82%  95.50%    97.38%   \n",
       "hmer Indel <=4                     125   107     96.80%  96.80%    87.68%   \n",
       "hmer Indel >4,<=8                   81    17    100.00%  97.53%    94.05%   \n",
       "hmer Indel 4                        22    19    100.00% 100.00%    81.48%   \n",
       "hmer Indel 5                        18     7        NaN     NaN       NaN   \n",
       "hmer Indel 6                        18     3        NaN     NaN       NaN   \n",
       "hmer Indel 7                        20     4    100.00% 100.00%    86.96%   \n",
       "hmer Indel 8                        25     3    100.00%  96.00%   100.00%   \n",
       "hmer Indel >8,<=10                  55     9     90.91%  85.45%    92.16%   \n",
       "\n",
       "                               \n",
       "                           F1  \n",
       "SNP                    99.36%  \n",
       "Indel                  80.37%  \n",
       "non-hmer Indel         92.33%  \n",
       "non-hmer Indel w/o LCR 96.43%  \n",
       "hmer Indel <=4         92.02%  \n",
       "hmer Indel >4,<=8      95.76%  \n",
       "hmer Indel 4           89.80%  \n",
       "hmer Indel 5              NaN  \n",
       "hmer Indel 6              NaN  \n",
       "hmer Indel 7           93.02%  \n",
       "hmer Indel 8           97.96%  \n",
       "hmer Indel >8,<=10     88.68%  "
      ]
     },
     "execution_count": 33,
     "metadata": {},
     "output_type": "execute_result"
    }
   ],
   "source": [
    "pd.options.display.float_format = '{:,.2%}'.format\n",
    "sources={'Trained wo gt':sources['Trained wo gt'], 'Trained with gt': sources['Trained wo gt']}\n",
    "optTab={}\n",
    "for s in sources:\n",
    "    optTab[s]=pd.concat([optTab1[s], optTab2[s]])\n",
    "df=pd.concat([optTab[s] for s in sources], axis=1, keys=[s for s in sources])\n",
    "df.to_hdf(h5outfile, key=\"trained_w_wo_gt\")\n",
    "df_all=df\n",
    "df"
   ]
  },
  {
   "cell_type": "code",
   "execution_count": 34,
   "metadata": {
    "ExecuteTime": {
     "end_time": "2022-05-19T19:01:29.502459Z",
     "start_time": "2022-05-19T19:01:29.340102Z"
    }
   },
   "outputs": [],
   "source": [
    "%matplotlib agg\n",
    "d=defTable['Trained with gt'][['max recall','recall','precision']]\n",
    "labels=['SNP','Indel','nhmer','nhmer w/o LCR','hmer 2-4','hmer 5-8','hmer 4','hmer 5','hmer 6','hmer 7','hmer 8','hmer 9-10']\n",
    "fig=plt.figure()\n",
    "ax=d.plot()\n",
    "plt.xticks(np.arange(len(d.index)), rotation=30, ha='right')\n",
    "ax.set_xticklabels(labels)\n",
    "plt.ylim([0.4,1.05])\n",
    "plt.grid()\n",
    "plt.title('Cvg>20X, Trained variant calls')\n",
    "plt.tight_layout()\n",
    "nxp.save(fig,imgpref+'summary','png',outdir=imgdir)\n",
    "plt.close(fig)"
   ]
  },
  {
   "cell_type": "code",
   "execution_count": null,
   "metadata": {},
   "outputs": [],
   "source": []
  },
  {
   "cell_type": "code",
   "execution_count": null,
   "metadata": {},
   "outputs": [],
   "source": []
  },
  {
   "cell_type": "code",
   "execution_count": null,
   "metadata": {},
   "outputs": [],
   "source": []
  }
 ],
 "metadata": {
  "kernelspec": {
   "display_name": "Python 3 (ipykernel)",
   "language": "python",
   "name": "python3"
  },
  "language_info": {
   "codemirror_mode": {
    "name": "ipython",
    "version": 3
   },
   "file_extension": ".py",
   "mimetype": "text/x-python",
   "name": "python",
   "nbconvert_exporter": "python",
   "pygments_lexer": "ipython3",
   "version": "3.7.8"
  },
  "toc": {
   "base_numbering": 1,
   "nav_menu": {},
   "number_sections": true,
   "sideBar": true,
   "skip_h1_title": false,
   "title_cell": "Table of Contents",
   "title_sidebar": "Contents",
   "toc_cell": false,
   "toc_position": {},
   "toc_section_display": true,
   "toc_window_display": false
  }
 },
 "nbformat": 4,
 "nbformat_minor": 4
}
