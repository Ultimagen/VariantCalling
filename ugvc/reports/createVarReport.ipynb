{
 "cells": [
  {
   "cell_type": "code",
   "execution_count": null,
   "metadata": {
    "ExecuteTime": {
     "end_time": "2022-07-25T13:41:08.009132Z",
     "start_time": "2022-07-25T13:41:06.919618Z"
    }
   },
   "outputs": [],
   "source": [
    "import pandas as pd\n",
    "import matplotlib.pyplot as plt\n",
    "import numpy as np\n",
    "import nexusplt as nxp\n",
    "from ugvc.reports.report_utils import ShortReportUtils, parse_config\n",
    "from ugvc.reports.report_data_loader import ReportDataLoader\n",
    "from IPython.display import display, Markdown\n",
    "\n",
    "pd.options.display.float_format = '{:,.2%}'.format\n",
    "pd.set_option('display.max_colwidth', None)"
   ]
  },
  {
   "cell_type": "code",
   "execution_count": null,
   "metadata": {
    "ExecuteTime": {
     "end_time": "2022-07-25T13:41:08.938665Z",
     "start_time": "2022-07-25T13:41:08.864530Z"
    },
    "jupyter": {
     "outputs_hidden": false
    },
    "pycharm": {
     "name": "#%%\n"
    }
   },
   "outputs": [],
   "source": [
    "parameters, param_names = parse_config('var_report.config')\n",
    "\n",
    "# globals\n",
    "image_dir = 'plots'\n",
    "image_prefix = parameters['image_prefix']\n",
    "reference_version = parameters['reference_version']\n",
    "h5outfile = parameters['h5outfile']\n",
    "trained_w_gt = parameters['trained_w_gt']\n",
    "verbosity = parameters['verbosity']\n",
    "pipeline_version = parameters['pipeline_version']\n",
    "\n",
    "report_utils = ShortReportUtils(image_dir, image_prefix, verbosity, h5outfile)\n",
    "\n",
    "if verbosity > 1:\n",
    "    display(Markdown(f\"# Variant Calling report v{pipeline_version} (INTERNAL usage)\"))\n",
    "else:\n",
    "    display(Markdown(f\"# Variant Calling report v{pipeline_version}\"))"
   ]
  },
  {
   "cell_type": "markdown",
   "metadata": {},
   "source": [
    "## 1. Input Parameters"
   ]
  },
  {
   "cell_type": "code",
   "execution_count": null,
   "metadata": {
    "pycharm": {
     "name": "#%%\n"
    }
   },
   "outputs": [],
   "source": [
    "# load data\n",
    "data_loader = ReportDataLoader(concordance_file=parameters['h5_concordance_file'],\n",
    "                               reference_version=reference_version)\n",
    "data = {\n",
    "    'Trained wo gt': data_loader.load_concordance_df(),\n",
    "    'whole genome': data_loader.load_whole_genome_concordance_df()\n",
    "}\n",
    "\n",
    "sources = data_loader.sources"
   ]
  },
  {
   "cell_type": "code",
   "execution_count": null,
   "metadata": {
    "ExecuteTime": {
     "end_time": "2022-07-25T13:41:11.945866Z",
     "start_time": "2022-07-25T13:41:11.910842Z"
    }
   },
   "outputs": [],
   "source": [
    "if 'well_mapped_coverage' in data['whole genome'].columns:\n",
    "    parameters['mean_var_depth'] = '{:.2f}'.format(data['whole genome']['well_mapped_coverage'].mean())\n",
    "    param_names.append('mean_var_depth')\n",
    "\n",
    "try:\n",
    "    args = pd.read_hdf(data_loader.sources['Trained wo gt'][0], 'input_args', mode='r')\n",
    "    parameters['truth_sample_name'] = args['truth_sample_name'][0]\n",
    "except:\n",
    "    pass\n",
    "\n",
    "parameters_df = pd.DataFrame.from_dict(parameters, orient='index', columns=['value']).reindex(param_names)\n",
    "parameters_df.to_hdf(h5outfile, key=\"parameters\")\n",
    "display(parameters_df)"
   ]
  },
  {
   "cell_type": "markdown",
   "metadata": {},
   "source": [
    "## 2. Performance over all Data\n",
    "The concordance between the variant calling results and the ground truth sample is presented below.\n",
    "* Red line - precision and recall over different tree-scores.\n",
    "* Red dot - precision and recall values for the chosen threshold.\n",
    "* Black dot -precision and recall after filtering systematic errors (SEC)"
   ]
  },
  {
   "cell_type": "code",
   "execution_count": null,
   "metadata": {},
   "outputs": [],
   "source": [
    "pd.options.display.float_format = '{:,.2%}'.format\n",
    "if verbosity > 1:\n",
    "    categories = ['SNP', 'Indel', 'non-hmer Indel', 'non-hmer Indel w/o LCR', 'hmer Indel <=4', 'hmer Indel >4,<=8',\n",
    "              'hmer Indel 4', 'hmer Indel 5', 'hmer Indel 6', 'hmer Indel 7', 'hmer Indel 8',\n",
    "              'hmer Indel >8,<=10', 'hmer Indel >10,<=14', 'hmer Indel >15,<=19', 'hmer Indel >=20']\n",
    "else:\n",
    "    categories = ['SNP', 'Indel']\n",
    "\n",
    "df = report_utils.basic_analysis(data, categories, sources, 'all_data', 'sec_data')\n",
    "display(df)"
   ]
  },
  {
   "cell_type": "code",
   "execution_count": null,
   "metadata": {
    "pycharm": {
     "name": "#%%\n"
    }
   },
   "outputs": [],
   "source": [
    "if verbosity > 1:\n",
    "    display(Markdown(f\"## 2.1 Stratified by base\"))\n",
    "    display(Markdown(f\"#### (A,T)\"))\n",
    "    categories = ['SNP', 'Indel', 'hmer Indel <=4', 'hmer Indel >4,<=8', 'hmer Indel >8,<=10',\n",
    "                  'hmer Indel >10,<=14', 'hmer Indel >15,<=19', 'hmer Indel >=20']\n",
    "    opt_tab_a_t = report_utils.base_stratification_analysis(data, categories, sources, ('A', 'T'))"
   ]
  },
  {
   "cell_type": "code",
   "execution_count": null,
   "metadata": {},
   "outputs": [],
   "source": [
    "if verbosity > 1:\n",
    "    display(Markdown(f\"#### (G,C)\"))\n",
    "    categories = ['SNP', 'Indel', 'hmer Indel <=4', 'hmer Indel >4,<=8', 'hmer Indel >8,<=10']\n",
    "    opt_tab_g_c = report_utils.base_stratification_analysis(data, categories, sources,('G', 'C'))    "
   ]
  },
  {
   "cell_type": "code",
   "execution_count": null,
   "metadata": {},
   "outputs": [],
   "source": [
    "if verbosity > 1:\n",
    "    df = report_utils.merge_table_dictionaries_into_df(opt_tab_a_t, opt_tab_g_c, sources)\n",
    "    df[['whole genome']].to_hdf(h5outfile, key=\"all_data_per_base\")\n",
    "    display(df[['whole genome']])"
   ]
  },
  {
   "cell_type": "markdown",
   "metadata": {},
   "source": [
    "## 3. Performance over UG high confidence regions\n",
    "\n",
    "Variant calling peformance exclusing genomic areas where UG performance is poor, i.e:\n",
    "- Homopolymers - runs of length 11 bp and above, padded with four bases around the genomic coordinates,\n",
    "- AT-rich regions - bases where the GC content of the surrounding 40 bases is lower than 5%,\n",
    "- Tandem repeats,\n",
    "- Low mapping quality - regions that are covered by at least 20 reads, but less than 10% of these reads are aligned with mapping quality > 20,\n",
    "- High coverage variability - regions with coverage that is highly variable between samples (std/mean > 0.5)"
   ]
  },
  {
   "cell_type": "code",
   "execution_count": null,
   "metadata": {
    "pycharm": {
     "name": "#%%\n"
    }
   },
   "outputs": [],
   "source": [
    "pd.options.display.float_format = '{:,.2%}'.format\n",
    "filtData = {}\n",
    "for s in sources:\n",
    "    d = data[s]\n",
    "    if s == 'whole genome':\n",
    "        filtData[s] = d.query(\"ug_hcr==True\").copy()\n",
    "    else:\n",
    "        filtData[s] = d.copy()\n",
    "\n",
    "if verbosity > 1:\n",
    "    categories = ['SNP', 'Indel', 'non-hmer Indel', 'non-hmer Indel w/o LCR', 'hmer Indel <=4', 'hmer Indel >4,<=8',\n",
    "              'hmer Indel 4', 'hmer Indel 5', 'hmer Indel 6', 'hmer Indel 7', 'hmer Indel 8', 'hmer Indel >8,<=10']\n",
    "else:\n",
    "    categories = ['SNP', 'Indel']\n",
    "    \n",
    "df = report_utils.basic_analysis(filtData, categories, sources, 'ug_hcr', 'ug_hcr_sec_data')\n",
    "display(df)"
   ]
  },
  {
   "cell_type": "markdown",
   "metadata": {
    "pycharm": {
     "name": "#%% md\n"
    }
   },
   "source": []
  },
  {
   "cell_type": "code",
   "execution_count": null,
   "metadata": {
    "pycharm": {
     "name": "#%%\n"
    }
   },
   "outputs": [],
   "source": [
    "if verbosity > 1:\n",
    "    display(Markdown(f\"### 3.1 Homozygous genotyping accuracy\"))\n",
    "    display(Markdown(f\"The precision and recall of called homozygous variants (where the variant was not classified as False Negative)\"))\n",
    "    categories = ['SNP', 'Indel', 'non-hmer Indel', 'hmer Indel <=4', 'hmer Indel >4,<=8', 'hmer Indel >8,<=10']\n",
    "    df = report_utils.homozygous_genotyping_analysis(filtData, categories, sources)\n",
    "    df[['whole genome']].to_hdf(h5outfile, key=\"ug_hcr_homozygous\")\n",
    "    display(df[['whole genome']])"
   ]
  },
  {
   "cell_type": "code",
   "execution_count": null,
   "metadata": {
    "pycharm": {
     "name": "#%%\n"
    }
   },
   "outputs": [],
   "source": [
    "if verbosity > 1:\n",
    "    display(Markdown(f\"## 4. Performance over regions with coverage>=20 and excluding areas with mappability\"))\n",
    "    if 'well_mapped_coverage' in data['whole genome'].columns:\n",
    "        filtData = {}\n",
    "        for s in sources:\n",
    "            d = data[s]\n",
    "            filtData[s] = d[(d['well_mapped_coverage'] >= 20) & (d['mappability.0'])]\n",
    "\n",
    "        categories = ['SNP', 'Indel', 'non-hmer Indel', 'non-hmer Indel w/o LCR', 'hmer Indel <=4', 'hmer Indel >4,<=8',\n",
    "                      'hmer Indel 4', 'hmer Indel 5', 'hmer Indel 6', 'hmer Indel 7', 'hmer Indel 8', 'hmer Indel >8,<=10']\n",
    "        df = report_utils.basic_analysis(filtData, categories, sources, 'good_cvg_data')\n",
    "        display(df)\n",
    "    else:\n",
    "        print(\"No coverage data available\")"
   ]
  },
  {
   "cell_type": "code",
   "execution_count": null,
   "metadata": {},
   "outputs": [],
   "source": [
    "if verbosity > 1:\n",
    "    display(Markdown(f\"### 4.1 Homozygous genotyping accuracy\"))\n",
    "    display(Markdown(f\"The precision and recall of called homozygous variants (where the variant was not classfied as False Negative)\"))\n",
    "    categories = ['SNP', 'Indel', 'non-hmer Indel', 'non-hmer Indel w/o LCR', 'hmer Indel <=4', 'hmer Indel >4,<=8']\n",
    "    df = report_utils.homozygous_genotyping_analysis(filtData, categories, sources)\n",
    "    df[['whole genome']].to_hdf(h5outfile, key=\"good_cvg_data_homozygous\")\n",
    "    display(df[['whole genome']])"
   ]
  },
  {
   "cell_type": "code",
   "execution_count": null,
   "metadata": {},
   "outputs": [],
   "source": [
    "# A block comparing model with and without ground truth . Only shown if h5_model_file is provided in the config file\n",
    "if trained_w_gt is not None and verbosity > 1:\n",
    "    display(Markdown(\"\"\"\n",
    "##  5. Trained with and without Ground Truth\n",
    "<ul>\n",
    "<li><b>Trained wo gt - Trained without ground truth </b></li>\n",
    "Random forest model trained on chromosome 9 using known variants in dbSNP and on common fp variants\n",
    "<li><b>Trained with gt - Trained with ground truth</b></li>\n",
    "Simple threshold model trained on chromosome 9 using its own ground truth\n",
    "</ul>\n",
    "\"\"\"))\n",
    "    data['Trained with gt'] = data_loader.load_trained_without_gt_concordance_df(trained_w_gt)\n",
    "    sources = data_loader.sources\n",
    "    categories = ['SNP', 'Indel', 'non-hmer Indel', 'non-hmer Indel w/o LCR', 'hmer Indel <=4', 'hmer Indel >4,<=8',\n",
    "                  'hmer Indel 4', 'hmer Indel 5', 'hmer Indel 6', 'hmer Indel 7', 'hmer Indel 8', 'hmer Indel >8,<=10']\n",
    "    opt_tab, opt_res, perf_curve = report_utils.get_performance(data, categories, sources)\n",
    "    report_utils.plot_performance(perf_curve, opt_res, categories, img='all.primary',\n",
    "                                  sources={'Trained wo gt': sources['Trained wo gt'],\n",
    "                                           'Trained with gt': sources['Trained with gt']},\n",
    "                                  legend=True)\n",
    "\n",
    "    pd.options.display.float_format = '{:,.2%}'.format\n",
    "    sources = {'Trained wo gt': sources['Trained wo gt'], 'Trained with gt': sources['Trained with gt']}\n",
    "    df = pd.concat([opt_tab[s] for s in sources], axis=1, keys=[s for s in sources])\n",
    "    df.to_hdf(h5outfile, key=\"trained_w_wo_gt\")\n",
    "    display(df)"
   ]
  },
  {
   "cell_type": "code",
   "execution_count": null,
   "metadata": {},
   "outputs": [],
   "source": [
    "if trained_w_gt is not None and verbosity > 1:\n",
    "    display(Markdown(\"\"\"\n",
    "##  5. Trained with and without Ground Truth\n",
    "<ul>\n",
    "<li><b>Trained wo gt - Trained without ground truth </b></li>\n",
    "Random forest model trained on chromosome 9 using known variants in dbSNP and on common fp variants\n",
    "<li><b>Trained with gt - Trained with ground truth</b></li>\n",
    "Simple threshold model trained on chromosome 9 using its own ground truth\n",
    "</ul>\n",
    "\"\"\"))\n",
    "    data_loader.load_trained_without_gt_concordance_df(trained_w_gt)\n",
    "    categories = ['SNP', 'Indel', 'non-hmer Indel', 'non-hmer Indel w/o LCR', 'hmer Indel <=4', 'hmer Indel >4,<=8']\n",
    "    opt_tab, opt_res, perf_curve = report_utils.get_performance(data, categories, sources)\n",
    "    report_utils.plot_performance(perf_curve, opt_res, categories, img='all.primary',\n",
    "                                  sources={'Trained wo gt': sources['Trained wo gt'],\n",
    "                                           'Trained with gt': sources['Trained with gt']},\n",
    "                                  legend=True)\n",
    "\n",
    "    pd.options.display.float_format = '{:,.2%}'.format\n",
    "    sources = {'Trained wo gt': sources['Trained wo gt'], 'Trained with gt': sources['Trained with gt']}\n",
    "    df = pd.concat([opt_tab[s] for s in sources], axis=1, keys=[s for s in sources])\n",
    "    df.to_hdf(h5outfile, key=\"trained_w_wo_gt\")\n",
    "    display(df)"
   ]
  },
  {
   "cell_type": "code",
   "execution_count": null,
   "metadata": {
    "pycharm": {
     "name": "#%%\n"
    }
   },
   "outputs": [],
   "source": [
    "if ('well_mapped_coverage' in data['whole genome'].columns) and (trained_w_gt is not None) and verbosity > 1:\n",
    "    filtData = {}\n",
    "    d = data['Trained with gt']\n",
    "    filtData['Trained with gt'] = d[(d['well_mapped_coverage'] >= 20) &\n",
    "                                    (d['mappability.0'])]\n",
    "\n",
    "    categories = ['SNP', 'Indel', 'non-hmer Indel', 'non-hmer Indel w/o LCR', 'hmer Indel <=4', 'hmer Indel >4,<=8',\n",
    "                  'hmer Indel 4', 'hmer Indel 5', 'hmer Indel 6', 'hmer Indel 7', 'hmer Indel 8', 'hmer Indel >8,<=10']\n",
    "    optTab, opt_res, perf_curve = report_utils.get_performance(filtData, categories,\n",
    "                                                               {'Trained with gt': sources['Trained with gt']})\n",
    "\n",
    "    %matplotlib agg\n",
    "    d = optTab['Trained with gt'][['max recall', 'recall', 'precision']]\n",
    "    labels = ['SNP', 'Indel', 'nhmer', 'nhmer w/o LCR', 'hmer 2-4', 'hmer 5-8', 'hmer 4', 'hmer 5', 'hmer 6', 'hmer 7',\n",
    "              'hmer 8', 'hmer 9-10']\n",
    "    fig = plt.figure()\n",
    "    ax = d.plot()\n",
    "    plt.xticks(np.arange(len(d.index)), rotation=30, ha='right')\n",
    "    ax.set_xticklabels(labels)\n",
    "    plt.ylim([0.4, 1.05])\n",
    "    plt.grid()\n",
    "    plt.title('Cvg>20X, Trained variant calls')\n",
    "    plt.tight_layout()\n",
    "    nxp.save(fig, image_prefix + 'summary', 'png', outdir=image_dir)\n",
    "    plt.close(fig)"
   ]
  }
 ],
 "metadata": {
  "kernelspec": {
   "display_name": "Python 3 (ipykernel)",
   "language": "python",
   "name": "python3"
  },
  "language_info": {
   "codemirror_mode": {
    "name": "ipython",
    "version": 3
   },
   "file_extension": ".py",
   "mimetype": "text/x-python",
   "name": "python",
   "nbconvert_exporter": "python",
   "pygments_lexer": "ipython3",
   "version": "3.7.8"
  },
  "toc": {
   "base_numbering": 1,
   "nav_menu": {},
   "number_sections": true,
   "sideBar": true,
   "skip_h1_title": false,
   "title_cell": "Table of Contents",
   "title_sidebar": "Contents",
   "toc_cell": false,
   "toc_position": {},
   "toc_section_display": true,
   "toc_window_display": false
  },
  "vscode": {
   "interpreter": {
    "hash": "bc36206dbe58b785ad40f638920d85ef700f7c1350ad4e63cc5ca6f235c38c67"
   }
  }
 },
 "nbformat": 4,
 "nbformat_minor": 4
}
