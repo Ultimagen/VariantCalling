{
 "cells": [
  {
   "cell_type": "markdown",
   "metadata": {},
   "source": [
    "## Variant Calling Report v1.2.6\n",
    "## 1. Input Parameters"
   ]
  },
  {
   "cell_type": "code",
   "execution_count": 1,
   "metadata": {
    "ExecuteTime": {
     "end_time": "2022-07-25T13:41:08.009132Z",
     "start_time": "2022-07-25T13:41:06.919618Z"
    }
   },
   "outputs": [
    {
     "name": "stdout",
     "output_type": "stream",
     "text": [
      "WARNING: mpld3 not available\n"
     ]
    }
   ],
   "source": [
    "import pandas as pd\n",
    "import matplotlib.pyplot as plt\n",
    "import numpy as np\n",
    "import nexusplt as nxp\n",
    "from ugvc.reports.report_utils import ShortReportUtils, parse_config\n",
    "from IPython.display import display, Markdown\n",
    "\n",
    "pd.options.display.float_format = '{:,.2%}'.format\n",
    "pd.set_option('display.max_colwidth', None)"
   ]
  },
  {
   "cell_type": "code",
   "execution_count": 2,
   "metadata": {
    "ExecuteTime": {
     "end_time": "2022-07-25T13:41:08.938665Z",
     "start_time": "2022-07-25T13:41:08.864530Z"
    },
    "jupyter": {
     "outputs_hidden": false
    },
    "pycharm": {
     "name": "#%%\n"
    }
   },
   "outputs": [],
   "source": [
    "parameters, param_names = parse_config('var_report.config')\n",
    "image_dir = 'plots'\n",
    "image_prefix = parameters['image_prefix']\n",
    "reference_version = parameters['reference_version']\n",
    "sources = parameters['sources']\n",
    "h5outfile = parameters['h5outfile']\n",
    "trained_w_gt = parameters['trained_w_gt']\n",
    "data = {'Trained wo gt': pd.read_hdf(parameters['h5_concordance_file'], key=\"concordance\", mode='r')}\n",
    "report_utils = ShortReportUtils(image_dir, image_prefix)"
   ]
  },
  {
   "cell_type": "code",
   "execution_count": 3,
   "metadata": {
    "ExecuteTime": {
     "end_time": "2022-07-25T13:41:11.945866Z",
     "start_time": "2022-07-25T13:41:11.910842Z"
    }
   },
   "outputs": [],
   "source": [
    "columns_to_select = None\n",
    "rename_dict = None\n",
    "if reference_version == \"hg38\":\n",
    "    columns_to_select = ['indel', 'hmer_indel_length', 'tree_score',\n",
    "                         'filter', 'blacklst', 'classify', 'classify_gt',\n",
    "                         'indel_length', 'hmer_indel_nuc', 'ref',\n",
    "                         'gt_ground_truth', 'well_mapped_coverage', 'mappability.0', 'ug_hcr', 'LCR-hs38']\n",
    "    rename_dict = {'LCR-hs38': 'LCR'}\n",
    "elif reference_version == \"hg19\":\n",
    "    columns_to_select = ['indel', 'hmer_indel_length', 'tree_score',\n",
    "                         'filter', 'blacklst', 'classify', 'classify_gt',\n",
    "                         'indel_length', 'hmer_indel_nuc', 'ref',\n",
    "                         'gt_ground_truth', 'well_mapped_coverage', 'LCR-hg19_tab_no_chr',\n",
    "                         'mappability.hg19.0_tab_no_chr', 'ug_hcr_hg19_no_chr']\n",
    "    rename_dict = {'LCR-hg19_tab_no_chr': 'LCR',\n",
    "                   'mappability.hg19.0_tab_no_chr': 'mappability.0',\n",
    "                   'ug_hcr_hg19_no_chr': 'ug_hcr'}\n",
    "\n",
    "\n",
    "# Load the concordance data for the entire genome\n",
    "with pd.HDFStore(parameters['h5_concordance_file']) as hdf:\n",
    "    keys = hdf.keys()\n",
    "    wg_dfs = []\n",
    "    for k in keys:\n",
    "        if k in ['/concordance', '/input_args']:\n",
    "            continue\n",
    "        else:\n",
    "            tmp = pd.read_hdf(hdf, k)\n",
    "            tmp = tmp[[x for x in columns_to_select if x in tmp.columns]]\n",
    "            wg_dfs.append(tmp)\n",
    "    wg_df = pd.concat(wg_dfs)\n",
    "    wg_df.rename(columns=rename_dict, inplace=True)\n",
    "\n",
    "for s in sources:\n",
    "    data[s] = data[s].rename(columns=rename_dict)\n",
    "data['whole genome'] = wg_df\n",
    "\n",
    "sources['whole genome'] = (parameters['h5_concordance_file'], \"all\")"
   ]
  },
  {
   "cell_type": "code",
   "execution_count": null,
   "metadata": {},
   "outputs": [],
   "source": [
    "if 'well_mapped_coverage' in data['whole genome'].columns:\n",
    "    parameters['mean_var_depth'] = '{:.2f}'.format(data['whole genome']['well_mapped_coverage'].mean())\n",
    "    param_names.append('mean_var_depth')\n",
    "\n",
    "try:\n",
    "    args = pd.read_hdf(sources['Trained wo gt'][0], 'input_args', mode='r')\n",
    "    parameters['truth_sample_name'] = args['truth_sample_name'][0]\n",
    "except:\n",
    "    parameters['truth_sample_name'] = parameters['truth_sample_name']\n",
    "\n",
    "param_names.append('truth_sample_name')\n",
    "\n",
    "prmdf = pd.DataFrame.from_dict(parameters, orient='index', columns=['value']).reindex(param_names)\n",
    "prmdf.to_hdf(h5outfile, key=\"parameters\")\n",
    "\n",
    "prmdf"
   ]
  },
  {
   "cell_type": "markdown",
   "metadata": {
    "pycharm": {
     "name": "#%% md\n"
    }
   },
   "source": [
    "## 2. Performance over all Data\n",
    "The concordance between the variant calling results and the ground truth sample is presented below.\n",
    "* Red line - precision and recall over different tree-scores.\n",
    "* Red dot - precision and recall values for the chosen threshold.\n",
    "* Black dot -precision and recall after filtering systematic errors (SEC)"
   ]
  },
  {
   "cell_type": "code",
   "execution_count": null,
   "metadata": {},
   "outputs": [],
   "source": [
    "sec_df = data['whole genome'].copy()\n",
    "data_SEC = {}\n",
    "if 'blacklst' in sec_df.columns:\n",
    "    is_sec = sec_df['blacklst'].apply(report_utils.has_sec)\n",
    "    sec_df.loc[is_sec, 'filter'] = \"SEC\"\n",
    "    sec_df.loc[is_sec & (sec_df['classify_gt'] == 'tp'), 'classify_gt'] = \"fn\"\n",
    "    sec_df_new = sec_df[~(is_sec & (sec_df['classify_gt'] == 'fp'))]\n",
    "    data_SEC = {'whole genome': sec_df_new, 'Trained wo gt': data['Trained wo gt'].copy()}"
   ]
  },
  {
   "cell_type": "code",
   "execution_count": null,
   "metadata": {},
   "outputs": [],
   "source": [
    "\n",
    "categories = ['SNP', 'Indel', 'non-hmer Indel', 'non-hmer Indel w/o LCR', 'hmer Indel <=4', 'hmer Indel >4,<=8']\n",
    "optTab1, opt_res, perf_curve = report_utils.get_performance(data, categories, sources)\n",
    "SEC_opt_tab1 = None\n",
    "SEC_opt_tab2 = None\n",
    "if data_SEC:\n",
    "    SEC_opt_tab1, SEC_opt_res, SEC_perf_curve = report_utils.get_performance(data_SEC, categories, sources)\n",
    "    report_utils.plot_performance(perf_curve,\n",
    "                                  opt_res,\n",
    "                                  categories,\n",
    "                                  img='all.primary',\n",
    "                                  sources={'whole genome': sources['whole genome']},\n",
    "                                  opt_res_sec=SEC_opt_res)\n",
    "else:\n",
    "    report_utils.plot_performance(perf_curve,\n",
    "                                  opt_res,\n",
    "                                  categories,\n",
    "                                  img='all.primary',\n",
    "                                  sources={'whole genome': sources['whole genome']})"
   ]
  },
  {
   "cell_type": "code",
   "execution_count": null,
   "metadata": {},
   "outputs": [],
   "source": [
    "categories = ['hmer Indel 4', 'hmer Indel 5', 'hmer Indel 6', 'hmer Indel 7', 'hmer Indel 8', 'hmer Indel >8,<=10']\n",
    "optTab2, opt_res, perf_curve = report_utils.get_performance(data, categories, sources)\n",
    "if data_SEC:\n",
    "    SEC_opt_tab2, SEC_opt_res, SEC_perf_curve = report_utils.get_performance(data_SEC, categories, sources)\n",
    "    report_utils.plot_performance(perf_curve,\n",
    "                                  opt_res,\n",
    "                                  categories,\n",
    "                                  img='all.primary',\n",
    "                                  sources={'whole genome': sources['whole genome']},\n",
    "                                  opt_res_sec=SEC_opt_res)\n",
    "else:\n",
    "    report_utils.plot_performance(perf_curve, opt_res, categories,\n",
    "                                  img='all.primary',\n",
    "                                  sources={'whole genome': sources['whole genome']})"
   ]
  },
  {
   "cell_type": "code",
   "execution_count": null,
   "metadata": {},
   "outputs": [],
   "source": [
    "pd.options.display.float_format = '{:,.2%}'.format\n",
    "\n",
    "optTab = {}\n",
    "for s in sources:\n",
    "    optTab[s] = pd.concat([optTab1[s], optTab2[s]])\n",
    "\n",
    "df = pd.concat([optTab[s] for s in sources], axis=1, keys=[s for s in sources])\n",
    "df[['whole genome']].to_hdf(h5outfile, key=\"all_data\")\n",
    "\n",
    "if data_SEC:\n",
    "    df_SEC = pd.concat([SEC_opt_tab1['whole genome'], SEC_opt_tab2['whole genome']])\n",
    "    df_SEC.to_hdf(h5outfile, key=\"sec_data\")\n",
    "    display(pd.concat([df['whole genome'], df_SEC], keys=['Whole genome', 'After filtering systematic errors'], axis=1))\n",
    "else:\n",
    "    display(df[['whole genome']])"
   ]
  },
  {
   "cell_type": "markdown",
   "metadata": {
    "pycharm": {
     "name": "#%% md\n"
    }
   },
   "source": [
    "### 2.1 Homozygous genotyping accuracy"
   ]
  },
  {
   "cell_type": "markdown",
   "metadata": {},
   "source": [
    "The precision and recall of called homozygous variants (where the variant was not classfied as False Negative)"
   ]
  },
  {
   "cell_type": "code",
   "execution_count": null,
   "metadata": {
    "pycharm": {
     "name": "#%%\n"
    }
   },
   "outputs": [],
   "source": [
    "categories = ['SNP', 'Indel', 'non-hmer Indel', 'non-hmer Indel w/o LCR', 'hmer Indel <=4', 'hmer Indel >4,<=8']\n",
    "\n",
    "hmzData = {}\n",
    "for s in sources:\n",
    "    d = data[s]\n",
    "    hmzData[s] = d[(d['gt_ground_truth'] == (1, 1)) & (d['classify'] != 'fn')]\n",
    "optTab, opt_res, perf_curve = report_utils.get_performance(hmzData, categories, sources)\n",
    "df = pd.concat([optTab[s] for s in sources], axis=1, keys=[s for s in sources])\n",
    "df[['whole genome']].to_hdf(h5outfile, key=\"all_data_homozygous\")\n",
    "\n",
    "display(df[['whole genome']])"
   ]
  },
  {
   "cell_type": "markdown",
   "metadata": {
    "pycharm": {
     "name": "#%% md\n"
    }
   },
   "source": [
    "### 2.2 Stratified by base"
   ]
  },
  {
   "cell_type": "markdown",
   "metadata": {},
   "source": [
    "#### (A,T)"
   ]
  },
  {
   "cell_type": "code",
   "execution_count": null,
   "metadata": {
    "pycharm": {
     "name": "#%%\n"
    }
   },
   "outputs": [],
   "source": [
    "categories = ['SNP', 'Indel', 'hmer Indel <=4', 'hmer Indel >4,<=8', 'hmer Indel >8,<=10', 'hmer Indel 8']\n",
    "\n",
    "baseData = {}\n",
    "b = ('A', 'T')\n",
    "for s in sources:\n",
    "    d = data[s]\n",
    "    baseData[s] = d[((d['indel'] == False) & ((d['ref'] == b[0]) | (d['ref'] == b[1]))) |\n",
    "                    ((d['hmer_indel_length'] > 0) & ((d['hmer_indel_nuc'] == b[0]) | (d['hmer_indel_nuc'] == b[1])))\n",
    "                    ]\n",
    "optTab1, opt_res, perf_curve = report_utils.get_performance(baseData, categories, sources)\n",
    "for s in sources:\n",
    "    optTab1[s].rename(index={a: '{0} ({1}/{2})'.format(a, b[0], b[1]) for a in optTab1[s].index}, inplace=True)\n",
    "report_utils.plot_performance(perf_curve, opt_res, categories, sources={'whole genome': sources['whole genome']})"
   ]
  },
  {
   "cell_type": "markdown",
   "metadata": {
    "pycharm": {
     "name": "#%% md\n"
    }
   },
   "source": [
    "#### (G,C)"
   ]
  },
  {
   "cell_type": "code",
   "execution_count": null,
   "metadata": {
    "pycharm": {
     "name": "#%%\n"
    }
   },
   "outputs": [],
   "source": [
    "categories = ['SNP', 'Indel', 'hmer Indel <=4', 'hmer Indel >4,<=8', 'hmer Indel >8,<=10', 'hmer Indel 6']\n",
    "baseData = {}\n",
    "b = ('C', 'G')\n",
    "for s in sources:\n",
    "    d = data[s]\n",
    "    baseData[s] = d[((d['indel'] == False) & ((d['ref'] == b[0]) | (d['ref'] == b[1]))) |\n",
    "                    ((d['hmer_indel_length'] > 0) & ((d['hmer_indel_nuc'] == b[0]) | (d['hmer_indel_nuc'] == b[1])))\n",
    "                    ]\n",
    "optTab2, opt_res, perf_curve = report_utils.get_performance(baseData, categories, sources)\n",
    "for s in sources:\n",
    "    optTab2[s].rename(index={a: '{0} ({1}/{2})'.format(a, b[0], b[1]) for a in optTab2[s].index}, inplace=True)\n",
    "report_utils.plot_performance(perf_curve, opt_res, categories, sources={'whole genome': sources['whole genome']})"
   ]
  },
  {
   "cell_type": "code",
   "execution_count": null,
   "metadata": {
    "pycharm": {
     "name": "#%%\n"
    }
   },
   "outputs": [],
   "source": [
    "optTab = {}\n",
    "for s in sources:\n",
    "    optTab[s] = pd.concat([optTab1[s], optTab2[s]])\n",
    "df = pd.concat([optTab[s] for s in sources], axis=1, keys=[s for s in sources])\n",
    "df[['whole genome']].to_hdf(h5outfile, key=\"all_data_per_base\")\n",
    "display(df[['whole genome']])"
   ]
  },
  {
   "cell_type": "markdown",
   "metadata": {
    "pycharm": {
     "name": "#%% md\n"
    }
   },
   "source": [
    "## 3. Performance over UG high confidence regions\n",
    "\n",
    "Variant calling peformance exclusing genomic areas where UG performance is poor, i.e:\n",
    "- Homopolymers - runs of length 11 bp and above, padded with four bases around the genomic coordinates,\n",
    "- AT-rich regions - bases where the GC content of the surrounding 40 bases is lower than 5%,\n",
    "- Tandem repeats,\n",
    "- Low mapping quality - regions that are covered by at least 20 reads, but less than 10% of these reads are aligned with mapping quality > 20,\n",
    "- High coverage variability - regions with coverage that is highly variable between samples (std/mean > 0.5)"
   ]
  },
  {
   "cell_type": "code",
   "execution_count": null,
   "metadata": {
    "pycharm": {
     "name": "#%%\n"
    }
   },
   "outputs": [],
   "source": [
    "filtData = {}\n",
    "for s in sources:\n",
    "    d = data[s]\n",
    "    if s == 'whole genome':\n",
    "        filtData[s] = d.query(\"ug_hcr==True\").copy()\n",
    "    else:\n",
    "        filtData[s] = d.copy()\n"
   ]
  },
  {
   "cell_type": "code",
   "execution_count": null,
   "outputs": [],
   "source": [
    "sec_df = filtData['whole genome'].copy()\n",
    "data_SEC = None\n",
    "if 'blacklst' in sec_df.columns:\n",
    "    is_sec = sec_df['blacklst'].apply(report_utils.has_sec)\n",
    "    sec_df.loc[is_sec, 'filter'] = \"SEC\"\n",
    "    sec_df.loc[is_sec & (sec_df['classify_gt'] == 'tp'), 'classify_gt'] = \"fn\"\n",
    "    sec_df_new = sec_df[~(is_sec & (sec_df['classify_gt'] == 'fp'))]\n",
    "    data_SEC = {'whole genome': sec_df_new, 'Trained wo gt': filtData['Trained wo gt'].copy()}"
   ],
   "metadata": {
    "collapsed": false,
    "pycharm": {
     "name": "#%%\n"
    }
   }
  },
  {
   "cell_type": "code",
   "execution_count": null,
   "metadata": {
    "pycharm": {
     "name": "#%%\n"
    }
   },
   "outputs": [],
   "source": [
    "categories = ['SNP', 'Indel', 'non-hmer Indel', 'non-hmer Indel w/o LCR', 'hmer Indel <=4', 'hmer Indel >4,<=8']\n",
    "optTab1, opt_res, perf_curve = report_utils.get_performance(filtData, categories, sources)\n",
    "if data_SEC:\n",
    "    SEC_opt_tab1, SEC_opt_res, SEC_perf_curve = report_utils.get_performance(data_SEC, categories, sources)\n",
    "    report_utils.plot_performance(perf_curve, opt_res, categories, img='all.primary', sources={'whole genome': sources['whole genome']},\n",
    "                                  opt_res_sec=SEC_opt_res)\n",
    "else:\n",
    "    report_utils.plot_performance(perf_curve, opt_res, categories, img='all.primary', sources={'whole genome': sources['whole genome']})"
   ]
  },
  {
   "cell_type": "code",
   "execution_count": null,
   "metadata": {
    "pycharm": {
     "name": "#%%\n"
    }
   },
   "outputs": [],
   "source": [
    "categories = ['hmer Indel 4', 'hmer Indel 5', 'hmer Indel 6', 'hmer Indel 7', 'hmer Indel 8', 'hmer Indel >8,<=10']\n",
    "optTab2, opt_res, perf_curve = report_utils.get_performance(filtData, categories, sources)\n",
    "if data_SEC:\n",
    "    SEC_opt_tab2, SEC_opt_res, SEC_perf_curve = report_utils.get_performance(data_SEC, categories, sources)\n",
    "    report_utils.plot_performance(perf_curve, opt_res, categories, img='all.primary', sources={'whole genome': sources['whole genome']},\n",
    "                                  opt_res_sec=SEC_opt_res)\n",
    "else:\n",
    "    report_utils.plot_performance(perf_curve, opt_res, categories, img='all.primary', sources={'whole genome': sources['whole genome']})"
   ]
  },
  {
   "cell_type": "code",
   "execution_count": null,
   "metadata": {
    "pycharm": {
     "name": "#%%\n"
    }
   },
   "outputs": [],
   "source": [
    "pd.options.display.float_format = '{:,.2%}'.format\n",
    "\n",
    "optTab = {}\n",
    "for s in sources:\n",
    "    optTab[s] = pd.concat([optTab1[s], optTab2[s]])\n",
    "\n",
    "df = pd.concat([optTab[s] for s in sources], axis=1, keys=[s for s in sources])\n",
    "df[['whole genome']].to_hdf(h5outfile, key=\"ug_hcr\")\n",
    "\n",
    "if data_SEC:\n",
    "    df_SEC = pd.concat([SEC_opt_tab1['whole genome'], SEC_opt_tab2['whole genome']])\n",
    "    df_SEC.to_hdf(h5outfile, key=\"ug_hcr_sec_data\")\n",
    "    display(pd.concat([df['whole genome'], df_SEC], keys=['Whole genome', 'After filtering systematic errors'], axis=1))\n",
    "else:\n",
    "    display(df[['whole genome']])"
   ]
  },
  {
   "cell_type": "markdown",
   "metadata": {
    "pycharm": {
     "name": "#%% md\n"
    }
   },
   "source": [
    "### 3.1 Homozygous genotyping accuracy"
   ]
  },
  {
   "cell_type": "code",
   "execution_count": null,
   "metadata": {
    "pycharm": {
     "name": "#%%\n"
    }
   },
   "outputs": [],
   "source": [
    "categories = ['SNP', 'Indel', 'non-hmer Indel', 'hmer Indel <=4', 'hmer Indel >4,<=8', 'hmer Indel >8,<=10']\n",
    "\n",
    "hmzData = {}\n",
    "for s in sources:\n",
    "    d = filtData[s]\n",
    "    hmzData[s] = d[(d['gt_ground_truth'] == (1, 1)) & (d['classify'] != 'fn')]\n",
    "optTab, opt_res, perf_curve = report_utils.get_performance(hmzData, categories, sources)\n",
    "df = pd.concat([optTab[s] for s in sources], axis=1, keys=[s for s in sources])\n",
    "df[['whole genome']].to_hdf(h5outfile, key=\"ug_hcr_homozygous\")\n",
    "display(df[['whole genome']])"
   ]
  },
  {
   "cell_type": "markdown",
   "metadata": {},
   "source": [
    "## 4. Performance over regions with coverage>=20 and excluding areas with mappability"
   ]
  },
  {
   "cell_type": "code",
   "execution_count": null,
   "metadata": {
    "pycharm": {
     "name": "#%%\n"
    }
   },
   "outputs": [],
   "source": [
    "if 'well_mapped_coverage' in data['whole genome'].columns:\n",
    "    filtData = {}\n",
    "    for s in sources:\n",
    "        d = data[s]\n",
    "        filtData[s] = d[(d['well_mapped_coverage'] >= 20) &\n",
    "                        (d['mappability.0'])\n",
    "                        ]\n",
    "\n",
    "    categories = ['SNP', 'Indel', 'non-hmer Indel', 'non-hmer Indel w/o LCR', 'hmer Indel <=4', 'hmer Indel >4,<=8']\n",
    "    optTab1, opt_res, perf_curve = report_utils.get_performance(filtData, categories, sources)\n",
    "    report_utils.plot_performance(perf_curve,\n",
    "                                  opt_res,\n",
    "                                  categories,\n",
    "                                  img='hicvg.primary',\n",
    "                                  sources={'whole genome': sources['whole genome']})\n",
    "\n",
    "    categories = ['hmer Indel 4', 'hmer Indel 5', 'hmer Indel 6', 'hmer Indel 7', 'hmer Indel 8', 'hmer Indel >8,<=10']\n",
    "    optTab2, opt_res, perf_curve = report_utils.get_performance(filtData, categories, sources)\n",
    "    report_utils.plot_performance(perf_curve,\n",
    "                                  opt_res,\n",
    "                                  categories,\n",
    "                                  img='hicvg.hmers',\n",
    "                                  sources={'whole genome': sources['whole genome']}\n",
    "                                  )\n",
    "\n",
    "    optTab = {}\n",
    "    for s in sources:\n",
    "        optTab[s] = pd.concat([optTab1[s], optTab2[s]])\n",
    "    df = pd.concat([optTab[s] for s in sources], axis=1, keys=[s for s in sources])\n",
    "    df[['whole genome']].to_hdf(h5outfile, key=\"good_cvg_data\")\n",
    "    # defTable=df.copy()\n",
    "    display(df[['whole genome']])\n",
    "else:\n",
    "    print(\"No coverage data available\")"
   ]
  },
  {
   "cell_type": "markdown",
   "metadata": {},
   "source": [
    "### 4.1 Homozygous genotyping accuracy"
   ]
  },
  {
   "cell_type": "code",
   "execution_count": null,
   "metadata": {
    "pycharm": {
     "name": "#%%\n"
    }
   },
   "outputs": [],
   "source": [
    "categories = ['SNP', 'Indel', 'non-hmer Indel', 'non-hmer Indel w/o LCR', 'hmer Indel <=4', 'hmer Indel >4,<=8']\n",
    "\n",
    "hmzData = {}\n",
    "for s in sources:\n",
    "    d = filtData[s]\n",
    "    hmzData[s] = d[(d['gt_ground_truth'] == (1, 1)) & (d['classify_gt'] != 'fn')]\n",
    "optTab, opt_res, perf_curve = report_utils.get_performance(hmzData, categories, sources)\n",
    "df = pd.concat([optTab[s] for s in sources], axis=1, keys=[s for s in sources])\n",
    "df[['whole genome']].to_hdf(h5outfile, key=\"good_cvg_data_homozygous\")\n",
    "display(df[['whole genome']])"
   ]
  },
  {
   "cell_type": "code",
   "execution_count": null,
   "metadata": {},
   "outputs": [],
   "source": [
    "# A block comparing model with and without ground truth . Only shown if h5_model_file is provided in the config file"
   ]
  },
  {
   "cell_type": "code",
   "execution_count": null,
   "metadata": {},
   "outputs": [],
   "source": [
    "if trained_w_gt is not None:\n",
    "    display(Markdown(\"\"\"\n",
    "##  5. Trained with and without Ground Truth\n",
    "<ul>\n",
    "<li><b>Trained wo gt - Trained without ground truth </b></li>\n",
    "Random forest model trained on chromosome 9 using known variants in dbSNP and on common fp variants\n",
    "<li><b>Trained with gt - Trained with ground truth</b></li>\n",
    "Simple threshold model trained on chromosome 9 using its own ground truth\n",
    "</ul>\n",
    "\"\"\"))\n",
    "    sources['Trained with gt'] = (trained_w_gt, \"scored_concordance\")\n",
    "    data['Trained with gt'] = pd.read_hdf(trained_w_gt, \"scored_concordance\", mode='r')\n",
    "    data['Trained with gt'] = data['Trained with gt'].rename(columns=rename_dict)\n",
    "\n",
    "    categories = ['SNP', 'Indel', 'non-hmer Indel', 'non-hmer Indel w/o LCR', 'hmer Indel <=4', 'hmer Indel >4,<=8']\n",
    "    optTab1, opt_res, perf_curve = report_utils.get_performance(data, categories, sources)\n",
    "    report_utils.plot_performance(perf_curve, opt_res, categories, img='all.primary',\n",
    "                                  sources={'Trained wo gt': sources['Trained wo gt'], 'Trained with gt': sources['Trained with gt']},\n",
    "                                  legend=True)\n",
    "\n",
    "    categories = ['hmer Indel 4', 'hmer Indel 5', 'hmer Indel 6', 'hmer Indel 7', 'hmer Indel 8', 'hmer Indel >8,<=10']\n",
    "    optTab2, opt_res, perf_curve = report_utils.get_performance(data, categories, sources)\n",
    "    report_utils.plot_performance(perf_curve, opt_res, categories, img='all.hmers',\n",
    "                                  sources={'Trained wo gt': sources['Trained wo gt'], 'Trained with gt': sources['Trained with gt']},\n",
    "                                  legend=True)\n",
    "\n",
    "    pd.options.display.float_format = '{:,.2%}'.format\n",
    "    sources = {'Trained wo gt': sources['Trained wo gt'], 'Trained with gt': sources['Trained with gt']}\n",
    "    optTab = {}\n",
    "    for s in ['Trained wo gt', 'Trained with gt']:\n",
    "        optTab[s] = pd.concat([optTab1[s], optTab2[s]])\n",
    "    df = pd.concat([optTab[s] for s in sources], axis=1, keys=[s for s in sources])\n",
    "    df.to_hdf(h5outfile, key=\"trained_w_wo_gt\")\n",
    "    display(df)"
   ]
  },
  {
   "cell_type": "code",
   "execution_count": null,
   "metadata": {},
   "outputs": [],
   "source": [
    "if ('well_mapped_coverage' in data['whole genome'].columns) and (trained_w_gt is not None):\n",
    "    filtData = {}\n",
    "    d = data['Trained with gt']\n",
    "    filtData['Trained with gt'] = d[(d['well_mapped_coverage'] >= 20) &\n",
    "                                    (d['mappability.0'])]\n",
    "\n",
    "    categories = ['SNP', 'Indel', 'non-hmer Indel', 'non-hmer Indel w/o LCR', 'hmer Indel <=4', 'hmer Indel >4,<=8',\n",
    "                  'hmer Indel 4', 'hmer Indel 5', 'hmer Indel 6', 'hmer Indel 7', 'hmer Indel 8', 'hmer Indel >8,<=10']\n",
    "    optTab, opt_res, perf_curve = report_utils.get_performance(filtData, categories, {'Trained with gt': sources['Trained with gt']})\n",
    "\n",
    "    %matplotlib agg\n",
    "    d = optTab['Trained with gt'][['max recall', 'recall', 'precision']]\n",
    "    labels = ['SNP', 'Indel', 'nhmer', 'nhmer w/o LCR', 'hmer 2-4', 'hmer 5-8', 'hmer 4', 'hmer 5', 'hmer 6', 'hmer 7',\n",
    "              'hmer 8', 'hmer 9-10']\n",
    "    fig = plt.figure()\n",
    "    ax = d.plot()\n",
    "    plt.xticks(np.arange(len(d.index)), rotation=30, ha='right')\n",
    "    ax.set_xticklabels(labels)\n",
    "    plt.ylim([0.4, 1.05])\n",
    "    plt.grid()\n",
    "    plt.title('Cvg>20X, Trained variant calls')\n",
    "    plt.tight_layout()\n",
    "    nxp.save(fig, image_prefix + 'summary', 'png', outdir=image_dir)\n",
    "    plt.close(fig)"
   ]
  },
  {
   "cell_type": "markdown",
   "metadata": {
    "pycharm": {
     "name": "#%% md\n"
    },
    "tags": []
   },
   "source": []
  }
 ],
 "metadata": {
  "kernelspec": {
   "display_name": "Python 3",
   "language": "python",
   "name": "python3"
  },
  "language_info": {
   "codemirror_mode": {
    "name": "ipython",
    "version": 3
   },
   "file_extension": ".py",
   "mimetype": "text/x-python",
   "name": "python",
   "nbconvert_exporter": "python",
   "pygments_lexer": "ipython3",
   "version": "3.8.5"
  },
  "toc": {
   "base_numbering": 1,
   "nav_menu": {},
   "number_sections": true,
   "sideBar": true,
   "skip_h1_title": false,
   "title_cell": "Table of Contents",
   "title_sidebar": "Contents",
   "toc_cell": false,
   "toc_position": {},
   "toc_section_display": true,
   "toc_window_display": false
  }
 },
 "nbformat": 4,
 "nbformat_minor": 4
}