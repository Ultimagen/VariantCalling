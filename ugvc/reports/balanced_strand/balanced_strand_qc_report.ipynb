{
 "cells": [
  {
   "cell_type": "markdown",
   "id": "a135f3a8-54b9-4edd-a2ea-b3b1a8987535",
   "metadata": {
    "pycharm": {
     "name": "#%% md\n"
    }
   },
   "source": [
    "# Introduction"
   ]
  },
  {
   "cell_type": "code",
   "execution_count": null,
   "id": "7be18dd9-b5b7-4837-baea-0539db97a24e",
   "metadata": {
    "pycharm": {
     "name": "#%%\n"
    },
    "tags": []
   },
   "outputs": [],
   "source": [
    "from IPython.display import Image, display\n",
    "\n",
    "import matplotlib.pyplot as plt\n",
    "import numpy as np\n",
    "import pandas as pd"
   ]
  },
  {
   "cell_type": "code",
   "execution_count": null,
   "id": "c094d42e-3e04-4dd0-b7c0-de8bf24dcc8d",
   "metadata": {
    "pycharm": {
     "name": "#%%\n"
    },
    "tags": []
   },
   "outputs": [],
   "source": [
    "import os\n",
    "import sys\n",
    "\n",
    "for path in [\n",
    "    os.path.join(os.environ[\"HOME\"], \"proj/VariantCalling\"),\n",
    "    \"/VariantCalling\",\n",
    "]:\n",
    "    if os.path.isdir(path) and path not in sys.path:\n",
    "        sys.path.insert(1, path)\n",
    "from ugvc.mrd.balanced_strand_utils import (\n",
    "    BalancedStrandAdapterVersions,\n",
    "    BalancedCategories,\n",
    "    HistogramColumnNames,\n",
    "    STRAND_RATIO_LOWER_THRESH,\n",
    "    STRAND_RATIO_UPPER_THRESH,\n",
    "    MIN_TOTAL_HMER_LENGTHS_IN_TAGS,\n",
    "    MAX_TOTAL_HMER_LENGTHS_IN_TAGS,\n",
    "    _assert_adapter_version_supported\n",
    ")"
   ]
  },
  {
   "cell_type": "code",
   "execution_count": null,
   "id": "4640f487",
   "metadata": {},
   "outputs": [],
   "source": [
    "IMAGE_WIDTH = 800"
   ]
  },
  {
   "cell_type": "code",
   "execution_count": null,
   "id": "231dac91-4733-408d-8437-fc0c93e5556a",
   "metadata": {
    "pycharm": {
     "name": "#%%\n"
    },
    "tags": [
     "parameters"
    ]
   },
   "outputs": [],
   "source": [
    "# input parameters\n",
    "adapter_version = None\n",
    "statistics_h5 = None\n",
    "trimmer_histogram_png = None\n",
    "strand_ratio_png = None\n",
    "strand_ratio_category_png = None\n",
    "strand_ratio_category_concordance_png = None\n",
    "sr_lower = STRAND_RATIO_LOWER_THRESH\n",
    "sr_upper = STRAND_RATIO_UPPER_THRESH\n",
    "min_total_hmer_lengths_in_tags = MIN_TOTAL_HMER_LENGTHS_IN_TAGS\n",
    "max_total_hmer_lengths_in_tags = MAX_TOTAL_HMER_LENGTHS_IN_TAGS\n",
    "illustration_file = None"
   ]
  },
  {
   "cell_type": "code",
   "execution_count": null,
   "id": "e673e452",
   "metadata": {},
   "outputs": [],
   "source": [
    "if (\n",
    "    statistics_h5 is None\n",
    "    or adapter_version is None\n",
    "    or trimmer_histogram_png is None\n",
    "    or strand_ratio_png is None\n",
    "    or strand_ratio_category_png is None\n",
    "):\n",
    "    raise ValueError(\"Missing required input files\")"
   ]
  },
  {
   "cell_type": "code",
   "execution_count": null,
   "id": "7bd43d93",
   "metadata": {},
   "outputs": [],
   "source": [
    "_assert_adapter_version_supported(adapter_version)"
   ]
  },
  {
   "cell_type": "markdown",
   "id": "84cd00f2-1267-4f63-ad46-d2460addf303",
   "metadata": {
    "pycharm": {
     "name": "#%% md\n"
    }
   },
   "source": [
    "Balanced strand sequencing yields a measurement of the ratio between amplicons originating from one strand of the original dsDNA molecule vs the other. The strands are denoted LIG and HYB, for the strand that undergoes ligation to the bead primer and the strand that hybridizes to the bead primer respectively. The LIG/HYB strand ratio is measured via mismatched homopolymer sequences in the adapter, in the start and potentially in the end of the read. This ratio is an indication of the expected error rate in the SNV, where reads that are mixed (LIG/HYB ~ 50%) are expected to have a lower error rate due to an innate correction of library artifacts appearing on one strand only, while the LIG- or HYB-only are exposed to such errors.\n",
    "\n",
    "This report is generated from preprocessing of the balanced strand sequencing data, and is intended to be used as a QC report for the library prep and sequencing run. The report shows the distribution of the LIG/HYB ratio, the assignment of beads to categories (MIXED/LIG/HYB/UNDETERMINED), along with the raw calls."
   ]
  },
  {
   "cell_type": "code",
   "execution_count": null,
   "id": "e430313f",
   "metadata": {},
   "outputs": [],
   "source": [
    "if illustration_file is not None:\n",
    "    display(Image(illustration_file, width=IMAGE_WIDTH))"
   ]
  },
  {
   "cell_type": "markdown",
   "id": "22d1d288",
   "metadata": {},
   "source": [
    "# Adapter version"
   ]
  },
  {
   "cell_type": "code",
   "execution_count": null,
   "id": "14907f4d",
   "metadata": {},
   "outputs": [],
   "source": [
    "adapter_version_desc = {\n",
    "    BalancedStrandAdapterVersions.LA_v5.value: f\"\"\"\n",
    "The LA_v5 (LA=Loop Adapter) adapter is used in this sample. It is composed of a 6A-6A loop in the start of the read, so that reads are expected to ideally yield:\n",
    "- 0A and 6T for LIG-only reads\n",
    "- 6A and 0T for HYB-only reads\n",
    "- 3A and 3T for 50% LIG - 50% HYB reads\n",
    "\n",
    "In practice, homopolymer errors are allowed according to the spec below.\n",
    "\n",
    "The LIG/HYB strand ratio is calculated as:\n",
    "LIG/HYB = T_hmer / (A_hmer + T_hmer)\n",
    "\n",
    "The sum of the lengths of the hmers is:\n",
    "LIG+HYB = A_hmer + T_hmer\n",
    "\n",
    "Values with {min_total_hmer_lengths_in_tags}<=LIG+HYB<={max_total_hmer_lengths_in_tags} are considered as valid, the rest are denoted as UNDETERMINED.\n",
    "Following that filter, the LIG/HYB strand ratio is interpreted to read categories as follows:\n",
    "- LIG-only: LIG/HYB = 1\n",
    "- HYB-only: LIG/HYB = 0\n",
    "- MIXED: {sr_lower} <= LIG/HYB <= {sr_upper}\n",
    "- UNDETERMINED: (0 < LIG/HYB < {sr_lower}) or ({sr_upper} < LIG/HYB < 1)\n",
    "\"\"\",\n",
    "    BalancedStrandAdapterVersions.LA_v6.value: f\"\"\"\n",
    "The LA_v6 (LA=Loop Adapter) adapter is used in this sample. It is composed of a 6A-6A loop in the end of the read, so that reads are expected to ideally yield:\n",
    "- 0A and 6T for LIG-only reads\n",
    "- 6A and 0T for HYB-only reads\n",
    "- 3A and 3T for 50% LIG - 50% HYB reads\n",
    "\n",
    "In practice, homopolymer errors are allowed according to the spec below.\n",
    "\n",
    "The LIG/HYB strand ratio is calculated as:\n",
    "LIG/HYB = T_hmer / (A_hmer + T_hmer)\n",
    "\n",
    "The sum of the lengths of the hmers is:\n",
    "LIG+HYB = A_hmer + T_hmer\n",
    "\n",
    "Values with {min_total_hmer_lengths_in_tags}<=LIG+HYB<={max_total_hmer_lengths_in_tags} are considered as valid, the rest are denoted as UNDETERMINED.\n",
    "Following that filter, the LIG/HYB strand ratio is interpreted to read categories as follows:\n",
    "- LIG-only: LIG/HYB = 1\n",
    "- HYB-only: LIG/HYB = 0\n",
    "- MIXED: {sr_lower} <= LIG/HYB <= {sr_upper}\n",
    "- UNDETERMINED: (0 < LIG/HYB < {sr_lower}) or ({sr_upper} < LIG/HYB < 1)\n",
    "\n",
    "Additionally, since the tag is at the end of the reads it is not necessarily reached, in which case the reads is annotated as END_UNREACHED.\n",
    "\"\"\",\n",
    "    BalancedStrandAdapterVersions.LA_v5and6.value: f\"\"\"\n",
    "The LA_v5+6 (LA=Loop Adapter) adapter is used in this sample. It is composed of a 6A-6A loop in the start and in the end of the read, so that reads are expected to ideally yield in each tag:\n",
    "- 0A and 6T for LIG-only reads\n",
    "- 6A and 0T for HYB-only reads\n",
    "- 3A and 3T for 50% LIG - 50% HYB reads\n",
    "\n",
    "In practice, homopolymer errors are allowed according to the spec below.\n",
    "\n",
    "The LIG/HYB strand ratio is calculated as:\n",
    "LIG/HYB = T_hmer / (A_hmer + T_hmer)\n",
    "\n",
    "The sum of the lengths of the hmers is:\n",
    "LIG+HYB = A_hmer + T_hmer\n",
    "\n",
    "Values with {min_total_hmer_lengths_in_tags}<=LIG+HYB<={max_total_hmer_lengths_in_tags} are considered as valid, the rest are denoted as UNDETERMINED.\n",
    "Following that filter, the LIG/HYB strand ratio is interpreted to read categories as follows:\n",
    "- LIG-only: LIG/HYB = 1\n",
    "- HYB-only: LIG/HYB = 0\n",
    "- MIXED: {sr_lower} <= LIG/HYB <= {sr_upper}\n",
    "- UNDETERMINED: (0 < LIG/HYB < {sr_lower}) or ({sr_upper} < LIG/HYB < 1)\n",
    "\n",
    "Additionally, since the end tag is at the end of the reads it is not necessarily reached, in which case the tag is annotated as END_UNREACHED.\"\"\",\n",
    "}\n",
    "print(adapter_version_desc[adapter_version])\n",
    "print(\"\\n\\n\\n\\n\")"
   ]
  },
  {
   "cell_type": "markdown",
   "id": "a29013df",
   "metadata": {},
   "source": [
    "# Main statistics"
   ]
  },
  {
   "cell_type": "code",
   "execution_count": null,
   "id": "4b0e7c71",
   "metadata": {},
   "outputs": [],
   "source": [
    "df_sorter_stats_shortlist = pd.read_hdf(statistics_h5, key=\"stats_shortlist\")\n",
    "display(df_sorter_stats_shortlist.style.format(\"{:.2f}\"))\n",
    "print(\"\\n\\n\\n\\n\")"
   ]
  },
  {
   "cell_type": "markdown",
   "id": "0f2f342e",
   "metadata": {},
   "source": [
    "# Strand ratio plots"
   ]
  },
  {
   "cell_type": "code",
   "execution_count": null,
   "id": "8cd8a5d8",
   "metadata": {},
   "outputs": [],
   "source": [
    "display(Image(strand_ratio_category_png, width=IMAGE_WIDTH))\n",
    "caption = {\n",
    "    BalancedStrandAdapterVersions.LA_v5.value: \"\"\"\n",
    "This barplot shows the ratio of each category type in the data according to the spec in the top of the file.\"\"\",\n",
    "    BalancedStrandAdapterVersions.LA_v6.value: \"\"\"\n",
    "This barplot shows the ratio of each category type in the data according to the spec in the top of the file.\n",
    "The end tag breakdown is only for the reads that reached the end tag.\"\"\",\n",
    "    BalancedStrandAdapterVersions.LA_v5and6.value: \"\"\"\n",
    "This barplot shows the ratio of each category type in the data according to the spec in the top of the file.\n",
    "The categories are reported separately for the start- and end-tags.\n",
    "The end tag breakdown is shown only for the reads that reached the end tag.\"\"\",\n",
    "}\n",
    "print(caption[adapter_version])\n",
    "print(\"\\n\\n\\n\\n\")"
   ]
  },
  {
   "cell_type": "code",
   "execution_count": null,
   "id": "2f0a33dd",
   "metadata": {},
   "outputs": [],
   "source": [
    "display(Image(strand_ratio_png, width=IMAGE_WIDTH))\n",
    "caption = {\n",
    "    BalancedStrandAdapterVersions.LA_v5.value: \"\"\"\n",
    "This barplot shows the LIG/HYB ratio distribution for all the reads.\"\"\",\n",
    "    BalancedStrandAdapterVersions.LA_v6.value: \"\"\"\n",
    "This barplot shows the LIG/HYB ratio distribution for all the reads.\"\"\",\n",
    "    BalancedStrandAdapterVersions.LA_v5and6.value: \"\"\"\n",
    "This barplot shows the LIG/HYB ratio distribution for all the reads, for each tag separately.\"\"\",\n",
    "}\n",
    "print(caption[adapter_version])\n",
    "print(\"\\n\\n\\n\\n\")"
   ]
  },
  {
   "cell_type": "code",
   "execution_count": null,
   "id": "afabb930",
   "metadata": {},
   "outputs": [],
   "source": [
    "if strand_ratio_category_concordance_png is not None:\n",
    "    display(Image(strand_ratio_category_concordance_png, width=IMAGE_WIDTH))\n",
    "    caption = {\n",
    "        BalancedStrandAdapterVersions.LA_v5and6.value: \"\"\"\n",
    "These plots show the concordance between the strand ratio categories of the start-tag and end-tag. Each tag is assigned a category separately, and the concordance is plotted. The top plot includes all the reads, including those with END_UNREACHED, while the bottom includes reads where the end was reached only.\"\"\",\n",
    "    }\n",
    "    print(caption[adapter_version])\n",
    "print(\"\\n\\n\\n\\n\")"
   ]
  },
  {
   "cell_type": "code",
   "execution_count": null,
   "id": "ebd8d749",
   "metadata": {},
   "outputs": [],
   "source": [
    "display(Image(trimmer_histogram_png, width=IMAGE_WIDTH))\n",
    "caption = {\n",
    "    BalancedStrandAdapterVersions.LA_v5.value: \"\"\"\n",
    "This plot shows the homopolymers called in the A and T hmers in the start tag.\"\"\",\n",
    "    BalancedStrandAdapterVersions.LA_v6.value: \"\"\"\n",
    "This plot shows the homopolymers called in the A and T hmers in the end tag.\"\"\",\n",
    "    BalancedStrandAdapterVersions.LA_v5and6.value: \"\"\"\n",
    "This plot shows the homopolymers called in the A and T hmers in the start tag (left) and end tag (right).\"\"\",\n",
    "}\n",
    "print(caption[adapter_version])\n",
    "print(\"\\n\\n\\n\\n\")"
   ]
  },
  {
   "cell_type": "markdown",
   "id": "318c00be",
   "metadata": {},
   "source": [
    "# Statistics"
   ]
  },
  {
   "cell_type": "code",
   "execution_count": null,
   "id": "aa0ceb18",
   "metadata": {},
   "outputs": [],
   "source": [
    "with pd.HDFStore(statistics_h5) as s:\n",
    "    keys = s.keys()\n",
    "for key in sorted(keys):\n",
    "    if key in [\"/sorter_stats_shortlist\", \"sorter_stats_shortlist\"]:  # already shown\n",
    "        continue\n",
    "    print(f\"\\n\\nStatistics table:{key.replace('/', ' ')}\")\n",
    "    df = pd.read_hdf(statistics_h5, key=key)\n",
    "    if key in [\"trimmer_histogram\", \"/trimmer_histogram\"]:\n",
    "        df = df.sort_values(\n",
    "            HistogramColumnNames.COUNT_NORM.value, ascending=False\n",
    "        ).reset_index(drop=True)\n",
    "    display(df.head(50))\n",
    "print(\"\\n\\n\\n\\n\")"
   ]
  }
 ],
 "metadata": {
  "kernelspec": {
   "display_name": "genomics.py3",
   "language": "python",
   "name": "python3"
  },
  "language_info": {
   "codemirror_mode": {
    "name": "ipython",
    "version": 3
   },
   "file_extension": ".py",
   "mimetype": "text/x-python",
   "name": "python",
   "nbconvert_exporter": "python",
   "pygments_lexer": "ipython3",
   "version": "3.7.8"
  },
  "toc-autonumbering": true
 },
 "nbformat": 4,
 "nbformat_minor": 5
}
