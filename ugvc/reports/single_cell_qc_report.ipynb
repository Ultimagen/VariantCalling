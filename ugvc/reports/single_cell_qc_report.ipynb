{
 "cells": [
  {
   "cell_type": "code",
   "execution_count": null,
   "metadata": {
    "pycharm": {
     "name": "#%%\n"
    }
   },
   "outputs": [],
   "source": [
    "import numpy as np    \n",
    "import pandas as pd  \n",
    "import seaborn as sns  \n",
    "import matplotlib.pyplot as plt  \n",
    "from IPython.display import display, HTML\n",
    "\n",
    "import warnings\n",
    "warnings.filterwarnings('ignore')\n"
   ]
  },
  {
   "cell_type": "code",
   "execution_count": null,
   "metadata": {
    "pycharm": {
     "name": "#%%\n"
    }
   },
   "outputs": [],
   "source": [
    "from IPython.core.interactiveshell import InteractiveShell\n",
    "InteractiveShell.ast_node_interactivity = \"all\"\n"
   ]
  },
  {
   "cell_type": "code",
   "execution_count": null,
   "metadata": {
    "pycharm": {
     "name": "#%%\n"
    }
   },
   "outputs": [],
   "source": [
    "pd.set_option('display.max_rows', 500)\n",
    "pd.set_option('display.width', 1000)\n",
    "pd.set_option('display.max_colwidth', 0)\n"
   ]
  },
  {
   "cell_type": "code",
   "execution_count": null,
   "metadata": {
    "pycharm": {
     "name": "#%%\n"
    }
   },
   "outputs": [],
   "source": [
    "def format_measure_names(in_df):\n",
    "    in_df['measure'] = in_df['measure'].str.replace(r'Multipe', 'Multiple', regex=True)   \n",
    "    return(in_df)\n"
   ]
  },
  {
   "cell_type": "code",
   "execution_count": null,
   "metadata": {
    "pycharm": {
     "name": "#%%\n"
    }
   },
   "outputs": [],
   "source": [
    "# add thresholds to mark if metrics need warnings\n",
    "def thresholds_for_metrics(in_df):\n",
    "    in_df['expected_value'] = np.nan\n",
    "    key_words = 'Reads With Valid Barcodes'  \n",
    "    threshold = '90.00%'\n",
    "    idx = in_df['measure'] == key_words\n",
    "    in_df.loc[idx,'expected_value'] = threshold\n",
    "    \n",
    "    key_words = 'Q30 Bases in CB+UMI' \n",
    "    threshold = '85.00%'\n",
    "    idx = in_df['measure'] == key_words\n",
    "    in_df.loc[idx,'expected_value'] = threshold\n",
    "    \n",
    "    key_words = 'Q30 Bases in RNA read' \n",
    "    threshold = '75.00%'\n",
    "    idx = in_df['measure'] == key_words\n",
    "    in_df.loc[idx,'expected_value'] = threshold\n",
    "    \n",
    "    key_words = 'Fraction of Reads in Cells' \n",
    "    threshold = '80.00%'\n",
    "    idx = in_df['measure'] == key_words\n",
    "    in_df.loc[idx,'expected_value'] = threshold\n",
    "    \n",
    "    key_words = 'Reads Mapped to Transcriptome: Unique Genes'  \n",
    "    threshold = '40.00%'\n",
    "    idx = in_df['measure'] == key_words\n",
    "    in_df.loc[idx,'expected_value'] = threshold\n",
    "    \n",
    "    key_words = ['Reads written (passing filters)','Percentage']\n",
    "    \n",
    "    threshold = '40.00%'\n",
    "    idx1 = in_df['measure'] == key_words[0]\n",
    "    idx2 = in_df['value_type'] == key_words[1]\n",
    "    idx = np.logical_and(idx1 , idx2)\n",
    "    in_df.loc[idx,'expected_value'] = threshold\n",
    "    in_df.fillna('-', inplace=True)\n",
    "    \n",
    "    \n",
    "    key_words = 'Reads Mapped to Genome: Unique+Multiple'\n",
    "    threshold = '90.00%'\n",
    "    idx = in_df['measure'] == key_words\n",
    "    in_df.loc[idx,'expected_value'] = threshold\n",
    "    \n",
    "    return(in_df)\n"
   ]
  },
  {
   "cell_type": "code",
   "execution_count": null,
   "metadata": {
    "pycharm": {
     "name": "#%%\n"
    }
   },
   "outputs": [],
   "source": [
    "file_name = '/VariantCalling/ugvc/reports/list_GatherStatistics_priorities.csv'\n",
    "list_measures = pd.read_csv(file_name)\n",
    "cols = list_measures.columns.values\n",
    "list_measures.columns = [x.lower() for x in cols]\n",
    "list_measures = list_measures.query('priority2 == 1')\n",
    "list_measures = format_measure_names(list_measures)\n"
   ]
  },
  {
   "cell_type": "code",
   "execution_count": null,
   "metadata": {
    "pycharm": {
     "name": "#%%\n"
    }
   },
   "outputs": [],
   "source": [
    "# format the numbers\n",
    "file_name = 'input_for_html_report.csv'\n",
    "df_stat_summary = pd.read_csv(file_name, sep=\",\", header = 0)\n",
    "cols = df_stat_summary.columns.values\n",
    "df_stat_summary.columns = [x.lower() for x in cols]\n",
    "df_stat_summary.drop(labels = 'index_orig', axis =1, inplace = True)\n"
   ]
  },
  {
   "cell_type": "code",
   "execution_count": null,
   "metadata": {
    "pycharm": {
     "name": "#%%\n"
    }
   },
   "outputs": [],
   "source": [
    "# add additional row for printing \n",
    "df_stat_summary_thresholds = thresholds_for_metrics(df_stat_summary)\n",
    "df_stat_summary_thresholds_format = format_measure_names(df_stat_summary_thresholds)\n",
    "\n",
    "to_add = float(\n",
    "    float(df_stat_summary_thresholds_format['measure_value'][df_stat_summary_thresholds_format['measure']== \"Number of input reads\"])/ \n",
    "    float(df_stat_summary_thresholds_format['measure_value'][df_stat_summary_thresholds_format['measure']== \"Estimated Number of Cells\"]) )\n",
    "to_add = np.round(to_add, 0)\n",
    "new_row = {'index_orig':90,'stat_type':'Summary', 'measure':\"Mean Reads per Cell (CellRanger)\", 'value_type':\"Value\", 'priority1':0, 'priority2':1}\n",
    "list_measures = list_measures.append(new_row, ignore_index=True)\n",
    "\n",
    "# Address issue with Fraction of Reads in Cells\tPercentage\n",
    "pat = 'Fraction of Reads in Cells'\n",
    "idx = list_measures.measure.str.contains(pat)\n",
    "if (idx.any(axis=None)):\n",
    "    list_measures.loc[idx,'value_type'] = 'Value'\n"
   ]
  },
  {
   "cell_type": "code",
   "execution_count": null,
   "metadata": {},
   "outputs": [],
   "source": [
    "# ============================\n",
    "# Refomrmating table\n",
    "# ============================\n",
    "# add thresholds for several metrics\n",
    "# ---------------------------------------------\n",
    "df_stat_summary_thresholds = thresholds_for_metrics(df_stat_summary)\n",
    "\n",
    "# ---------------------------------------------\n",
    "# rename the several metrics   \n",
    "# ---------------------------------------------\n",
    "df_stat_summary_thresholds_format = format_measure_names(df_stat_summary_thresholds)\n",
    "\n",
    "# ---------------------------------------------\n",
    "# add a spcific metric\n",
    "# ---------------------------------------------\n",
    "to_add = float(\n",
    "    float(df_stat_summary_thresholds_format['measure_value'][df_stat_summary_thresholds_format['measure']== \"Number of input reads\"])/ \n",
    "    float(df_stat_summary_thresholds_format['measure_value'][df_stat_summary_thresholds_format['measure']== \"Estimated Number of Cells\"]) )\n",
    "to_add = np.round(to_add, 0)\n",
    "new_row = {'stat_type':'Summary', 'measure':\"Mean Reads per Cell (CellRanger)\", 'value_type':\"Value\", 'measure_value':np.nan,'expected_value':'-'}\n",
    "new_row['measure_value'] = to_add\n",
    "#append row to the dataframe\n",
    "df_stat_summary_thresholds_format = df_stat_summary_thresholds_format.append(new_row, ignore_index=True)\n"
   ]
  },
  {
   "cell_type": "code",
   "execution_count": null,
   "metadata": {
    "pycharm": {
     "name": "#%%\n"
    }
   },
   "outputs": [],
   "source": [
    "# display run information\n",
    "HTML(\"<h1 style=\\\"font-size:24px;\\\">\"+\"Single Cell QC Report\"+\"</h1>\")\n",
    "HTML(\"<hr/>\")\n",
    "\n",
    "HTML(\"<h2 style=\\\"font-size:20px;\\\">\"+\"Run information\"+\"</h2>\")\n",
    "HTML(\"<b>\"+\"\"+\"</b>\")\n",
    "df_to_print = pd.DataFrame()\n",
    "df_to_print =  df_stat_summary_thresholds_format.query('stat_type == \"Params\" or stat_type == \"Alignment\"')\n",
    "df_to_print =  df_to_print.query('stat_type == \"Params\" or value_type == \"Date\"')\n",
    "df_to_print =  df_to_print.query('measure != \"Started mapping on\"')\n",
    "df_to_print = df_to_print.sort_values(by=['stat_type'])\n",
    "\n",
    "\n",
    "select_cols = ['measure','measure value']\n",
    "df_to_print.columns = df_to_print.columns.str.replace(r'_', ' ', regex=True)\n",
    "df_to_print[select_cols].style.hide_index()\n"
   ]
  },
  {
   "cell_type": "code",
   "execution_count": null,
   "metadata": {
    "pycharm": {
     "name": "#%%\n"
    }
   },
   "outputs": [],
   "source": [
    "# =============================================\n",
    "# format the numbers \n",
    "# =============================================\n",
    "\n",
    "# remove params and dates from dataframe\n",
    "# =============================================\n",
    "idx1  = df_stat_summary_thresholds_format['stat_type'] != \"Params\" \n",
    "idx2 =  df_stat_summary_thresholds_format['value_type'] != \"Date\"\n",
    "\n",
    "df_stat_summary_sub = df_stat_summary_thresholds_format.loc[np.logical_and(idx1 , idx2),:]\n",
    "df_stat_summary_sub.reset_index(inplace = True)\n",
    "\n",
    "# format numbers\n",
    "# =============================================\n",
    "\n",
    "col_value_type = df_stat_summary_sub['value_type'].copy() \n",
    "col_measure_value = df_stat_summary_sub['measure_value'].copy() \n",
    "new_col = [None for _ in range( len(col_value_type))]\n",
    "\n",
    "ser = []\n",
    "for i, value in enumerate(col_measure_value):\n",
    "    # if Percentage\n",
    "    if(col_value_type[i] == \"Percentage\" ):\n",
    "        value = value.replace('%', '')\n",
    "        value = float(value)/100\n",
    "        value = \"{0:.2%}\".format(value)\n",
    "        new_col[i] = str(value)\n",
    "    # if Value\n",
    "    else:\n",
    "        value = float(value)\n",
    "        if(value<2):\n",
    "            value = \"{:,.2f}\".format(value)\n",
    "            new_col[i] = str(value)\n",
    "        else:\n",
    "            value = \"{:,.0f}\".format(value)\n",
    "            new_col[i] = str(value)\n",
    "#         new_col[i] = value\n",
    "df_stat_summary_sub['value'] = new_col\n"
   ]
  },
  {
   "cell_type": "code",
   "execution_count": null,
   "metadata": {
    "pycharm": {
     "name": "#%%\n"
    }
   },
   "outputs": [],
   "source": [
    "HTML(\"<b>\"+\"\"+\"</b>\")\n",
    "HTML(\"<hr/>\")\n",
    "HTML(\"<h2 style=\\\"font-size:20px;\\\">\"+\"Summary View: Main Metrics\"+\"</h2>\")\n",
    "HTML(\"<hr/>\")\n",
    "HTML(\"<b>\"+\"\"+\"</b>\")\n"
   ]
  },
  {
   "cell_type": "code",
   "execution_count": null,
   "metadata": {
    "pycharm": {
     "name": "#%%\n"
    }
   },
   "outputs": [],
   "source": [
    "# fuction for higlighting text\n",
    "# ==================================\n",
    "def highlight_text_warning(v, props='color:red'):\n",
    "    return props if (v  == \"warning\") else None\n"
   ]
  },
  {
   "cell_type": "code",
   "execution_count": null,
   "metadata": {},
   "outputs": [],
   "source": [
    "# Obtain Top priority metrics\n",
    "# #########################################################################\n",
    "df_priority2 = pd.DataFrame()\n",
    "df_priority2 = pd.merge(df_stat_summary_sub, list_measures,  how='right', on = ['measure', 'value_type'])\n",
    "df_priority2.drop_duplicates(inplace=True, ignore_index=False)\n",
    "df_priority2.reset_index(inplace = True)\n",
    "# keep most important metrics\n",
    "df_priority2 = df_priority2.query('priority2 == 1')\n",
    "\n",
    "select_cols = ['level_0','stat_type_y', 'priority1', 'priority2']\n",
    "df_priority2.drop(columns = select_cols, inplace = True)\n",
    "df_priority2.columns = df_priority2.columns.str.replace(r'_x', '', regex=True)\n",
    "\n",
    "df_priority2['flag'] = \"-\"\n",
    "temp = df_priority2[df_priority2['expected_value'].notnull()]\n",
    "\n",
    "temp['expected_value'] = temp['expected_value'].str.replace(r'%', '', regex=True)\n",
    "temp['value_updated'] = temp['value'].str.replace(r'%', '', regex=True)\n",
    "idx1 = temp['expected_value'] >= temp['value']\n",
    "idx2 = temp['expected_value']!='-'\n",
    "idx = np.logical_and(idx1 , idx2)\n",
    "temp['flag'][idx] = 'warning'\n",
    "\n",
    "to_print = pd.merge(temp, df_priority2,   how='right', on = ['measure','value_type'])\n",
    "to_print.reset_index(inplace = True)\n",
    "\n",
    "select_cols = ['index','index_x','stat_type_x','value_type','expected_value_x','index_y',\n",
    "               'measure_value_x','measure_value_y', 'value_y', 'flag_y']\n",
    "\n",
    "to_print.drop(columns = select_cols, inplace = True)\n",
    "to_print.columns =to_print.columns.str.replace(r'_y', '', regex=True)\n",
    "to_print.columns =to_print.columns.str.replace(r'_x', '', regex=True)\n",
    "\n",
    "order = [5,0,1,6,3]\n",
    "to_print = to_print.iloc[:,order]\n",
    "to_print.fillna('-', inplace=True)\n",
    "\n",
    "\n",
    "df_to_print = pd.DataFrame()\n",
    "\n",
    "print_cols = ['measure','value','expected_value']\n",
    "stat_type_col = 'stat_type'\n",
    "\n",
    "for temp_column in to_print[stat_type_col].unique():\n",
    "\n",
    "    df_to_print = to_print[to_print[stat_type_col] == temp_column]\n",
    "    HTML(\"<b>\"+\"\"+\"</b>\")\n",
    "    HTML(\"<h4 style=\\\"font-size:14px;\\\">\"+str(temp_column)+\"</h4>\")\n",
    "    HTML(\"<hr/>\")\n",
    "    df_to_print.reset_index(drop=True, inplace=True)\n",
    "    df_to_print.style.applymap(highlight_text_warning)\n",
    "    HTML(\"<hr/>\")"
   ]
  },
  {
   "cell_type": "code",
   "execution_count": null,
   "metadata": {
    "pycharm": {
     "name": "#%%\n"
    }
   },
   "outputs": [],
   "source": [
    "# title\n",
    "HTML(\"<b>\"+\"\"+\"</b>\")\n",
    "HTML(\"<hr/>\")\n",
    "HTML(\"<h2 style=\\\"font-size:20px;\\\">\"+\"Detailed View: All Metrics\"+\"</h2>\")\n",
    "HTML(\"<hr/>\")\n",
    "HTML(\"<b>\"+\"\"+\"</b>\")\n"
   ]
  },
  {
   "cell_type": "code",
   "execution_count": null,
   "metadata": {
    "pycharm": {
     "name": "#%%\n"
    }
   },
   "outputs": [],
   "source": [
    "# print remaining tables with full details view\n",
    "# -------------------------------------------\n",
    "df_priority2['flag'] = \"-\"\n",
    "temp = df_priority2[df_priority2['expected_value'].notnull()]\n",
    "\n",
    "temp['expected_value'] = temp['expected_value'].str.replace(r'%', '', regex=True)\n",
    "temp['value'] = temp['value'].str.replace(r'%', '', regex=True)\n",
    "idx1 = temp['expected_value'] >= temp['value']\n",
    "idx2 = temp['expected_value']!='-'\n",
    "idx = np.logical_and(idx1 , idx2)\n",
    "temp['flag'][idx] = 'warning'\n",
    "\n",
    "to_print = pd.merge(temp, df_stat_summary_sub,   how='right', on = ['measure','value_type'])\n",
    "to_print.reset_index(inplace = True)\n",
    "select_cols = ['index','index_x','stat_type_x','measure_value_x', 'expected_value_x', 'value_x', 'index_y',\n",
    "              'measure_value_x', 'measure_value_y']\n",
    "to_print.drop(columns = select_cols, inplace = True)\n",
    "to_print.columns =to_print.columns.str.replace(r'_y', '', regex=True)\n",
    "order = [4,0,6,5,3]\n",
    "to_print = to_print.iloc[:,order]\n",
    "to_print.fillna('-', inplace=True)\n",
    "# to_print\n",
    "\n",
    "to_print.style.applymap(highlight_text_warning)\n",
    "HTML(\"<hr/>\")\n"
   ]
  },
  {
   "cell_type": "code",
   "execution_count": null,
   "metadata": {
    "pycharm": {
     "name": "#%%\n"
    }
   },
   "outputs": [],
   "source": []
  }
 ],
 "metadata": {
  "kernelspec": {
   "display_name": "Python 3",
   "language": "python",
   "name": "python3"
  },
  "language_info": {
   "codemirror_mode": {
    "name": "ipython",
    "version": 3
   },
   "file_extension": ".py",
   "mimetype": "text/x-python",
   "name": "python",
   "nbconvert_exporter": "python",
   "pygments_lexer": "ipython3",
   "version": "3.8.5"
  }
 },
 "nbformat": 4,
 "nbformat_minor": 4
}
