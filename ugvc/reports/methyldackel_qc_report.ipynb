{
 "cells": [
  {
   "cell_type": "code",
   "execution_count": 1,
   "metadata": {
    "pycharm": {
     "name": "#%%\n"
    }
   },
   "outputs": [],
   "source": [
    "# version 2.0\n",
    "# ugvc/reports/methyldackel_qc_report.ipynb\n",
    "# =============================================\n"
   ]
  },
  {
   "cell_type": "code",
   "execution_count": 2,
   "metadata": {
    "jupyter": {
     "outputs_hidden": false
    },
    "pycharm": {
     "name": "#%%\n"
    }
   },
   "outputs": [],
   "source": [
    "import pandas as pd  \n",
    "import numpy as np  \n",
    "import seaborn as sns  \n",
    "import os  \n",
    "import matplotlib.pyplot as plt  \n",
    "import json\n",
    "# from IPython.display import display, HTML\n",
    "import re\n",
    "from collections import Counter\n",
    "from IPython.core.display import display, HTML"
   ]
  },
  {
   "cell_type": "code",
   "execution_count": 3,
   "metadata": {
    "pycharm": {
     "name": "#%%\n"
    }
   },
   "outputs": [],
   "source": [
    "from IPython.core.interactiveshell import InteractiveShell\n",
    "InteractiveShell.ast_node_interactivity = \"all\"\n",
    "import warnings\n",
    "warnings.filterwarnings('ignore')"
   ]
  },
  {
   "cell_type": "code",
   "execution_count": 4,
   "metadata": {
    "pycharm": {
     "name": "#%%\n"
    }
   },
   "outputs": [],
   "source": [
    "pd.set_option('display.max_rows', 10000)\n",
    "pd.set_option('display.width', 1200)\n",
    "pd.set_option('display.max_colwidth', 0)\n",
    "\n",
    "# function for wraping long text \n",
    "def wrap_df_text(df):\n",
    "    return HTML(df.to_html().replace(\"\\\\n\",\"<br>\"))\n",
    "\n"
   ]
  },
  {
   "cell_type": "code",
   "execution_count": 5,
   "metadata": {
    "pycharm": {
     "is_executing": true,
     "name": "#%%\n"
    }
   },
   "outputs": [],
   "source": [
    "# input file is aggregated csv\n",
    "# ------------------------------\n",
    "in_file_name = 'input_for_html_report.csv'\n",
    "df_csv = pd.read_csv(in_file_name, sep=\",\", header=0)"
   ]
  },
  {
   "cell_type": "code",
   "execution_count": 6,
   "metadata": {
    "pycharm": {
     "name": "#%%\n"
    }
   },
   "outputs": [],
   "source": [
    "# seperate the processing into the different tables from MethylDackel\n",
    "list_tables = list(set(df_csv.table))\n",
    "list_tables = sorted(list_tables)\n"
   ]
  },
  {
   "cell_type": "code",
   "execution_count": 7,
   "metadata": {
    "jupyter": {
     "outputs_hidden": false
    },
    "pycharm": {
     "name": "#%%\n"
    }
   },
   "outputs": [],
   "source": [
    "# function to extract info for generating 2D histogram plots per each table, metric and detail\n",
    "def get_histogram_data(df_input):\n",
    "    # initilise variables\n",
    "    list_output = []\n",
    "    patterns = ['^PercentMethylation_[0-9]','^Coverage_[0-9]','CumulativeCoverage_[0-9]']\n",
    "    list_tables = list(set(df_input.table))\n",
    "    list_tables = sorted(list_tables)\n",
    "\n",
    "    for tbl in list_tables:\n",
    "         # create dataframe for each table type (MethylDackel task)\n",
    "        idx = df_input.table.str.fullmatch(tbl)\n",
    "        if (idx.any(axis=None)):\n",
    "            df_tbl = pd.DataFrame()\n",
    "            df_tbl = df_input.loc[idx, :].copy()\n",
    "\n",
    "            # create dataframe for table + for metric type (in patterns)\n",
    "            for pat in patterns:\n",
    "                # check if pattern exists and divide into tables\n",
    "                idx = df_tbl.metric.str.contains(pat)\n",
    "                if (idx.any(axis=None)):\n",
    "                    df_tbl_pat = pd.DataFrame()\n",
    "                    df_tbl_pat = df_tbl.loc[idx, :].copy()\n",
    "\n",
    "                    # check if detail exists: *further* divide \n",
    "                    list_details = ()\n",
    "                    list_details = list(set(df_tbl_pat.detail)) \n",
    "                    list_details = sorted(list_details, key=str.lower)\n",
    "\n",
    "                    # create sub-tables\n",
    "                    for dtl in list_details:\n",
    "                        idx = df_tbl_pat.detail.str.fullmatch(dtl)\n",
    "                        if (idx.any(axis=None)):\n",
    "                            df_tbl_pat_dtl = pd.DataFrame()\n",
    "                            df_tbl_pat_dtl = df_tbl_pat.loc[idx, :].copy()\n",
    "\n",
    "                        list_output.append(df_tbl_pat_dtl)\n",
    "\n",
    "    list_output = pd.concat(list_output, axis = 0)\n",
    "\n",
    "    dict_output = {x: y for x, y in list_output.groupby('table')}\n",
    "    return(dict_output)\n",
    "\n"
   ]
  },
  {
   "cell_type": "code",
   "execution_count": 8,
   "metadata": {
    "pycharm": {
     "name": "#%%\n"
    }
   },
   "outputs": [],
   "source": [
    "# function to extract the 2D info for generating 2D histogram plots per each table, metric and detail\n",
    "def get_area_data(df_input):\n",
    "    # initilise variables\n",
    "    list_output = []\n",
    "    pat = '^PercentMethylationPosition_'\n",
    "    list_tables = list(set(df_input.table))\n",
    "    list_tables = sorted(list_tables)\n",
    "\n",
    "    for tbl in list_tables:\n",
    "         # create dataframe for each table type (MethylDackel task)\n",
    "        idx = df_input.table.str.fullmatch(tbl)\n",
    "        if (idx.any(axis=None)):\n",
    "            df_tbl = pd.DataFrame()\n",
    "            df_tbl = df_input.loc[idx, :].copy()\n",
    "\n",
    "            # create dataframe for table + for metric type (in pat)\n",
    "            idx = df_tbl.metric.str.contains(pat)\n",
    "            if (idx.any(axis=None)):\n",
    "                df_tbl_pat = pd.DataFrame()\n",
    "                df_tbl_pat = df_tbl.loc[idx, :].copy()\n",
    "\n",
    "                # check if detail exists: *further* divide \n",
    "                list_details = ()\n",
    "                list_details = list(set(df_tbl_pat.detail)) \n",
    "                if(list_details.count('OT')>0):\n",
    "                    list_details = sorted(list_details, key=str.lower, reverse = True)\n",
    "                else:\n",
    "                    list_details = sorted(list_details, key=str.lower)\n",
    "\n",
    "                # create sub-tables\n",
    "                for dtl in list_details:\n",
    "                    idx = df_tbl_pat.detail.str.fullmatch(dtl)\n",
    "                    if (idx.any(axis=None)):\n",
    "                        df_tbl_pat_dtl = pd.DataFrame()\n",
    "                        df_tbl_pat_dtl = df_tbl_pat.loc[idx, :].copy()\n",
    "\n",
    "\n",
    "\n",
    "                    list_output.append(df_tbl_pat_dtl)\n",
    "\n",
    "    list_output = pd.concat(list_output, axis = 0)\n",
    "\n",
    "    dict_output = {x: y for x, y in list_output.groupby('table')}\n",
    "    return(dict_output)\n"
   ]
  },
  {
   "cell_type": "code",
   "execution_count": 9,
   "metadata": {
    "pycharm": {
     "name": "#%%\n"
    }
   },
   "outputs": [],
   "source": [
    "# get_area_data(df_csv)"
   ]
  },
  {
   "cell_type": "code",
   "execution_count": 10,
   "metadata": {
    "pycharm": {
     "name": "#%%\n"
    }
   },
   "outputs": [],
   "source": [
    "# function to extract info for generating tables of descriptibe stats of metrics: mean, std, median for each metric\n",
    "def get_descriptive_stats(df_input):\n",
    "    # initilise variables\n",
    "    list_output = []\n",
    "    patterns = ['^PercentMethylation_[a-zA-Z]+','^Coverage_[a-zA-Z]+','CumulativeCoverage_[a-zA-Z]+|Total']\n",
    "    list_tables = list(set(df_input.table))\n",
    "    list_tables = sorted(list_tables)\n",
    "\n",
    "    for tbl in list_tables:\n",
    "         # create dataframe for each table type (MethylDackel task)\n",
    "        idx = df_input.table.str.fullmatch(tbl)\n",
    "        if (idx.any(axis=None)):\n",
    "            df_tbl = pd.DataFrame()\n",
    "            df_tbl = df_input.loc[idx, :].copy()\n",
    "\n",
    "            # create dataframe for table + for metric type (in patterns)\n",
    "            for pat in patterns:\n",
    "                # check if pattern exists and divide into tables\n",
    "                idx = df_tbl.metric.str.contains(pat)\n",
    "                if (idx.any(axis=None)):\n",
    "                    df_tbl_pat = pd.DataFrame()\n",
    "                    df_tbl_pat = df_tbl.loc[idx, :].copy()\n",
    "\n",
    "                    # check if detail exists: *further* divide \n",
    "                    list_details = ()\n",
    "                    list_details = list(set(df_tbl_pat.detail)) \n",
    "                    list_details = sorted(list_details, key=str.lower)\n",
    "\n",
    "                    # create sub-tables\n",
    "                    for dtl in list_details:\n",
    "                        idx = df_tbl_pat.detail.str.fullmatch(dtl)\n",
    "                        if (idx.any(axis=None)):\n",
    "                            df_tbl_pat_dtl = pd.DataFrame()\n",
    "                            df_tbl_pat_dtl = df_tbl_pat.loc[idx, :].copy()\n",
    "                        list_output.append(df_tbl_pat_dtl)\n",
    "    list_output = pd.concat(list_output, axis = 0)\n",
    "\n",
    "    dict_output = {x: y for x, y in list_output.groupby('table')}\n",
    "    return(dict_output)\n"
   ]
  },
  {
   "cell_type": "code",
   "execution_count": 11,
   "metadata": {
    "pycharm": {
     "name": "#%%\n"
    }
   },
   "outputs": [],
   "source": [
    "# get_descriptive_stats(df_csv)"
   ]
  },
  {
   "cell_type": "code",
   "execution_count": 12,
   "metadata": {
    "pycharm": {
     "name": "#%%\n"
    }
   },
   "outputs": [],
   "source": [
    "def format_metric_names(df_in):\n",
    "    df_in['metric']= df_in['metric'].str.replace(r'PercentMethylation', 'Percent Methylation: ', regex=True)\n",
    "    df_in['metric']= df_in['metric'].str.replace(r'PercentMethylationPosition', 'Percent Methylation Position: ', regex=True)\n",
    "    df_in['metric']= df_in['metric'].str.replace(r'CumulativeCoverage', 'Cumulative Coverage', regex=True)\n",
    "    df_in['metric']= df_in['metric'].str.replace(r'Coverage', 'Coverage: ', regex=True)\n",
    "    df_in['metric']= df_in['metric'].str.replace(r'TotalCpGs', 'Total CpGs: ', regex=True)\n",
    "    df_in['metric']= df_in['metric'].str.replace(r'_', ' ', regex=True)\n",
    "    return(df_in)\n"
   ]
  },
  {
   "cell_type": "code",
   "execution_count": 13,
   "metadata": {
    "pycharm": {
     "name": "#%%\n"
    }
   },
   "outputs": [],
   "source": [
    "def parse_metric_names(df_in):\n",
    "    df_in['metric_orig'] = df_in['metric']\n",
    "    pat = '\\w+_(\\d+)' # get value of bins\n",
    "    df_in['bin']= df_in['metric'].str.extract(pat)\n",
    "    # get metric name\n",
    "    pat = '(\\w+)_\\d+'\n",
    "    df_in['metric']= df_in['metric'].str.extract(pat)\n",
    "    return(df_in)\n"
   ]
  },
  {
   "cell_type": "code",
   "execution_count": 14,
   "metadata": {
    "pycharm": {
     "name": "#%%\n"
    }
   },
   "outputs": [],
   "source": [
    "def display_side_by_side(dfs:list, captions:list, tablespacing=2):\n",
    "    output = \"\"\n",
    "    for (caption, df) in zip(captions, dfs):\n",
    "        output += df.style.set_table_attributes(\"style='display:inline-table'\").set_caption(caption)._repr_html_()\n",
    "        output += tablespacing * \"\\xa0\"\n",
    "\n",
    "    display(HTML(output))\n"
   ]
  },
  {
   "cell_type": "code",
   "execution_count": 15,
   "metadata": {
    "pycharm": {
     "name": "#%%\n"
    }
   },
   "outputs": [
    {
     "data": {
      "text/html": [
       "<h1 style=\"font-size:24px;\">QC Report for Methylation Calling</h1>"
      ],
      "text/plain": [
       "<IPython.core.display.HTML object>"
      ]
     },
     "execution_count": 15,
     "metadata": {},
     "output_type": "execute_result"
    },
    {
     "data": {
      "text/html": [
       "<hr/>"
      ],
      "text/plain": [
       "<IPython.core.display.HTML object>"
      ]
     },
     "execution_count": 15,
     "metadata": {},
     "output_type": "execute_result"
    }
   ],
   "source": [
    "HTML(\"<h1 style=\\\"font-size:24px;\\\">\"+\"QC Report for Methylation Calling\"+\"</h1>\")\n",
    "HTML(\"<hr/>\")\n"
   ]
  },
  {
   "cell_type": "code",
   "execution_count": 16,
   "metadata": {
    "pycharm": {
     "name": "#%%\n"
    }
   },
   "outputs": [
    {
     "data": {
      "text/html": [
       "<h2 style=\"font-size:18px;\">Human Genome: Global Methylation Statistics</h2>"
      ],
      "text/plain": [
       "<IPython.core.display.HTML object>"
      ]
     },
     "execution_count": 16,
     "metadata": {},
     "output_type": "execute_result"
    },
    {
     "data": {
      "text/html": [
       "<hr/>"
      ],
      "text/plain": [
       "<IPython.core.display.HTML object>"
      ]
     },
     "execution_count": 16,
     "metadata": {},
     "output_type": "execute_result"
    }
   ],
   "source": [
    "HTML(\"<h2 style=\\\"font-size:18px;\\\">\"+\"Human Genome: Global Methylation Statistics\"+\"</h2>\")\n",
    "HTML(\"<hr/>\")\n"
   ]
  },
  {
   "cell_type": "code",
   "execution_count": 17,
   "metadata": {
    "pycharm": {
     "name": "#%%\n"
    }
   },
   "outputs": [],
   "source": [
    "#  get_descriptive_stats(df_csv)"
   ]
  },
  {
   "cell_type": "code",
   "execution_count": 55,
   "metadata": {
    "pycharm": {
     "name": "#%%\n"
    }
   },
   "outputs": [
    {
     "data": {
      "text/html": [
       "<div>\n",
       "<style scoped>\n",
       "    .dataframe tbody tr th:only-of-type {\n",
       "        vertical-align: middle;\n",
       "    }\n",
       "\n",
       "    .dataframe tbody tr th {\n",
       "        vertical-align: top;\n",
       "    }\n",
       "\n",
       "    .dataframe thead th {\n",
       "        text-align: right;\n",
       "    }\n",
       "</style>\n",
       "<table border=\"1\" class=\"dataframe\">\n",
       "  <thead>\n",
       "    <tr style=\"text-align: right;\">\n",
       "      <th></th>\n",
       "      <th>metric</th>\n",
       "      <th>value</th>\n",
       "    </tr>\n",
       "  </thead>\n",
       "  <tbody>\n",
       "    <tr>\n",
       "      <th>0</th>\n",
       "      <td>Total Cpgs:</td>\n",
       "      <td>25,630,457</td>\n",
       "    </tr>\n",
       "    <tr>\n",
       "      <th>1</th>\n",
       "      <td>Percent Methylation:  Mean</td>\n",
       "      <td>75.31</td>\n",
       "    </tr>\n",
       "    <tr>\n",
       "      <th>2</th>\n",
       "      <td>Percent Methylation:  Std</td>\n",
       "      <td>30.78</td>\n",
       "    </tr>\n",
       "    <tr>\n",
       "      <th>3</th>\n",
       "      <td>Percent Methylation:  Median</td>\n",
       "      <td>90.00</td>\n",
       "    </tr>\n",
       "    <tr>\n",
       "      <th>4</th>\n",
       "      <td>Coverage:  Mean</td>\n",
       "      <td>71.67</td>\n",
       "    </tr>\n",
       "    <tr>\n",
       "      <th>5</th>\n",
       "      <td>Coverage:  Std</td>\n",
       "      <td>27.51</td>\n",
       "    </tr>\n",
       "    <tr>\n",
       "      <th>6</th>\n",
       "      <td>Coverage:  Median</td>\n",
       "      <td>73.00</td>\n",
       "    </tr>\n",
       "  </tbody>\n",
       "</table>\n",
       "</div>"
      ],
      "text/plain": [
       "                         metric       value\n",
       "0  Total Cpgs:                   25,630,457\n",
       "1  Percent Methylation:  Mean    75.31     \n",
       "2  Percent Methylation:  Std     30.78     \n",
       "3  Percent Methylation:  Median  90.00     \n",
       "4  Coverage:  Mean               71.67     \n",
       "5  Coverage:  Std                27.51     \n",
       "6  Coverage:  Median             73.00     "
      ]
     },
     "execution_count": 55,
     "metadata": {},
     "output_type": "execute_result"
    }
   ],
   "source": [
    "# main statistics table\n",
    "# --------------------------\n",
    "tbl = 'MergeContext'\n",
    "genome = 'hg'\n",
    "df_table = get_descriptive_stats(df_csv)[tbl]\n",
    "df_table = df_table[df_table['detail'] == genome]\n",
    "cols = ['metric','value']\n",
    "df_table = pd.concat([df_table.tail(1),df_table.head(df_table.shape[0]-1) ],axis = 0)\n",
    "df_table = df_table.reset_index()\n",
    "df_table  = format_metric_names(df_table)\n",
    "df_table['metric']  = df_table['metric'].str.title()\n",
    "to_int = df_table.metric == 'Total Cpgs: '\n",
    "to_float = df_table.metric != 'Total Cpgs: '\n",
    "df_table.loc[to_int, 'value'] = df_table.loc[to_int, 'value'].map('{:,.0f}'.format)\n",
    "df_table.loc[to_float, 'value'] = df_table.loc[to_float, 'value'].map('{:,.2f}'.format)\n",
    "df_table[cols]\n",
    "\n",
    "# -----------\n"
   ]
  },
  {
   "cell_type": "code",
   "execution_count": 19,
   "metadata": {
    "pycharm": {
     "name": "#%%\n"
    }
   },
   "outputs": [
    {
     "data": {
      "text/html": [
       " "
      ],
      "text/plain": [
       "<IPython.core.display.HTML object>"
      ]
     },
     "execution_count": 19,
     "metadata": {},
     "output_type": "execute_result"
    },
    {
     "data": {
      "text/html": [
       "<h2 style=\"font-size:12px;\">Human Genome: Details of Per-Read Descriptive Statistics</h2>"
      ],
      "text/plain": [
       "<IPython.core.display.HTML object>"
      ]
     },
     "execution_count": 19,
     "metadata": {},
     "output_type": "execute_result"
    },
    {
     "data": {
      "text/html": [
       "<div>\n",
       "<style scoped>\n",
       "    .dataframe tbody tr th:only-of-type {\n",
       "        vertical-align: middle;\n",
       "    }\n",
       "\n",
       "    .dataframe tbody tr th {\n",
       "        vertical-align: top;\n",
       "    }\n",
       "\n",
       "    .dataframe thead th {\n",
       "        text-align: right;\n",
       "    }\n",
       "</style>\n",
       "<table border=\"1\" class=\"dataframe\">\n",
       "  <thead>\n",
       "    <tr style=\"text-align: right;\">\n",
       "      <th></th>\n",
       "      <th>metric</th>\n",
       "      <th>value</th>\n",
       "    </tr>\n",
       "  </thead>\n",
       "  <tbody>\n",
       "    <tr>\n",
       "      <th>0</th>\n",
       "      <td>Percent Methylation:  Mean</td>\n",
       "      <td>65.83</td>\n",
       "    </tr>\n",
       "    <tr>\n",
       "      <th>1</th>\n",
       "      <td>Percent Methylation:  Std</td>\n",
       "      <td>42.63</td>\n",
       "    </tr>\n",
       "    <tr>\n",
       "      <th>2</th>\n",
       "      <td>Percent Methylation:  Median</td>\n",
       "      <td>100.00</td>\n",
       "    </tr>\n",
       "    <tr>\n",
       "      <th>3</th>\n",
       "      <td>Total Cpgs:  Mean</td>\n",
       "      <td>3.00</td>\n",
       "    </tr>\n",
       "    <tr>\n",
       "      <th>4</th>\n",
       "      <td>Total Cpgs:  Std</td>\n",
       "      <td>3.62</td>\n",
       "    </tr>\n",
       "    <tr>\n",
       "      <th>5</th>\n",
       "      <td>Total Cpgs:  Median</td>\n",
       "      <td>2.00</td>\n",
       "    </tr>\n",
       "  </tbody>\n",
       "</table>\n",
       "</div>"
      ],
      "text/plain": [
       "                         metric   value\n",
       "0  Percent Methylation:  Mean    65.83 \n",
       "1  Percent Methylation:  Std     42.63 \n",
       "2  Percent Methylation:  Median  100.00\n",
       "3  Total Cpgs:  Mean             3.00  \n",
       "4  Total Cpgs:  Std              3.62  \n",
       "5  Total Cpgs:  Median           2.00  "
      ]
     },
     "execution_count": 19,
     "metadata": {},
     "output_type": "execute_result"
    }
   ],
   "source": [
    "# per Read information\n",
    "# ------------------------\n",
    "HTML(\" \")\n",
    "HTML(\"<h2 style=\\\"font-size:12px;\\\">\"+\"Human Genome: Details of Per-Read Descriptive Statistics\"+\"</h2>\")\n",
    "\n",
    "tbl = 'PerRead'\n",
    "genome = 'hg'\n",
    "df_table = get_descriptive_stats(df_csv)[tbl]\n",
    "# df_table = df_table[df_table['detail'] == genome]\n",
    "cols = ['metric','value']\n",
    "# df_table = pd.concat([df_table.tail(1),df_table.head(df_table.shape[0]-1) ],axis = 0)\n",
    "df_table = df_table.reset_index()\n",
    "df_table  = format_metric_names(df_table)\n",
    "df_table['metric']  = df_table['metric'].str.title()\n",
    "df_table['value'] = df_table['value'].map('{:,.2f}'.format) \n",
    "df_table[cols]\n",
    "\n",
    "# -----------\n"
   ]
  },
  {
   "cell_type": "code",
   "execution_count": 20,
   "metadata": {
    "pycharm": {
     "name": "#%%\n"
    }
   },
   "outputs": [],
   "source": [
    "# print histogram plots of mergecontext for HG\n",
    "tbl = 'MergeContext'\n",
    "genome = 'hg'\n",
    "df_table = get_histogram_data(df_csv)[tbl]\n",
    "df_table = df_table[df_table['detail'] == genome]\n",
    "df_table = parse_metric_names(df_table)\n",
    "df_table = format_metric_names(df_table)\n",
    "df_table['stat_type'] =  df_table['metric'].str.extract(r'([A-Za-z]+):')\n",
    "\n",
    "# -----------\n"
   ]
  },
  {
   "cell_type": "code",
   "execution_count": 21,
   "metadata": {
    "pycharm": {
     "name": "#%%\n"
    }
   },
   "outputs": [
    {
     "data": {
      "text/html": [
       " "
      ],
      "text/plain": [
       "<IPython.core.display.HTML object>"
      ]
     },
     "execution_count": 21,
     "metadata": {},
     "output_type": "execute_result"
    },
    {
     "data": {
      "text/html": [
       "<h2 style=\"font-size:16px;\">Human Genome: Cytosines in Other Contexts Descriptive Statistics</h2>"
      ],
      "text/plain": [
       "<IPython.core.display.HTML object>"
      ]
     },
     "execution_count": 21,
     "metadata": {},
     "output_type": "execute_result"
    },
    {
     "data": {
      "text/html": [
       "<hr/>"
      ],
      "text/plain": [
       "<IPython.core.display.HTML object>"
      ]
     },
     "execution_count": 21,
     "metadata": {},
     "output_type": "execute_result"
    },
    {
     "data": {
      "text/html": [
       "<style type=\"text/css\">\n",
       "</style>\n",
       "<table id=\"T_63184_\" style='display:inline-table'>\n",
       "  <caption>CHG</caption>\n",
       "  <thead>\n",
       "    <tr>\n",
       "      <th class=\"blank level0\" >&nbsp;</th>\n",
       "      <th class=\"col_heading level0 col0\" >metric</th>\n",
       "      <th class=\"col_heading level0 col1\" >value</th>\n",
       "    </tr>\n",
       "  </thead>\n",
       "  <tbody>\n",
       "    <tr>\n",
       "      <th id=\"T_63184_level0_row0\" class=\"row_heading level0 row0\" >0</th>\n",
       "      <td id=\"T_63184_row0_col0\" class=\"data row0 col0\" >Percent Methylation:  Mean</td>\n",
       "      <td id=\"T_63184_row0_col1\" class=\"data row0 col1\" >2.29%</td>\n",
       "    </tr>\n",
       "    <tr>\n",
       "      <th id=\"T_63184_level0_row1\" class=\"row_heading level0 row1\" >1</th>\n",
       "      <td id=\"T_63184_row1_col0\" class=\"data row1 col0\" >Percent Methylation:  Std</td>\n",
       "      <td id=\"T_63184_row1_col1\" class=\"data row1 col1\" >4.30%</td>\n",
       "    </tr>\n",
       "    <tr>\n",
       "      <th id=\"T_63184_level0_row2\" class=\"row_heading level0 row2\" >2</th>\n",
       "      <td id=\"T_63184_row2_col0\" class=\"data row2 col0\" >Percent Methylation:  Median</td>\n",
       "      <td id=\"T_63184_row2_col1\" class=\"data row2 col1\" >1.00%</td>\n",
       "    </tr>\n",
       "    <tr>\n",
       "      <th id=\"T_63184_level0_row3\" class=\"row_heading level0 row3\" >3</th>\n",
       "      <td id=\"T_63184_row3_col0\" class=\"data row3 col0\" >Coverage:  Mean</td>\n",
       "      <td id=\"T_63184_row3_col1\" class=\"data row3 col1\" >64.89</td>\n",
       "    </tr>\n",
       "    <tr>\n",
       "      <th id=\"T_63184_level0_row4\" class=\"row_heading level0 row4\" >4</th>\n",
       "      <td id=\"T_63184_row4_col0\" class=\"data row4 col0\" >Coverage:  Std</td>\n",
       "      <td id=\"T_63184_row4_col1\" class=\"data row4 col1\" >28.31</td>\n",
       "    </tr>\n",
       "    <tr>\n",
       "      <th id=\"T_63184_level0_row5\" class=\"row_heading level0 row5\" >5</th>\n",
       "      <td id=\"T_63184_row5_col0\" class=\"data row5 col0\" >Coverage:  Median</td>\n",
       "      <td id=\"T_63184_row5_col1\" class=\"data row5 col1\" >65.00</td>\n",
       "    </tr>\n",
       "  </tbody>\n",
       "</table>\n",
       "  <style type=\"text/css\">\n",
       "</style>\n",
       "<table id=\"T_78be2_\" style='display:inline-table'>\n",
       "  <caption>CHH</caption>\n",
       "  <thead>\n",
       "    <tr>\n",
       "      <th class=\"blank level0\" >&nbsp;</th>\n",
       "      <th class=\"col_heading level0 col0\" >metric</th>\n",
       "      <th class=\"col_heading level0 col1\" >value</th>\n",
       "    </tr>\n",
       "  </thead>\n",
       "  <tbody>\n",
       "    <tr>\n",
       "      <th id=\"T_78be2_level0_row0\" class=\"row_heading level0 row0\" >0</th>\n",
       "      <td id=\"T_78be2_row0_col0\" class=\"data row0 col0\" >Percent Methylation:  Mean</td>\n",
       "      <td id=\"T_78be2_row0_col1\" class=\"data row0 col1\" >3.38%</td>\n",
       "    </tr>\n",
       "    <tr>\n",
       "      <th id=\"T_78be2_level0_row1\" class=\"row_heading level0 row1\" >1</th>\n",
       "      <td id=\"T_78be2_row1_col0\" class=\"data row1 col0\" >Percent Methylation:  Std</td>\n",
       "      <td id=\"T_78be2_row1_col1\" class=\"data row1 col1\" >8.04%</td>\n",
       "    </tr>\n",
       "    <tr>\n",
       "      <th id=\"T_78be2_level0_row2\" class=\"row_heading level0 row2\" >2</th>\n",
       "      <td id=\"T_78be2_row2_col0\" class=\"data row2 col0\" >Percent Methylation:  Median</td>\n",
       "      <td id=\"T_78be2_row2_col1\" class=\"data row2 col1\" >0.00%</td>\n",
       "    </tr>\n",
       "    <tr>\n",
       "      <th id=\"T_78be2_level0_row3\" class=\"row_heading level0 row3\" >3</th>\n",
       "      <td id=\"T_78be2_row3_col0\" class=\"data row3 col0\" >Coverage:  Mean</td>\n",
       "      <td id=\"T_78be2_row3_col1\" class=\"data row3 col1\" >30.50</td>\n",
       "    </tr>\n",
       "    <tr>\n",
       "      <th id=\"T_78be2_level0_row4\" class=\"row_heading level0 row4\" >4</th>\n",
       "      <td id=\"T_78be2_row4_col0\" class=\"data row4 col0\" >Coverage:  Std</td>\n",
       "      <td id=\"T_78be2_row4_col1\" class=\"data row4 col1\" >17.92</td>\n",
       "    </tr>\n",
       "    <tr>\n",
       "      <th id=\"T_78be2_level0_row5\" class=\"row_heading level0 row5\" >5</th>\n",
       "      <td id=\"T_78be2_row5_col0\" class=\"data row5 col0\" >Coverage:  Median</td>\n",
       "      <td id=\"T_78be2_row5_col1\" class=\"data row5 col1\" >30.00</td>\n",
       "    </tr>\n",
       "  </tbody>\n",
       "</table>\n",
       "  "
      ],
      "text/plain": [
       "<IPython.core.display.HTML object>"
      ]
     },
     "metadata": {},
     "output_type": "display_data"
    },
    {
     "data": {
      "text/html": [
       " "
      ],
      "text/plain": [
       "<IPython.core.display.HTML object>"
      ]
     },
     "execution_count": 21,
     "metadata": {},
     "output_type": "execute_result"
    }
   ],
   "source": [
    "HTML(\" \")\n",
    "HTML(\"<h2 style=\\\"font-size:16px;\\\">\"+\"Human Genome: Cytosines in Other Contexts Descriptive Statistics\"+\"</h2>\")\n",
    "HTML(\"<hr/>\")\n",
    "\n",
    "tbl = 'MergeContextNoCpG'\n",
    "\n",
    "df_table = get_descriptive_stats(df_csv)[tbl]\n",
    "df_table = df_table.reset_index()\n",
    "df_table  = format_metric_names(df_table)\n",
    "\n",
    "df_table['stat_type']=  df_table['metric'].str.extract(r'([A-Za-z]+)[\\s:]')\n",
    "df_table['metric']  = df_table['metric'].str.title()\n",
    "df_table['value'][df_table['stat_type'] == \"Percent\"] = (df_table['value'][df_table['stat_type'] == \"Percent\"]/100).map('{:,.2%}'.format)\n",
    "df_table['value'][df_table['stat_type'] == \"Coverage\"] = df_table['value'][df_table['stat_type'] == \"Coverage\"].map('{:,.2f}'.format)\n",
    "\n",
    "table_names = df_table['detail'].unique()\n",
    "cols = ['metric','value', 'detail']\n",
    "df_output = []\n",
    "df_output = [y for x, y in df_table.groupby('detail')]\n",
    "\n",
    "df_to_print = []\n",
    "cols = ['metric','value']\n",
    "for l in df_output:\n",
    "    l = l.reset_index()\n",
    "    df_to_print.append(l[cols])\n",
    "\n",
    "display_side_by_side(df_to_print, table_names)\n",
    "\n",
    "HTML(\" \")\n",
    "\n",
    "# --------\n"
   ]
  },
  {
   "cell_type": "code",
   "execution_count": 22,
   "metadata": {
    "pycharm": {
     "name": "#%%\n"
    }
   },
   "outputs": [],
   "source": [
    "# function for creating Mbias plots\n",
    "# -----------------------------------------------------------------------------------\n",
    "def plot_mbias(in_list_df):\n",
    "\n",
    "    plt.style.use('ggplot')\n",
    "\n",
    "    if (len(in_list_df) == 4):\n",
    "        i = j = k = 0\n",
    "        in_colours = ['tomato','indianred','tomato','indianred']\n",
    "        f, ax = plt.subplots(2, 2, figsize = [12, 12])\n",
    "\n",
    "        for j in range(ax.shape[0]):\n",
    "            for k in range(0, ax.shape[1]):\n",
    "\n",
    "                currax = ax[j][k]\n",
    "                curr_title = in_list_df[i]['detail'].unique()[0]\n",
    "\n",
    "                sns.lineplot(data = in_list_df[i],\n",
    "                            x=\"bin\",\n",
    "                            y=\"value\",\n",
    "                            lw=2.5,\n",
    "                            ax = currax,\n",
    "                            color=in_colours[i]\n",
    "                            )\n",
    "                currax.set_xlabel(\"Position\",fontsize=14)\n",
    "                currax.set_ylabel(\"Fraction of Methylation\",fontsize=14)\n",
    "                currax.set_title(curr_title,fontsize=14)\n",
    "                currax.tick_params(labelsize=14)\n",
    "                plt.xticks(rotation=45)\n",
    "                currax.set_ylim([0, 1])\n",
    "                i+=1\n",
    "\n",
    "        plt.tight_layout()\n",
    "\n",
    "    else:\n",
    "        in_colours = ['tomato','indianred']\n",
    "        f, ax = plt.subplots(1, 2, figsize = [12, 5.5])\n",
    "\n",
    "        for i in range(len(in_list_df)):\n",
    "\n",
    "            currax = ax[i]\n",
    "            curr_title = in_list_df[i]['detail'].unique()[0]\n",
    "\n",
    "            sns.lineplot(data = in_list_df[i],\n",
    "                        x=\"bin\",\n",
    "                        y=\"value\",\n",
    "                        lw=2.5,\n",
    "                        ax = currax,\n",
    "                        color=in_colours[i]\n",
    "                        )\n",
    "            currax.set_xlabel(\"Position\",fontsize=14)\n",
    "            currax.set_ylabel(\"Fraction of Methylation\",fontsize=14)\n",
    "            currax.set_title(list_tables[i],fontsize=14)\n",
    "            currax.tick_params(labelsize=14)\n",
    "            plt.xticks(rotation=45)\n",
    "            currax.set_ylim([0, 1])\n",
    "\n",
    "        plt.tight_layout()\n",
    "        \n",
    "# --------"
   ]
  },
  {
   "cell_type": "code",
   "execution_count": 23,
   "metadata": {
    "pycharm": {
     "name": "#%%\n"
    }
   },
   "outputs": [
    {
     "data": {
      "text/html": [
       " "
      ],
      "text/plain": [
       "<IPython.core.display.HTML object>"
      ]
     },
     "execution_count": 23,
     "metadata": {},
     "output_type": "execute_result"
    },
    {
     "data": {
      "text/html": [
       "<h2 style=\"font-size:16px;\">Human Genome: M-bias plots of mean methylation along reads</h2>"
      ],
      "text/plain": [
       "<IPython.core.display.HTML object>"
      ]
     },
     "execution_count": 23,
     "metadata": {},
     "output_type": "execute_result"
    },
    {
     "data": {
      "text/html": [
       "<hr/>"
      ],
      "text/plain": [
       "<IPython.core.display.HTML object>"
      ]
     },
     "execution_count": 23,
     "metadata": {},
     "output_type": "execute_result"
    },
    {
     "data": {
      "image/png": "[encoded data removed]",
      "text/plain": [
       "<Figure size 864x396 with 2 Axes>"
      ]
     },
     "metadata": {},
     "output_type": "display_data"
    }
   ],
   "source": [
    "# Mbias: Mean methylation along reads\n",
    "# ========================================\n",
    "HTML(\" \")\n",
    "HTML(\"<h2 style=\\\"font-size:16px;\\\">\"+\"Human Genome: M-bias plots of mean methylation along reads\"+\"</h2>\")\n",
    "HTML(\"<hr/>\")\n",
    "\n",
    "tbl = 'Mbias'\n",
    "\n",
    "df_table = get_area_data(df_csv)[tbl]\n",
    "df_table = parse_metric_names(df_table)\n",
    "df_table = df_table.reset_index()\n",
    "df_table  = format_metric_names(df_table)\n",
    "df_table['bin'] = df_table['bin'].astype(int)\n",
    "# df_table['binned'] = np.arange(0,np.max(df_table['bin'])+7,10)\n",
    "\n",
    "\n",
    "list_tables = list(set(df_table['detail']))\n",
    "\n",
    "df_to_print = df_table.copy()\n",
    "df_to_print['stat_type'] =  df_to_print['metric'].str.extract(r'([A-Za-z]+)\\s')\n",
    "df_to_print['metric']  = df_to_print['metric'].str.title()\n",
    "\n",
    "list_df = [y for x, y in df_to_print.groupby(df_table['detail'], sort = False)]\n",
    "\n",
    "# plot the MBIAS tests\n",
    "plot_mbias(list_df)\n",
    "\n",
    "# ---------------\n"
   ]
  },
  {
   "cell_type": "code",
   "execution_count": 24,
   "metadata": {
    "pycharm": {
     "name": "#%%\n"
    }
   },
   "outputs": [
    {
     "data": {
      "text/html": [
       "<h2 style=\"font-size:14px;\">M-bias Descriptive Statistics</h2>"
      ],
      "text/plain": [
       "<IPython.core.display.HTML object>"
      ]
     },
     "execution_count": 24,
     "metadata": {},
     "output_type": "execute_result"
    },
    {
     "data": {
      "text/html": [
       " "
      ],
      "text/plain": [
       "<IPython.core.display.HTML object>"
      ]
     },
     "execution_count": 24,
     "metadata": {},
     "output_type": "execute_result"
    },
    {
     "data": {
      "text/html": [
       "<style type=\"text/css\">\n",
       "</style>\n",
       "<table id=\"T_6aa51_\" style='display:inline-table'>\n",
       "  <caption>OT</caption>\n",
       "  <thead>\n",
       "    <tr>\n",
       "      <th class=\"blank level0\" >&nbsp;</th>\n",
       "      <th class=\"col_heading level0 col0\" >metric</th>\n",
       "      <th class=\"col_heading level0 col1\" >value</th>\n",
       "    </tr>\n",
       "  </thead>\n",
       "  <tbody>\n",
       "    <tr>\n",
       "      <th id=\"T_6aa51_level0_row0\" class=\"row_heading level0 row0\" >0</th>\n",
       "      <td id=\"T_6aa51_row0_col0\" class=\"data row0 col0\" >Percent Methylation:  Mean</td>\n",
       "      <td id=\"T_6aa51_row0_col1\" class=\"data row0 col1\" >68.22%</td>\n",
       "    </tr>\n",
       "    <tr>\n",
       "      <th id=\"T_6aa51_level0_row1\" class=\"row_heading level0 row1\" >1</th>\n",
       "      <td id=\"T_6aa51_row1_col0\" class=\"data row1 col0\" >Percent Methylation:  Std</td>\n",
       "      <td id=\"T_6aa51_row1_col1\" class=\"data row1 col1\" >17.16%</td>\n",
       "    </tr>\n",
       "    <tr>\n",
       "      <th id=\"T_6aa51_level0_row2\" class=\"row_heading level0 row2\" >2</th>\n",
       "      <td id=\"T_6aa51_row2_col0\" class=\"data row2 col0\" >Percent Methylation:  Median</td>\n",
       "      <td id=\"T_6aa51_row2_col1\" class=\"data row2 col1\" >76.39%</td>\n",
       "    </tr>\n",
       "  </tbody>\n",
       "</table>\n",
       "  <style type=\"text/css\">\n",
       "</style>\n",
       "<table id=\"T_b88a3_\" style='display:inline-table'>\n",
       "  <caption>OB</caption>\n",
       "  <thead>\n",
       "    <tr>\n",
       "      <th class=\"blank level0\" >&nbsp;</th>\n",
       "      <th class=\"col_heading level0 col0\" >metric</th>\n",
       "      <th class=\"col_heading level0 col1\" >value</th>\n",
       "    </tr>\n",
       "  </thead>\n",
       "  <tbody>\n",
       "    <tr>\n",
       "      <th id=\"T_b88a3_level0_row0\" class=\"row_heading level0 row0\" >0</th>\n",
       "      <td id=\"T_b88a3_row0_col0\" class=\"data row0 col0\" >Percent Methylation:  Mean</td>\n",
       "      <td id=\"T_b88a3_row0_col1\" class=\"data row0 col1\" >66.78%</td>\n",
       "    </tr>\n",
       "    <tr>\n",
       "      <th id=\"T_b88a3_level0_row1\" class=\"row_heading level0 row1\" >1</th>\n",
       "      <td id=\"T_b88a3_row1_col0\" class=\"data row1 col0\" >Percent Methylation:  Std</td>\n",
       "      <td id=\"T_b88a3_row1_col1\" class=\"data row1 col1\" >20.58%</td>\n",
       "    </tr>\n",
       "    <tr>\n",
       "      <th id=\"T_b88a3_level0_row2\" class=\"row_heading level0 row2\" >2</th>\n",
       "      <td id=\"T_b88a3_row2_col0\" class=\"data row2 col0\" >Percent Methylation:  Median</td>\n",
       "      <td id=\"T_b88a3_row2_col1\" class=\"data row2 col1\" >77.11%</td>\n",
       "    </tr>\n",
       "  </tbody>\n",
       "</table>\n",
       "  "
      ],
      "text/plain": [
       "<IPython.core.display.HTML object>"
      ]
     },
     "metadata": {},
     "output_type": "display_data"
    }
   ],
   "source": [
    "# CONTINUES Mbias: Mean methylation along reads\n",
    "HTML(\"<h2 style=\\\"font-size:14px;\\\">\"+\"M-bias Descriptive Statistics\"+\"</h2>\")\n",
    "HTML(\" \")\n",
    "tbl = 'Mbias'\n",
    "\n",
    "df_table = get_descriptive_stats(df_csv)[tbl]\n",
    "# df_table = df_table.reset_index()\n",
    "df_table  = format_metric_names(df_table)\n",
    "\n",
    "df_to_print = df_table.copy()\n",
    "df_to_print['stat_type'] =  df_to_print['metric'].str.extract(r'([A-Za-z]+)\\s')\n",
    "df_to_print['metric']  = df_to_print['metric'].str.title()\n",
    "\n",
    "\n",
    "df_to_print['value'][df_to_print['stat_type'] == \"Percent\"] = (df_to_print['value'][df_to_print['stat_type'] == \"Percent\"]).map('{:,.2%}'.format)\n",
    "\n",
    "\n",
    "cols = ['metric','value']\n",
    "df_output = []\n",
    "df_output = [y for x, y in df_to_print.groupby('detail')]\n",
    "\n",
    "\n",
    "if (len(df_output) ==4):\n",
    "    order =[3,2,1,0]\n",
    "else:\n",
    "    order =[1,0]\n",
    "df_output = [df_output[i] for i in order]\n",
    "\n",
    "del(df_to_print)\n",
    "df_to_print = []\n",
    "temp_tables = []\n",
    "for l in df_output:\n",
    "    l = l.reset_index()\n",
    "    temp_tables.append(l['detail'][0])\n",
    "    df_to_print.append(l[cols])\n",
    "\n",
    "display_side_by_side(df_to_print, temp_tables)\n",
    "\n",
    "# ---------------\n"
   ]
  },
  {
   "cell_type": "code",
   "execution_count": 25,
   "metadata": {
    "pycharm": {
     "name": "#%%\n"
    }
   },
   "outputs": [
    {
     "data": {
      "text/html": [
       " "
      ],
      "text/plain": [
       "<IPython.core.display.HTML object>"
      ]
     },
     "execution_count": 25,
     "metadata": {},
     "output_type": "execute_result"
    },
    {
     "data": {
      "text/html": [
       "<h2 style=\"font-size:14px;\">Control Genomes: Methylation and Coverage</h2>"
      ],
      "text/plain": [
       "<IPython.core.display.HTML object>"
      ]
     },
     "execution_count": 25,
     "metadata": {},
     "output_type": "execute_result"
    },
    {
     "data": {
      "text/html": [
       "<hr/>"
      ],
      "text/plain": [
       "<IPython.core.display.HTML object>"
      ]
     },
     "execution_count": 25,
     "metadata": {},
     "output_type": "execute_result"
    },
    {
     "data": {
      "text/html": [
       " "
      ],
      "text/plain": [
       "<IPython.core.display.HTML object>"
      ]
     },
     "execution_count": 25,
     "metadata": {},
     "output_type": "execute_result"
    },
    {
     "data": {
      "image/png": "[encoded data removed]",
      "text/plain": [
       "<Figure size 864x360 with 2 Axes>"
      ]
     },
     "metadata": {},
     "output_type": "display_data"
    }
   ],
   "source": [
    "## Control genomes (if exist)\n",
    "# ------------------------------\n",
    "\n",
    "tbl = 'MergeContext'\n",
    "df_table = get_descriptive_stats(df_csv)[tbl]\n",
    "all_genomes = list(set(df_table['detail']))\n",
    "ctrl_genomes = ['Lambda', 'pUC19']\n",
    "\n",
    "check = all(item in all_genomes for item in ctrl_genomes)\n",
    "\n",
    "if check is True:\n",
    "\n",
    "    HTML(\" \")\n",
    "    HTML(\"<h2 style=\\\"font-size:14px;\\\">\"+\"Control Genomes: Methylation and Coverage\"+\"</h2>\")\n",
    "    HTML(\"<hr/>\")\n",
    "\n",
    "    # PRINT PLOTS OF PERCENT METHYLATION ACROSS ENTIRE CONTROL GENOMES \n",
    "    #-----------------------------------------------------------------\n",
    "    tbl = 'MergeContext'\n",
    "    df_table = pd.DataFrame()\n",
    "    df_table = get_area_data(df_csv)[tbl]\n",
    "    df_table = parse_metric_names(df_table)\n",
    "    df_table = df_table.reset_index()\n",
    "    df_table  = format_metric_names(df_table)\n",
    "    df_table['bin'] = df_table['bin'].astype(int)\n",
    "    df_output = [y for x, y in df_table.groupby('detail')]\n",
    "\n",
    "\n",
    "    df_pos_meth = []\n",
    "    n = 102\n",
    "    f, ax = plt.subplots(1, 2, figsize = [12, 5])\n",
    "    i = 0\n",
    "    palet = ['forestgreen','steelblue']\n",
    "\n",
    "    for df_pos_meth in df_output:\n",
    "        # get methylation per position\n",
    "        df_pos_meth = df_pos_meth.reset_index()\n",
    "        temp_genome = df_pos_meth['detail'].unique()[0]\n",
    "\n",
    "        # print to subplots\n",
    "        currax = ax[i]\n",
    "        s = df_pos_meth.plot(kind = 'area', ylim = [0,n],y  ='value' ,\n",
    "                                     title = temp_genome + \": Percent methylation\", \n",
    "                      legend=False, color=palet[i], alpha=0.6, ax = currax,\n",
    "                            fontsize=14)\n",
    "        a = currax.set(xlabel='Position', ylabel='Percent Methylation')\n",
    "        plt.style.use('ggplot')\n",
    "\n",
    "        i+=1\n",
    "\n",
    "    HTML(\" \")\n",
    "\n",
    "# --------\n"
   ]
  },
  {
   "cell_type": "code",
   "execution_count": 26,
   "metadata": {
    "pycharm": {
     "name": "#%%\n"
    }
   },
   "outputs": [
    {
     "data": {
      "text/html": [
       " "
      ],
      "text/plain": [
       "<IPython.core.display.HTML object>"
      ]
     },
     "execution_count": 26,
     "metadata": {},
     "output_type": "execute_result"
    },
    {
     "data": {
      "text/html": [
       "<h2 style=\"font-size:12px;\">Control Genomes: Methylation and Coverage Descriptive Statistics</h2>"
      ],
      "text/plain": [
       "<IPython.core.display.HTML object>"
      ]
     },
     "execution_count": 26,
     "metadata": {},
     "output_type": "execute_result"
    },
    {
     "data": {
      "text/html": [
       "<style type=\"text/css\">\n",
       "</style>\n",
       "<table id=\"T_ba7ab_\" style='display:inline-table'>\n",
       "  <caption>Lambda</caption>\n",
       "  <thead>\n",
       "    <tr>\n",
       "      <th class=\"blank level0\" >&nbsp;</th>\n",
       "      <th class=\"col_heading level0 col0\" >metric</th>\n",
       "      <th class=\"col_heading level0 col1\" >value</th>\n",
       "    </tr>\n",
       "  </thead>\n",
       "  <tbody>\n",
       "    <tr>\n",
       "      <th id=\"T_ba7ab_level0_row0\" class=\"row_heading level0 row0\" >0</th>\n",
       "      <td id=\"T_ba7ab_row0_col0\" class=\"data row0 col0\" >Percent Methylation:  Mean</td>\n",
       "      <td id=\"T_ba7ab_row0_col1\" class=\"data row0 col1\" >1.09%</td>\n",
       "    </tr>\n",
       "    <tr>\n",
       "      <th id=\"T_ba7ab_level0_row1\" class=\"row_heading level0 row1\" >1</th>\n",
       "      <td id=\"T_ba7ab_row1_col0\" class=\"data row1 col0\" >Percent Methylation:  Std</td>\n",
       "      <td id=\"T_ba7ab_row1_col1\" class=\"data row1 col1\" >2.68%</td>\n",
       "    </tr>\n",
       "    <tr>\n",
       "      <th id=\"T_ba7ab_level0_row2\" class=\"row_heading level0 row2\" >2</th>\n",
       "      <td id=\"T_ba7ab_row2_col0\" class=\"data row2 col0\" >Percent Methylation:  Median</td>\n",
       "      <td id=\"T_ba7ab_row2_col1\" class=\"data row2 col1\" >0.00%</td>\n",
       "    </tr>\n",
       "    <tr>\n",
       "      <th id=\"T_ba7ab_level0_row3\" class=\"row_heading level0 row3\" >3</th>\n",
       "      <td id=\"T_ba7ab_row3_col0\" class=\"data row3 col0\" >Coverage:  Mean</td>\n",
       "      <td id=\"T_ba7ab_row3_col1\" class=\"data row3 col1\" >41.17</td>\n",
       "    </tr>\n",
       "    <tr>\n",
       "      <th id=\"T_ba7ab_level0_row4\" class=\"row_heading level0 row4\" >4</th>\n",
       "      <td id=\"T_ba7ab_row4_col0\" class=\"data row4 col0\" >Coverage:  Std</td>\n",
       "      <td id=\"T_ba7ab_row4_col1\" class=\"data row4 col1\" >12.45</td>\n",
       "    </tr>\n",
       "    <tr>\n",
       "      <th id=\"T_ba7ab_level0_row5\" class=\"row_heading level0 row5\" >5</th>\n",
       "      <td id=\"T_ba7ab_row5_col0\" class=\"data row5 col0\" >Coverage:  Median</td>\n",
       "      <td id=\"T_ba7ab_row5_col1\" class=\"data row5 col1\" >42.00</td>\n",
       "    </tr>\n",
       "    <tr>\n",
       "      <th id=\"T_ba7ab_level0_row6\" class=\"row_heading level0 row6\" >6</th>\n",
       "      <td id=\"T_ba7ab_row6_col0\" class=\"data row6 col0\" >Total CpGs: </td>\n",
       "      <td id=\"T_ba7ab_row6_col1\" class=\"data row6 col1\" >3,113</td>\n",
       "    </tr>\n",
       "  </tbody>\n",
       "</table>\n",
       "  <style type=\"text/css\">\n",
       "</style>\n",
       "<table id=\"T_7c8b5_\" style='display:inline-table'>\n",
       "  <caption>pUC19</caption>\n",
       "  <thead>\n",
       "    <tr>\n",
       "      <th class=\"blank level0\" >&nbsp;</th>\n",
       "      <th class=\"col_heading level0 col0\" >metric</th>\n",
       "      <th class=\"col_heading level0 col1\" >value</th>\n",
       "    </tr>\n",
       "  </thead>\n",
       "  <tbody>\n",
       "    <tr>\n",
       "      <th id=\"T_7c8b5_level0_row0\" class=\"row_heading level0 row0\" >0</th>\n",
       "      <td id=\"T_7c8b5_row0_col0\" class=\"data row0 col0\" >Percent Methylation:  Mean</td>\n",
       "      <td id=\"T_7c8b5_row0_col1\" class=\"data row0 col1\" >84.29%</td>\n",
       "    </tr>\n",
       "    <tr>\n",
       "      <th id=\"T_7c8b5_level0_row1\" class=\"row_heading level0 row1\" >1</th>\n",
       "      <td id=\"T_7c8b5_row1_col0\" class=\"data row1 col0\" >Percent Methylation:  Std</td>\n",
       "      <td id=\"T_7c8b5_row1_col1\" class=\"data row1 col1\" >7.52%</td>\n",
       "    </tr>\n",
       "    <tr>\n",
       "      <th id=\"T_7c8b5_level0_row2\" class=\"row_heading level0 row2\" >2</th>\n",
       "      <td id=\"T_7c8b5_row2_col0\" class=\"data row2 col0\" >Percent Methylation:  Median</td>\n",
       "      <td id=\"T_7c8b5_row2_col1\" class=\"data row2 col1\" >84.00%</td>\n",
       "    </tr>\n",
       "    <tr>\n",
       "      <th id=\"T_7c8b5_level0_row3\" class=\"row_heading level0 row3\" >3</th>\n",
       "      <td id=\"T_7c8b5_row3_col0\" class=\"data row3 col0\" >Coverage:  Mean</td>\n",
       "      <td id=\"T_7c8b5_row3_col1\" class=\"data row3 col1\" >44.86</td>\n",
       "    </tr>\n",
       "    <tr>\n",
       "      <th id=\"T_7c8b5_level0_row4\" class=\"row_heading level0 row4\" >4</th>\n",
       "      <td id=\"T_7c8b5_row4_col0\" class=\"data row4 col0\" >Coverage:  Std</td>\n",
       "      <td id=\"T_7c8b5_row4_col1\" class=\"data row4 col1\" >12.10</td>\n",
       "    </tr>\n",
       "    <tr>\n",
       "      <th id=\"T_7c8b5_level0_row5\" class=\"row_heading level0 row5\" >5</th>\n",
       "      <td id=\"T_7c8b5_row5_col0\" class=\"data row5 col0\" >Coverage:  Median</td>\n",
       "      <td id=\"T_7c8b5_row5_col1\" class=\"data row5 col1\" >46.00</td>\n",
       "    </tr>\n",
       "    <tr>\n",
       "      <th id=\"T_7c8b5_level0_row6\" class=\"row_heading level0 row6\" >6</th>\n",
       "      <td id=\"T_7c8b5_row6_col0\" class=\"data row6 col0\" >Total CpGs: </td>\n",
       "      <td id=\"T_7c8b5_row6_col1\" class=\"data row6 col1\" >173</td>\n",
       "    </tr>\n",
       "  </tbody>\n",
       "</table>\n",
       "  "
      ],
      "text/plain": [
       "<IPython.core.display.HTML object>"
      ]
     },
     "metadata": {},
     "output_type": "display_data"
    }
   ],
   "source": [
    "## Control genomes (if exist)\n",
    "# ------------------------------\n",
    "HTML(\" \")\n",
    "\n",
    "tbl = 'MergeContext'\n",
    "df_table = get_descriptive_stats(df_csv)[tbl]\n",
    "all_genomes = list(set(df_table['detail']))\n",
    "ctrl_genomes = ['Lambda', 'pUC19']\n",
    "\n",
    "check = all(item in all_genomes for item in ctrl_genomes)\n",
    "\n",
    "if check is True:\n",
    "\n",
    "    HTML(\"<h2 style=\\\"font-size:12px;\\\">\"+\"Control Genomes: Methylation and Coverage Descriptive Statistics\"+\"</h2>\")\n",
    "    # HTML(\"<hr/>\")\n",
    "    tbl = 'MergeContext'\n",
    "    genome = 'hg'\n",
    "    df_to_print = pd.DataFrame()\n",
    "    df_table = df_table[df_table['detail'] != genome]\n",
    "    df_table = df_table.reset_index()\n",
    "    df_table  = format_metric_names(df_table)\n",
    "\n",
    "    df_table['stat_type']=  df_table['metric'].str.extract(r'([A-Za-z]+)[\\s:]')\n",
    "    df_table['metric']  = df_table['metric'].str.title()\n",
    "    df_table['value'][df_table['stat_type'] == \"Percent\"] = (df_table['value'][df_table['stat_type'] == \"Percent\"]/100).map('{:,.2%}'.format)\n",
    "    df_table['value'][df_table['stat_type'] == \"Coverage\"] = df_table['value'][df_table['stat_type'] == \"Coverage\"].map('{:,.2f}'.format)\n",
    "    df_table['value'][df_table['stat_type'] == \"Total\"] = df_table['value'][df_table['stat_type'] == \"Total\"].map('{:,.0f}'.format)\n",
    "    df_table['metric']= df_table['metric'].str.replace(r'Cpgs', 'CpGs', regex=True)\n",
    "\n",
    "    table_names = df_table['detail'].unique()\n",
    "    cols = ['metric','value', 'detail']\n",
    "    df_output = []\n",
    "    df_output = [y for x, y in df_table.groupby('detail')]\n",
    "\n",
    "    df_to_print = []\n",
    "    cols = ['metric','value']\n",
    "    for l in df_output:\n",
    "        l = l.reset_index()\n",
    "    #     HTML(\"<h2 style=\\\"font-size:12px;\\\">\"+l['detail'][0]+\"</h2>\")\n",
    "    #     display(l[cols])\n",
    "        df_to_print.append(l[cols])\n",
    "\n",
    "    display_side_by_side(df_to_print, table_names)\n",
    "    \n",
    "    #--------\n"
   ]
  },
  {
   "cell_type": "code",
   "execution_count": 27,
   "metadata": {
    "pycharm": {
     "name": "#%%\n"
    }
   },
   "outputs": [],
   "source": [
    "# function for printing bar plots of methylation and coverage at CpGs \n",
    "def plot_bar_distrib (in_table):\n",
    "    i =0\n",
    "    in_colours = ['salmon','tomato']\n",
    "    curr_genome = \"Human Genome\"\n",
    "    cols = ['bin','value']\n",
    "    n_rows = in_table.shape[0]\n",
    "    if ( n_rows > 10 ):\n",
    "        h = 5\n",
    "        w = 13.5\n",
    "        n = 2\n",
    "\n",
    "        in_list_df = [y for x, y in in_table.groupby(df_table['metric'], sort = False)]\n",
    "\n",
    "        f, ax = plt.subplots(1, n, figsize = [w, h])\n",
    "\n",
    "        for i in range(len(in_list_df)):\n",
    "\n",
    "            currax = ax[i]\n",
    "            y_axis_label = in_list_df[i]['metric'].unique()[0]\n",
    "            y_axis_label = y_axis_label.replace(\":\", \"\" )\n",
    "            x_axis_label =\"Value Bins\"\n",
    "            curr_title = curr_genome + \": \" + y_axis_label\n",
    "            \n",
    "            sns.barplot(data = in_list_df[i],\n",
    "                        x=\"bin\",\n",
    "                        y=\"value\",\n",
    "                        lw=2.5,\n",
    "                        ax = currax,\n",
    "                        color=in_colours[i]\n",
    "                        )\n",
    "            currax.set_xlabel(x_axis_label,fontsize=14)\n",
    "            currax.set_ylabel(y_axis_label,fontsize=14)\n",
    "            currax.set_title(curr_title,fontsize=13)\n",
    "            currax.tick_params(labelsize=14)\n",
    "            f.axes[i].tick_params(labelrotation=45)\n",
    "\n",
    "    else: \n",
    "        h = 5\n",
    "        w = 5.5\n",
    "        n = 1\n",
    "\n",
    "        f, ax = plt.subplots(n, n, figsize = [w, h])\n",
    "\n",
    "        y_axis_label = in_table['metric'].unique()[0]\n",
    "        y_axis_label = y_axis_label.replace(\":\", \"\" )\n",
    "        curr_title = curr_genome + \": \" + y_axis_label\n",
    "\n",
    "        sns.barplot(data = in_table,\n",
    "                    x=\"bin\",\n",
    "                    y=\"value\",\n",
    "                    lw=2.5,\n",
    "                    ax = ax,\n",
    "                    color=in_colours[i]\n",
    "                    )\n",
    "        ax.set_xlabel(\"Value Bins\",fontsize=14)\n",
    "        ax.set_ylabel(y_axis_label,fontsize=14)\n",
    "        ax.set_title(curr_title,fontsize=13)\n",
    "        ax.tick_params(labelsize=14)\n",
    "        plt.xticks(rotation=45)\n",
    "\n",
    "#--------\n"
   ]
  },
  {
   "cell_type": "code",
   "execution_count": 28,
   "metadata": {
    "pycharm": {
     "name": "#%%\n"
    }
   },
   "outputs": [
    {
     "data": {
      "text/html": [
       " "
      ],
      "text/plain": [
       "<IPython.core.display.HTML object>"
      ]
     },
     "execution_count": 28,
     "metadata": {},
     "output_type": "execute_result"
    },
    {
     "data": {
      "text/html": [
       "<hr/>"
      ],
      "text/plain": [
       "<IPython.core.display.HTML object>"
      ]
     },
     "execution_count": 28,
     "metadata": {},
     "output_type": "execute_result"
    },
    {
     "data": {
      "text/html": [
       "<h2 style=\"font-size:16px;\">Human Genome: Additional Details of CpG Methylation and Coverage</h2>"
      ],
      "text/plain": [
       "<IPython.core.display.HTML object>"
      ]
     },
     "execution_count": 28,
     "metadata": {},
     "output_type": "execute_result"
    },
    {
     "data": {
      "text/html": [
       "<hr/>"
      ],
      "text/plain": [
       "<IPython.core.display.HTML object>"
      ]
     },
     "execution_count": 28,
     "metadata": {},
     "output_type": "execute_result"
    },
    {
     "data": {
      "text/html": [
       " "
      ],
      "text/plain": [
       "<IPython.core.display.HTML object>"
      ]
     },
     "execution_count": 28,
     "metadata": {},
     "output_type": "execute_result"
    },
    {
     "data": {
      "image/png": "[encoded data removed]",
      "text/plain": [
       "<Figure size 396x360 with 1 Axes>"
      ]
     },
     "metadata": {},
     "output_type": "display_data"
    },
    {
     "data": {
      "image/png": "[encoded data removed]",
      "text/plain": [
       "<Figure size 972x360 with 2 Axes>"
      ]
     },
     "metadata": {},
     "output_type": "display_data"
    }
   ],
   "source": [
    "# print details of mergeCOntext plots of CpG Methylation and Coverage\n",
    "# -----------------------------\n",
    "# main statistics table\n",
    "# --------------------------\n",
    "tbl = 'MergeContext'\n",
    "genome = 'hg'\n",
    "df_table = get_histogram_data(df_csv)[tbl]\n",
    "df_table = df_table[df_table['detail'] == genome]\n",
    "df_table = parse_metric_names(df_table)\n",
    "df_table = format_metric_names(df_table)\n",
    "df_table['stat_type'] =  df_table['metric'].str.extract(r'([A-Za-z]+):')\n",
    "\n",
    "\n",
    "HTML(\" \")\n",
    "HTML(\"<hr/>\")\n",
    "HTML(\"<h2 style=\\\"font-size:16px;\\\">\"+\"Human Genome: Additional Details of CpG Methylation and Coverage\"+\"</h2>\")\n",
    "HTML(\"<hr/>\")\n",
    "HTML(\" \")\n",
    "\n",
    "list_df = [y for x, y in df_table.groupby(df_table['stat_type'], sort = False)]\n",
    "\n",
    "for df_to_plot in list_df:\n",
    "    plot_bar_distrib(df_to_plot)\n",
    "\n",
    "#--------\n"
   ]
  },
  {
   "cell_type": "code",
   "execution_count": 29,
   "metadata": {},
   "outputs": [
    {
     "data": {
      "text/html": [
       " "
      ],
      "text/plain": [
       "<IPython.core.display.HTML object>"
      ]
     },
     "execution_count": 29,
     "metadata": {},
     "output_type": "execute_result"
    },
    {
     "data": {
      "text/html": [
       "<h2 style=\"font-size:12px;\">Human Genome: Values of CpG Methylation and Coverage</h2>"
      ],
      "text/plain": [
       "<IPython.core.display.HTML object>"
      ]
     },
     "execution_count": 29,
     "metadata": {},
     "output_type": "execute_result"
    },
    {
     "data": {
      "text/html": [
       " "
      ],
      "text/plain": [
       "<IPython.core.display.HTML object>"
      ]
     },
     "execution_count": 29,
     "metadata": {},
     "output_type": "execute_result"
    },
    {
     "data": {
      "text/html": [
       "<style type=\"text/css\">\n",
       "</style>\n",
       "<table id=\"T_ef07d_\" style='display:inline-table'>\n",
       "  <caption>Percent Methylation </caption>\n",
       "  <thead>\n",
       "    <tr>\n",
       "      <th class=\"blank level0\" >&nbsp;</th>\n",
       "      <th class=\"col_heading level0 col0\" >bin</th>\n",
       "      <th class=\"col_heading level0 col1\" >value</th>\n",
       "    </tr>\n",
       "  </thead>\n",
       "  <tbody>\n",
       "    <tr>\n",
       "      <th id=\"T_ef07d_level0_row0\" class=\"row_heading level0 row0\" >0</th>\n",
       "      <td id=\"T_ef07d_row0_col0\" class=\"data row0 col0\" >10</td>\n",
       "      <td id=\"T_ef07d_row0_col1\" class=\"data row0 col1\" >2,485,719</td>\n",
       "    </tr>\n",
       "    <tr>\n",
       "      <th id=\"T_ef07d_level0_row1\" class=\"row_heading level0 row1\" >1</th>\n",
       "      <td id=\"T_ef07d_row1_col0\" class=\"data row1 col0\" >20</td>\n",
       "      <td id=\"T_ef07d_row1_col1\" class=\"data row1 col1\" >476,103</td>\n",
       "    </tr>\n",
       "    <tr>\n",
       "      <th id=\"T_ef07d_level0_row2\" class=\"row_heading level0 row2\" >2</th>\n",
       "      <td id=\"T_ef07d_row2_col0\" class=\"data row2 col0\" >30</td>\n",
       "      <td id=\"T_ef07d_row2_col1\" class=\"data row2 col1\" >408,225</td>\n",
       "    </tr>\n",
       "    <tr>\n",
       "      <th id=\"T_ef07d_level0_row3\" class=\"row_heading level0 row3\" >3</th>\n",
       "      <td id=\"T_ef07d_row3_col0\" class=\"data row3 col0\" >40</td>\n",
       "      <td id=\"T_ef07d_row3_col1\" class=\"data row3 col1\" >500,593</td>\n",
       "    </tr>\n",
       "    <tr>\n",
       "      <th id=\"T_ef07d_level0_row4\" class=\"row_heading level0 row4\" >4</th>\n",
       "      <td id=\"T_ef07d_row4_col0\" class=\"data row4 col0\" >50</td>\n",
       "      <td id=\"T_ef07d_row4_col1\" class=\"data row4 col1\" >688,984</td>\n",
       "    </tr>\n",
       "    <tr>\n",
       "      <th id=\"T_ef07d_level0_row5\" class=\"row_heading level0 row5\" >5</th>\n",
       "      <td id=\"T_ef07d_row5_col0\" class=\"data row5 col0\" >60</td>\n",
       "      <td id=\"T_ef07d_row5_col1\" class=\"data row5 col1\" >944,741</td>\n",
       "    </tr>\n",
       "    <tr>\n",
       "      <th id=\"T_ef07d_level0_row6\" class=\"row_heading level0 row6\" >6</th>\n",
       "      <td id=\"T_ef07d_row6_col0\" class=\"data row6 col0\" >70</td>\n",
       "      <td id=\"T_ef07d_row6_col1\" class=\"data row6 col1\" >1,241,455</td>\n",
       "    </tr>\n",
       "    <tr>\n",
       "      <th id=\"T_ef07d_level0_row7\" class=\"row_heading level0 row7\" >7</th>\n",
       "      <td id=\"T_ef07d_row7_col0\" class=\"data row7 col0\" >80</td>\n",
       "      <td id=\"T_ef07d_row7_col1\" class=\"data row7 col1\" >1,908,668</td>\n",
       "    </tr>\n",
       "    <tr>\n",
       "      <th id=\"T_ef07d_level0_row8\" class=\"row_heading level0 row8\" >8</th>\n",
       "      <td id=\"T_ef07d_row8_col0\" class=\"data row8 col0\" >90</td>\n",
       "      <td id=\"T_ef07d_row8_col1\" class=\"data row8 col1\" >3,870,855</td>\n",
       "    </tr>\n",
       "    <tr>\n",
       "      <th id=\"T_ef07d_level0_row9\" class=\"row_heading level0 row9\" >9</th>\n",
       "      <td id=\"T_ef07d_row9_col0\" class=\"data row9 col0\" >100</td>\n",
       "      <td id=\"T_ef07d_row9_col1\" class=\"data row9 col1\" >13,105,114</td>\n",
       "    </tr>\n",
       "  </tbody>\n",
       "</table>\n",
       "  <style type=\"text/css\">\n",
       "</style>\n",
       "<table id=\"T_dab31_\" style='display:inline-table'>\n",
       "  <caption>Coverage </caption>\n",
       "  <thead>\n",
       "    <tr>\n",
       "      <th class=\"blank level0\" >&nbsp;</th>\n",
       "      <th class=\"col_heading level0 col0\" >bin</th>\n",
       "      <th class=\"col_heading level0 col1\" >value</th>\n",
       "    </tr>\n",
       "  </thead>\n",
       "  <tbody>\n",
       "    <tr>\n",
       "      <th id=\"T_dab31_level0_row0\" class=\"row_heading level0 row0\" >0</th>\n",
       "      <td id=\"T_dab31_row0_col0\" class=\"data row0 col0\" >10</td>\n",
       "      <td id=\"T_dab31_row0_col1\" class=\"data row0 col1\" >396,254</td>\n",
       "    </tr>\n",
       "    <tr>\n",
       "      <th id=\"T_dab31_level0_row1\" class=\"row_heading level0 row1\" >1</th>\n",
       "      <td id=\"T_dab31_row1_col0\" class=\"data row1 col0\" >20</td>\n",
       "      <td id=\"T_dab31_row1_col1\" class=\"data row1 col1\" >507,652</td>\n",
       "    </tr>\n",
       "    <tr>\n",
       "      <th id=\"T_dab31_level0_row2\" class=\"row_heading level0 row2\" >2</th>\n",
       "      <td id=\"T_dab31_row2_col0\" class=\"data row2 col0\" >30</td>\n",
       "      <td id=\"T_dab31_row2_col1\" class=\"data row2 col1\" >892,114</td>\n",
       "    </tr>\n",
       "    <tr>\n",
       "      <th id=\"T_dab31_level0_row3\" class=\"row_heading level0 row3\" >3</th>\n",
       "      <td id=\"T_dab31_row3_col0\" class=\"data row3 col0\" >40</td>\n",
       "      <td id=\"T_dab31_row3_col1\" class=\"data row3 col1\" >1,435,905</td>\n",
       "    </tr>\n",
       "    <tr>\n",
       "      <th id=\"T_dab31_level0_row4\" class=\"row_heading level0 row4\" >4</th>\n",
       "      <td id=\"T_dab31_row4_col0\" class=\"data row4 col0\" >50</td>\n",
       "      <td id=\"T_dab31_row4_col1\" class=\"data row4 col1\" >2,108,655</td>\n",
       "    </tr>\n",
       "    <tr>\n",
       "      <th id=\"T_dab31_level0_row5\" class=\"row_heading level0 row5\" >5</th>\n",
       "      <td id=\"T_dab31_row5_col0\" class=\"data row5 col0\" >60</td>\n",
       "      <td id=\"T_dab31_row5_col1\" class=\"data row5 col1\" >2,846,662</td>\n",
       "    </tr>\n",
       "    <tr>\n",
       "      <th id=\"T_dab31_level0_row6\" class=\"row_heading level0 row6\" >6</th>\n",
       "      <td id=\"T_dab31_row6_col0\" class=\"data row6 col0\" >70</td>\n",
       "      <td id=\"T_dab31_row6_col1\" class=\"data row6 col1\" >3,483,112</td>\n",
       "    </tr>\n",
       "    <tr>\n",
       "      <th id=\"T_dab31_level0_row7\" class=\"row_heading level0 row7\" >7</th>\n",
       "      <td id=\"T_dab31_row7_col0\" class=\"data row7 col0\" >80</td>\n",
       "      <td id=\"T_dab31_row7_col1\" class=\"data row7 col1\" >3,771,747</td>\n",
       "    </tr>\n",
       "    <tr>\n",
       "      <th id=\"T_dab31_level0_row8\" class=\"row_heading level0 row8\" >8</th>\n",
       "      <td id=\"T_dab31_row8_col0\" class=\"data row8 col0\" >90</td>\n",
       "      <td id=\"T_dab31_row8_col1\" class=\"data row8 col1\" >3,521,681</td>\n",
       "    </tr>\n",
       "    <tr>\n",
       "      <th id=\"T_dab31_level0_row9\" class=\"row_heading level0 row9\" >9</th>\n",
       "      <td id=\"T_dab31_row9_col0\" class=\"data row9 col0\" >100</td>\n",
       "      <td id=\"T_dab31_row9_col1\" class=\"data row9 col1\" >2,805,570</td>\n",
       "    </tr>\n",
       "    <tr>\n",
       "      <th id=\"T_dab31_level0_row10\" class=\"row_heading level0 row10\" >10</th>\n",
       "      <td id=\"T_dab31_row10_col0\" class=\"data row10 col0\" >110</td>\n",
       "      <td id=\"T_dab31_row10_col1\" class=\"data row10 col1\" >1,886,098</td>\n",
       "    </tr>\n",
       "    <tr>\n",
       "      <th id=\"T_dab31_level0_row11\" class=\"row_heading level0 row11\" >11</th>\n",
       "      <td id=\"T_dab31_row11_col0\" class=\"data row11 col0\" >120</td>\n",
       "      <td id=\"T_dab31_row11_col1\" class=\"data row11 col1\" >1,071,888</td>\n",
       "    </tr>\n",
       "    <tr>\n",
       "      <th id=\"T_dab31_level0_row12\" class=\"row_heading level0 row12\" >12</th>\n",
       "      <td id=\"T_dab31_row12_col0\" class=\"data row12 col0\" >130</td>\n",
       "      <td id=\"T_dab31_row12_col1\" class=\"data row12 col1\" >525,895</td>\n",
       "    </tr>\n",
       "    <tr>\n",
       "      <th id=\"T_dab31_level0_row13\" class=\"row_heading level0 row13\" >13</th>\n",
       "      <td id=\"T_dab31_row13_col0\" class=\"data row13 col0\" >140</td>\n",
       "      <td id=\"T_dab31_row13_col1\" class=\"data row13 col1\" >223,662</td>\n",
       "    </tr>\n",
       "    <tr>\n",
       "      <th id=\"T_dab31_level0_row14\" class=\"row_heading level0 row14\" >14</th>\n",
       "      <td id=\"T_dab31_row14_col0\" class=\"data row14 col0\" >150</td>\n",
       "      <td id=\"T_dab31_row14_col1\" class=\"data row14 col1\" >85,752</td>\n",
       "    </tr>\n",
       "    <tr>\n",
       "      <th id=\"T_dab31_level0_row15\" class=\"row_heading level0 row15\" >15</th>\n",
       "      <td id=\"T_dab31_row15_col0\" class=\"data row15 col0\" >160</td>\n",
       "      <td id=\"T_dab31_row15_col1\" class=\"data row15 col1\" >30,850</td>\n",
       "    </tr>\n",
       "    <tr>\n",
       "      <th id=\"T_dab31_level0_row16\" class=\"row_heading level0 row16\" >16</th>\n",
       "      <td id=\"T_dab31_row16_col0\" class=\"data row16 col0\" >170</td>\n",
       "      <td id=\"T_dab31_row16_col1\" class=\"data row16 col1\" >11,669</td>\n",
       "    </tr>\n",
       "    <tr>\n",
       "      <th id=\"T_dab31_level0_row17\" class=\"row_heading level0 row17\" >17</th>\n",
       "      <td id=\"T_dab31_row17_col0\" class=\"data row17 col0\" >180</td>\n",
       "      <td id=\"T_dab31_row17_col1\" class=\"data row17 col1\" >5,638</td>\n",
       "    </tr>\n",
       "    <tr>\n",
       "      <th id=\"T_dab31_level0_row18\" class=\"row_heading level0 row18\" >18</th>\n",
       "      <td id=\"T_dab31_row18_col0\" class=\"data row18 col0\" >190</td>\n",
       "      <td id=\"T_dab31_row18_col1\" class=\"data row18 col1\" >3,348</td>\n",
       "    </tr>\n",
       "    <tr>\n",
       "      <th id=\"T_dab31_level0_row19\" class=\"row_heading level0 row19\" >19</th>\n",
       "      <td id=\"T_dab31_row19_col0\" class=\"data row19 col0\" >200</td>\n",
       "      <td id=\"T_dab31_row19_col1\" class=\"data row19 col1\" >16,305</td>\n",
       "    </tr>\n",
       "  </tbody>\n",
       "</table>\n",
       "  <style type=\"text/css\">\n",
       "</style>\n",
       "<table id=\"T_436da_\" style='display:inline-table'>\n",
       "  <caption>Cumulative Coverage </caption>\n",
       "  <thead>\n",
       "    <tr>\n",
       "      <th class=\"blank level0\" >&nbsp;</th>\n",
       "      <th class=\"col_heading level0 col0\" >bin</th>\n",
       "      <th class=\"col_heading level0 col1\" >value</th>\n",
       "    </tr>\n",
       "  </thead>\n",
       "  <tbody>\n",
       "    <tr>\n",
       "      <th id=\"T_436da_level0_row0\" class=\"row_heading level0 row0\" >0</th>\n",
       "      <td id=\"T_436da_row0_col0\" class=\"data row0 col0\" >10</td>\n",
       "      <td id=\"T_436da_row0_col1\" class=\"data row0 col1\" >1.55%</td>\n",
       "    </tr>\n",
       "    <tr>\n",
       "      <th id=\"T_436da_level0_row1\" class=\"row_heading level0 row1\" >1</th>\n",
       "      <td id=\"T_436da_row1_col0\" class=\"data row1 col0\" >20</td>\n",
       "      <td id=\"T_436da_row1_col1\" class=\"data row1 col1\" >3.53%</td>\n",
       "    </tr>\n",
       "    <tr>\n",
       "      <th id=\"T_436da_level0_row2\" class=\"row_heading level0 row2\" >2</th>\n",
       "      <td id=\"T_436da_row2_col0\" class=\"data row2 col0\" >30</td>\n",
       "      <td id=\"T_436da_row2_col1\" class=\"data row2 col1\" >7.01%</td>\n",
       "    </tr>\n",
       "    <tr>\n",
       "      <th id=\"T_436da_level0_row3\" class=\"row_heading level0 row3\" >3</th>\n",
       "      <td id=\"T_436da_row3_col0\" class=\"data row3 col0\" >40</td>\n",
       "      <td id=\"T_436da_row3_col1\" class=\"data row3 col1\" >12.61%</td>\n",
       "    </tr>\n",
       "    <tr>\n",
       "      <th id=\"T_436da_level0_row4\" class=\"row_heading level0 row4\" >4</th>\n",
       "      <td id=\"T_436da_row4_col0\" class=\"data row4 col0\" >50</td>\n",
       "      <td id=\"T_436da_row4_col1\" class=\"data row4 col1\" >20.84%</td>\n",
       "    </tr>\n",
       "    <tr>\n",
       "      <th id=\"T_436da_level0_row5\" class=\"row_heading level0 row5\" >5</th>\n",
       "      <td id=\"T_436da_row5_col0\" class=\"data row5 col0\" >60</td>\n",
       "      <td id=\"T_436da_row5_col1\" class=\"data row5 col1\" >31.94%</td>\n",
       "    </tr>\n",
       "    <tr>\n",
       "      <th id=\"T_436da_level0_row6\" class=\"row_heading level0 row6\" >6</th>\n",
       "      <td id=\"T_436da_row6_col0\" class=\"data row6 col0\" >70</td>\n",
       "      <td id=\"T_436da_row6_col1\" class=\"data row6 col1\" >45.53%</td>\n",
       "    </tr>\n",
       "    <tr>\n",
       "      <th id=\"T_436da_level0_row7\" class=\"row_heading level0 row7\" >7</th>\n",
       "      <td id=\"T_436da_row7_col0\" class=\"data row7 col0\" >80</td>\n",
       "      <td id=\"T_436da_row7_col1\" class=\"data row7 col1\" >60.25%</td>\n",
       "    </tr>\n",
       "    <tr>\n",
       "      <th id=\"T_436da_level0_row8\" class=\"row_heading level0 row8\" >8</th>\n",
       "      <td id=\"T_436da_row8_col0\" class=\"data row8 col0\" >90</td>\n",
       "      <td id=\"T_436da_row8_col1\" class=\"data row8 col1\" >73.99%</td>\n",
       "    </tr>\n",
       "    <tr>\n",
       "      <th id=\"T_436da_level0_row9\" class=\"row_heading level0 row9\" >9</th>\n",
       "      <td id=\"T_436da_row9_col0\" class=\"data row9 col0\" >100</td>\n",
       "      <td id=\"T_436da_row9_col1\" class=\"data row9 col1\" >84.94%</td>\n",
       "    </tr>\n",
       "    <tr>\n",
       "      <th id=\"T_436da_level0_row10\" class=\"row_heading level0 row10\" >10</th>\n",
       "      <td id=\"T_436da_row10_col0\" class=\"data row10 col0\" >110</td>\n",
       "      <td id=\"T_436da_row10_col1\" class=\"data row10 col1\" >92.29%</td>\n",
       "    </tr>\n",
       "    <tr>\n",
       "      <th id=\"T_436da_level0_row11\" class=\"row_heading level0 row11\" >11</th>\n",
       "      <td id=\"T_436da_row11_col0\" class=\"data row11 col0\" >120</td>\n",
       "      <td id=\"T_436da_row11_col1\" class=\"data row11 col1\" >96.48%</td>\n",
       "    </tr>\n",
       "    <tr>\n",
       "      <th id=\"T_436da_level0_row12\" class=\"row_heading level0 row12\" >12</th>\n",
       "      <td id=\"T_436da_row12_col0\" class=\"data row12 col0\" >130</td>\n",
       "      <td id=\"T_436da_row12_col1\" class=\"data row12 col1\" >98.53%</td>\n",
       "    </tr>\n",
       "    <tr>\n",
       "      <th id=\"T_436da_level0_row13\" class=\"row_heading level0 row13\" >13</th>\n",
       "      <td id=\"T_436da_row13_col0\" class=\"data row13 col0\" >140</td>\n",
       "      <td id=\"T_436da_row13_col1\" class=\"data row13 col1\" >99.40%</td>\n",
       "    </tr>\n",
       "    <tr>\n",
       "      <th id=\"T_436da_level0_row14\" class=\"row_heading level0 row14\" >14</th>\n",
       "      <td id=\"T_436da_row14_col0\" class=\"data row14 col0\" >150</td>\n",
       "      <td id=\"T_436da_row14_col1\" class=\"data row14 col1\" >99.74%</td>\n",
       "    </tr>\n",
       "    <tr>\n",
       "      <th id=\"T_436da_level0_row15\" class=\"row_heading level0 row15\" >15</th>\n",
       "      <td id=\"T_436da_row15_col0\" class=\"data row15 col0\" >160</td>\n",
       "      <td id=\"T_436da_row15_col1\" class=\"data row15 col1\" >99.86%</td>\n",
       "    </tr>\n",
       "    <tr>\n",
       "      <th id=\"T_436da_level0_row16\" class=\"row_heading level0 row16\" >16</th>\n",
       "      <td id=\"T_436da_row16_col0\" class=\"data row16 col0\" >170</td>\n",
       "      <td id=\"T_436da_row16_col1\" class=\"data row16 col1\" >99.90%</td>\n",
       "    </tr>\n",
       "    <tr>\n",
       "      <th id=\"T_436da_level0_row17\" class=\"row_heading level0 row17\" >17</th>\n",
       "      <td id=\"T_436da_row17_col0\" class=\"data row17 col0\" >180</td>\n",
       "      <td id=\"T_436da_row17_col1\" class=\"data row17 col1\" >99.92%</td>\n",
       "    </tr>\n",
       "    <tr>\n",
       "      <th id=\"T_436da_level0_row18\" class=\"row_heading level0 row18\" >18</th>\n",
       "      <td id=\"T_436da_row18_col0\" class=\"data row18 col0\" >190</td>\n",
       "      <td id=\"T_436da_row18_col1\" class=\"data row18 col1\" >99.94%</td>\n",
       "    </tr>\n",
       "    <tr>\n",
       "      <th id=\"T_436da_level0_row19\" class=\"row_heading level0 row19\" >19</th>\n",
       "      <td id=\"T_436da_row19_col0\" class=\"data row19 col0\" >200</td>\n",
       "      <td id=\"T_436da_row19_col1\" class=\"data row19 col1\" >100.00%</td>\n",
       "    </tr>\n",
       "  </tbody>\n",
       "</table>\n",
       "  "
      ],
      "text/plain": [
       "<IPython.core.display.HTML object>"
      ]
     },
     "metadata": {},
     "output_type": "display_data"
    }
   ],
   "source": [
    "# print details of figures\n",
    "# --------------------------\n",
    "HTML(\" \")\n",
    "HTML(\"<h2 style=\\\"font-size:12px;\\\">\"+\"Human Genome: Values of CpG Methylation and Coverage\"+\"</h2>\")\n",
    "HTML(\" \")\n",
    "\n",
    "list_df = [y for x, y in df_table.groupby(df_table['metric'], sort = False)]\n",
    "\n",
    "df_to_print = []\n",
    "temp_tables = []\n",
    "cols = ['bin','value']\n",
    "for i, sub_df in enumerate(list_df):\n",
    "    sub_df = sub_df.reset_index()\n",
    "    if(i<2):\n",
    "        sub_df['value'] = sub_df['value'].map('{:,.0f}'.format) \n",
    "    else:\n",
    "        sub_df['value'] = sub_df['value'].map('{:,.2%}'.format) \n",
    "    temp_tables.append(sub_df['metric'][0].replace(\":\", \"\" ))\n",
    "    df_to_print.append(sub_df[cols])\n",
    "    \n",
    "\n",
    "display_side_by_side(df_to_print, temp_tables)\n",
    "#-------\n"
   ]
  },
  {
   "cell_type": "code",
   "execution_count": null,
   "metadata": {
    "pycharm": {
     "name": "#%%\n"
    }
   },
   "outputs": [],
   "source": []
  }
 ],
 "metadata": {
  "kernelspec": {
   "display_name": "Genomics",
   "language": "python",
   "name": "genomics"
  },
  "language_info": {
   "codemirror_mode": {
    "name": "ipython",
    "version": 3
   },
   "file_extension": ".py",
   "mimetype": "text/x-python",
   "name": "python",
   "nbconvert_exporter": "python",
   "pygments_lexer": "ipython3",
   "version": "3.7.8"
  }
 },
 "nbformat": 4,
 "nbformat_minor": 4
}
