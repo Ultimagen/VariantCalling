{
 "cells": [
  {
   "cell_type": "code",
   "execution_count": null,
   "metadata": {
    "pycharm": {
     "name": "#%%\n"
    }
   },
   "outputs": [],
   "source": [
    "# version 2.0\n",
    "# ugvc/reports/methyldackel_qc_report.ipynb\n",
    "# =============================================\n"
   ]
  },
  {
   "cell_type": "code",
   "execution_count": 1,
   "metadata": {
    "jupyter": {
     "outputs_hidden": false
    },
    "pycharm": {
     "name": "#%%\n"
    }
   },
   "outputs": [],
   "source": [
    "import pandas as pd  \n",
    "import numpy as np  \n",
    "import seaborn as sns  \n",
    "import os  \n",
    "import matplotlib.pyplot as plt  \n",
    "import json\n",
    "# from IPython.display import display, HTML\n",
    "import re\n",
    "from collections import Counter\n",
    "from IPython.display import display, HTML"
   ]
  },
  {
   "cell_type": "code",
   "execution_count": 2,
   "metadata": {
    "pycharm": {
     "name": "#%%\n"
    }
   },
   "outputs": [],
   "source": [
    "from IPython.core.interactiveshell import InteractiveShell\n",
    "InteractiveShell.ast_node_interactivity = \"all\"\n",
    "import warnings\n",
    "warnings.filterwarnings('ignore')"
   ]
  },
  {
   "cell_type": "code",
   "execution_count": 3,
   "metadata": {
    "pycharm": {
     "name": "#%%\n"
    }
   },
   "outputs": [],
   "source": [
    "pd.set_option('display.max_rows', 10000)\n",
    "pd.set_option('display.width', 1200)\n",
    "pd.set_option('display.max_colwidth', 0)\n",
    "\n",
    "# function for wraping long text \n",
    "def wrap_df_text(df):\n",
    "    return HTML(df.to_html().replace(\"\\\\n\",\"<br>\"))\n",
    "\n"
   ]
  },
  {
   "cell_type": "code",
   "execution_count": 4,
   "metadata": {},
   "outputs": [],
   "source": [
    "input_h5_file = '/data/report_fixes/methylation_qc_h5/methylation_qc_h5.h5'\n",
    "input_base_file_name = os.path.basename(input_h5_file).replace('.h5','')"
   ]
  },
  {
   "cell_type": "code",
   "execution_count": null,
   "metadata": {
    "tags": [
     "parameters"
    ]
   },
   "outputs": [],
   "source": [
    "input_h5_file = ''\n",
    "input_base_file_name = ''"
   ]
  },
  {
   "cell_type": "code",
   "execution_count": 6,
   "metadata": {
    "pycharm": {
     "name": "#%%\n"
    }
   },
   "outputs": [],
   "source": [
    "# seperate the processing into the different tables from MethylDackel\n",
    "with pd.HDFStore(input_h5_file, 'r') as store:\n",
    "    list_tables = store.keys()"
   ]
  },
  {
   "cell_type": "code",
   "execution_count": 7,
   "metadata": {
    "jupyter": {
     "outputs_hidden": false
    },
    "pycharm": {
     "name": "#%%\n"
    }
   },
   "outputs": [],
   "source": [
    "# function to extract info for generating 2D histogram plots per each table, metric and detail\n",
    "def get_histogram_data(df_input):\n",
    "    # initilise variables\n",
    "    list_output = []\n",
    "    patterns = ['^PercentMethylation_[0-9]','^Coverage_[0-9]','CumulativeCoverage_[0-9]']\n",
    "    list_tables = list(set(df_input.table))\n",
    "    list_tables = sorted(list_tables)\n",
    "\n",
    "    for tbl in list_tables:\n",
    "         # create dataframe for each table type (MethylDackel task)\n",
    "        idx = df_input.table.str.fullmatch(tbl)\n",
    "        if (idx.any(axis=None)):\n",
    "            df_tbl = pd.DataFrame()\n",
    "            df_tbl = df_input.loc[idx, :].copy()\n",
    "\n",
    "            # create dataframe for table + for metric type (in patterns)\n",
    "            for pat in patterns:\n",
    "                # check if pattern exists and divide into tables\n",
    "                idx = df_tbl.metric.str.contains(pat)\n",
    "                if (idx.any(axis=None)):\n",
    "                    df_tbl_pat = pd.DataFrame()\n",
    "                    df_tbl_pat = df_tbl.loc[idx, :].copy()\n",
    "\n",
    "                    # check if detail exists: *further* divide \n",
    "                    list_details = ()\n",
    "                    list_details = list(set(df_tbl_pat.detail)) \n",
    "                    list_details = sorted(list_details, key=str.lower)\n",
    "\n",
    "                    # create sub-tables\n",
    "                    for dtl in list_details:\n",
    "                        idx = df_tbl_pat.detail.str.fullmatch(dtl)\n",
    "                        if (idx.any(axis=None)):\n",
    "                            df_tbl_pat_dtl = pd.DataFrame()\n",
    "                            df_tbl_pat_dtl = df_tbl_pat.loc[idx, :].copy()\n",
    "\n",
    "                        list_output.append(df_tbl_pat_dtl)\n",
    "\n",
    "    list_output = pd.concat(list_output, axis = 0)\n",
    "\n",
    "    dict_output = {x: y for x, y in list_output.groupby('table')}\n",
    "    return(dict_output)\n",
    "\n"
   ]
  },
  {
   "cell_type": "code",
   "execution_count": 8,
   "metadata": {
    "pycharm": {
     "name": "#%%\n"
    }
   },
   "outputs": [],
   "source": [
    "# function to extract the 2D info for generating 2D histogram plots per each table, metric and detail\n",
    "def get_area_data(df_input):\n",
    "    # initilise variables\n",
    "    list_output = []\n",
    "    pat = '^PercentMethylationPosition_'\n",
    "    list_tables = list(set(df_input.table))\n",
    "    list_tables = sorted(list_tables)\n",
    "\n",
    "    for tbl in list_tables:\n",
    "         # create dataframe for each table type (MethylDackel task)\n",
    "        idx = df_input.table.str.fullmatch(tbl)\n",
    "        if (idx.any(axis=None)):\n",
    "            df_tbl = pd.DataFrame()\n",
    "            df_tbl = df_input.loc[idx, :].copy()\n",
    "\n",
    "            # create dataframe for table + for metric type (in pat)\n",
    "            idx = df_tbl.metric.str.contains(pat)\n",
    "            if (idx.any(axis=None)):\n",
    "                df_tbl_pat = pd.DataFrame()\n",
    "                df_tbl_pat = df_tbl.loc[idx, :].copy()\n",
    "\n",
    "                # check if detail exists: *further* divide \n",
    "                list_details = ()\n",
    "                list_details = list(set(df_tbl_pat.detail)) \n",
    "                if(list_details.count('OT')>0):\n",
    "                    list_details = sorted(list_details, key=str.lower, reverse = True)\n",
    "                else:\n",
    "                    list_details = sorted(list_details, key=str.lower)\n",
    "\n",
    "                # create sub-tables\n",
    "                for dtl in list_details:\n",
    "                    idx = df_tbl_pat.detail.str.fullmatch(dtl)\n",
    "                    if (idx.any(axis=None)):\n",
    "                        df_tbl_pat_dtl = pd.DataFrame()\n",
    "                        df_tbl_pat_dtl = df_tbl_pat.loc[idx, :].copy()\n",
    "\n",
    "\n",
    "\n",
    "                    list_output.append(df_tbl_pat_dtl)\n",
    "\n",
    "    list_output = pd.concat(list_output, axis = 0)\n",
    "\n",
    "    dict_output = {x: y for x, y in list_output.groupby('table')}\n",
    "    return(dict_output)\n"
   ]
  },
  {
   "cell_type": "code",
   "execution_count": 9,
   "metadata": {
    "pycharm": {
     "name": "#%%\n"
    }
   },
   "outputs": [],
   "source": [
    "# function to extract info for generating tables of descriptibe stats of metrics: mean, std, median for each metric\n",
    "def get_descriptive_stats(df_input):\n",
    "    # initilise variables\n",
    "    list_output = []\n",
    "    patterns = ['^PercentMethylation_[a-zA-Z]+','^Coverage_[a-zA-Z]+','CumulativeCoverage_[a-zA-Z]+|Total']\n",
    "    list_tables = list(set(df_input.table))\n",
    "    list_tables = sorted(list_tables)\n",
    "\n",
    "    for tbl in list_tables:\n",
    "         # create dataframe for each table type (MethylDackel task)\n",
    "        idx = df_input.table.str.fullmatch(tbl)\n",
    "        if (idx.any(axis=None)):\n",
    "            df_tbl = pd.DataFrame()\n",
    "            df_tbl = df_input.loc[idx, :].copy()\n",
    "\n",
    "            # create dataframe for table + for metric type (in patterns)\n",
    "            for pat in patterns:\n",
    "                # check if pattern exists and divide into tables\n",
    "                idx = df_tbl.metric.str.contains(pat)\n",
    "                if (idx.any(axis=None)):\n",
    "                    df_tbl_pat = pd.DataFrame()\n",
    "                    df_tbl_pat = df_tbl.loc[idx, :].copy()\n",
    "\n",
    "                    # check if detail exists: *further* divide \n",
    "                    list_details = ()\n",
    "                    list_details = list(set(df_tbl_pat.detail)) \n",
    "                    list_details = sorted(list_details, key=str.lower)\n",
    "\n",
    "                    # create sub-tables\n",
    "                    for dtl in list_details:\n",
    "                        idx = df_tbl_pat.detail.str.fullmatch(dtl)\n",
    "                        if (idx.any(axis=None)):\n",
    "                            df_tbl_pat_dtl = pd.DataFrame()\n",
    "                            df_tbl_pat_dtl = df_tbl_pat.loc[idx, :].copy()\n",
    "                        list_output.append(df_tbl_pat_dtl)\n",
    "    list_output = pd.concat(list_output, axis = 0)\n",
    "\n",
    "    dict_output = {x: y for x, y in list_output.groupby('table')}\n",
    "    return(dict_output)\n"
   ]
  },
  {
   "cell_type": "code",
   "execution_count": 18,
   "metadata": {},
   "outputs": [
    {
     "data": {
      "text/html": [
       "<div>\n",
       "<style scoped>\n",
       "    .dataframe tbody tr th:only-of-type {\n",
       "        vertical-align: middle;\n",
       "    }\n",
       "\n",
       "    .dataframe tbody tr th {\n",
       "        vertical-align: top;\n",
       "    }\n",
       "\n",
       "    .dataframe thead th {\n",
       "        text-align: right;\n",
       "    }\n",
       "</style>\n",
       "<table border=\"1\" class=\"dataframe\">\n",
       "  <thead>\n",
       "    <tr style=\"text-align: right;\">\n",
       "      <th></th>\n",
       "      <th></th>\n",
       "      <th>value</th>\n",
       "    </tr>\n",
       "    <tr>\n",
       "      <th>detail</th>\n",
       "      <th>metric</th>\n",
       "      <th></th>\n",
       "    </tr>\n",
       "  </thead>\n",
       "  <tbody>\n",
       "    <tr>\n",
       "      <th rowspan=\"57\" valign=\"top\">hg</th>\n",
       "      <th>PercentMethylation_10</th>\n",
       "      <td>745.000000</td>\n",
       "    </tr>\n",
       "    <tr>\n",
       "      <th>PercentMethylation_20</th>\n",
       "      <td>87.000000</td>\n",
       "    </tr>\n",
       "    <tr>\n",
       "      <th>PercentMethylation_30</th>\n",
       "      <td>69.000000</td>\n",
       "    </tr>\n",
       "    <tr>\n",
       "      <th>PercentMethylation_40</th>\n",
       "      <td>98.000000</td>\n",
       "    </tr>\n",
       "    <tr>\n",
       "      <th>PercentMethylation_50</th>\n",
       "      <td>131.000000</td>\n",
       "    </tr>\n",
       "    <tr>\n",
       "      <th>PercentMethylation_60</th>\n",
       "      <td>184.000000</td>\n",
       "    </tr>\n",
       "    <tr>\n",
       "      <th>PercentMethylation_70</th>\n",
       "      <td>151.000000</td>\n",
       "    </tr>\n",
       "    <tr>\n",
       "      <th>PercentMethylation_80</th>\n",
       "      <td>213.000000</td>\n",
       "    </tr>\n",
       "    <tr>\n",
       "      <th>PercentMethylation_90</th>\n",
       "      <td>612.000000</td>\n",
       "    </tr>\n",
       "    <tr>\n",
       "      <th>PercentMethylation_100</th>\n",
       "      <td>1974.000000</td>\n",
       "    </tr>\n",
       "    <tr>\n",
       "      <th>PercentMethylation_mean</th>\n",
       "      <td>67.788696</td>\n",
       "    </tr>\n",
       "    <tr>\n",
       "      <th>PercentMethylation_std</th>\n",
       "      <td>36.081646</td>\n",
       "    </tr>\n",
       "    <tr>\n",
       "      <th>PercentMethylation_median</th>\n",
       "      <td>88.000000</td>\n",
       "    </tr>\n",
       "    <tr>\n",
       "      <th>TotalCpGs</th>\n",
       "      <td>4264.000000</td>\n",
       "    </tr>\n",
       "    <tr>\n",
       "      <th>Coverage_10</th>\n",
       "      <td>151.000000</td>\n",
       "    </tr>\n",
       "    <tr>\n",
       "      <th>Coverage_20</th>\n",
       "      <td>126.000000</td>\n",
       "    </tr>\n",
       "    <tr>\n",
       "      <th>Coverage_30</th>\n",
       "      <td>204.000000</td>\n",
       "    </tr>\n",
       "    <tr>\n",
       "      <th>Coverage_40</th>\n",
       "      <td>367.000000</td>\n",
       "    </tr>\n",
       "    <tr>\n",
       "      <th>Coverage_50</th>\n",
       "      <td>657.000000</td>\n",
       "    </tr>\n",
       "    <tr>\n",
       "      <th>Coverage_60</th>\n",
       "      <td>856.000000</td>\n",
       "    </tr>\n",
       "    <tr>\n",
       "      <th>Coverage_70</th>\n",
       "      <td>717.000000</td>\n",
       "    </tr>\n",
       "    <tr>\n",
       "      <th>Coverage_80</th>\n",
       "      <td>461.000000</td>\n",
       "    </tr>\n",
       "    <tr>\n",
       "      <th>Coverage_90</th>\n",
       "      <td>228.000000</td>\n",
       "    </tr>\n",
       "    <tr>\n",
       "      <th>Coverage_100</th>\n",
       "      <td>153.000000</td>\n",
       "    </tr>\n",
       "    <tr>\n",
       "      <th>Coverage_110</th>\n",
       "      <td>90.000000</td>\n",
       "    </tr>\n",
       "    <tr>\n",
       "      <th>Coverage_120</th>\n",
       "      <td>51.000000</td>\n",
       "    </tr>\n",
       "    <tr>\n",
       "      <th>Coverage_130</th>\n",
       "      <td>72.000000</td>\n",
       "    </tr>\n",
       "    <tr>\n",
       "      <th>Coverage_140</th>\n",
       "      <td>66.000000</td>\n",
       "    </tr>\n",
       "    <tr>\n",
       "      <th>Coverage_150</th>\n",
       "      <td>22.000000</td>\n",
       "    </tr>\n",
       "    <tr>\n",
       "      <th>Coverage_160</th>\n",
       "      <td>21.000000</td>\n",
       "    </tr>\n",
       "    <tr>\n",
       "      <th>Coverage_170</th>\n",
       "      <td>21.000000</td>\n",
       "    </tr>\n",
       "    <tr>\n",
       "      <th>Coverage_180</th>\n",
       "      <td>0.000000</td>\n",
       "    </tr>\n",
       "    <tr>\n",
       "      <th>Coverage_190</th>\n",
       "      <td>1.000000</td>\n",
       "    </tr>\n",
       "    <tr>\n",
       "      <th>Coverage_200</th>\n",
       "      <td>0.000000</td>\n",
       "    </tr>\n",
       "    <tr>\n",
       "      <th>Coverage_mean</th>\n",
       "      <td>59.426360</td>\n",
       "    </tr>\n",
       "    <tr>\n",
       "      <th>Coverage_std</th>\n",
       "      <td>28.246282</td>\n",
       "    </tr>\n",
       "    <tr>\n",
       "      <th>Coverage_median</th>\n",
       "      <td>57.000000</td>\n",
       "    </tr>\n",
       "    <tr>\n",
       "      <th>CumulativeCoverage_10</th>\n",
       "      <td>0.035413</td>\n",
       "    </tr>\n",
       "    <tr>\n",
       "      <th>CumulativeCoverage_20</th>\n",
       "      <td>0.064962</td>\n",
       "    </tr>\n",
       "    <tr>\n",
       "      <th>CumulativeCoverage_30</th>\n",
       "      <td>0.112805</td>\n",
       "    </tr>\n",
       "    <tr>\n",
       "      <th>CumulativeCoverage_40</th>\n",
       "      <td>0.198874</td>\n",
       "    </tr>\n",
       "    <tr>\n",
       "      <th>CumulativeCoverage_50</th>\n",
       "      <td>0.352955</td>\n",
       "    </tr>\n",
       "    <tr>\n",
       "      <th>CumulativeCoverage_60</th>\n",
       "      <td>0.553705</td>\n",
       "    </tr>\n",
       "    <tr>\n",
       "      <th>CumulativeCoverage_70</th>\n",
       "      <td>0.721857</td>\n",
       "    </tr>\n",
       "    <tr>\n",
       "      <th>CumulativeCoverage_80</th>\n",
       "      <td>0.829972</td>\n",
       "    </tr>\n",
       "    <tr>\n",
       "      <th>CumulativeCoverage_90</th>\n",
       "      <td>0.883443</td>\n",
       "    </tr>\n",
       "    <tr>\n",
       "      <th>CumulativeCoverage_100</th>\n",
       "      <td>0.919325</td>\n",
       "    </tr>\n",
       "    <tr>\n",
       "      <th>CumulativeCoverage_110</th>\n",
       "      <td>0.940432</td>\n",
       "    </tr>\n",
       "    <tr>\n",
       "      <th>CumulativeCoverage_120</th>\n",
       "      <td>0.952392</td>\n",
       "    </tr>\n",
       "    <tr>\n",
       "      <th>CumulativeCoverage_130</th>\n",
       "      <td>0.969278</td>\n",
       "    </tr>\n",
       "    <tr>\n",
       "      <th>CumulativeCoverage_140</th>\n",
       "      <td>0.984756</td>\n",
       "    </tr>\n",
       "    <tr>\n",
       "      <th>CumulativeCoverage_150</th>\n",
       "      <td>0.989916</td>\n",
       "    </tr>\n",
       "    <tr>\n",
       "      <th>CumulativeCoverage_160</th>\n",
       "      <td>0.994841</td>\n",
       "    </tr>\n",
       "    <tr>\n",
       "      <th>CumulativeCoverage_170</th>\n",
       "      <td>0.999765</td>\n",
       "    </tr>\n",
       "    <tr>\n",
       "      <th>CumulativeCoverage_180</th>\n",
       "      <td>0.999765</td>\n",
       "    </tr>\n",
       "    <tr>\n",
       "      <th>CumulativeCoverage_190</th>\n",
       "      <td>1.000000</td>\n",
       "    </tr>\n",
       "    <tr>\n",
       "      <th>CumulativeCoverage_200</th>\n",
       "      <td>1.000000</td>\n",
       "    </tr>\n",
       "  </tbody>\n",
       "</table>\n",
       "</div>"
      ],
      "text/plain": [
       "                                        value\n",
       "detail metric                                \n",
       "hg     PercentMethylation_10      745.000000 \n",
       "       PercentMethylation_20      87.000000  \n",
       "       PercentMethylation_30      69.000000  \n",
       "       PercentMethylation_40      98.000000  \n",
       "       PercentMethylation_50      131.000000 \n",
       "       PercentMethylation_60      184.000000 \n",
       "       PercentMethylation_70      151.000000 \n",
       "       PercentMethylation_80      213.000000 \n",
       "       PercentMethylation_90      612.000000 \n",
       "       PercentMethylation_100     1974.000000\n",
       "       PercentMethylation_mean    67.788696  \n",
       "       PercentMethylation_std     36.081646  \n",
       "       PercentMethylation_median  88.000000  \n",
       "       TotalCpGs                  4264.000000\n",
       "       Coverage_10                151.000000 \n",
       "       Coverage_20                126.000000 \n",
       "       Coverage_30                204.000000 \n",
       "       Coverage_40                367.000000 \n",
       "       Coverage_50                657.000000 \n",
       "       Coverage_60                856.000000 \n",
       "       Coverage_70                717.000000 \n",
       "       Coverage_80                461.000000 \n",
       "       Coverage_90                228.000000 \n",
       "       Coverage_100               153.000000 \n",
       "       Coverage_110               90.000000  \n",
       "       Coverage_120               51.000000  \n",
       "       Coverage_130               72.000000  \n",
       "       Coverage_140               66.000000  \n",
       "       Coverage_150               22.000000  \n",
       "       Coverage_160               21.000000  \n",
       "       Coverage_170               21.000000  \n",
       "       Coverage_180               0.000000   \n",
       "       Coverage_190               1.000000   \n",
       "       Coverage_200               0.000000   \n",
       "       Coverage_mean              59.426360  \n",
       "       Coverage_std               28.246282  \n",
       "       Coverage_median            57.000000  \n",
       "       CumulativeCoverage_10      0.035413   \n",
       "       CumulativeCoverage_20      0.064962   \n",
       "       CumulativeCoverage_30      0.112805   \n",
       "       CumulativeCoverage_40      0.198874   \n",
       "       CumulativeCoverage_50      0.352955   \n",
       "       CumulativeCoverage_60      0.553705   \n",
       "       CumulativeCoverage_70      0.721857   \n",
       "       CumulativeCoverage_80      0.829972   \n",
       "       CumulativeCoverage_90      0.883443   \n",
       "       CumulativeCoverage_100     0.919325   \n",
       "       CumulativeCoverage_110     0.940432   \n",
       "       CumulativeCoverage_120     0.952392   \n",
       "       CumulativeCoverage_130     0.969278   \n",
       "       CumulativeCoverage_140     0.984756   \n",
       "       CumulativeCoverage_150     0.989916   \n",
       "       CumulativeCoverage_160     0.994841   \n",
       "       CumulativeCoverage_170     0.999765   \n",
       "       CumulativeCoverage_180     0.999765   \n",
       "       CumulativeCoverage_190     1.000000   \n",
       "       CumulativeCoverage_200     1.000000   "
      ]
     },
     "execution_count": 18,
     "metadata": {},
     "output_type": "execute_result"
    }
   ],
   "source": [
    "pd.read_hdf(input_h5_file, '/MergeContext')"
   ]
  },
  {
   "cell_type": "code",
   "execution_count": 10,
   "metadata": {
    "pycharm": {
     "name": "#%%\n"
    }
   },
   "outputs": [],
   "source": [
    "def format_metric_names(df_in):\n",
    "    df_in['metric']= df_in['metric'].str.replace(r'PercentMethylation', 'Percent Methylation: ', regex=True)\n",
    "    df_in['metric']= df_in['metric'].str.replace(r'PercentMethylationPosition', 'Percent Methylation Position: ', regex=True)\n",
    "    df_in['metric']= df_in['metric'].str.replace(r'CumulativeCoverage', 'Cumulative Coverage', regex=True)\n",
    "    df_in['metric']= df_in['metric'].str.replace(r'Coverage', 'Coverage: ', regex=True)\n",
    "    df_in['metric']= df_in['metric'].str.replace(r'TotalCpGs', 'Total CpGs: ', regex=True)\n",
    "    df_in['metric']= df_in['metric'].str.replace(r'_', ' ', regex=True)\n",
    "    return(df_in)\n"
   ]
  },
  {
   "cell_type": "code",
   "execution_count": 11,
   "metadata": {
    "pycharm": {
     "name": "#%%\n"
    }
   },
   "outputs": [],
   "source": [
    "def parse_metric_names(df_in):\n",
    "    df_in['metric_orig'] = df_in['metric']\n",
    "    pat = '\\w+_(\\d+)' # get value of bins\n",
    "    df_in['bin']= df_in['metric'].str.extract(pat)\n",
    "    # get metric name\n",
    "    pat = '(\\w+)_\\d+'\n",
    "    df_in['metric']= df_in['metric'].str.extract(pat)\n",
    "    return(df_in)\n"
   ]
  },
  {
   "cell_type": "code",
   "execution_count": 12,
   "metadata": {
    "pycharm": {
     "name": "#%%\n"
    }
   },
   "outputs": [],
   "source": [
    "def display_side_by_side(dfs:list, captions:list, tablespacing=2):\n",
    "    output = \"\"\n",
    "    for (caption, df) in zip(captions, dfs):\n",
    "        output += df.style.set_table_attributes(\"style='display:inline-table'\").set_caption(caption)._repr_html_()\n",
    "        output += tablespacing * \"\\xa0\"\n",
    "\n",
    "    display(HTML(output))\n"
   ]
  },
  {
   "cell_type": "code",
   "execution_count": 13,
   "metadata": {
    "pycharm": {
     "name": "#%%\n"
    }
   },
   "outputs": [
    {
     "data": {
      "text/html": [
       "<h1 style=\"font-size:24px;\">QC Report for Methylation Calling</h1>"
      ],
      "text/plain": [
       "<IPython.core.display.HTML object>"
      ]
     },
     "execution_count": 13,
     "metadata": {},
     "output_type": "execute_result"
    },
    {
     "data": {
      "text/html": [
       "<hr/>"
      ],
      "text/plain": [
       "<IPython.core.display.HTML object>"
      ]
     },
     "execution_count": 13,
     "metadata": {},
     "output_type": "execute_result"
    }
   ],
   "source": [
    "HTML(\"<h1 style=\\\"font-size:24px;\\\">\"+\"QC Report for Methylation Calling\"+\"</h1>\")\n",
    "HTML(\"<hr/>\")\n"
   ]
  },
  {
   "cell_type": "code",
   "execution_count": 14,
   "metadata": {},
   "outputs": [
    {
     "data": {
      "text/html": [
       "<b></b>"
      ],
      "text/plain": [
       "<IPython.core.display.HTML object>"
      ]
     },
     "execution_count": 14,
     "metadata": {},
     "output_type": "execute_result"
    },
    {
     "data": {
      "text/html": [
       "<hr/>"
      ],
      "text/plain": [
       "<IPython.core.display.HTML object>"
      ]
     },
     "execution_count": 14,
     "metadata": {},
     "output_type": "execute_result"
    },
    {
     "data": {
      "text/html": [
       "<h2 style=\"font-size:20px;\">Input parameters</h2>"
      ],
      "text/plain": [
       "<IPython.core.display.HTML object>"
      ]
     },
     "execution_count": 14,
     "metadata": {},
     "output_type": "execute_result"
    },
    {
     "data": {
      "text/html": [
       "<hr/>"
      ],
      "text/plain": [
       "<IPython.core.display.HTML object>"
      ]
     },
     "execution_count": 14,
     "metadata": {},
     "output_type": "execute_result"
    },
    {
     "data": {
      "text/html": [
       "<b></b>"
      ],
      "text/plain": [
       "<IPython.core.display.HTML object>"
      ]
     },
     "execution_count": 14,
     "metadata": {},
     "output_type": "execute_result"
    }
   ],
   "source": [
    "\n",
    "HTML(\"<b>\"+\"\"+\"</b>\")\n",
    "HTML(\"<hr/>\")\n",
    "HTML(\"<h2 style=\\\"font-size:20px;\\\">\"+\"Input parameters\"+\"</h2>\")\n",
    "HTML(\"<hr/>\")\n",
    "HTML(\"<b>\"+\"\"+\"</b>\")\n",
    "\n"
   ]
  },
  {
   "cell_type": "code",
   "execution_count": 15,
   "metadata": {},
   "outputs": [
    {
     "data": {
      "text/html": [
       "<style type=\"text/css\">\n",
       "#T_ba7f3_row0_col0, #T_ba7f3_row1_col0 {\n",
       "  text-align: left;\n",
       "}\n",
       "</style>\n",
       "<table id=\"T_ba7f3\">\n",
       "  <thead>\n",
       "    <tr>\n",
       "      <th class=\"blank level0\" >&nbsp;</th>\n",
       "      <th id=\"T_ba7f3_level0_col0\" class=\"col_heading level0 col0\" >value</th>\n",
       "    </tr>\n",
       "  </thead>\n",
       "  <tbody>\n",
       "    <tr>\n",
       "      <th id=\"T_ba7f3_level0_row0\" class=\"row_heading level0 row0\" >Sample name</th>\n",
       "      <td id=\"T_ba7f3_row0_col0\" class=\"data row0 col0\" >methylation_qc_h5</td>\n",
       "    </tr>\n",
       "    <tr>\n",
       "      <th id=\"T_ba7f3_level0_row1\" class=\"row_heading level0 row1\" >h5 file</th>\n",
       "      <td id=\"T_ba7f3_row1_col0\" class=\"data row1 col0\" >/data/report_fixes/methylation_qc_h5/methylation_qc_h5.h5</td>\n",
       "    </tr>\n",
       "  </tbody>\n",
       "</table>\n"
      ],
      "text/plain": [
       "<IPython.core.display.HTML object>"
      ]
     },
     "metadata": {},
     "output_type": "display_data"
    }
   ],
   "source": [
    "to_print_sample_info = pd.DataFrame(\n",
    "        data = {\n",
    "            'value' : [input_base_file_name, str(input_h5_file)]\n",
    "        },\n",
    "        index = ['Sample name', 'h5 file'])\n",
    "\n",
    "to_print_sample_info['value'] = to_print_sample_info['value'].str.wrap(100)\n",
    "def wrap_df_text(df):\n",
    "    return display(HTML(df.to_html().replace(\"\\\\n\",\"<br>\")))\n",
    "\n",
    "wrap_df_text(to_print_sample_info.style.set_properties(**{'text-align': 'left'}))"
   ]
  },
  {
   "cell_type": "code",
   "execution_count": 16,
   "metadata": {
    "pycharm": {
     "name": "#%%\n"
    }
   },
   "outputs": [
    {
     "data": {
      "text/html": [
       "<h2 style=\"font-size:18px;\">Human Genome: Global Methylation Statistics</h2>"
      ],
      "text/plain": [
       "<IPython.core.display.HTML object>"
      ]
     },
     "execution_count": 16,
     "metadata": {},
     "output_type": "execute_result"
    },
    {
     "data": {
      "text/html": [
       "<hr/>"
      ],
      "text/plain": [
       "<IPython.core.display.HTML object>"
      ]
     },
     "execution_count": 16,
     "metadata": {},
     "output_type": "execute_result"
    }
   ],
   "source": [
    "HTML(\"<h2 style=\\\"font-size:18px;\\\">\"+\"Human Genome: Global Methylation Statistics\"+\"</h2>\")\n",
    "HTML(\"<hr/>\")\n"
   ]
  },
  {
   "cell_type": "code",
   "execution_count": null,
   "metadata": {
    "pycharm": {
     "name": "#%%\n"
    }
   },
   "outputs": [],
   "source": [
    "#  get_descriptive_stats(df_csv)"
   ]
  },
  {
   "cell_type": "code",
   "execution_count": 17,
   "metadata": {
    "pycharm": {
     "name": "#%%\n"
    }
   },
   "outputs": [
    {
     "ename": "AttributeError",
     "evalue": "'DataFrame' object has no attribute 'table'",
     "output_type": "error",
     "traceback": [
      "\u001b[0;31m---------------------------------------------------------------------------\u001b[0m",
      "\u001b[0;31mAttributeError\u001b[0m                            Traceback (most recent call last)",
      "\u001b[0;32m/tmp/ipykernel_29559/1875428587.py\u001b[0m in \u001b[0;36m?\u001b[0;34m()\u001b[0m\n\u001b[1;32m      1\u001b[0m \u001b[0;31m# main statistics table\u001b[0m\u001b[0;34m\u001b[0m\u001b[0;34m\u001b[0m\u001b[0m\n\u001b[1;32m      2\u001b[0m \u001b[0;31m# --------------------------\u001b[0m\u001b[0;34m\u001b[0m\u001b[0;34m\u001b[0m\u001b[0m\n\u001b[1;32m      3\u001b[0m \u001b[0mtbl\u001b[0m \u001b[0;34m=\u001b[0m \u001b[0;34m'MergeContext'\u001b[0m\u001b[0;34m\u001b[0m\u001b[0;34m\u001b[0m\u001b[0m\n\u001b[1;32m      4\u001b[0m \u001b[0mgenome\u001b[0m \u001b[0;34m=\u001b[0m \u001b[0;34m'hg'\u001b[0m\u001b[0;34m\u001b[0m\u001b[0;34m\u001b[0m\u001b[0m\n\u001b[0;32m----> 5\u001b[0;31m \u001b[0mdf_table\u001b[0m \u001b[0;34m=\u001b[0m \u001b[0mget_descriptive_stats\u001b[0m\u001b[0;34m(\u001b[0m\u001b[0mpd\u001b[0m\u001b[0;34m.\u001b[0m\u001b[0mread_hdf\u001b[0m\u001b[0;34m(\u001b[0m\u001b[0minput_h5_file\u001b[0m\u001b[0;34m,\u001b[0m \u001b[0mkey\u001b[0m \u001b[0;34m=\u001b[0m \u001b[0mtbl\u001b[0m\u001b[0;34m)\u001b[0m\u001b[0;34m)\u001b[0m\u001b[0;34m\u001b[0m\u001b[0;34m\u001b[0m\u001b[0m\n\u001b[0m\u001b[1;32m      6\u001b[0m \u001b[0mdf_table\u001b[0m \u001b[0;34m=\u001b[0m \u001b[0mdf_table\u001b[0m\u001b[0;34m[\u001b[0m\u001b[0mdf_table\u001b[0m\u001b[0;34m[\u001b[0m\u001b[0;34m'detail'\u001b[0m\u001b[0;34m]\u001b[0m \u001b[0;34m==\u001b[0m \u001b[0mgenome\u001b[0m\u001b[0;34m]\u001b[0m\u001b[0;34m\u001b[0m\u001b[0;34m\u001b[0m\u001b[0m\n\u001b[1;32m      7\u001b[0m \u001b[0mcols\u001b[0m \u001b[0;34m=\u001b[0m \u001b[0;34m[\u001b[0m\u001b[0;34m'metric'\u001b[0m\u001b[0;34m,\u001b[0m\u001b[0;34m'value'\u001b[0m\u001b[0;34m]\u001b[0m\u001b[0;34m\u001b[0m\u001b[0;34m\u001b[0m\u001b[0m\n\u001b[1;32m      8\u001b[0m \u001b[0mdf_table\u001b[0m \u001b[0;34m=\u001b[0m \u001b[0mpd\u001b[0m\u001b[0;34m.\u001b[0m\u001b[0mconcat\u001b[0m\u001b[0;34m(\u001b[0m\u001b[0;34m[\u001b[0m\u001b[0mdf_table\u001b[0m\u001b[0;34m.\u001b[0m\u001b[0mtail\u001b[0m\u001b[0;34m(\u001b[0m\u001b[0;36m1\u001b[0m\u001b[0;34m)\u001b[0m\u001b[0;34m,\u001b[0m\u001b[0mdf_table\u001b[0m\u001b[0;34m.\u001b[0m\u001b[0mhead\u001b[0m\u001b[0;34m(\u001b[0m\u001b[0mdf_table\u001b[0m\u001b[0;34m.\u001b[0m\u001b[0mshape\u001b[0m\u001b[0;34m[\u001b[0m\u001b[0;36m0\u001b[0m\u001b[0;34m]\u001b[0m\u001b[0;34m-\u001b[0m\u001b[0;36m1\u001b[0m\u001b[0;34m)\u001b[0m \u001b[0;34m]\u001b[0m\u001b[0;34m,\u001b[0m\u001b[0maxis\u001b[0m \u001b[0;34m=\u001b[0m \u001b[0;36m0\u001b[0m\u001b[0;34m)\u001b[0m\u001b[0;34m\u001b[0m\u001b[0;34m\u001b[0m\u001b[0m\n",
      "\u001b[0;32m/tmp/ipykernel_29559/4785690.py\u001b[0m in \u001b[0;36m?\u001b[0;34m(df_input)\u001b[0m\n\u001b[1;32m      2\u001b[0m \u001b[0;32mdef\u001b[0m \u001b[0mget_descriptive_stats\u001b[0m\u001b[0;34m(\u001b[0m\u001b[0mdf_input\u001b[0m\u001b[0;34m)\u001b[0m\u001b[0;34m:\u001b[0m\u001b[0;34m\u001b[0m\u001b[0;34m\u001b[0m\u001b[0m\n\u001b[1;32m      3\u001b[0m     \u001b[0;31m# initilise variables\u001b[0m\u001b[0;34m\u001b[0m\u001b[0;34m\u001b[0m\u001b[0m\n\u001b[1;32m      4\u001b[0m     \u001b[0mlist_output\u001b[0m \u001b[0;34m=\u001b[0m \u001b[0;34m[\u001b[0m\u001b[0;34m]\u001b[0m\u001b[0;34m\u001b[0m\u001b[0;34m\u001b[0m\u001b[0m\n\u001b[1;32m      5\u001b[0m     \u001b[0mpatterns\u001b[0m \u001b[0;34m=\u001b[0m \u001b[0;34m[\u001b[0m\u001b[0;34m'^PercentMethylation_[a-zA-Z]+'\u001b[0m\u001b[0;34m,\u001b[0m\u001b[0;34m'^Coverage_[a-zA-Z]+'\u001b[0m\u001b[0;34m,\u001b[0m\u001b[0;34m'CumulativeCoverage_[a-zA-Z]+|Total'\u001b[0m\u001b[0;34m]\u001b[0m\u001b[0;34m\u001b[0m\u001b[0;34m\u001b[0m\u001b[0m\n\u001b[0;32m----> 6\u001b[0;31m     \u001b[0mlist_tables\u001b[0m \u001b[0;34m=\u001b[0m \u001b[0mlist\u001b[0m\u001b[0;34m(\u001b[0m\u001b[0mset\u001b[0m\u001b[0;34m(\u001b[0m\u001b[0mdf_input\u001b[0m\u001b[0;34m.\u001b[0m\u001b[0mtable\u001b[0m\u001b[0;34m)\u001b[0m\u001b[0;34m)\u001b[0m\u001b[0;34m\u001b[0m\u001b[0;34m\u001b[0m\u001b[0m\n\u001b[0m\u001b[1;32m      7\u001b[0m     \u001b[0mlist_tables\u001b[0m \u001b[0;34m=\u001b[0m \u001b[0msorted\u001b[0m\u001b[0;34m(\u001b[0m\u001b[0mlist_tables\u001b[0m\u001b[0;34m)\u001b[0m\u001b[0;34m\u001b[0m\u001b[0;34m\u001b[0m\u001b[0m\n\u001b[1;32m      8\u001b[0m \u001b[0;34m\u001b[0m\u001b[0m\n\u001b[1;32m      9\u001b[0m     \u001b[0;32mfor\u001b[0m \u001b[0mtbl\u001b[0m \u001b[0;32min\u001b[0m \u001b[0mlist_tables\u001b[0m\u001b[0;34m:\u001b[0m\u001b[0;34m\u001b[0m\u001b[0;34m\u001b[0m\u001b[0m\n",
      "\u001b[0;32m~/miniconda3/envs/genomics.py3/lib/python3.10/site-packages/pandas/core/generic.py\u001b[0m in \u001b[0;36m?\u001b[0;34m(self, name)\u001b[0m\n\u001b[1;32m   5898\u001b[0m             \u001b[0;32mand\u001b[0m \u001b[0mname\u001b[0m \u001b[0;32mnot\u001b[0m \u001b[0;32min\u001b[0m \u001b[0mself\u001b[0m\u001b[0;34m.\u001b[0m\u001b[0m_accessors\u001b[0m\u001b[0;34m\u001b[0m\u001b[0;34m\u001b[0m\u001b[0m\n\u001b[1;32m   5899\u001b[0m             \u001b[0;32mand\u001b[0m \u001b[0mself\u001b[0m\u001b[0;34m.\u001b[0m\u001b[0m_info_axis\u001b[0m\u001b[0;34m.\u001b[0m\u001b[0m_can_hold_identifiers_and_holds_name\u001b[0m\u001b[0;34m(\u001b[0m\u001b[0mname\u001b[0m\u001b[0;34m)\u001b[0m\u001b[0;34m\u001b[0m\u001b[0;34m\u001b[0m\u001b[0m\n\u001b[1;32m   5900\u001b[0m         ):\n\u001b[1;32m   5901\u001b[0m             \u001b[0;32mreturn\u001b[0m \u001b[0mself\u001b[0m\u001b[0;34m[\u001b[0m\u001b[0mname\u001b[0m\u001b[0;34m]\u001b[0m\u001b[0;34m\u001b[0m\u001b[0;34m\u001b[0m\u001b[0m\n\u001b[0;32m-> 5902\u001b[0;31m         \u001b[0;32mreturn\u001b[0m \u001b[0mobject\u001b[0m\u001b[0;34m.\u001b[0m\u001b[0m__getattribute__\u001b[0m\u001b[0;34m(\u001b[0m\u001b[0mself\u001b[0m\u001b[0;34m,\u001b[0m \u001b[0mname\u001b[0m\u001b[0;34m)\u001b[0m\u001b[0;34m\u001b[0m\u001b[0;34m\u001b[0m\u001b[0m\n\u001b[0m",
      "\u001b[0;31mAttributeError\u001b[0m: 'DataFrame' object has no attribute 'table'"
     ]
    }
   ],
   "source": [
    "# main statistics table\n",
    "# --------------------------\n",
    "tbl = 'MergeContext'\n",
    "genome = 'hg'\n",
    "df_table = get_descriptive_stats(pd.read_hdf(input_h5_file, key = tbl))\n",
    "df_table = df_table[df_table['detail'] == genome]\n",
    "cols = ['metric','value']\n",
    "df_table = pd.concat([df_table.tail(1),df_table.head(df_table.shape[0]-1) ],axis = 0)\n",
    "df_table = df_table.reset_index()\n",
    "df_table  = format_metric_names(df_table)\n",
    "df_table['metric']  = df_table['metric'].str.title()\n",
    "to_int = df_table.metric == 'Total Cpgs: '\n",
    "to_float = df_table.metric != 'Total Cpgs: '\n",
    "df_table.loc[to_int, 'value'] = df_table.loc[to_int, 'value'].map('{:,.0f}'.format)\n",
    "df_table.loc[to_float, 'value'] = df_table.loc[to_float, 'value'].map('{:,.2f}'.format)\n",
    "\n",
    "df_table.index = df_table['metric']\n",
    "display(df_table['value'].to_frame())\n",
    "\n",
    "# -----------\n"
   ]
  },
  {
   "cell_type": "code",
   "execution_count": null,
   "metadata": {
    "pycharm": {
     "name": "#%%\n"
    }
   },
   "outputs": [],
   "source": [
    "# per Read information\n",
    "# ------------------------\n",
    "HTML(\" \")\n",
    "HTML(\"<h2 style=\\\"font-size:12px;\\\">\"+\"Human Genome: Details of Per-Read Descriptive Statistics\"+\"</h2>\")\n",
    "\n",
    "tbl = 'PerRead'\n",
    "genome = 'hg'\n",
    "df_table = get_descriptive_stats(df_csv)[tbl]\n",
    "# df_table = df_table[df_table['detail'] == genome]\n",
    "cols = ['metric','value']\n",
    "# df_table = pd.concat([df_table.tail(1),df_table.head(df_table.shape[0]-1) ],axis = 0)\n",
    "df_table = df_table.reset_index()\n",
    "df_table  = format_metric_names(df_table)\n",
    "df_table['metric']  = df_table['metric'].str.title()\n",
    "df_table['value'] = df_table['value'].map('{:,.2f}'.format) \n",
    "\n",
    "df_table.index = df_table['metric']\n",
    "display(df_table['value'].to_frame())\n",
    "\n",
    "# -----------\n"
   ]
  },
  {
   "cell_type": "code",
   "execution_count": null,
   "metadata": {
    "pycharm": {
     "name": "#%%\n"
    }
   },
   "outputs": [],
   "source": [
    "# print histogram plots of mergecontext for HG\n",
    "tbl = 'MergeContext'\n",
    "genome = 'hg'\n",
    "df_table = get_histogram_data(df_csv)[tbl]\n",
    "df_table = df_table[df_table['detail'] == genome]\n",
    "df_table = parse_metric_names(df_table)\n",
    "df_table = format_metric_names(df_table)\n",
    "df_table['stat_type'] =  df_table['metric'].str.extract(r'([A-Za-z]+):')\n",
    "\n",
    "# -----------\n"
   ]
  },
  {
   "cell_type": "code",
   "execution_count": null,
   "metadata": {
    "pycharm": {
     "name": "#%%\n"
    }
   },
   "outputs": [],
   "source": [
    "HTML(\" \")\n",
    "HTML(\"<h2 style=\\\"font-size:16px;\\\">\"+\"Human Genome: Cytosines in Other Contexts Descriptive Statistics\"+\"</h2>\")\n",
    "HTML(\"<hr/>\")\n",
    "\n",
    "tbl = 'MergeContextNoCpG'\n",
    "\n",
    "df_table = get_descriptive_stats(df_csv)[tbl]\n",
    "df_table = df_table.reset_index()\n",
    "df_table  = format_metric_names(df_table)\n",
    "\n",
    "df_table['stat_type']=  df_table['metric'].str.extract(r'([A-Za-z]+)[\\s:]')\n",
    "df_table['metric']  = df_table['metric'].str.title()\n",
    "df_table['value'][df_table['stat_type'] == \"Percent\"] = (df_table['value'][df_table['stat_type'] == \"Percent\"]/100).map('{:,.2%}'.format)\n",
    "df_table['value'][df_table['stat_type'] == \"Coverage\"] = df_table['value'][df_table['stat_type'] == \"Coverage\"].map('{:,.2f}'.format)\n",
    "\n",
    "table_names = df_table['detail'].unique()\n",
    "cols = ['metric','value', 'detail']\n",
    "df_output = []\n",
    "df_output = [y for x, y in df_table.groupby('detail')]\n",
    "\n",
    "df_to_print = []\n",
    "cols = ['metric','value']\n",
    "for l in df_output:\n",
    "    l.index = l['metric']\n",
    "    l = l['value'].to_frame()\n",
    "    df_to_print.append(l)\n",
    "\n",
    "display_side_by_side(df_to_print, table_names)\n",
    "\n",
    "HTML(\" \")\n",
    "\n",
    "# --------\n"
   ]
  },
  {
   "cell_type": "code",
   "execution_count": null,
   "metadata": {
    "pycharm": {
     "name": "#%%\n"
    }
   },
   "outputs": [],
   "source": [
    "# function for creating Mbias plots\n",
    "# -----------------------------------------------------------------------------------\n",
    "def plot_mbias(in_list_df):\n",
    "\n",
    "    plt.style.use('ggplot')\n",
    "\n",
    "    if (len(in_list_df) == 4):\n",
    "        i = j = k = 0\n",
    "        in_colours = ['tomato','indianred','tomato','indianred']\n",
    "        f, ax = plt.subplots(2, 2, figsize = [12, 12])\n",
    "\n",
    "        for j in range(ax.shape[0]):\n",
    "            for k in range(0, ax.shape[1]):\n",
    "\n",
    "                currax = ax[j][k]\n",
    "                curr_title = in_list_df[i]['detail'].unique()[0]\n",
    "\n",
    "                sns.lineplot(data = in_list_df[i],\n",
    "                            x=\"bin\",\n",
    "                            y=\"value\",\n",
    "                            lw=2.5,\n",
    "                            ax = currax,\n",
    "                            color=in_colours[i]\n",
    "                            )\n",
    "                currax.set_xlabel(\"Position\",fontsize=14)\n",
    "                currax.set_ylabel(\"Fraction of Methylation\",fontsize=14)\n",
    "                currax.set_title(curr_title,fontsize=14)\n",
    "                currax.tick_params(labelsize=14)\n",
    "                plt.xticks(rotation=45)\n",
    "                currax.set_ylim([0, 1])\n",
    "                i+=1\n",
    "\n",
    "        plt.tight_layout()\n",
    "\n",
    "    else:\n",
    "        in_colours = ['tomato','indianred']\n",
    "        f, ax = plt.subplots(1, 2, figsize = [12, 5.5])\n",
    "\n",
    "        for i in range(len(in_list_df)):\n",
    "\n",
    "            currax = ax[i]\n",
    "            curr_title = in_list_df[i]['detail'].unique()[0]\n",
    "\n",
    "            sns.lineplot(data = in_list_df[i],\n",
    "                        x=\"bin\",\n",
    "                        y=\"value\",\n",
    "                        lw=2.5,\n",
    "                        ax = currax,\n",
    "                        color=in_colours[i]\n",
    "                        )\n",
    "            currax.set_xlabel(\"Position\",fontsize=14)\n",
    "            currax.set_ylabel(\"Fraction of Methylation\",fontsize=14)\n",
    "            currax.set_title(list_tables[i],fontsize=14)\n",
    "            currax.tick_params(labelsize=14)\n",
    "            plt.xticks(rotation=45)\n",
    "            currax.set_ylim([0, 1])\n",
    "\n",
    "        plt.tight_layout()\n",
    "        \n",
    "# --------"
   ]
  },
  {
   "cell_type": "code",
   "execution_count": null,
   "metadata": {
    "pycharm": {
     "name": "#%%\n"
    }
   },
   "outputs": [],
   "source": [
    "# Mbias: Mean methylation along reads\n",
    "# ========================================\n",
    "HTML(\" \")\n",
    "HTML(\"<h2 style=\\\"font-size:16px;\\\">\"+\"Human Genome: M-bias plots of mean methylation along reads\"+\"</h2>\")\n",
    "HTML(\"<hr/>\")\n",
    "\n",
    "tbl = 'Mbias'\n",
    "\n",
    "df_table = get_area_data(df_csv)[tbl]\n",
    "df_table = parse_metric_names(df_table)\n",
    "df_table = df_table.reset_index()\n",
    "df_table  = format_metric_names(df_table)\n",
    "df_table['bin'] = df_table['bin'].astype(int)\n",
    "# df_table['binned'] = np.arange(0,np.max(df_table['bin'])+7,10)\n",
    "\n",
    "\n",
    "list_tables = list(set(df_table['detail']))\n",
    "\n",
    "df_to_print = df_table.copy()\n",
    "df_to_print['stat_type'] =  df_to_print['metric'].str.extract(r'([A-Za-z]+)\\s')\n",
    "df_to_print['metric']  = df_to_print['metric'].str.title()\n",
    "\n",
    "list_df = [y for x, y in df_to_print.groupby(df_table['detail'], sort = False)]\n",
    "\n",
    "# plot the MBIAS tests\n",
    "plot_mbias(list_df)\n",
    "\n",
    "# ---------------\n"
   ]
  },
  {
   "cell_type": "code",
   "execution_count": null,
   "metadata": {
    "pycharm": {
     "name": "#%%\n"
    }
   },
   "outputs": [],
   "source": [
    "# CONTINUES Mbias: Mean methylation along reads\n",
    "HTML(\"<h2 style=\\\"font-size:14px;\\\">\"+\"M-bias Descriptive Statistics\"+\"</h2>\")\n",
    "HTML(\" \")\n",
    "tbl = 'Mbias'\n",
    "\n",
    "df_table = get_descriptive_stats(df_csv)[tbl]\n",
    "# df_table = df_table.reset_index()\n",
    "df_table  = format_metric_names(df_table)\n",
    "\n",
    "df_to_print = df_table.copy()\n",
    "df_to_print['stat_type'] =  df_to_print['metric'].str.extract(r'([A-Za-z]+)\\s')\n",
    "df_to_print['metric']  = df_to_print['metric'].str.title()\n",
    "\n",
    "\n",
    "df_to_print['value'][df_to_print['stat_type'] == \"Percent\"] = (df_to_print['value'][df_to_print['stat_type'] == \"Percent\"]).map('{:,.2%}'.format)\n",
    "\n",
    "\n",
    "cols = ['metric','value']\n",
    "df_output = []\n",
    "df_output = [y for x, y in df_to_print.groupby('detail')]\n",
    "\n",
    "\n",
    "if (len(df_output) ==4):\n",
    "    order =[3,2,1,0]\n",
    "else:\n",
    "    order =[1,0]\n",
    "df_output = [df_output[i] for i in order]\n",
    "\n",
    "del(df_to_print)\n",
    "df_to_print = []\n",
    "temp_tables = []\n",
    "for l in df_output:\n",
    "    l.index = l['metric']\n",
    "    temp_tables.append(l['detail'][0])\n",
    "    df_to_print.append(l['value'].to_frame())\n",
    "\n",
    "display_side_by_side(df_to_print, temp_tables)\n",
    "\n",
    "# ---------------\n"
   ]
  },
  {
   "cell_type": "code",
   "execution_count": null,
   "metadata": {},
   "outputs": [],
   "source": [
    "# MbiasNoCpG: Mean methylation along reads on non-CpG Cytosines\n",
    "# ========================================\n",
    "HTML(\" \")\n",
    "HTML(\"<h2 style=\\\"font-size:16px;\\\">\"+\"Human Genome: M-bias plots of mean methylation on CHH/CHG along reads\"+\"</h2>\")\n",
    "HTML(\"<hr/>\")\n",
    "\n",
    "tbl = 'MbiasNoCpG'\n",
    "\n",
    "df_table = get_area_data(df_csv)[tbl]\n",
    "df_table = parse_metric_names(df_table)\n",
    "df_table = df_table.reset_index()\n",
    "df_table  = format_metric_names(df_table)\n",
    "df_table['bin'] = df_table['bin'].astype(int)\n",
    "# df_table['binned'] = np.arange(0,np.max(df_table['bin'])+7,10)\n",
    "\n",
    "\n",
    "list_tables = list(set(df_table['detail']))\n",
    "\n",
    "df_to_print = df_table.copy()\n",
    "df_to_print['stat_type'] =  df_to_print['metric'].str.extract(r'([A-Za-z]+)\\s')\n",
    "df_to_print['metric']  = df_to_print['metric'].str.title()\n",
    "\n",
    "list_df = [y for x, y in df_to_print.groupby(df_table['detail'], sort = False)]\n",
    "\n",
    "# plot the MBIAS tests\n",
    "plot_mbias(list_df)\n",
    "\n",
    "# ---------------\n"
   ]
  },
  {
   "cell_type": "code",
   "execution_count": null,
   "metadata": {},
   "outputs": [],
   "source": [
    "# CONTINUES MbiasNoCpG: Mean methylation along reads on non-CpG Cytosines\n",
    "HTML(\"<h2 style=\\\"font-size:14px;\\\">\"+\"M-bias of CHH/CHG Descriptive Statistics\"+\"</h2>\")\n",
    "HTML(\" \")\n",
    "tbl = 'MbiasNoCpG'\n",
    "\n",
    "df_table = get_descriptive_stats(df_csv)[tbl]\n",
    "# df_table = df_table.reset_index()\n",
    "df_table  = format_metric_names(df_table)\n",
    "\n",
    "df_to_print = df_table.copy()\n",
    "df_to_print['stat_type'] =  df_to_print['metric'].str.extract(r'([A-Za-z]+)\\s')\n",
    "df_to_print['metric']  = df_to_print['metric'].str.title()\n",
    "\n",
    "\n",
    "df_to_print['value'][df_to_print['stat_type'] == \"Percent\"] = (df_to_print['value'][df_to_print['stat_type'] == \"Percent\"]).map('{:,.2%}'.format)\n",
    "\n",
    "\n",
    "cols = ['metric','value']\n",
    "df_output = []\n",
    "df_output = [y for x, y in df_to_print.groupby('detail')]\n",
    "\n",
    "\n",
    "if (len(df_output) ==4):\n",
    "    order =[3,2,1,0]\n",
    "else:\n",
    "    order =[1,0]\n",
    "df_output = [df_output[i] for i in order]\n",
    "\n",
    "del(df_to_print)\n",
    "df_to_print = []\n",
    "temp_tables = []\n",
    "for l in df_output:\n",
    "    l.index = l['metric']\n",
    "    temp_tables.append(l['detail'][0])\n",
    "    df_to_print.append(l['value'].to_frame())\n",
    "\n",
    "display_side_by_side(df_to_print, temp_tables)\n",
    "\n",
    "# ---------------"
   ]
  },
  {
   "cell_type": "code",
   "execution_count": null,
   "metadata": {
    "pycharm": {
     "name": "#%%\n"
    }
   },
   "outputs": [],
   "source": [
    "## Control genomes (if exist)\n",
    "# ------------------------------\n",
    "\n",
    "tbl = 'MergeContext'\n",
    "df_table = get_descriptive_stats(df_csv)[tbl]\n",
    "all_genomes = list(set(df_table['detail']))\n",
    "ctrl_genomes = ['Lambda', 'pUC19']\n",
    "\n",
    "check = all(item in all_genomes for item in ctrl_genomes)\n",
    "\n",
    "if check is True:\n",
    "\n",
    "    HTML(\" \")\n",
    "    HTML(\"<h2 style=\\\"font-size:14px;\\\">\"+\"Control Genomes: Methylation and Coverage\"+\"</h2>\")\n",
    "    HTML(\"<hr/>\")\n",
    "\n",
    "    # PRINT PLOTS OF PERCENT METHYLATION ACROSS ENTIRE CONTROL GENOMES \n",
    "    #-----------------------------------------------------------------\n",
    "    tbl = 'MergeContext'\n",
    "    df_table = pd.DataFrame()\n",
    "    df_table = get_area_data(df_csv)[tbl]\n",
    "    df_table = parse_metric_names(df_table)\n",
    "    df_table = df_table.reset_index()\n",
    "    df_table  = format_metric_names(df_table)\n",
    "    df_table['bin'] = df_table['bin'].astype(int)\n",
    "    df_output = [y for x, y in df_table.groupby('detail')]\n",
    "\n",
    "\n",
    "    df_pos_meth = []\n",
    "    n = 102\n",
    "    f, ax = plt.subplots(1, 2, figsize = [12, 5])\n",
    "    i = 0\n",
    "    palet = ['forestgreen','steelblue']\n",
    "\n",
    "    for df_pos_meth in df_output:\n",
    "        # get methylation per position\n",
    "        df_pos_meth = df_pos_meth.reset_index()\n",
    "        temp_genome = df_pos_meth['detail'].unique()[0]\n",
    "\n",
    "        # print to subplots\n",
    "        currax = ax[i]\n",
    "        s = df_pos_meth.plot(kind = 'area', ylim = [0,n],y  ='value' ,\n",
    "                                     title = temp_genome + \": Percent methylation\", \n",
    "                      legend=False, color=palet[i], alpha=0.6, ax = currax,\n",
    "                            fontsize=14)\n",
    "        a = currax.set(xlabel='Position', ylabel='Percent Methylation')\n",
    "        plt.style.use('ggplot')\n",
    "\n",
    "        i+=1\n",
    "\n",
    "    HTML(\" \")\n",
    "\n",
    "# --------\n"
   ]
  },
  {
   "cell_type": "code",
   "execution_count": null,
   "metadata": {
    "pycharm": {
     "name": "#%%\n"
    }
   },
   "outputs": [],
   "source": [
    "## Control genomes (if exist)\n",
    "# ------------------------------\n",
    "HTML(\" \")\n",
    "\n",
    "tbl = 'MergeContext'\n",
    "df_table = get_descriptive_stats(df_csv)[tbl]\n",
    "all_genomes = list(set(df_table['detail']))\n",
    "ctrl_genomes = ['Lambda', 'pUC19']\n",
    "\n",
    "check = all(item in all_genomes for item in ctrl_genomes)\n",
    "\n",
    "if check is True:\n",
    "\n",
    "    HTML(\"<h2 style=\\\"font-size:12px;\\\">\"+\"Control Genomes: Methylation and Coverage Descriptive Statistics\"+\"</h2>\")\n",
    "    # HTML(\"<hr/>\")\n",
    "    tbl = 'MergeContext'\n",
    "    genome = 'hg'\n",
    "    df_to_print = pd.DataFrame()\n",
    "    df_table = df_table[df_table['detail'] != genome]\n",
    "    df_table = df_table.reset_index()\n",
    "    df_table  = format_metric_names(df_table)\n",
    "\n",
    "    df_table['stat_type']=  df_table['metric'].str.extract(r'([A-Za-z]+)[\\s:]')\n",
    "    df_table['metric']  = df_table['metric'].str.title()\n",
    "    df_table['value'][df_table['stat_type'] == \"Percent\"] = (df_table['value'][df_table['stat_type'] == \"Percent\"]/100).map('{:,.2%}'.format)\n",
    "    df_table['value'][df_table['stat_type'] == \"Coverage\"] = df_table['value'][df_table['stat_type'] == \"Coverage\"].map('{:,.2f}'.format)\n",
    "    df_table['value'][df_table['stat_type'] == \"Total\"] = df_table['value'][df_table['stat_type'] == \"Total\"].map('{:,.0f}'.format)\n",
    "    df_table['metric']= df_table['metric'].str.replace(r'Cpgs', 'CpGs', regex=True)\n",
    "\n",
    "    table_names = df_table['detail'].unique()\n",
    "    cols = ['metric','value', 'detail']\n",
    "    df_output = []\n",
    "    df_output = [y for x, y in df_table.groupby('detail')]\n",
    "\n",
    "    df_to_print = []\n",
    "    cols = ['metric','value']\n",
    "    for l in df_output:\n",
    "        l.index = l['metric']\n",
    "        df_to_print.append(l['value'].to_frame())\n",
    "\n",
    "    display_side_by_side(df_to_print, table_names)\n",
    "    \n",
    "    #--------\n"
   ]
  },
  {
   "cell_type": "code",
   "execution_count": null,
   "metadata": {
    "pycharm": {
     "name": "#%%\n"
    }
   },
   "outputs": [],
   "source": [
    "# function for printing bar plots of methylation and coverage at CpGs \n",
    "def plot_bar_distrib (in_table):\n",
    "    i =0\n",
    "    in_colours = ['salmon','tomato']\n",
    "    curr_genome = \"Human Genome\"\n",
    "    cols = ['bin','value']\n",
    "    n_rows = in_table.shape[0]\n",
    "    if ( n_rows > 10 ):\n",
    "        h = 5\n",
    "        w = 13.5\n",
    "        n = 2\n",
    "\n",
    "        in_list_df = [y for x, y in in_table.groupby(df_table['metric'], sort = False)]\n",
    "\n",
    "        f, ax = plt.subplots(1, n, figsize = [w, h])\n",
    "\n",
    "        for i in range(len(in_list_df)):\n",
    "\n",
    "            currax = ax[i]\n",
    "            y_axis_label = in_list_df[i]['metric'].unique()[0]\n",
    "            y_axis_label = y_axis_label.replace(\":\", \"\" )\n",
    "            x_axis_label =\"Value Bins\"\n",
    "            curr_title = curr_genome + \": \" + y_axis_label\n",
    "            \n",
    "            sns.barplot(data = in_list_df[i],\n",
    "                        x=\"bin\",\n",
    "                        y=\"value\",\n",
    "                        lw=2.5,\n",
    "                        ax = currax,\n",
    "                        color=in_colours[i]\n",
    "                        )\n",
    "            currax.set_xlabel(x_axis_label,fontsize=14)\n",
    "            currax.set_ylabel(y_axis_label,fontsize=14)\n",
    "            currax.set_title(curr_title,fontsize=13)\n",
    "            currax.tick_params(labelsize=14)\n",
    "            f.axes[i].tick_params(labelrotation=45)\n",
    "\n",
    "    else: \n",
    "        h = 5\n",
    "        w = 5.5\n",
    "        n = 1\n",
    "\n",
    "        f, ax = plt.subplots(n, n, figsize = [w, h])\n",
    "\n",
    "        y_axis_label = in_table['metric'].unique()[0]\n",
    "        y_axis_label = y_axis_label.replace(\":\", \"\" )\n",
    "        curr_title = curr_genome + \": \" + y_axis_label\n",
    "\n",
    "        sns.barplot(data = in_table,\n",
    "                    x=\"bin\",\n",
    "                    y=\"value\",\n",
    "                    lw=2.5,\n",
    "                    ax = ax,\n",
    "                    color=in_colours[i]\n",
    "                    )\n",
    "        ax.set_xlabel(\"Value Bins\",fontsize=14)\n",
    "        ax.set_ylabel(y_axis_label,fontsize=14)\n",
    "        ax.set_title(curr_title,fontsize=13)\n",
    "        ax.tick_params(labelsize=14)\n",
    "        plt.xticks(rotation=45)\n",
    "\n",
    "#--------\n"
   ]
  },
  {
   "cell_type": "code",
   "execution_count": null,
   "metadata": {
    "pycharm": {
     "name": "#%%\n"
    }
   },
   "outputs": [],
   "source": [
    "# print details of mergeCOntext plots of CpG Methylation and Coverage\n",
    "# -----------------------------\n",
    "# main statistics table\n",
    "# --------------------------\n",
    "tbl = 'MergeContext'\n",
    "genome = 'hg'\n",
    "df_table = get_histogram_data(df_csv)[tbl]\n",
    "df_table = df_table[df_table['detail'] == genome]\n",
    "df_table = parse_metric_names(df_table)\n",
    "df_table = format_metric_names(df_table)\n",
    "df_table['stat_type'] =  df_table['metric'].str.extract(r'([A-Za-z]+):')\n",
    "\n",
    "\n",
    "HTML(\" \")\n",
    "HTML(\"<hr/>\")\n",
    "HTML(\"<h2 style=\\\"font-size:16px;\\\">\"+\"Human Genome: Additional Details of CpG Methylation and Coverage\"+\"</h2>\")\n",
    "HTML(\"<hr/>\")\n",
    "HTML(\" \")\n",
    "\n",
    "list_df = [y for x, y in df_table.groupby(df_table['stat_type'], sort = False)]\n",
    "\n",
    "for df_to_plot in list_df:\n",
    "    plot_bar_distrib(df_to_plot)\n",
    "\n",
    "#--------\n"
   ]
  },
  {
   "cell_type": "code",
   "execution_count": null,
   "metadata": {},
   "outputs": [],
   "source": [
    "# print details of figures\n",
    "# --------------------------\n",
    "HTML(\" \")\n",
    "HTML(\"<h2 style=\\\"font-size:12px;\\\">\"+\"Human Genome: Values of CpG Methylation and Coverage\"+\"</h2>\")\n",
    "HTML(\" \")\n",
    "\n",
    "list_df = [y for x, y in df_table.groupby(df_table['metric'], sort = False)]\n",
    "\n",
    "df_to_print = []\n",
    "temp_tables = []\n",
    "cols = ['bin','value']\n",
    "for i, sub_df in enumerate(list_df):\n",
    "    sub_df = sub_df.reset_index()\n",
    "    if(i<2):\n",
    "        sub_df['value'] = sub_df['value'].map('{:,.0f}'.format) \n",
    "    else:\n",
    "        sub_df['value'] = sub_df['value'].map('{:,.2%}'.format) \n",
    "    temp_tables.append(sub_df['metric'][0].replace(\":\", \"\" ))\n",
    "    sub_df.index = sub_df['bin']\n",
    "    df_to_print.append(sub_df['value'].to_frame())\n",
    "    \n",
    "\n",
    "display_side_by_side(df_to_print, temp_tables)\n",
    "#-------\n"
   ]
  },
  {
   "cell_type": "code",
   "execution_count": null,
   "metadata": {
    "pycharm": {
     "name": "#%%\n"
    }
   },
   "outputs": [],
   "source": []
  }
 ],
 "metadata": {
  "kernelspec": {
   "display_name": "Python 3",
   "language": "python",
   "name": "python3"
  },
  "language_info": {
   "codemirror_mode": {
    "name": "ipython",
    "version": 3
   },
   "file_extension": ".py",
   "mimetype": "text/x-python",
   "name": "python",
   "nbconvert_exporter": "python",
   "pygments_lexer": "ipython3",
   "version": "3.10.14"
  }
 },
 "nbformat": 4,
 "nbformat_minor": 4
}
