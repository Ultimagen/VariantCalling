{
 "cells": [
  {
   "cell_type": "code",
   "execution_count": null,
   "metadata": {
    "collapsed": false,
    "pycharm": {
     "name": "#%%\n"
    }
   },
   "outputs": [],
   "source": [
    "usage = \"\"\"Run with papermill:\n",
    "     \n",
    "papermill srsnv_report.ipynb output_srsnv_report.ipynb \\\n",
    "    -p report_name <> \\\n",
    "    -p model_file <> \\\n",
    "    -p params_file <> \\\n",
    "    -p output_roc_plot <> \\\n",
    "    -p output_LoD_plot <> \\\n",
    "    -p output_cm_plot <> \\\n",
    "    -p output_precision_recall_qual <> \\\n",
    "    -p output_qual_density <> \\\n",
    "    -p output_obsereved_qual_plot <> \\\n",
    "    -p output_ML_qual_hist <> \\\n",
    "    -p output_qual_per_feature <> \\\n",
    "    -p output_bepcr_hists <> \\\n",
    "    -p output_bepcr_fpr <> \\\n",
    "    -p output_bepcr_recalls <>\n",
    "Then convert to html\n",
    "\n",
    "jupyter nbconvert --to html output_srsnv_report.ipynb --no-input --output srsnv_report.html\"\"\""
   ]
  },
  {
   "cell_type": "code",
   "execution_count": 1,
   "id": "df91b0b8-6bdf-4a98-8bd7-b94bdac764b3",
   "metadata": {
    "tags": []
   },
   "outputs": [],
   "source": [
    "import pandas as pd\n",
    "import os\n",
    "from IPython.display import Image, HTML, display\n",
    "import joblib\n",
    "import json\n",
    "\n",
    "pd.options.display.max_rows = 200"
   ]
  },
  {
   "cell_type": "code",
   "execution_count": null,
   "id": "ddc8efe7-340b-4a6e-acf4-bb3bc8415f53",
   "metadata": {
    "tags": [
     "parameters"
    ]
   },
   "outputs": [],
   "source": [
    "# papermill parameters\n",
    "report_name = None\n",
    "model_file = None\n",
    "params_file = None\n",
    "output_roc_plot = None\n",
    "output_LoD_plot = None\n",
    "output_cm_plot = None\n",
    "output_precision_recall_qual = None\n",
    "output_qual_density = None\n",
    "output_obsereved_qual_plot = None\n",
    "output_ML_qual_hist = None\n",
    "output_qual_per_feature = None\n",
    "output_bepcr_hists = None\n",
    "output_bepcr_fpr = None\n",
    "output_bepcr_recalls = None"
   ]
  },
  {
   "cell_type": "code",
   "execution_count": null,
   "id": "027c197c-26c4-4e90-be14-4ac2c13d07bb",
   "metadata": {
    "tags": []
   },
   "outputs": [],
   "source": [
    "# check that we got all the inputs\n",
    "missing = list()\n",
    "for varname in [\n",
    "    \"report_name\",\n",
    "    \"model_file\",\n",
    "    \"params_file\",\n",
    "    \"output_roc_plot\",\n",
    "    \"output_LoD_plot\",\n",
    "    \"output_cm_plot\",\n",
    "    \"output_precision_recall_qual\",\n",
    "    \"output_qual_density\",\n",
    "    \"output_obsereved_qual_plot\",\n",
    "    \"output_ML_qual_hist\",\n",
    "    \"output_qual_per_feature\",\n",
    "    \"output_bepcr_hists\",\n",
    "    \"output_bepcr_fpr\",\n",
    "    \"output_bepcr_recalls\",\n",
    "]:\n",
    "    if locals()[varname] is None:\n",
    "        missing.append(varname)\n",
    "\n",
    "if len(missing) > 0:\n",
    "    raise ValueError(f\"Following inputs missing:\\n{(os.linesep).join(missing)}\")"
   ]
  },
  {
   "cell_type": "code",
   "execution_count": null,
   "id": "8b8a050e",
   "metadata": {},
   "outputs": [],
   "source": [
    "# load files\n",
    "model = joblib.load(model_file)\n",
    "with open(params_file, 'r', encoding=\"utf-8\") as f:\n",
    "    params = json.load(f)"
   ]
  },
  {
   "cell_type": "code",
   "execution_count": null,
   "id": "69a5d78f-47c4-4bec-b008-0b032b2db039",
   "metadata": {
    "tags": []
   },
   "outputs": [],
   "source": [
    "display(HTML(f'<font size=\"6\">SRSNV report - {report_name} set</font>'))"
   ]
  },
  {
   "attachments": {},
   "cell_type": "markdown",
   "id": "cd7365f9-f154-415b-9775-2a95d9bc6696",
   "metadata": {},
   "source": [
    "* This report contains an analysis of the SRSNV model training.\n",
    "* We train as binary classifier per read. \n",
    "* The probabilities are translated to quality: quality = -10*log10(probability). \n",
    "* The quality is used as a threshold for discriminating true and false variants."
   ]
  },
  {
   "cell_type": "code",
   "execution_count": null,
   "id": "98c70897",
   "metadata": {},
   "outputs": [],
   "source": [
    "print('Info and model parameters:')\n",
    "\n",
    "params_for_print = [\n",
    "    'train_set_size',\n",
    "    'test_set_size',\n",
    "    'model_parameters',\n",
    "]\n",
    "for p in params_for_print:\n",
    "    print(f\"{p}: {params[p]}\")\n",
    "\n",
    "print(f\"Model features: \\n{model.feature_names_in_}\")"
   ]
  },
  {
   "cell_type": "markdown",
   "id": "c0fd2c39",
   "metadata": {},
   "source": [
    "# AUC curve"
   ]
  },
  {
   "cell_type": "code",
   "execution_count": null,
   "id": "c0fd2c39",
   "metadata": {},
   "outputs": [],
   "source": [
    "Image(output_roc_plot+'.png', width=600)"
   ]
  },
  {
   "cell_type": "markdown",
   "id": "fd27291b",
   "metadata": {},
   "source": [
    "## LoD"
   ]
  },
  {
   "cell_type": "markdown",
   "id": "fd27291b",
   "metadata": {},
   "source": [
    "We calculate the residual snv rate as following: \n",
    "\n",
    "error rate in test data = # errors / # bases sequenced\n",
    "\n",
    "where:\n",
    "\n",
    "\\# errors = # of single substitution snps > filter thresh\n",
    "\\# bases sequenced = # of bases aligned * % mapq60 * ratio_of_bases_in_coverage_range * read_filter_correction_factor * recall\\[threshold\\]\n",
    "\n",
    "and: \n",
    "\\# of bases aligned = mean_coverage * bases in region * downsampling factor\n",
    "downsampling factor = % of the featuremap reads sampled for test set\n"
   ]
  },
  {
   "cell_type": "code",
   "execution_count": null,
   "id": "f3fe0ea4",
   "metadata": {},
   "outputs": [],
   "source": [
    "Image(output_LoD_plot+'.png', width=800)"
   ]
  },
  {
   "cell_type": "markdown",
   "id": "52811fb1",
   "metadata": {},
   "source": [
    "# Training metrics"
   ]
  },
  {
   "cell_type": "code",
   "execution_count": null,
   "id": "52811fb1",
   "metadata": {},
   "outputs": [],
   "source": [
    "title = 'model confusion matrix'\n",
    "display(HTML(f'<font size=\"6\">{title}</font>'))\n",
    "Image(output_cm_plot+'.png', width=400)"
   ]
  },
  {
   "cell_type": "code",
   "execution_count": null,
   "id": "45faf0e8",
   "metadata": {},
   "outputs": [],
   "source": [
    "title = 'Precision and recall vs quality'\n",
    "display(HTML(f'<font size=\"6\">{title}</font>'))\n",
    "\n",
    "display(Image(output_precision_recall_qual+'.png', width=600))\n",
    "display(Image(output_qual_density+'.png', width=600))"
   ]
  },
  {
   "cell_type": "code",
   "execution_count": null,
   "id": "f87626f9",
   "metadata": {},
   "outputs": [],
   "source": [
    "title = 'Model qual metrics: hists by class, calibration'\n",
    "display(HTML(f'<font size=\"6\">{title}</font>'))\n",
    "display(Image(output_ML_qual_hist+'.png', width=600))\n",
    "display(Image(output_obsereved_qual_plot+'.png', width=600))\n"
   ]
  },
  {
   "cell_type": "code",
   "execution_count": null,
   "id": "39827279",
   "metadata": {},
   "outputs": [],
   "source": [
    "if 'strand_ratio_category_end' in model.feature_names_in_ and 'strand_ratio_category_start' in model.feature_names_in_:\n",
    "    display(HTML(f'<font size=\"6\">Balanced ePCR</font>'))\n",
    "\n",
    "    mixed_cs_list = [\n",
    "        'mixed_cs',\n",
    "        'mixed_non_cs',\n",
    "        'non_mixed_cs',\n",
    "        'non_mixed_non_cs',\n",
    "    ]\n",
    "\n",
    "    for suffix in mixed_cs_list:\n",
    "        image_path = output_bepcr_hists + suffix + '.png'\n",
    "        if os.path.isfile(image_path):\n",
    "            display(Image(image_path, width=600))\n",
    "\n",
    "\n",
    "    display(Image(output_bepcr_fpr + '.png', width=600))\n",
    "\n",
    "    display(Image(output_bepcr_recalls + '.png', width=600))"
   ]
  },
  {
   "cell_type": "code",
   "execution_count": null,
   "id": "5fd0cff6",
   "metadata": {},
   "outputs": [],
   "source": [
    "display(HTML(f'<font size=\"6\">qual per feature</font>'))\n",
    "for f in model.feature_names_in_:\n",
    "    image_path = output_qual_per_feature + f + '.png'\n",
    "    if os.path.isfile(image_path):\n",
    "        display(Image(image_path, width=600))\n"
   ]
  }
 ],
 "metadata": {
  "kernelspec": {
   "display_name": "genomics.py3",
   "language": "python",
   "name": "python3"
  },
  "language_info": {
   "codemirror_mode": {
    "name": "ipython",
    "version": 3
   },
   "file_extension": ".py",
   "mimetype": "text/x-python",
   "name": "python",
   "nbconvert_exporter": "python",
   "pygments_lexer": "ipython3",
   "version": "3.8.17"
  }
 },
 "nbformat": 4,
 "nbformat_minor": 5
}
