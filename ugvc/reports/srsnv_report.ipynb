{
 "cells": [
  {
   "cell_type": "code",
   "execution_count": null,
   "id": "d1bddb36",
   "metadata": {
    "collapsed": false,
    "pycharm": {
     "name": "#%%\n"
    }
   },
   "outputs": [],
   "source": [
    "usage = \"\"\"Run with papermill:\n",
    "     \n",
    "papermill srsnv_report.ipynb output_srsnv_report.ipynb \\\n",
    "    -p report_name <> \\\n",
    "    -p model_file <> \\\n",
    "    -p params_file <> \\\n",
    "    -p output_roc_plot <> \\\n",
    "    -p output_LoD_plot <> \\\n",
    "    -p output_LoD_qual_plot <> \\\n",
    "    -p output_cm_plot <> \\\n",
    "    -p output_obsereved_qual_plot <> \\\n",
    "    -p output_ML_qual_hist <> \\\n",
    "    -p output_qual_per_feature <> \\\n",
    "    -p output_bepcr_hists <> \\\n",
    "    -p output_bepcr_fpr <> \\\n",
    "    -p output_bepcr_recalls <>\n",
    "Then convert to html\n",
    "\n",
    "jupyter nbconvert --to html output_srsnv_report.ipynb --no-input --output srsnv_report.html\"\"\""
   ]
  },
  {
   "cell_type": "code",
   "execution_count": 1,
   "id": "df91b0b8-6bdf-4a98-8bd7-b94bdac764b3",
   "metadata": {
    "tags": []
   },
   "outputs": [],
   "source": [
    "import pandas as pd\n",
    "import os\n",
    "from IPython.display import Image, HTML, display\n",
    "import joblib\n",
    "import json\n",
    "\n",
    "pd.options.display.max_rows = 200\n",
    "\n",
    "import matplotlib.pyplot as plt\n",
    "import matplotlib.image as mpimg\n",
    "\n"
   ]
  },
  {
   "cell_type": "code",
   "execution_count": null,
   "id": "ddc8efe7-340b-4a6e-acf4-bb3bc8415f53",
   "metadata": {
    "tags": [
     "parameters"
    ]
   },
   "outputs": [],
   "source": [
    "# papermill parameters\n",
    "report_name = None\n",
    "model_file = None\n",
    "params_file = None\n",
    "output_roc_plot = None\n",
    "output_LoD_plot = None\n",
    "output_LoD_qual_plot = None\n",
    "output_cm_plot = None\n",
    "output_obsereved_qual_plot = None\n",
    "output_ML_qual_hist = None\n",
    "output_qual_per_feature = None\n",
    "output_bepcr_hists = None\n",
    "output_bepcr_fpr = None\n",
    "output_bepcr_recalls = None"
   ]
  },
  {
   "cell_type": "code",
   "execution_count": null,
   "id": "027c197c-26c4-4e90-be14-4ac2c13d07bb",
   "metadata": {
    "tags": []
   },
   "outputs": [],
   "source": [
    "# check that we got all the inputs\n",
    "missing = list()\n",
    "for varname in [\n",
    "    \"report_name\",\n",
    "    \"model_file\",\n",
    "    \"params_file\",\n",
    "    \"output_roc_plot\",\n",
    "    \"output_LoD_plot\",\n",
    "    \"output_LoD_qual_plot\",\n",
    "    \"output_cm_plot\",\n",
    "    \"output_obsereved_qual_plot\",\n",
    "    \"output_ML_qual_hist\",\n",
    "    \"output_qual_per_feature\",\n",
    "    \"output_bepcr_hists\",\n",
    "    \"output_bepcr_fpr\",\n",
    "    \"output_bepcr_recalls\",\n",
    "]:\n",
    "    if locals()[varname] is None:\n",
    "        missing.append(varname)\n",
    "\n",
    "if len(missing) > 0:\n",
    "    raise ValueError(f\"Following inputs missing:\\n{(os.linesep).join(missing)}\")"
   ]
  },
  {
   "cell_type": "code",
   "execution_count": null,
   "id": "8b8a050e",
   "metadata": {},
   "outputs": [],
   "source": [
    "# load files\n",
    "model = joblib.load(model_file)\n",
    "if isinstance(model, list): # For models saved from CV\n",
    "    model = model[0]\n",
    "with open(params_file, 'r', encoding=\"utf-8\") as f:\n",
    "    params = json.load(f)"
   ]
  },
  {
   "cell_type": "code",
   "execution_count": null,
   "id": "9e544b21",
   "metadata": {},
   "outputs": [],
   "source": [
    "def display_test_train(image_path,titlestr):\n",
    "    image_path1 = image_path+'.png'\n",
    "    image_path2 = image_path.replace(\"test\",\"train\")+'.png'\n",
    "\n",
    "    img1 = mpimg.imread(image_path1)\n",
    "    img2 = mpimg.imread(image_path2)\n",
    "\n",
    "    fig, ax = plt.subplots(1, 2, figsize=(20, 10),constrained_layout=True)\n",
    "    ax[0].imshow(img1)\n",
    "    ax[0].axis('off')\n",
    "    ax[0].set_title(\"Test\",fontsize=20)\n",
    "    ax[1].imshow(img2)\n",
    "    ax[1].axis('off')\n",
    "    ax[1].set_title(\"Train\",fontsize=20)\n",
    "    \n",
    "    fig.suptitle(titlestr,fontsize=24,y=0.95)\n",
    "    plt.show()\n",
    "\n",
    "dataname = params_file.split('/')[-1].split('.')[0]\n"
   ]
  },
  {
   "cell_type": "code",
   "execution_count": null,
   "id": "69a5d78f-47c4-4bec-b008-0b032b2db039",
   "metadata": {
    "tags": []
   },
   "outputs": [],
   "source": [
    "display(HTML(f'<font size=\"6\">SRSNV pipeline report </font>'))"
   ]
  },
  {
   "attachments": {},
   "cell_type": "markdown",
   "id": "cd7365f9-f154-415b-9775-2a95d9bc6696",
   "metadata": {},
   "source": [
    "* This report contains an analysis of the SRSNV model training.\n",
    "* We train as binary classifier per read. \n",
    "* The probabilities are translated to quality: quality = -10*log10(probability). \n",
    "* The quality is used as a threshold for discriminating true and false variants."
   ]
  },
  {
   "cell_type": "markdown",
   "id": "fd27291b",
   "metadata": {},
   "source": [
    "## Residual SNV rate vs Retention and LoD simulation"
   ]
  },
  {
   "cell_type": "markdown",
   "id": "fd27291b",
   "metadata": {},
   "source": [
    "We calculate the residual SNV rate as following: \n",
    "```\n",
    "error rate in test data = # errors / # bases sequenced\n",
    "```\n",
    "where:\n",
    "```\n",
    "# errors = # of single substitution snps > filter thresh\n",
    "# bases sequenced = # of bases aligned * % mapq60 * ratio_of_bases_in_coverage_range *\n",
    "                    read_filter_correction_factor * recall[threshold]\n",
    "```\n",
    "and: \n",
    "```\n",
    "# of bases aligned = mean_coverage * bases in region * downsampling factor\n",
    "downsampling factor = % of the featuremap reads sampled for test set\n",
    "```"
   ]
  },
  {
   "cell_type": "code",
   "execution_count": null,
   "id": "f3fe0ea4",
   "metadata": {},
   "outputs": [],
   "source": [
    "image_path1 = output_LoD_plot+'.png'\n",
    "display(HTML(f'<font size=\"6\">Test LoD simulation </font>'))\n",
    "display(Image(filename=image_path1, width=800, height=800))\n",
    "image_path2 = output_LoD_plot.replace(\"test\",\"train\")+'.png'\n",
    "display(HTML(f'<font size=\"6\">Train LoD simulation </font>'))\n",
    "display(Image(filename=image_path2, width=800, height=800))"
   ]
  },
  {
   "cell_type": "code",
   "execution_count": null,
   "id": "9f565047",
   "metadata": {},
   "outputs": [],
   "source": [
    "display_test_train(output_LoD_qual_plot,\"LoD vs. ML qual \\n\"+dataname)"
   ]
  },
  {
   "cell_type": "code",
   "execution_count": null,
   "id": "c0fd2c39",
   "metadata": {},
   "outputs": [],
   "source": [
    "display_test_train(output_roc_plot,\"ROC curve \\n\"+dataname)"
   ]
  },
  {
   "cell_type": "markdown",
   "id": "52811fb1",
   "metadata": {},
   "source": [
    "# Training metrics"
   ]
  },
  {
   "cell_type": "code",
   "execution_count": null,
   "id": "52811fb1",
   "metadata": {},
   "outputs": [],
   "source": [
    "title = 'Confusion matrix'\n",
    "display(HTML(f'<font size=\"4\">{title}</font>'))\n",
    "display_test_train(output_cm_plot,dataname)"
   ]
  },
  {
   "cell_type": "code",
   "execution_count": null,
   "id": "39827279",
   "metadata": {},
   "outputs": [],
   "source": [
    "title = 'ML qual hists by class'\n",
    "display(HTML(f'<font size=\"4\">{title}</font>'))\n",
    "display_test_train(output_ML_qual_hist,dataname)\n",
    "\n",
    "display(HTML(f'<font size=\"4\">Stratified by category </font>'))\n",
    "subset_data_list = [\n",
    "    'mixed_cycle_skip',\n",
    "    'mixed_non_cycle_skip',\n",
    "    'non_mixed_cycle_skip',\n",
    "    'non_mixed_non_cycle_skip',\n",
    "    'cycle_skip',\n",
    "    'non_cycle_skip',\n",
    "]\n",
    "\n",
    "for suffix in subset_data_list:\n",
    "    image_path = output_bepcr_hists + suffix    \n",
    "    if os.path.isfile(image_path+'.png'):\n",
    "        display_test_train(image_path,dataname)\n",
    "\n",
    "display(HTML(f'<font size=\"4\">ML qual calibration by category </font>'))\n",
    "display_test_train(output_bepcr_fpr,dataname)\n",
    "\n",
    "display(HTML(f'<font size=\"4\">Recall rate by category </font>'))\n",
    "display_test_train(output_bepcr_recalls,dataname)"
   ]
  },
  {
   "cell_type": "code",
   "execution_count": null,
   "id": "5fd0cff6",
   "metadata": {},
   "outputs": [],
   "source": [
    "display(HTML(f'<font size=\"4\">Feature distribution per label</font>'))\n",
    "for f in model.feature_names_in_:\n",
    "    image_path = output_qual_per_feature + f\n",
    "    if os.path.isfile(image_path + '.png'):        \n",
    "        display_test_train(image_path,dataname)\n"
   ]
  },
  {
   "cell_type": "code",
   "execution_count": null,
   "id": "98c70897",
   "metadata": {},
   "outputs": [],
   "source": [
    "\n",
    "display(HTML(f'<font size=\"4\">Input parameters: </font>'))\n",
    "\n",
    "for item in params['model_parameters']:\n",
    "    print(f\"    * {item}: {params['model_parameters'][item]}\")\n",
    "\n",
    "params_for_print = [\n",
    "    'numerical_features',\n",
    "    'categorical_features',\n",
    "    'train_set_size',   \n",
    "    'test_set_size',    \n",
    "]\n",
    "for p in params_for_print:    \n",
    "    if (type(params[p]) == list):\n",
    "        print(f\"    * {p}:\")\n",
    "        for pp in params[p]:\n",
    "            print(f\"        - {pp}\")\n",
    "    else:\n",
    "        print(f\"    * {p}: {params[p]}\")\n"
   ]
  }
 ],
 "metadata": {
  "kernelspec": {
   "display_name": "genomics.py3",
   "language": "python",
   "name": "python3"
  },
  "language_info": {
   "codemirror_mode": {
    "name": "ipython",
    "version": 3
   },
   "file_extension": ".py",
   "mimetype": "text/x-python",
   "name": "python",
   "nbconvert_exporter": "python",
   "pygments_lexer": "ipython3",
   "version": "3.8.17"
  }
 },
 "nbformat": 4,
 "nbformat_minor": 5
}
