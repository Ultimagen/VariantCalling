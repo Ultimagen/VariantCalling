{
 "cells": [
  {
   "cell_type": "code",
   "execution_count": null,
   "outputs": [],
   "source": [
    "usage = \"\"\"Run with papermill:\n",
    "     \n",
    "papermill substitution_error_rate_report.ipynb output_substitution_error_rate_report.ipynb \\\n",
    "    -p h5_substitution_error_rate <> \\\n",
    "    -p png_substitution_error_rate_by_mut_type_and_source <> \\\n",
    "    -p png_substitution_error_rate_asymmetry <> \\\n",
    "    -p png_substitution_error_rate_by_motif_thresh0 <> \\\n",
    "    -p png_substitution_error_rate_by_motif_thresh3 <> \\\n",
    "    -p png_substitution_error_rate_by_motif_thresh5 <> \\\n",
    "    -p png_substitution_error_rate_by_motif_thresh10 <> \\\n",
    "    -p png_positional_substitution_error_rate <>\n",
    "\n",
    "\n",
    "\n",
    "Then convert to html\n",
    "\n",
    "jupyter nbconvert --to html output_substitution_error_rate_report.ipynb --template classic --no-input --output substitution_error_rate_report.html\"\"\""
   ],
   "metadata": {
    "collapsed": false,
    "pycharm": {
     "name": "#%%\n"
    }
   }
  },
  {
   "cell_type": "code",
   "execution_count": null,
   "id": "df91b0b8-6bdf-4a98-8bd7-b94bdac764b3",
   "metadata": {
    "tags": []
   },
   "outputs": [],
   "source": [
    "import pandas as pd\n",
    "import os\n",
    "from IPython.display import Image, HTML\n",
    "\n",
    "pd.options.display.max_rows = 200"
   ]
  },
  {
   "cell_type": "code",
   "execution_count": null,
   "id": "ddc8efe7-340b-4a6e-acf4-bb3bc8415f53",
   "metadata": {
    "tags": [
     "parameters"
    ]
   },
   "outputs": [],
   "source": [
    "# papermill parameters\n",
    "h5_substitution_error_rate = None\n",
    "png_substitution_error_rate_by_mut_type_and_source = None\n",
    "png_substitution_error_rate_asymmetry = None\n",
    "png_substitution_error_rate_by_motif_thresh0 = None\n",
    "png_substitution_error_rate_by_motif_thresh3 = None\n",
    "png_substitution_error_rate_by_motif_thresh5 = None\n",
    "png_substitution_error_rate_by_motif_thresh10 = None\n",
    "png_positional_substitution_error_rate = None"
   ]
  },
  {
   "cell_type": "code",
   "execution_count": null,
   "id": "027c197c-26c4-4e90-be14-4ac2c13d07bb",
   "metadata": {
    "tags": []
   },
   "outputs": [],
   "source": [
    "# check that we got all the inputs\n",
    "missing = list()\n",
    "for varname in [\n",
    "    \"h5_substitution_error_rate\",\n",
    "    \"png_substitution_error_rate_by_mut_type_and_source\",\n",
    "    \"png_substitution_error_rate_asymmetry\",\n",
    "    \"png_substitution_error_rate_by_motif_thresh0\",\n",
    "    \"png_substitution_error_rate_by_motif_thresh3\",\n",
    "    \"png_substitution_error_rate_by_motif_thresh5\",\n",
    "    \"png_substitution_error_rate_by_motif_thresh10\",\n",
    "]:\n",
    "    if locals()[varname] is None:\n",
    "        missing.append(varname)\n",
    "\n",
    "if len(missing) > 0:\n",
    "    raise ValueError(f\"Following inputs missing:\\n{(os.linesep).join(missing)}\")"
   ]
  },
  {
   "cell_type": "code",
   "execution_count": null,
   "id": "54830e75-abaa-4c72-9271-de2ef5224e6a",
   "metadata": {
    "tags": []
   },
   "outputs": [],
   "source": [
    "def revcomp(seq):\n",
    "    \"\"\"Reverse complements DNA given as string\n",
    "\n",
    "    Parameters\n",
    "    ----------\n",
    "    seq: Union[str,list,np.ndarray]\n",
    "        DNA string\n",
    "\n",
    "    Returns\n",
    "    -------\n",
    "    str | list | np.ndarray\n",
    "    \"\"\"\n",
    "    complement = {\n",
    "        \"A\": \"T\",\n",
    "        \"C\": \"G\",\n",
    "        \"G\": \"C\",\n",
    "        \"T\": \"A\",\n",
    "        \"a\": \"t\",\n",
    "        \"c\": \"g\",\n",
    "        \"g\": \"c\",\n",
    "        \"t\": \"a\",\n",
    "    }\n",
    "    if isinstance(seq, str):\n",
    "        reverse_complement = \"\".join(\n",
    "            complement.get(base, base) for base in reversed(seq)\n",
    "        )\n",
    "    elif isinstance(seq, list):\n",
    "        reverse_complement = [complement.get(base, base) for base in reversed(seq)]\n",
    "    elif isinstance(seq, np.ndarray):\n",
    "        reverse_complement = np.array(\n",
    "            [complement.get(base, base) for base in reversed(seq)]\n",
    "        )\n",
    "\n",
    "    return reverse_complement\n",
    "\n",
    "\n",
    "def create_matched_forward_and_reverse_strand_errors_dataframe(df_motifs):\n",
    "    df_motifs = df_motifs.astype({\"ref_motif\": str, \"alt_motif\": str})\n",
    "    df_motifs.loc[:, \"mut_type\"] = (\n",
    "        df_motifs[\"ref_motif\"].str.slice(1, 2)\n",
    "        + \"->\"\n",
    "        + df_motifs[\"alt_motif\"].str.slice(1, 2)\n",
    "    )\n",
    "    df_for = df_motifs[(df_motifs[\"ref\"] == \"C\") | (df_motifs[\"ref\"] == \"T\")].copy()\n",
    "    df_rev = df_motifs[(df_motifs[\"ref\"] == \"A\") | (df_motifs[\"ref\"] == \"G\")].copy()\n",
    "    df_rev.loc[:, \"ref_motif\"] = df_rev[\"ref_motif\"].apply(revcomp)\n",
    "    df_rev.loc[:, \"alt_motif\"] = df_rev[\"alt_motif\"].apply(revcomp)\n",
    "    df_rev = df_rev.set_index([\"ref_motif\", \"alt_motif\"])\n",
    "    df_for = df_for.set_index([\"ref_motif\", \"alt_motif\"])\n",
    "    df_err = df_for.filter(regex=\"mut_type|error_rate|snp_count\").join(\n",
    "        df_rev.filter(regex=\"error_rate|snp_count\"), lsuffix=\"_f\", rsuffix=\"_r\"\n",
    "    )\n",
    "    for c in df_err.filter(regex=\"error[\\w]+_f\").columns:\n",
    "        df_err.loc[:, c[:-2]] = df_err.filter(regex=c[:-1]).mean(axis=1)\n",
    "    for c in df_err.filter(regex=\"snp_count_[\\w]+_f\").columns:\n",
    "        df_err.loc[:, c[:-2]] = df_err.filter(regex=c[:-1]).sum(axis=1)\n",
    "    return df_err"
   ]
  },
  {
   "cell_type": "code",
   "execution_count": null,
   "id": "c574bbca-b13e-4b6b-853d-654469779ed5",
   "metadata": {
    "tags": []
   },
   "outputs": [],
   "source": [
    "df = pd.read_hdf(h5_substitution_error_rate, key=\"motif_1\")\n",
    "\n",
    "df_err = create_matched_forward_and_reverse_strand_errors_dataframe(df)"
   ]
  },
  {
   "cell_type": "code",
   "execution_count": null,
   "id": "69a5d78f-47c4-4bec-b008-0b032b2db039",
   "metadata": {
    "tags": []
   },
   "outputs": [],
   "source": [
    "display(HTML('<font size=\"6\">Substitution error rate report</font>'))"
   ]
  },
  {
   "cell_type": "markdown",
   "id": "d5c27a21-c7ea-4097-ac91-939301252b57",
   "metadata": {},
   "source": [
    "# Introduction "
   ]
  },
  {
   "cell_type": "markdown",
   "id": "cd7365f9-f154-415b-9775-2a95d9bc6696",
   "metadata": {},
   "source": [
    "This report contains an analysis of the substitution error rates in a sample sequenced on an Ultima Genomics sequencer. Only substitution error rates are considered, indels are not. Errors are analyzed with respect to the reference and alternative bases, trinucleotide context, cycle-skip status and position on the read.  "
   ]
  },
  {
   "cell_type": "markdown",
   "id": "8e818fa1-1f2a-4f05-8a7f-db2cca83c645",
   "metadata": {},
   "source": [
    "# Results "
   ]
  },
  {
   "cell_type": "markdown",
   "id": "3186468a-c87e-4980-b861-0a66a339a5a5",
   "metadata": {},
   "source": [
    "## Average substitution error rates "
   ]
  },
  {
   "cell_type": "code",
   "execution_count": null,
   "id": "8eb34a5f-6b0f-472b-9e50-1f56d34487af",
   "metadata": {
    "tags": []
   },
   "outputs": [],
   "source": [
    "df_tmp = df.filter(regex=\"error_rate\").mean().rename(\"Rate of substitution errors\").to_frame()\n",
    "df_tmp.index = [\"All motifs, log likelihood thresh=0\", \"All motifs, log likelihood thresh=3\", \"All motifs, log likelihood thresh=5\", \"Cycle-skip motifs, log likelihood thresh=10\"]\n",
    "df_tmp2 = df.filter(regex=\"snp_count\").sum().rename(\"Number of substitution errors\").to_frame()\n",
    "df_tmp2.index = [\"All motifs, log likelihood thresh=0\", \"All motifs, log likelihood thresh=3\", \"All motifs, log likelihood thresh=5\", \"Cycle-skip motifs, log likelihood thresh=10\"]\n",
    "df_tmp = df_tmp.join(df_tmp2)\n",
    "\n",
    "df_ncskp = df_err[df_err[\"error_rate_bq10\"].isnull()].filter(regex=\"bq[0-9]$\")\n",
    "df_ncskp = df_ncskp.agg({c: \"sum\" if \"count\" in c else \"mean\" for c in df_ncskp.columns})\n",
    "df_cskp = df_err[~df_err[\"error_rate_bq10\"].isnull()].filter(regex=\"bq10$\")\n",
    "df_cskp = df_cskp.agg({c: \"sum\" if \"count\" in c else \"mean\" for c in df_cskp.columns})\n",
    "\n",
    "df_agg = pd.concat((df_ncskp, df_cskp))\n",
    "df_count = df_agg.filter(regex=\"snp\").rename(\"Number of substitution errors\")\n",
    "df_count.index = [\"Non cycle-skip motifs, log likelihood thresh=0\", \"Non cycle-skip motifs, log likelihood thresh=3\", \"Non cycle-skip motifs, log likelihood thresh=5\", \"Cycle-skip motifs\"]\n",
    "df_rate = df_agg.filter(regex=\"error_rate\").rename(\"Rate of substitution errors\")\n",
    "df_rate.index = [\"Non cycle-skip motifs, log likelihood thresh=0\", \"Non cycle-skip motifs, log likelihood thresh=3\", \"Non cycle-skip motifs, log likelihood thresh=5\", \"Cycle-skip motifs\"]\n",
    "\n",
    "best_motif = df_err.sort_values(\"error_rate_bq5\")[\n",
    "    [\"error_rate_bq5\", \"snp_count_bq5\"]\n",
    "].head(1)\n",
    "best_motif.index = [f\"Lowest error motif: {x[0]}→{x[1]}\" for x in best_motif.index]\n",
    "worst_motif = df_err.sort_values(\"error_rate_bq5\")[\n",
    "    [\"error_rate_bq5\", \"snp_count_bq5\"]\n",
    "].tail(1)\n",
    "worst_motif.index = [f\"Highest error motif: {x[0]}→{x[1]}\" for x in worst_motif.index]\n",
    "motifs = pd.concat((best_motif, worst_motif))\n",
    "motifs.columns = [\"Rate of substitution errors\", \"Number of substitution errors\"]\n",
    "\n",
    "df_ref_alt = df_err[[\"error_rate_bq10\", \"snp_count_bq10\"]].dropna()\n",
    "df_ref_alt.index = [f\"{x[0][1]}→{x[1][1]} (cycle-skip motifs)\" for x in df_ref_alt.index]\n",
    "df_ref_alt = df_ref_alt.groupby(level=0).agg({\"error_rate_bq10\": \"mean\", \"snp_count_bq10\": \"sum\"})\n",
    "df_ref_alt.columns = [\"Rate of substitution errors\", \"Number of substitution errors\"]\n",
    "\n",
    "pd.concat(\n",
    "    (\n",
    "        motifs,\n",
    "        df_ref_alt,\n",
    "        df_tmp.loc[[\"All motifs, log likelihood thresh=5\"]],\n",
    "        df_rate.to_frame()\n",
    "        .join(df_count)\n",
    "        .loc[[\"Non cycle-skip motifs, log likelihood thresh=5\", \"Cycle-skip motifs\"]],\n",
    "    )\n",
    ").iloc[::-1].style.format(\"{:.1e}\")"
   ]
  },
  {
   "cell_type": "markdown",
   "id": "526c4500-3084-4b24-a315-88b39937a5e4",
   "metadata": {},
   "source": [
    "## Substitution error rate by mutation type and noise source"
   ]
  },
  {
   "cell_type": "code",
   "execution_count": null,
   "id": "62915f83-0888-4f24-a13d-5341fbf06338",
   "metadata": {
    "tags": []
   },
   "outputs": [],
   "source": [
    "Image(png_substitution_error_rate_by_mut_type_and_source, width=1000)"
   ]
  },
  {
   "cell_type": "markdown",
   "id": "0ad9990b-2784-4249-9e40-55d8f24e6cc1",
   "metadata": {},
   "source": [
    "Substitution error rate due to sequencing errors at different filtering stringencies, and due to non-sequencing errors. The error rate is calculated for log-likelihood thresholds of 0 (no filtering), 3 (Phred 30) and 5 (Phred 50). Additionally, they are calculated for cycle-skip motifs only by setting a log likelihood threshold of 10 (Phred 100). The errors are grouped by the mutation type - reference and alternative bases, then the cycle-skip error rate is subtracted from the other errors rates (0, 3, 5 thresholds) to obtain an estimate of the sequencing errors. "
   ]
  },
  {
   "cell_type": "markdown",
   "id": "710e7300-80a7-420e-a5fb-3f2e224606eb",
   "metadata": {},
   "source": [
    "## Detailed error rate profile by trinucleotide context "
   ]
  },
  {
   "cell_type": "markdown",
   "id": "8de675a1-05ad-4f7a-b731-14ce70a25b8a",
   "metadata": {},
   "source": [
    "Substitution errors in the plots below were grouped by mutation type (reference and alternative base) and trinucleotide context, and filtered by varying likelihood thresholds. Each pair of bars represents the error rate in a specific trinucleotide context (e.g. $TCA$) when the central base ($T\\boldsymbol CA$) is measured as a specific alternative base. The color represents the 6 different mutation types. Reverse complement errors are grouped together where the forward error (corresponding to the annotation, e.g. TCA->TAA) is shown in color (blue for C->A) and the respective reverse error (TGA->TTA) is shown in black.\n",
    "\n",
    "Cycle-skip motifs are annotated by a + before the trinucleotide context on the x axis and by a seperate color.\n",
    "\n",
    "The legend shows the mean and median error for both cycle-skip motifs only (cskp) and for all the motifs (all). The metrics are unweighted so all motifs are represented equally without taking genomic abundance into account."
   ]
  },
  {
   "cell_type": "code",
   "execution_count": null,
   "id": "1548a93b-ab6d-41ee-bcac-b3dc2556653a",
   "metadata": {},
   "outputs": [],
   "source": [
    "Image(png_substitution_error_rate_by_motif_thresh0)"
   ]
  },
  {
   "cell_type": "code",
   "execution_count": null,
   "id": "8d418c0a-be0e-4eaa-b67b-c79a4b2b234a",
   "metadata": {},
   "outputs": [],
   "source": [
    "Image(png_substitution_error_rate_by_motif_thresh3)"
   ]
  },
  {
   "cell_type": "code",
   "execution_count": null,
   "id": "7cb7e186-b19e-40a2-bc8e-b7d9f377f90e",
   "metadata": {},
   "outputs": [],
   "source": [
    "Image(png_substitution_error_rate_by_motif_thresh5)"
   ]
  },
  {
   "cell_type": "code",
   "execution_count": null,
   "id": "dc614335-b6e0-468e-a6bb-46523c8eac6a",
   "metadata": {
    "tags": []
   },
   "outputs": [],
   "source": [
    "Image(png_substitution_error_rate_by_motif_thresh10)"
   ]
  },
  {
   "cell_type": "markdown",
   "id": "514256d9-d57d-4778-969b-0876b5085679",
   "metadata": {},
   "source": [
    "Note that in the last plot only cycle-skip motifs are shown, as other motifs cannot reach a likelihood threshold of 10."
   ]
  },
  {
   "cell_type": "markdown",
   "id": "d968c63f-c1f8-449e-8b6b-ac97bd16a68e",
   "metadata": {},
   "source": [
    "## Substitution error rate as a function of position "
   ]
  },
  {
   "cell_type": "code",
   "execution_count": null,
   "id": "a66ae4d8-547a-449a-a1ca-438e51bf5383",
   "metadata": {
    "tags": []
   },
   "outputs": [],
   "source": [
    "Image(png_positional_substitution_error_rate)"
   ]
  },
  {
   "cell_type": "markdown",
   "id": "8d9ee1e6-e720-448c-8ba6-cce05414d856",
   "metadata": {},
   "source": [
    "Cycle-skip substitutions are binned by their position on the read, and grouped by mutation type. For each mutation type the forward and reverse errors are shown. The profile are generally expected to be position independent as they are unrelated to sequencing, so any deviation from a uniform profile can either point to an artefact or assist in the reduction of substitution error rates in relevant protocols. Most notably, increased error rates in the beginning of reads can indicate either improper trimming of adapters or UMIs, or specific steps in the preparation protocols. Additionally, for cfDNA samples the behaviour around 170-200bp where there is a transition for mono-nucleosome to di-nucleosome could be of interest. "
   ]
  },
  {
   "cell_type": "markdown",
   "id": "8dfbc205-b4d1-473a-bfb3-5b4ff1201cd5",
   "metadata": {},
   "source": [
    "## Asymmetry in cycle-skip errors"
   ]
  },
  {
   "cell_type": "code",
   "execution_count": null,
   "id": "d845eb17-3f6d-4a8a-a72b-f1a0bc972917",
   "metadata": {
    "tags": []
   },
   "outputs": [],
   "source": [
    "Image(png_substitution_error_rate_asymmetry, width = 400)"
   ]
  },
  {
   "cell_type": "markdown",
   "id": "2fca07c6-f83b-426e-8d46-ac0220413a7c",
   "metadata": {},
   "source": [
    "Asymmtery in substitution error rates of cycle-skip motifs. For each mutation type the ratio of forward and reverse errors is measured per trinucleotide context, and shown both as a boxplot of the distribution and as a simple mean. The annotation of the mean value indicates the magnitude of bias in linear scale, while the x axis is in a log2.\n",
    "Asymmetry is generally expected in sequencing errors, but in non-sequencing errors it can point to specific mechanisms driving it."
   ]
  },
  {
   "cell_type": "markdown",
   "id": "e0205d36-2e66-428c-9a77-21c826eb8785",
   "metadata": {},
   "source": [
    "# Methods "
   ]
  },
  {
   "cell_type": "markdown",
   "id": "50032028-ad67-4a62-b67a-a79b1568c503",
   "metadata": {},
   "source": [
    "## Definition of a substitution error"
   ]
  },
  {
   "cell_type": "markdown",
   "id": "280e8201-3fd1-46e1-affd-78717d1caac0",
   "metadata": {},
   "source": [
    "An event is defined as a substitution error if the following conditions are met:\n",
    "1. A substitution from the reference genome is reported by the aligner\n",
    "2. Only one read presents a substitution in this locus, out of a large enough number of reads mapped to that locus (20 by default but may vary, especially for low coverage samples). This condition guarantees that germline variants are extremely unlikely to be counted as errors.\n",
    "3. A few adjacent bases (5 by default but may vary) on either end of the substitution match the reference genome precisely. This condition makes sure only true substitutions are counted, as it is often the case that homopolymer indels can be interpreted as substitutions by aligners in ambiguous cases. \n"
   ]
  },
  {
   "cell_type": "markdown",
   "id": "e6848d77-556f-4a78-af17-d93640e1edee",
   "metadata": {},
   "source": [
    "## Cycle-skip substitutions "
   ]
  },
  {
   "cell_type": "markdown",
   "id": "9a6630cd-cd34-43fb-8184-3660cfd36447",
   "metadata": {},
   "source": [
    "In flow based sequencing, each sequencing cycle is composed of four individual so-called flows, where a single nucleotide is introduced and the signal measured indicates the number of nucleotides incorporated, or the length of the homopolymer (hmer) of the respective base. For example, the sequence TGCTACAAAGGGGGC would be read this way in flow-based sequencing when the order in which nucleotides are introduced, aka the flow order, is TGCA:\n",
    "\n",
    "Measured base:   T G C A T G C A T G C  A  T   G   C  \n",
    "Sequence:        T G C   T   C A T     AAA   GGGGG C\n",
    "Homopolymers:    1 1 1 0 1 0 1 1 1 0 0  3  0   5   1\n",
    "\n",
    "\n",
    "A substitution of a single base yields a change in at least 2 homopolymers, and in some cases many more. Let us consider two examples: TGC->TTC and TGC->TAC\n",
    "\n",
    "\n",
    "TGC:\n",
    "\n",
    "Sequence:            T  G C\n",
    "\n",
    "Measured base:   T  G C A T G C \n",
    "\n",
    "Homopolymers:   1  1 1\n",
    "\n",
    "\n",
    "TTC:\n",
    "\n",
    "Sequence:            TT   C\n",
    "\n",
    "Measured base:   T  G C A T G C \n",
    "\n",
    "Homopolymers:   2  0 1 \n",
    "\n",
    "\n",
    "TAC:\n",
    "\n",
    "Sequence:            T         A       C\n",
    "\n",
    "Measured base:   T  G C A T G C \n",
    "\n",
    "Homopolymers:   1  0  0 1 0 0 1 \n",
    " \n",
    " \n",
    "  \n",
    "\n",
    "In the first example (TGC->TTC) the first 2 homopolymers are changed, 1T->2T and 1G->0G, representing a change in 2 measured signals. Therefore, in order for such a substitution error (TGC->TTC) to occur two homopolymers would have to be miscalled. In the second example (TGC->TAC), the substitution leads to the C base being synthesized a full cycle later, leading to numerous changes in signal. Interestingly, this so-called cycle-skip causes the remainder of the signal to be unsynchronized, making the signal completely different so that sequencing error are extremely unlikely. About 42% of all substitutions are cycle-skip substitutions."
   ]
  },
  {
   "cell_type": "markdown",
   "id": "d6621576-e9ef-4dae-87ad-db3d912775b4",
   "metadata": {},
   "source": [
    "## Likelihood scores"
   ]
  },
  {
   "cell_type": "markdown",
   "id": "dbfc4153-7200-4d8b-b6d7-bcaa5050ceda",
   "metadata": {},
   "source": [
    "\n",
    "For each substitution a log-likelihood score is calculated, by comparing a short local allele containing the substitution and the respective reference allele. By definition the substitution considered is the only difference between the alleles. Log-likelihood scores are usually capped at 10 (10 orders of magnitude), a value that is only possible for cycle-skip motifs* and the vast majority of cycle-skip motifs are above it.\n",
    "\n",
    "\\* The log likelihood score of non cycle-skip substitutions is the sum of log likelihoods over the 2 homopolymers where the alleles differ. A Phred score higher than 50 would be required for both homopolymers for achieve a score of 10 (equivalent to Phred 100), but in practice reported homopolymer indel are always higher."
   ]
  },
  {
   "cell_type": "markdown",
   "id": "1dfbe9fa-0eef-423b-9102-0e4411dbfb5f",
   "metadata": {},
   "source": [
    "## Attribution of error to a source "
   ]
  },
  {
   "cell_type": "markdown",
   "id": "ac239dbe-53c4-4b3f-ac47-6bb0c89ce9b2",
   "metadata": {},
   "source": [
    "A large part of the observed substitution error originates prior to sequencing, i.e. artefacts in the extraction and preparation protocol, errors incurred during sample storage, true somatic mutations that are misannotated as errors, or other unknown sources. These errors cannot be described by the standard likelihood model that only applies to sequencing errors, but their frequency can be estimated from their appearance in cycle-skip motifs, because the likelihood of sequencing errors in these motifs is negligible relative to other types of errors."
   ]
  }
 ],
 "metadata": {
  "kernelspec": {
   "display_name": "genomics",
   "language": "python",
   "name": "genomics"
  },
  "language_info": {
   "codemirror_mode": {
    "name": "ipython",
    "version": 3
   },
   "file_extension": ".py",
   "mimetype": "text/x-python",
   "name": "python",
   "nbconvert_exporter": "python",
   "pygments_lexer": "ipython3",
   "version": "3.7.8"
  }
 },
 "nbformat": 4,
 "nbformat_minor": 5
}