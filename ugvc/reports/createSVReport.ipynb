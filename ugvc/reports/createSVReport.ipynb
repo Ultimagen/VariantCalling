{
 "cells": [
  {
   "cell_type": "code",
   "execution_count": 2,
   "metadata": {},
   "outputs": [],
   "source": [
    "%load_ext autoreload\n",
    "%autoreload 2"
   ]
  },
  {
   "cell_type": "code",
   "execution_count": 19,
   "metadata": {
    "ExecuteTime": {
     "end_time": "2022-07-25T13:41:08.009132Z",
     "start_time": "2022-07-25T13:41:06.919618Z"
    }
   },
   "outputs": [],
   "source": [
    "import pandas as pd\n",
    "from ugvc.reports.report_utils import ReportUtils\n",
    "from ugvc.reports.report_data_loader import ReportDataLoader\n",
    "from IPython.display import display, Markdown\n",
    "import seaborn as sns\n",
    "from matplotlib import pyplot as plt\n",
    "pd.options.display.float_format = '{:,.2%}'.format\n",
    "pd.set_option('display.max_colwidth', None)\n",
    "sns.set(style=\"whitegrid\")\n",
    "sns.set_context(\"talk\")"
   ]
  },
  {
   "cell_type": "code",
   "execution_count": 4,
   "metadata": {
    "tags": [
     "parameters"
    ]
   },
   "outputs": [],
   "source": [
    "run_id = \"NA\"\n",
    "pipeline_version = \"NA\"\n",
    "statistics_file = \"comp.json\"\n",
    "verbosity = 3\n",
    "reference_version = \"hg38\"\n",
    "truth_sample_name = \"NA\"\n",
    "h5outfile = \"var_report.h5\"    \n"
   ]
  },
  {
   "cell_type": "code",
   "execution_count": 5,
   "metadata": {
    "ExecuteTime": {
     "end_time": "2022-07-25T13:41:08.938665Z",
     "start_time": "2022-07-25T13:41:08.864530Z"
    },
    "collapsed": false,
    "jupyter": {
     "outputs_hidden": false
    },
    "pycharm": {
     "name": "#%%\n"
    }
   },
   "outputs": [
    {
     "data": {
      "text/markdown": [
       "# SV/CNV Calling report NA (INTERNAL usage)"
      ],
      "text/plain": [
       "<IPython.core.display.Markdown object>"
      ]
     },
     "metadata": {},
     "output_type": "display_data"
    }
   ],
   "source": [
    "parameters = {\n",
    "    'statistics_file': statistics_file,\n",
    "    'run_id': run_id,\n",
    "    'pipeline_version': str(pipeline_version),\n",
    "    'verbosity': str(verbosity),\n",
    "    'reference_version': reference_version,\n",
    "    'truth_sample_name': truth_sample_name,\n",
    "    'h5outfile': h5outfile,\n",
    "}\n",
    "\n",
    "parameters = {name: parameters[name] for name in parameters if parameters[name] is not None}\n",
    "param_names = list(parameters)\n",
    "\n",
    "report_utils = ReportUtils(verbosity, h5outfile)\n",
    "\n",
    "display(Markdown(f\"# SV/CNV Calling report {pipeline_version} (INTERNAL usage)\"))\n"
   ]
  },
  {
   "cell_type": "markdown",
   "metadata": {},
   "source": [
    "## 1. Input Parameters <a class=\"anchor\" id=\"input_parameters\"></a>"
   ]
  },
  {
   "cell_type": "code",
   "execution_count": 6,
   "metadata": {},
   "outputs": [],
   "source": [
    "parameters['statistics_file'] = \"/data/Runs/VariantCalling/work/250507/test.stats.json\""
   ]
  },
  {
   "cell_type": "code",
   "execution_count": 7,
   "metadata": {
    "pycharm": {
     "name": "#%%\n"
    }
   },
   "outputs": [],
   "source": [
    "# load data\n",
    "data_loader = ReportDataLoader(concordance_file=parameters['statistics_file'],\n",
    "                               reference_version=parameters['reference_version'],\n",
    "                               exome_column_name = \"exome.twist\"\n",
    ")\n",
    "data_no_gt, data_gt = data_loader.load_sv_concordance_df()"
   ]
  },
  {
   "cell_type": "code",
   "execution_count": 8,
   "metadata": {
    "ExecuteTime": {
     "end_time": "2022-07-25T13:41:11.945866Z",
     "start_time": "2022-07-25T13:41:11.910842Z"
    }
   },
   "outputs": [
    {
     "data": {
      "text/html": [
       "<div>\n",
       "<style scoped>\n",
       "    .dataframe tbody tr th:only-of-type {\n",
       "        vertical-align: middle;\n",
       "    }\n",
       "\n",
       "    .dataframe tbody tr th {\n",
       "        vertical-align: top;\n",
       "    }\n",
       "\n",
       "    .dataframe thead th {\n",
       "        text-align: right;\n",
       "    }\n",
       "</style>\n",
       "<table border=\"1\" class=\"dataframe\">\n",
       "  <thead>\n",
       "    <tr style=\"text-align: right;\">\n",
       "      <th></th>\n",
       "      <th>value</th>\n",
       "    </tr>\n",
       "  </thead>\n",
       "  <tbody>\n",
       "    <tr>\n",
       "      <th>statistics_file</th>\n",
       "      <td>/data/Runs/VariantCalling/work/250507/test.stats.json</td>\n",
       "    </tr>\n",
       "    <tr>\n",
       "      <th>run_id</th>\n",
       "      <td>NA</td>\n",
       "    </tr>\n",
       "    <tr>\n",
       "      <th>pipeline_version</th>\n",
       "      <td>NA</td>\n",
       "    </tr>\n",
       "    <tr>\n",
       "      <th>verbosity</th>\n",
       "      <td>3</td>\n",
       "    </tr>\n",
       "    <tr>\n",
       "      <th>reference_version</th>\n",
       "      <td>hg38</td>\n",
       "    </tr>\n",
       "    <tr>\n",
       "      <th>truth_sample_name</th>\n",
       "      <td>NA</td>\n",
       "    </tr>\n",
       "    <tr>\n",
       "      <th>h5outfile</th>\n",
       "      <td>var_report.h5</td>\n",
       "    </tr>\n",
       "  </tbody>\n",
       "</table>\n",
       "</div>"
      ],
      "text/plain": [
       "                                                                   value\n",
       "statistics_file    /data/Runs/VariantCalling/work/250507/test.stats.json\n",
       "run_id                                                                NA\n",
       "pipeline_version                                                      NA\n",
       "verbosity                                                              3\n",
       "reference_version                                                   hg38\n",
       "truth_sample_name                                                     NA\n",
       "h5outfile                                                  var_report.h5"
      ]
     },
     "metadata": {},
     "output_type": "display_data"
    }
   ],
   "source": [
    "parameters_df = pd.DataFrame.from_dict(parameters, orient='index', columns=['value']).reindex(param_names)\n",
    "parameters_df.to_hdf(h5outfile, key=\"parameters\")\n",
    "display(parameters_df)"
   ]
  },
  {
   "cell_type": "code",
   "execution_count": 10,
   "metadata": {},
   "outputs": [
    {
     "data": {
      "text/markdown": [
       "## Table of Contents <a class ='anchor' id='top'> </a>"
      ],
      "text/plain": [
       "<IPython.core.display.Markdown object>"
      ]
     },
     "metadata": {},
     "output_type": "display_data"
    },
    {
     "data": {
      "text/markdown": [
       "* [Input Parameters](#input_parameters)\n",
       "* [General statistics](#general_statistics)\n",
       "* [Accuracy](#gen_acc_all_data)\n"
      ],
      "text/plain": [
       "<IPython.core.display.Markdown object>"
      ]
     },
     "metadata": {},
     "output_type": "display_data"
    }
   ],
   "source": [
    "anchor = report_utils.get_anchor(\"top\")\n",
    "display(Markdown(f\"## Table of Contents {anchor}\"))\n",
    "tc = \"* [Input Parameters](#input_parameters)\\n\"\n",
    "tc += \"* [General statistics](#general_statistics)\\n\"\n",
    "if data_gt is not None:\n",
    "    tc += \"* [Accuracy](#gen_acc_all_data)\\n\"\n",
    "\n",
    "display(Markdown(tc))"
   ]
  },
  {
   "cell_type": "markdown",
   "metadata": {},
   "source": [
    "## General statistics  <a class='anchor' id='all_data'></a>\n",
    "\n",
    "The tables below summarize class and length distributions of called SVs\n"
   ]
  },
  {
   "cell_type": "markdown",
   "metadata": {},
   "source": [
    "### SV type distribution"
   ]
  },
  {
   "cell_type": "code",
   "execution_count": 13,
   "metadata": {},
   "outputs": [
    {
     "data": {
      "text/html": [
       "<div>\n",
       "<style scoped>\n",
       "    .dataframe tbody tr th:only-of-type {\n",
       "        vertical-align: middle;\n",
       "    }\n",
       "\n",
       "    .dataframe tbody tr th {\n",
       "        vertical-align: top;\n",
       "    }\n",
       "\n",
       "    .dataframe thead th {\n",
       "        text-align: right;\n",
       "    }\n",
       "</style>\n",
       "<table border=\"1\" class=\"dataframe\">\n",
       "  <thead>\n",
       "    <tr style=\"text-align: right;\">\n",
       "      <th></th>\n",
       "      <th>DEL</th>\n",
       "      <th>INS</th>\n",
       "      <th>DUP</th>\n",
       "      <th>CTX</th>\n",
       "      <th>BND</th>\n",
       "    </tr>\n",
       "  </thead>\n",
       "  <tbody>\n",
       "    <tr>\n",
       "      <th>SV type</th>\n",
       "      <td>9436</td>\n",
       "      <td>7497</td>\n",
       "      <td>935</td>\n",
       "      <td>653</td>\n",
       "      <td>383</td>\n",
       "    </tr>\n",
       "  </tbody>\n",
       "</table>\n",
       "</div>"
      ],
      "text/plain": [
       "          DEL   INS  DUP  CTX  BND\n",
       "SV type  9436  7497  935  653  383"
      ]
     },
     "execution_count": 13,
     "metadata": {},
     "output_type": "execute_result"
    }
   ],
   "source": [
    "pd.options.display.float_format = '{:,.2%}'.format\n",
    "data_no_gt['type_counts'].index = ['SV type']\n",
    "data_no_gt['type_counts']"
   ]
  },
  {
   "cell_type": "code",
   "execution_count": null,
   "metadata": {},
   "outputs": [
    {
     "data": {
      "image/png": "[encoded data removed]",
      "text/plain": [
       "<Figure size 640x480 with 1 Axes>"
      ]
     },
     "metadata": {},
     "output_type": "display_data"
    }
   ],
   "source": [
    "# Pie chart of data_no_gt['type_counts']\n",
    "fig, ax = plt.subplots(subplot_kw=dict(aspect=\"equal\"))\n",
    "wedges, texts, autotexts = ax.pie(data_no_gt['type_counts'].values[0],\n",
    "                                   labels=data_no_gt['type_counts'].columns,\n",
    "                                   autopct='%1.1f%%',\n",
    "                                   startangle=90,\n",
    "                                   colors=sns.color_palette(\"pastel\"),\n",
    "                                    pctdistance=0.9,         # keep percentages inside\n",
    "                                    labeldistance=1.1,        # move labels outside\n",
    "\n",
    "                                   textprops=dict(color=\"b\"))\n",
    "for text in texts + autotexts:\n",
    "    text.set_color(\"black\")\n",
    "    text.set_fontsize(10)"
   ]
  },
  {
   "cell_type": "markdown",
   "metadata": {},
   "source": [
    "### SV length distribution"
   ]
  },
  {
   "cell_type": "code",
   "execution_count": 20,
   "metadata": {},
   "outputs": [
    {
     "data": {
      "text/html": [
       "<div>\n",
       "<style scoped>\n",
       "    .dataframe tbody tr th:only-of-type {\n",
       "        vertical-align: middle;\n",
       "    }\n",
       "\n",
       "    .dataframe tbody tr th {\n",
       "        vertical-align: top;\n",
       "    }\n",
       "\n",
       "    .dataframe thead th {\n",
       "        text-align: right;\n",
       "    }\n",
       "</style>\n",
       "<table border=\"1\" class=\"dataframe\">\n",
       "  <thead>\n",
       "    <tr style=\"text-align: right;\">\n",
       "      <th></th>\n",
       "      <th>50-100</th>\n",
       "      <th>100-300</th>\n",
       "      <th>300-500</th>\n",
       "      <th>0.5-1k</th>\n",
       "      <th>1k-5k</th>\n",
       "      <th>5k-10k</th>\n",
       "      <th>10k-100k</th>\n",
       "      <th>100k-1M</th>\n",
       "      <th>&gt;1M</th>\n",
       "    </tr>\n",
       "  </thead>\n",
       "  <tbody>\n",
       "    <tr>\n",
       "      <th>SV Length</th>\n",
       "      <td>11016</td>\n",
       "      <td>2943</td>\n",
       "      <td>3114</td>\n",
       "      <td>316</td>\n",
       "      <td>580</td>\n",
       "      <td>130</td>\n",
       "      <td>82</td>\n",
       "      <td>17</td>\n",
       "      <td>53</td>\n",
       "    </tr>\n",
       "  </tbody>\n",
       "</table>\n",
       "</div>"
      ],
      "text/plain": [
       "           50-100  100-300  300-500  0.5-1k  1k-5k  5k-10k  10k-100k  100k-1M  \\\n",
       "SV Length   11016     2943     3114     316    580     130        82       17   \n",
       "\n",
       "           >1M  \n",
       "SV Length   53  "
      ]
     },
     "execution_count": 20,
     "metadata": {},
     "output_type": "execute_result"
    }
   ],
   "source": [
    "data_no_gt['length_counts'].index = ['SV Length']\n",
    "data_no_gt['length_counts']"
   ]
  },
  {
   "cell_type": "code",
   "execution_count": 23,
   "metadata": {},
   "outputs": [
    {
     "data": {
      "image/png": "[encoded data removed]",
      "text/plain": [
       "<Figure size 640x480 with 1 Axes>"
      ]
     },
     "metadata": {},
     "output_type": "display_data"
    }
   ],
   "source": [
    "data_no_gt['length_counts'].T.plot.bar(legend=False)\n",
    "plt.xlabel(\"Length\")\n",
    "plt.ylabel('# Calls')\n",
    "# set y axis log scale\n",
    "plt.yscale('log')\n"
   ]
  },
  {
   "cell_type": "markdown",
   "metadata": {},
   "source": [
    "### Length and type distribution"
   ]
  },
  {
   "cell_type": "code",
   "execution_count": 28,
   "metadata": {},
   "outputs": [
    {
     "data": {
      "text/html": [
       "<div>\n",
       "<style scoped>\n",
       "    .dataframe tbody tr th:only-of-type {\n",
       "        vertical-align: middle;\n",
       "    }\n",
       "\n",
       "    .dataframe tbody tr th {\n",
       "        vertical-align: top;\n",
       "    }\n",
       "\n",
       "    .dataframe thead th {\n",
       "        text-align: right;\n",
       "    }\n",
       "</style>\n",
       "<table border=\"1\" class=\"dataframe\">\n",
       "  <thead>\n",
       "    <tr style=\"text-align: right;\">\n",
       "      <th></th>\n",
       "      <th>50-100</th>\n",
       "      <th>100-300</th>\n",
       "      <th>300-500</th>\n",
       "      <th>0.5-1k</th>\n",
       "      <th>1k-5k</th>\n",
       "      <th>5k-10k</th>\n",
       "      <th>10k-100k</th>\n",
       "      <th>100k-1M</th>\n",
       "      <th>&gt;1M</th>\n",
       "    </tr>\n",
       "    <tr>\n",
       "      <th>svtype</th>\n",
       "      <th></th>\n",
       "      <th></th>\n",
       "      <th></th>\n",
       "      <th></th>\n",
       "      <th></th>\n",
       "      <th></th>\n",
       "      <th></th>\n",
       "      <th></th>\n",
       "      <th></th>\n",
       "    </tr>\n",
       "  </thead>\n",
       "  <tbody>\n",
       "    <tr>\n",
       "      <th>BND</th>\n",
       "      <td>42</td>\n",
       "      <td>55</td>\n",
       "      <td>36</td>\n",
       "      <td>58</td>\n",
       "      <td>110</td>\n",
       "      <td>12</td>\n",
       "      <td>22</td>\n",
       "      <td>8</td>\n",
       "      <td>40</td>\n",
       "    </tr>\n",
       "    <tr>\n",
       "      <th>DEL</th>\n",
       "      <td>6365</td>\n",
       "      <td>1167</td>\n",
       "      <td>1099</td>\n",
       "      <td>210</td>\n",
       "      <td>431</td>\n",
       "      <td>110</td>\n",
       "      <td>48</td>\n",
       "      <td>5</td>\n",
       "      <td>1</td>\n",
       "    </tr>\n",
       "    <tr>\n",
       "      <th>DUP</th>\n",
       "      <td>578</td>\n",
       "      <td>187</td>\n",
       "      <td>54</td>\n",
       "      <td>41</td>\n",
       "      <td>39</td>\n",
       "      <td>8</td>\n",
       "      <td>12</td>\n",
       "      <td>4</td>\n",
       "      <td>12</td>\n",
       "    </tr>\n",
       "    <tr>\n",
       "      <th>INS</th>\n",
       "      <td>4031</td>\n",
       "      <td>1534</td>\n",
       "      <td>1925</td>\n",
       "      <td>7</td>\n",
       "      <td>0</td>\n",
       "      <td>0</td>\n",
       "      <td>0</td>\n",
       "      <td>0</td>\n",
       "      <td>0</td>\n",
       "    </tr>\n",
       "  </tbody>\n",
       "</table>\n",
       "</div>"
      ],
      "text/plain": [
       "        50-100  100-300  300-500  0.5-1k  1k-5k  5k-10k  10k-100k  100k-1M  \\\n",
       "svtype                                                                       \n",
       "BND         42       55       36      58    110      12        22        8   \n",
       "DEL       6365     1167     1099     210    431     110        48        5   \n",
       "DUP        578      187       54      41     39       8        12        4   \n",
       "INS       4031     1534     1925       7      0       0         0        0   \n",
       "\n",
       "        >1M  \n",
       "svtype       \n",
       "BND      40  \n",
       "DEL       1  \n",
       "DUP      12  \n",
       "INS       0  "
      ]
     },
     "execution_count": 28,
     "metadata": {},
     "output_type": "execute_result"
    }
   ],
   "source": [
    "data_no_gt['length_by_type_counts'].set_index('svtype', inplace=True)\n",
    "data_no_gt['length_by_type_counts']"
   ]
  },
  {
   "cell_type": "code",
   "execution_count": null,
   "metadata": {},
   "outputs": [
    {
     "data": {
      "image/png": "[encoded data removed]",
      "text/plain": [
       "<Figure size 800x600 with 1 Axes>"
      ]
     },
     "metadata": {},
     "output_type": "display_data"
    }
   ],
   "source": [
    "# Make sure the SV types are in the desired order\n",
    "desired_order = ['DEL', 'INS', 'DUP', 'BND']\n",
    "df = data_no_gt['length_by_type_counts']\n",
    "df = df.set_index('svtype') if 'svtype' in df.columns else df\n",
    "df = df.reindex(desired_order).dropna(how='all')\n",
    "\n",
    "# Plot with legend inside and correct order\n",
    "ax = df.T.plot(kind='bar', stacked=False, figsize=(8, 6))\n",
    "plt.xlabel(\"Length\")\n",
    "plt.ylabel('# Calls')\n",
    "plt.title('SV Length by Type')\n",
    "plt.xticks(rotation=45)\n",
    "plt.tight_layout()\n",
    "plt.legend(\n",
    "    title='SV Type',\n",
    "    loc='upper right',   # inside the plot\n",
    "    bbox_to_anchor=(0.98, 0.98),\n",
    "    fontsize=10,\n",
    "    title_fontsize=11\n",
    ")\n",
    "plt.yscale('log')\n",
    "plt.show()\n"
   ]
  },
  {
   "cell_type": "markdown",
   "metadata": {},
   "source": [
    "## 2. Performance over all Data <a class=\"anchor\" id=\"all_data\"></a> \n",
    "The concordance between the variant calling results and the ground truth sample is presented below.\n",
    "* Red line - precision and recall over different tree-scores.\n",
    "* Red dot - precision and recall values for the chosen threshold.\n",
    "* Black dot -precision and recall after filtering systematic errors (SEC)\n",
    "\n",
    "[top](#top)"
   ]
  },
  {
   "cell_type": "code",
   "execution_count": null,
   "metadata": {},
   "outputs": [],
   "source": [
    "pd.options.display.float_format = '{:,.2%}'.format\n",
    "if verbosity > 1:\n",
    "    categories = ['SNP', 'Indel', 'non-hmer Indel', 'non-hmer Indel w/o LCR', 'hmer Indel <=4', 'hmer Indel >4,<=8',\n",
    "              'hmer Indel 4', 'hmer Indel 5', 'hmer Indel 6', 'hmer Indel 7', 'hmer Indel 8',\n",
    "              'hmer Indel >8,<=10', 'hmer Indel >10,<=12', 'hmer Indel >12,<=14', 'hmer Indel >15,<=19', 'hmer Indel >=20']\n",
    "else:\n",
    "    categories = ['SNP', 'Indel']\n",
    "\n",
    "report_utils.basic_analysis(data, categories, 'all_data', 'sec_data')"
   ]
  },
  {
   "cell_type": "code",
   "execution_count": null,
   "metadata": {
    "pycharm": {
     "name": "#%%\n"
    }
   },
   "outputs": [],
   "source": [
    "if verbosity > 1:\n",
    "    anchor = report_utils.get_anchor('all_data_bases')\n",
    "    display(Markdown(f\"## 2.1 Stratified by base {anchor}\"))\n",
    "    display(Markdown(f\"#### (A,T)\"))\n",
    "    categories = ['SNP', 'Indel', 'hmer Indel <=4', 'hmer Indel >4,<=8', 'hmer Indel >8,<=10',\n",
    "                  'hmer Indel >10,<=12', 'hmer Indel >12,<=14', 'hmer Indel >15,<=19', 'hmer Indel >=20']\n",
    "    at_df = report_utils.base_stratification_analysis(data, categories, ('A', 'T'))"
   ]
  },
  {
   "cell_type": "code",
   "execution_count": null,
   "metadata": {},
   "outputs": [],
   "source": [
    "if verbosity > 1:\n",
    "    display(Markdown(f\"#### (G,C)\"))\n",
    "    categories = ['SNP', 'Indel', 'hmer Indel <=4', 'hmer Indel >4,<=8', 'hmer Indel >8,<=10']\n",
    "    gc_df = report_utils.base_stratification_analysis(data, categories,('G', 'C')) \n",
    "    \n",
    "    base_strat_df = pd.concat([at_df, gc_df])\n",
    "    report_utils.make_multi_index(base_strat_df)\n",
    "    base_strat_df.to_hdf(h5outfile, key=\"all_data_per_base\")"
   ]
  },
  {
   "cell_type": "code",
   "execution_count": null,
   "metadata": {},
   "outputs": [],
   "source": [
    "if verbosity > 1:\n",
    "    anchor = report_utils.get_anchor('all_data_hom')\n",
    "    display(Markdown(f\"### 2.2 Homozygous genotyping accuracy {anchor}\"))\n",
    "    display(Markdown(f\"The precision and recall of called homozygous variants (where the variant was not classified as False Negative)\"))\n",
    "    categories = ['SNP', 'Indel', 'non-hmer Indel', 'hmer Indel <=4', 'hmer Indel >4,<=8', \n",
    "                  'hmer Indel >8,<=10', 'hmer Indel >10,<=12', 'hmer Indel >12,<=14', 'hmer Indel >15,<=19', 'hmer Indel >=20']\n",
    "    report_utils.homozygous_genotyping_analysis(data, categories, \"all_data_homozygous\")"
   ]
  },
  {
   "cell_type": "markdown",
   "metadata": {},
   "source": [
    "## 3. Performance over UG high confidence regions <a class=\"anchor\" id=\"ug_hcr\"></a>\n",
    "\n",
    "Variant calling peformance exclusing genomic areas where UG performance is poor, i.e:\n",
    "- Homopolymers - runs of length 11 bp and above, padded with four bases around the genomic coordinates,\n",
    "- AT-rich regions - bases where the GC content of the surrounding 40 bases is lower than 5%,\n",
    "- Tandem repeats,\n",
    "- Low mapping quality - regions that are covered by at least 20 reads, but less than 10% of these reads are aligned with mapping quality > 20,\n",
    "- High coverage variability - regions with coverage that is highly variable between samples (std/mean > 0.5)\n",
    "\n",
    "[top](#top)"
   ]
  },
  {
   "cell_type": "code",
   "execution_count": null,
   "metadata": {
    "pycharm": {
     "name": "#%%\n"
    }
   },
   "outputs": [],
   "source": [
    "pd.options.display.float_format = '{:,.2%}'.format\n",
    "ug_hcr_data = data.query(\"ug_hcr==True\").copy()\n",
    "\n",
    "if verbosity > 1:\n",
    "    categories = ['SNP', 'Indel', 'non-hmer Indel', 'non-hmer Indel w/o LCR', 'hmer Indel <=4', 'hmer Indel >4,<=8',\n",
    "              'hmer Indel 4', 'hmer Indel 5', 'hmer Indel 6', 'hmer Indel 7', 'hmer Indel 8', 'hmer Indel >8,<=10']\n",
    "else:\n",
    "    categories = ['SNP', 'Indel']\n",
    "    \n",
    "report_utils.basic_analysis(ug_hcr_data, categories, 'ug_hcr', 'ug_hcr_sec_data')"
   ]
  },
  {
   "cell_type": "code",
   "execution_count": null,
   "metadata": {
    "pycharm": {
     "name": "#%%\n"
    }
   },
   "outputs": [],
   "source": [
    "if verbosity > 1:\n",
    "    anchor = report_utils.get_anchor('ug_hcr_hom')\n",
    "    display(Markdown(f\"### 3.1 Homozygous genotyping accuracy {anchor}\"))\n",
    "    display(Markdown(f\"The precision and recall of called homozygous variants (where the variant was not classified as False Negative)\"))\n",
    "    categories = ['SNP', 'Indel', 'non-hmer Indel', 'hmer Indel <=4', 'hmer Indel >4,<=8', 'hmer Indel >8,<=10']\n",
    "    report_utils.homozygous_genotyping_analysis(ug_hcr_data, categories, \"ug_hcr_homozygous\")"
   ]
  },
  {
   "cell_type": "markdown",
   "metadata": {},
   "source": [
    "## 4. Performance over exome <a class=\"anchor\" id=\"exome\"></a>\n",
    "Performance over exome regions (defined in exome_column_name)\n",
    "\n",
    "[top](#top)"
   ]
  },
  {
   "cell_type": "code",
   "execution_count": null,
   "metadata": {},
   "outputs": [],
   "source": [
    "exome_data = data[data[exome_column_name]].copy()\n",
    "\n",
    "if verbosity > 1:\n",
    "    categories = ['SNP', 'Indel', 'non-hmer Indel', 'hmer Indel <=4', 'hmer Indel >4,<=8', 'hmer Indel >8,<=10']\n",
    "else:\n",
    "    categories = ['SNP', 'Indel']\n",
    "    \n",
    "report_utils.basic_analysis(exome_data, categories, 'exome', 'exome_sec_data')\n"
   ]
  },
  {
   "cell_type": "code",
   "execution_count": null,
   "metadata": {},
   "outputs": [],
   "source": [
    "if verbosity > 1:\n",
    "    pd.options.display.max_rows = None\n",
    "    pd.options.display.float_format = '{:.2f}'.format\n",
    "    anchor = report_utils.get_anchor('exome_indel_errors')\n",
    "    present_columns = [x for x in ['alleles',  'call', 'base', 'gt_ultima', 'gt_ground_truth', 'ad',\n",
    "                                    'max_vaf', 'ug_hcr', 'mappability.0', 'hmer_length'] if x in exome_data.columns]\n",
    "    indel_errors = exome_data['indel'] & ((exome_data['fp'] & (exome_data['filter'] == 'PASS')) | exome_data['fn'])\n",
    "    hmer_indel_errors = indel_errors & (exome_data['hmer_length'] > 0)\n",
    "    non_hmer_indel_errors = indel_errors & (exome_data['hmer_length'] == 0)\n",
    "    display(Markdown(f'### Hmer INDEL Errors: {anchor}'))\n",
    "    display(exome_data[hmer_indel_errors][present_columns])\n",
    "    display(Markdown(f'### Non-hmer INDEL Errors: {anchor}'))\n",
    "    display(exome_data[non_hmer_indel_errors][present_columns])\n",
    "    anchor = report_utils.get_anchor('exome_snp_errors')\n",
    "    display(Markdown(f'### SNP Errors: {anchor}'))\n",
    "    display(exome_data[~exome_data['tp'] & ~exome_data['indel'] & (exome_data['filter'] == 'PASS')][present_columns].head(20))"
   ]
  },
  {
   "cell_type": "code",
   "execution_count": null,
   "metadata": {
    "pycharm": {
     "name": "#%%\n"
    }
   },
   "outputs": [],
   "source": [
    "\n",
    "d = data\n",
    "if 'well_mapped_coverage' in d.columns and 'mappability.0' in d.columns and verbosity > 1:\n",
    "    pd.options.display.float_format = '{:,.2%}'.format\n",
    "    anchor = report_utils.get_anchor('well_mapped_coverage')\n",
    "    display(Markdown(f\"## 5. Performance over regions with coverage>=20 and excluding areas with mappability {anchor}\"))    \n",
    "    good_cov_data = d[(d['well_mapped_coverage'] >= 20) & (d['mappability.0'])].copy()\n",
    "    categories = ['SNP', 'Indel', 'non-hmer Indel', 'non-hmer Indel w/o LCR', 'hmer Indel <=4', 'hmer Indel >4,<=8',\n",
    "                  'hmer Indel 4', 'hmer Indel 5', 'hmer Indel 6', 'hmer Indel 7', 'hmer Indel 8', 'hmer Indel >8,<=10']\n",
    "    df = report_utils.basic_analysis(good_cov_data, categories, 'good_cvg_data')\n",
    "    \n",
    "    display(Markdown(f\"### 5.1 Homozygous genotyping accuracy\"))\n",
    "    display(Markdown(f\"The precision and recall of called homozygous variants (where the variant was not classfied as False Negative)\"))\n",
    "    categories = ['SNP', 'Indel', 'non-hmer Indel', 'non-hmer Indel w/o LCR', 'hmer Indel <=4', 'hmer Indel >4,<=8']\n",
    "    report_utils.homozygous_genotyping_analysis(good_cov_data, categories, \"good_cvg_data_homozygous\")"
   ]
  },
  {
   "cell_type": "code",
   "execution_count": null,
   "metadata": {},
   "outputs": [],
   "source": [
    "d = data\n",
    "if 'callable' in d.columns and verbosity > 1:\n",
    "    pd.options.display.float_format = '{:,.2%}'.format\n",
    "    anchor = report_utils.get_anchor('callable')\n",
    "    display(Markdown(f\"## 6. Performance over callable regions {anchor}\"))    \n",
    "    callable_data = d[d['callable']].copy()\n",
    "    categories = ['SNP', 'Indel', 'non-hmer Indel', 'non-hmer Indel w/o LCR', 'hmer Indel <=4', 'hmer Indel >4,<=8',\n",
    "                  'hmer Indel 4', 'hmer Indel 5', 'hmer Indel 6', 'hmer Indel 7', 'hmer Indel 8', 'hmer Indel >8,<=10',\n",
    "                  'hmer Indel >10,<=12', 'hmer Indel >12,<=14', 'hmer Indel >15,<=19', 'hmer Indel >=20']\n",
    "    df = report_utils.basic_analysis(callable_data, categories, 'callable_data')\n",
    "  "
   ]
  },
  {
   "cell_type": "code",
   "execution_count": null,
   "metadata": {},
   "outputs": [],
   "source": [
    "if verbosity > 2:\n",
    "    pd.options.display.float_format = '{:.2f}'.format\n",
    "    anchor = report_utils.get_anchor('indel_analysis')\n",
    "    display(Markdown(f\"## 7. Indel analysis\\n {anchor}\"\n",
    "    \"For each factor, show the following histograms\\n\"\n",
    "    \"* Number of false positive variants per bin\\n\"\n",
    "    \"* Number of true positive variants per bin\\n\"\n",
    "    \"* Number of false negative variants per bin\\n\"\n",
    "    \"* precision per bin (as line plot)\\n\"\n",
    "    \"* recall per bin (as lint plot)\\n\\n\"\n",
    "    \"Notes:\\n\"\n",
    "    \"* Insertions / Deletions are displayed separately (two colors)\\n\"\n",
    "    \"* homopolymer deletions and non-homopolymer deletions are displayed separately (separate plots)\\n\\n\"\n",
    "    \"[top](#top)\"))\n",
    "    anchor = report_utils.get_anchor('all_data_indel_analysis')\n",
    "    display(Markdown(f\"### 7.1 All data {anchor}\"))\n",
    "    report_utils.indel_analysis(data, 'wg')\n",
    "    anchor = report_utils.get_anchor('ug_hcr_indel_analysis')\n",
    "    display(Markdown(f\"### 7.2 UG-HCR {anchor}\"))\n",
    "    report_utils.indel_analysis(ug_hcr_data, 'ug-hcr')\n",
    "    anchor = report_utils.get_anchor('exome_indel_analysis')\n",
    "    display(Markdown(f\"### 7.3 exome {anchor}\"))\n",
    "    report_utils.indel_analysis(exome_data, 'exome')"
   ]
  }
 ],
 "metadata": {
  "celltoolbar": "Tags",
  "kernelspec": {
   "display_name": "genomics.py3",
   "language": "python",
   "name": "python3"
  },
  "language_info": {
   "codemirror_mode": {
    "name": "ipython",
    "version": 3
   },
   "file_extension": ".py",
   "mimetype": "text/x-python",
   "name": "python",
   "nbconvert_exporter": "python",
   "pygments_lexer": "ipython3",
   "version": "3.10.14"
  },
  "toc": {
   "base_numbering": 1,
   "nav_menu": {},
   "number_sections": true,
   "sideBar": true,
   "skip_h1_title": false,
   "title_cell": "Table of Contents",
   "title_sidebar": "Contents",
   "toc_cell": false,
   "toc_position": {},
   "toc_section_display": true,
   "toc_window_display": false
  }
 },
 "nbformat": 4,
 "nbformat_minor": 4
}
