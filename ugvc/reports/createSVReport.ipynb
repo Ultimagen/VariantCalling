{
 "cells": [
  {
   "cell_type": "code",
   "execution_count": 57,
   "metadata": {
    "ExecuteTime": {
     "end_time": "2022-07-25T13:41:08.009132Z",
     "start_time": "2022-07-25T13:41:06.919618Z"
    }
   },
   "outputs": [],
   "source": [
    "import pandas as pd\n",
    "import dill as pickle\n",
    "from ugvc.reports.report_utils import ReportUtils\n",
    "from ugvc.reports.report_data_loader import ReportDataLoader\n",
    "from IPython.display import display, Markdown\n",
    "import seaborn as sns\n",
    "from matplotlib import pyplot as plt\n",
    "pd.options.display.float_format = '{:,.2%}'.format\n",
    "pd.set_option('display.max_colwidth', None)\n",
    "sns.set_theme(style=\"whitegrid\")\n",
    "sns.set_context(\"talk\")"
   ]
  },
  {
   "cell_type": "code",
   "execution_count": null,
   "metadata": {
    "tags": [
     "parameters"
    ]
   },
   "outputs": [],
   "source": [
    "run_id = \"NA\"\n",
    "pipeline_version = \"NA\"\n",
    "statistics_file = \"comp.pkl\"\n",
    "reference_version = \"hg38\"\n",
    "truth_sample_name = \"NA\"\n",
    "h5outfile = \"var_report.h5\"    \n"
   ]
  },
  {
   "cell_type": "code",
   "execution_count": null,
   "metadata": {
    "ExecuteTime": {
     "end_time": "2022-07-25T13:41:08.938665Z",
     "start_time": "2022-07-25T13:41:08.864530Z"
    },
    "collapsed": false,
    "jupyter": {
     "outputs_hidden": false
    },
    "pycharm": {
     "name": "#%%\n"
    }
   },
   "outputs": [
    {
     "data": {
      "text/markdown": [
       "# SV/CNV Calling report NA (INTERNAL usage)"
      ],
      "text/plain": [
       "<IPython.core.display.Markdown object>"
      ]
     },
     "metadata": {},
     "output_type": "display_data"
    }
   ],
   "source": [
    "parameters = {\n",
    "    'statistics_file': statistics_file,\n",
    "    'run_id': run_id,\n",
    "    'pipeline_version': str(pipeline_version),\n",
    "    'truth_sample_name': truth_sample_name,\n",
    "    'h5outfile': h5outfile,\n",
    "}\n",
    "\n",
    "parameters = {name: parameters[name] for name in parameters if parameters[name] is not None}\n",
    "param_names = list(parameters)\n",
    "\n",
    "report_utils = ReportUtils(1, h5outfile)\n",
    "\n",
    "display(Markdown(f\"# SV/CNV Calling report {pipeline_version} (INTERNAL usage)\"))\n"
   ]
  },
  {
   "cell_type": "markdown",
   "metadata": {},
   "source": [
    "## 1. Input Parameters <a class=\"anchor\" id=\"input_parameters\"></a>"
   ]
  },
  {
   "cell_type": "code",
   "execution_count": 60,
   "metadata": {},
   "outputs": [],
   "source": [
    "parameters['statistics_file'] = \"/data/Runs/VariantCalling/work/250507/test.stats.pkl\""
   ]
  },
  {
   "cell_type": "code",
   "execution_count": 73,
   "metadata": {
    "pycharm": {
     "name": "#%%\n"
    }
   },
   "outputs": [],
   "source": [
    "# load data\n",
    "data_loader = ReportDataLoader(concordance_file=parameters['statistics_file'],\n",
    "                               reference_version=parameters['reference_version'],\n",
    "                               exome_column_name = \"exome.twist\"\n",
    ")\n",
    "data_no_gt, data_gt = data_loader.load_sv_concordance_df()\n",
    "has_concordance_data = len(data_gt)>0"
   ]
  },
  {
   "cell_type": "code",
   "execution_count": 74,
   "metadata": {
    "ExecuteTime": {
     "end_time": "2022-07-25T13:41:11.945866Z",
     "start_time": "2022-07-25T13:41:11.910842Z"
    }
   },
   "outputs": [
    {
     "data": {
      "text/html": [
       "<div>\n",
       "<style scoped>\n",
       "    .dataframe tbody tr th:only-of-type {\n",
       "        vertical-align: middle;\n",
       "    }\n",
       "\n",
       "    .dataframe tbody tr th {\n",
       "        vertical-align: top;\n",
       "    }\n",
       "\n",
       "    .dataframe thead th {\n",
       "        text-align: right;\n",
       "    }\n",
       "</style>\n",
       "<table border=\"1\" class=\"dataframe\">\n",
       "  <thead>\n",
       "    <tr style=\"text-align: right;\">\n",
       "      <th></th>\n",
       "      <th>value</th>\n",
       "    </tr>\n",
       "  </thead>\n",
       "  <tbody>\n",
       "    <tr>\n",
       "      <th>statistics_file</th>\n",
       "      <td>/data/Runs/VariantCalling/work/250507/test.stats.pkl</td>\n",
       "    </tr>\n",
       "    <tr>\n",
       "      <th>run_id</th>\n",
       "      <td>NA</td>\n",
       "    </tr>\n",
       "    <tr>\n",
       "      <th>pipeline_version</th>\n",
       "      <td>NA</td>\n",
       "    </tr>\n",
       "    <tr>\n",
       "      <th>verbosity</th>\n",
       "      <td>3</td>\n",
       "    </tr>\n",
       "    <tr>\n",
       "      <th>reference_version</th>\n",
       "      <td>hg38</td>\n",
       "    </tr>\n",
       "    <tr>\n",
       "      <th>truth_sample_name</th>\n",
       "      <td>NA</td>\n",
       "    </tr>\n",
       "    <tr>\n",
       "      <th>h5outfile</th>\n",
       "      <td>var_report.h5</td>\n",
       "    </tr>\n",
       "  </tbody>\n",
       "</table>\n",
       "</div>"
      ],
      "text/plain": [
       "                                                                  value\n",
       "statistics_file    /data/Runs/VariantCalling/work/250507/test.stats.pkl\n",
       "run_id                                                               NA\n",
       "pipeline_version                                                     NA\n",
       "verbosity                                                             3\n",
       "reference_version                                                  hg38\n",
       "truth_sample_name                                                    NA\n",
       "h5outfile                                                 var_report.h5"
      ]
     },
     "metadata": {},
     "output_type": "display_data"
    }
   ],
   "source": [
    "parameters_df = pd.DataFrame.from_dict(parameters, orient='index', columns=['value']).reindex(param_names)\n",
    "parameters_df.to_hdf(h5outfile, key=\"parameters\")\n",
    "display(parameters_df)"
   ]
  },
  {
   "cell_type": "code",
   "execution_count": 75,
   "metadata": {},
   "outputs": [
    {
     "data": {
      "text/markdown": [
       "## Table of Contents <a class ='anchor' id='top'> </a>"
      ],
      "text/plain": [
       "<IPython.core.display.Markdown object>"
      ]
     },
     "metadata": {},
     "output_type": "display_data"
    },
    {
     "data": {
      "text/markdown": [
       "* [Input Parameters](#input_parameters)\n",
       "* [General statistics](#general_statistics)\n",
       "* [Accuracy](#gen_acc_all_data)\n"
      ],
      "text/plain": [
       "<IPython.core.display.Markdown object>"
      ]
     },
     "metadata": {},
     "output_type": "display_data"
    }
   ],
   "source": [
    "anchor = report_utils.get_anchor(\"top\")\n",
    "display(Markdown(f\"## Table of Contents {anchor}\"))\n",
    "tc = \"* [Input Parameters](#input_parameters)\\n\"\n",
    "tc += \"* [General statistics](#general_statistics)\\n\"\n",
    "if data_gt is not None:\n",
    "    tc += \"* [Accuracy](#gen_acc_all_data)\\n\"\n",
    "\n",
    "display(Markdown(tc))"
   ]
  },
  {
   "cell_type": "markdown",
   "metadata": {},
   "source": [
    "## General statistics  <a class='anchor' id='all_data'></a>\n",
    "\n",
    "The tables below summarize class and length distributions of called SVs\n"
   ]
  },
  {
   "cell_type": "markdown",
   "metadata": {},
   "source": [
    "### SV type distribution"
   ]
  },
  {
   "cell_type": "code",
   "execution_count": 76,
   "metadata": {},
   "outputs": [],
   "source": [
    "pd.options.display.float_format = '{:,.2%}'.format\n",
    "data_no_gt['type_counts'].name = 'SV type'\n",
    "data_no_gt['type_counts'] = pd.DataFrame(data_no_gt['type_counts']).T"
   ]
  },
  {
   "cell_type": "code",
   "execution_count": 77,
   "metadata": {},
   "outputs": [
    {
     "data": {
      "image/png": "[encoded data removed]",
      "text/plain": [
       "<Figure size 640x480 with 1 Axes>"
      ]
     },
     "metadata": {},
     "output_type": "display_data"
    }
   ],
   "source": [
    "# Pie chart of data_no_gt['type_counts']\n",
    "fig, ax = plt.subplots(subplot_kw=dict(aspect=\"equal\"))\n",
    "wedges, texts, autotexts = ax.pie(data_no_gt['type_counts'].values[0],\n",
    "                                   labels=data_no_gt['type_counts'].columns,\n",
    "                                   autopct='%1.1f%%',\n",
    "                                   startangle=90,\n",
    "                                   colors=sns.color_palette(\"pastel\"),\n",
    "                                    pctdistance=0.9,         # keep percentages inside\n",
    "                                    labeldistance=1.1,        # move labels outside\n",
    "\n",
    "                                   textprops=dict(color=\"b\"))\n",
    "for text in texts + autotexts:\n",
    "    text.set_color(\"black\")\n",
    "    text.set_fontsize(10)"
   ]
  },
  {
   "cell_type": "markdown",
   "metadata": {},
   "source": [
    "### SV length distribution"
   ]
  },
  {
   "cell_type": "code",
   "execution_count": 78,
   "metadata": {},
   "outputs": [
    {
     "data": {
      "text/html": [
       "<div>\n",
       "<style scoped>\n",
       "    .dataframe tbody tr th:only-of-type {\n",
       "        vertical-align: middle;\n",
       "    }\n",
       "\n",
       "    .dataframe tbody tr th {\n",
       "        vertical-align: top;\n",
       "    }\n",
       "\n",
       "    .dataframe thead th {\n",
       "        text-align: right;\n",
       "    }\n",
       "</style>\n",
       "<table border=\"1\" class=\"dataframe\">\n",
       "  <thead>\n",
       "    <tr style=\"text-align: right;\">\n",
       "      <th></th>\n",
       "      <th>50-100</th>\n",
       "      <th>100-300</th>\n",
       "      <th>300-500</th>\n",
       "      <th>0.5-1k</th>\n",
       "      <th>1k-5k</th>\n",
       "      <th>5k-10k</th>\n",
       "      <th>10k-100k</th>\n",
       "      <th>100k-1M</th>\n",
       "      <th>&gt;1M</th>\n",
       "    </tr>\n",
       "  </thead>\n",
       "  <tbody>\n",
       "    <tr>\n",
       "      <th>SV Length</th>\n",
       "      <td>11016</td>\n",
       "      <td>2943</td>\n",
       "      <td>3114</td>\n",
       "      <td>316</td>\n",
       "      <td>580</td>\n",
       "      <td>130</td>\n",
       "      <td>82</td>\n",
       "      <td>17</td>\n",
       "      <td>53</td>\n",
       "    </tr>\n",
       "  </tbody>\n",
       "</table>\n",
       "</div>"
      ],
      "text/plain": [
       "           50-100  100-300  300-500  0.5-1k  1k-5k  5k-10k  10k-100k  100k-1M  \\\n",
       "SV Length   11016     2943     3114     316    580     130        82       17   \n",
       "\n",
       "           >1M  \n",
       "SV Length   53  "
      ]
     },
     "execution_count": 78,
     "metadata": {},
     "output_type": "execute_result"
    }
   ],
   "source": [
    "data_no_gt['length_counts'].name = 'SV Length'\n",
    "data_no_gt['length_counts'] = pd.DataFrame(data_no_gt['length_counts']).T\n",
    "data_no_gt['length_counts']"
   ]
  },
  {
   "cell_type": "code",
   "execution_count": 79,
   "metadata": {},
   "outputs": [
    {
     "data": {
      "image/png": "[encoded data removed]",
      "text/plain": [
       "<Figure size 640x480 with 1 Axes>"
      ]
     },
     "metadata": {},
     "output_type": "display_data"
    }
   ],
   "source": [
    "data_no_gt['length_counts'].T.plot.bar(legend=False)\n",
    "plt.xlabel(\"Length\")\n",
    "plt.ylabel('# Calls')\n",
    "# set y axis log scale\n",
    "plt.yscale('log')\n"
   ]
  },
  {
   "cell_type": "markdown",
   "metadata": {},
   "source": [
    "### Length and type distribution"
   ]
  },
  {
   "cell_type": "code",
   "execution_count": 80,
   "metadata": {},
   "outputs": [
    {
     "data": {
      "text/html": [
       "<div>\n",
       "<style scoped>\n",
       "    .dataframe tbody tr th:only-of-type {\n",
       "        vertical-align: middle;\n",
       "    }\n",
       "\n",
       "    .dataframe tbody tr th {\n",
       "        vertical-align: top;\n",
       "    }\n",
       "\n",
       "    .dataframe thead th {\n",
       "        text-align: right;\n",
       "    }\n",
       "</style>\n",
       "<table border=\"1\" class=\"dataframe\">\n",
       "  <thead>\n",
       "    <tr style=\"text-align: right;\">\n",
       "      <th>binned_svlens</th>\n",
       "      <th>50-100</th>\n",
       "      <th>100-300</th>\n",
       "      <th>300-500</th>\n",
       "      <th>0.5-1k</th>\n",
       "      <th>1k-5k</th>\n",
       "      <th>5k-10k</th>\n",
       "      <th>10k-100k</th>\n",
       "      <th>100k-1M</th>\n",
       "      <th>&gt;1M</th>\n",
       "    </tr>\n",
       "    <tr>\n",
       "      <th>svtype</th>\n",
       "      <th></th>\n",
       "      <th></th>\n",
       "      <th></th>\n",
       "      <th></th>\n",
       "      <th></th>\n",
       "      <th></th>\n",
       "      <th></th>\n",
       "      <th></th>\n",
       "      <th></th>\n",
       "    </tr>\n",
       "  </thead>\n",
       "  <tbody>\n",
       "    <tr>\n",
       "      <th>BND</th>\n",
       "      <td>42</td>\n",
       "      <td>55</td>\n",
       "      <td>36</td>\n",
       "      <td>58</td>\n",
       "      <td>110</td>\n",
       "      <td>12</td>\n",
       "      <td>22</td>\n",
       "      <td>8</td>\n",
       "      <td>40</td>\n",
       "    </tr>\n",
       "    <tr>\n",
       "      <th>DEL</th>\n",
       "      <td>6365</td>\n",
       "      <td>1167</td>\n",
       "      <td>1099</td>\n",
       "      <td>210</td>\n",
       "      <td>431</td>\n",
       "      <td>110</td>\n",
       "      <td>48</td>\n",
       "      <td>5</td>\n",
       "      <td>1</td>\n",
       "    </tr>\n",
       "    <tr>\n",
       "      <th>DUP</th>\n",
       "      <td>578</td>\n",
       "      <td>187</td>\n",
       "      <td>54</td>\n",
       "      <td>41</td>\n",
       "      <td>39</td>\n",
       "      <td>8</td>\n",
       "      <td>12</td>\n",
       "      <td>4</td>\n",
       "      <td>12</td>\n",
       "    </tr>\n",
       "    <tr>\n",
       "      <th>INS</th>\n",
       "      <td>4031</td>\n",
       "      <td>1534</td>\n",
       "      <td>1925</td>\n",
       "      <td>7</td>\n",
       "      <td>0</td>\n",
       "      <td>0</td>\n",
       "      <td>0</td>\n",
       "      <td>0</td>\n",
       "      <td>0</td>\n",
       "    </tr>\n",
       "  </tbody>\n",
       "</table>\n",
       "</div>"
      ],
      "text/plain": [
       "binned_svlens  50-100  100-300  300-500  0.5-1k  1k-5k  5k-10k  10k-100k  \\\n",
       "svtype                                                                     \n",
       "BND                42       55       36      58    110      12        22   \n",
       "DEL              6365     1167     1099     210    431     110        48   \n",
       "DUP               578      187       54      41     39       8        12   \n",
       "INS              4031     1534     1925       7      0       0         0   \n",
       "\n",
       "binned_svlens  100k-1M  >1M  \n",
       "svtype                       \n",
       "BND                  8   40  \n",
       "DEL                  5    1  \n",
       "DUP                  4   12  \n",
       "INS                  0    0  "
      ]
     },
     "execution_count": 80,
     "metadata": {},
     "output_type": "execute_result"
    }
   ],
   "source": [
    "data_no_gt['length_by_type_counts']"
   ]
  },
  {
   "cell_type": "code",
   "execution_count": 81,
   "metadata": {},
   "outputs": [
    {
     "data": {
      "text/html": [
       "<div>\n",
       "<style scoped>\n",
       "    .dataframe tbody tr th:only-of-type {\n",
       "        vertical-align: middle;\n",
       "    }\n",
       "\n",
       "    .dataframe tbody tr th {\n",
       "        vertical-align: top;\n",
       "    }\n",
       "\n",
       "    .dataframe thead th {\n",
       "        text-align: right;\n",
       "    }\n",
       "</style>\n",
       "<table border=\"1\" class=\"dataframe\">\n",
       "  <thead>\n",
       "    <tr style=\"text-align: right;\">\n",
       "      <th>svtype</th>\n",
       "      <th>BND</th>\n",
       "      <th>DEL</th>\n",
       "      <th>DUP</th>\n",
       "      <th>INS</th>\n",
       "    </tr>\n",
       "    <tr>\n",
       "      <th>binned_svlens</th>\n",
       "      <th></th>\n",
       "      <th></th>\n",
       "      <th></th>\n",
       "      <th></th>\n",
       "    </tr>\n",
       "  </thead>\n",
       "  <tbody>\n",
       "    <tr>\n",
       "      <th>50-100</th>\n",
       "      <td>42</td>\n",
       "      <td>6365</td>\n",
       "      <td>578</td>\n",
       "      <td>4031</td>\n",
       "    </tr>\n",
       "    <tr>\n",
       "      <th>100-300</th>\n",
       "      <td>55</td>\n",
       "      <td>1167</td>\n",
       "      <td>187</td>\n",
       "      <td>1534</td>\n",
       "    </tr>\n",
       "    <tr>\n",
       "      <th>300-500</th>\n",
       "      <td>36</td>\n",
       "      <td>1099</td>\n",
       "      <td>54</td>\n",
       "      <td>1925</td>\n",
       "    </tr>\n",
       "    <tr>\n",
       "      <th>0.5-1k</th>\n",
       "      <td>58</td>\n",
       "      <td>210</td>\n",
       "      <td>41</td>\n",
       "      <td>7</td>\n",
       "    </tr>\n",
       "    <tr>\n",
       "      <th>1k-5k</th>\n",
       "      <td>110</td>\n",
       "      <td>431</td>\n",
       "      <td>39</td>\n",
       "      <td>0</td>\n",
       "    </tr>\n",
       "    <tr>\n",
       "      <th>5k-10k</th>\n",
       "      <td>12</td>\n",
       "      <td>110</td>\n",
       "      <td>8</td>\n",
       "      <td>0</td>\n",
       "    </tr>\n",
       "    <tr>\n",
       "      <th>10k-100k</th>\n",
       "      <td>22</td>\n",
       "      <td>48</td>\n",
       "      <td>12</td>\n",
       "      <td>0</td>\n",
       "    </tr>\n",
       "    <tr>\n",
       "      <th>100k-1M</th>\n",
       "      <td>8</td>\n",
       "      <td>5</td>\n",
       "      <td>4</td>\n",
       "      <td>0</td>\n",
       "    </tr>\n",
       "    <tr>\n",
       "      <th>&gt;1M</th>\n",
       "      <td>40</td>\n",
       "      <td>1</td>\n",
       "      <td>12</td>\n",
       "      <td>0</td>\n",
       "    </tr>\n",
       "  </tbody>\n",
       "</table>\n",
       "</div>"
      ],
      "text/plain": [
       "svtype         BND   DEL  DUP   INS\n",
       "binned_svlens                      \n",
       "50-100          42  6365  578  4031\n",
       "100-300         55  1167  187  1534\n",
       "300-500         36  1099   54  1925\n",
       "0.5-1k          58   210   41     7\n",
       "1k-5k          110   431   39     0\n",
       "5k-10k          12   110    8     0\n",
       "10k-100k        22    48   12     0\n",
       "100k-1M          8     5    4     0\n",
       ">1M             40     1   12     0"
      ]
     },
     "execution_count": 81,
     "metadata": {},
     "output_type": "execute_result"
    }
   ],
   "source": [
    "data_no_gt['length_by_type_counts'] = data_no_gt['length_by_type_counts'].T\n",
    "data_no_gt['length_by_type_counts']"
   ]
  },
  {
   "cell_type": "code",
   "execution_count": 84,
   "metadata": {},
   "outputs": [
    {
     "data": {
      "image/png": "[encoded data removed]",
      "text/plain": [
       "<Figure size 800x600 with 1 Axes>"
      ]
     },
     "metadata": {},
     "output_type": "display_data"
    }
   ],
   "source": [
    "# Make sure the SV types are in the desired order\n",
    "desired_order = ['DEL', 'INS', 'DUP', 'BND']\n",
    "df = data_no_gt['length_by_type_counts']\n",
    "df = df.set_index('svtype') if 'svtype' in df.columns else df\n",
    "df = df[desired_order].dropna(how='all')\n",
    "\n",
    "# Plot with legend inside and correct order\n",
    "ax = df.T.plot(kind='bar', stacked=False, figsize=(8, 6))\n",
    "plt.xlabel(\"Length\")\n",
    "plt.ylabel('# Calls')\n",
    "plt.title('SV Length by Type')\n",
    "plt.xticks(rotation=45)\n",
    "plt.tight_layout()\n",
    "plt.legend(\n",
    "    title='SV Type',\n",
    "    loc='upper right',   # inside the plot\n",
    "    bbox_to_anchor=(0.98, 0.98),\n",
    "    fontsize=10,\n",
    "    title_fontsize=11\n",
    ")\n",
    "plt.yscale('log')\n",
    "plt.show()\n"
   ]
  },
  {
   "cell_type": "code",
   "execution_count": null,
   "metadata": {},
   "outputs": [],
   "source": [
    "if has_concordance_data:\n",
    "    anchor = report_utils.get_anchor('concordance_eval')\n",
    "    display(Markdown(f\"## 2 Concordance evaluation {anchor}\"))\n"
   ]
  },
  {
   "cell_type": "code",
   "execution_count": 93,
   "metadata": {
    "pycharm": {
     "name": "#%%\n"
    }
   },
   "outputs": [
    {
     "data": {
      "text/markdown": [
       "### 2.1 Overall concordance"
      ],
      "text/plain": [
       "<IPython.core.display.Markdown object>"
      ]
     },
     "metadata": {},
     "output_type": "display_data"
    }
   ],
   "source": [
    "if has_concordance_data:\n",
    "    display(Markdown(f\"### 2.1 Overall concordance\"))\n",
    "    concordance_df = data_gt['concordance'].copy()\n"
   ]
  },
  {
   "cell_type": "code",
   "execution_count": 118,
   "metadata": {},
   "outputs": [
    {
     "data": {
      "text/markdown": [
       "Recall and precision with comparison to ground truth. Note that sometimes the categories of the variants in ground truth are different than from the callsIn the evaluation - we do not compare the variant type in the callset to that of the truth set."
      ],
      "text/plain": [
       "<IPython.core.display.Markdown object>"
      ]
     },
     "metadata": {},
     "output_type": "display_data"
    },
    {
     "data": {
      "text/html": [
       "<div>\n",
       "<style scoped>\n",
       "    .dataframe tbody tr th:only-of-type {\n",
       "        vertical-align: middle;\n",
       "    }\n",
       "\n",
       "    .dataframe tbody tr th {\n",
       "        vertical-align: top;\n",
       "    }\n",
       "\n",
       "    .dataframe thead th {\n",
       "        text-align: right;\n",
       "    }\n",
       "</style>\n",
       "<table border=\"1\" class=\"dataframe\">\n",
       "  <thead>\n",
       "    <tr style=\"text-align: right;\">\n",
       "      <th></th>\n",
       "      <th>TP_base</th>\n",
       "      <th>TP_calls</th>\n",
       "      <th>FP</th>\n",
       "      <th>FN</th>\n",
       "      <th>Recall</th>\n",
       "      <th>Precision</th>\n",
       "      <th>F1</th>\n",
       "    </tr>\n",
       "    <tr>\n",
       "      <th>SV type</th>\n",
       "      <th></th>\n",
       "      <th></th>\n",
       "      <th></th>\n",
       "      <th></th>\n",
       "      <th></th>\n",
       "      <th></th>\n",
       "      <th></th>\n",
       "    </tr>\n",
       "  </thead>\n",
       "  <tbody>\n",
       "    <tr>\n",
       "      <th>ALL</th>\n",
       "      <td>9341</td>\n",
       "      <td>9341</td>\n",
       "      <td>1958</td>\n",
       "      <td>13192</td>\n",
       "      <td>41.45%</td>\n",
       "      <td>82.67%</td>\n",
       "      <td>55.22%</td>\n",
       "    </tr>\n",
       "    <tr>\n",
       "      <th>DEL</th>\n",
       "      <td>4497</td>\n",
       "      <td>4745</td>\n",
       "      <td>367</td>\n",
       "      <td>4662</td>\n",
       "      <td>49.10%</td>\n",
       "      <td>92.82%</td>\n",
       "      <td>64.23%</td>\n",
       "    </tr>\n",
       "    <tr>\n",
       "      <th>INS</th>\n",
       "      <td>4844</td>\n",
       "      <td>4011</td>\n",
       "      <td>591</td>\n",
       "      <td>8530</td>\n",
       "      <td>36.22%</td>\n",
       "      <td>87.16%</td>\n",
       "      <td>51.17%</td>\n",
       "    </tr>\n",
       "  </tbody>\n",
       "</table>\n",
       "</div>"
      ],
      "text/plain": [
       "         TP_base  TP_calls    FP     FN  Recall  Precision     F1\n",
       "SV type                                                          \n",
       "ALL         9341      9341  1958  13192  41.45%     82.67% 55.22%\n",
       "DEL         4497      4745   367   4662  49.10%     92.82% 64.23%\n",
       "INS         4844      4011   591   8530  36.22%     87.16% 51.17%"
      ]
     },
     "metadata": {},
     "output_type": "display_data"
    }
   ],
   "source": [
    "if has_concordance_data:\n",
    "    display(Markdown(\"Recall and precision with comparison to ground truth. Note that sometimes the categories of the variants in ground truth are different than from the calls\"\n",
    "                     \"In the evaluation - we do not compare the variant type in the callset to that of the truth set.\"))\n",
    "    values_df = concordance_df.drop(['precision roc', 'recall roc','thresholds'],axis=1).query('`SV length`==\"\"').droplevel(1,axis=0)\n",
    "    values_df = values_df[['TP_base', 'TP_calls', 'FP', 'FN','Recall','Precision','F1']]\n",
    "    roc_df    = concordance_df.query('`SV length`==\"\"').droplevel(1,axis=0)[['precision roc', 'recall roc','thresholds']]\n",
    "    # show pandas representation for TP_base, TP_calls, FP and FN as integers\n",
    "    values_df[['TP_base', 'TP_calls', 'FP', 'FN']] = values_df[['TP_base', 'TP_calls', 'FP', 'FN']].astype(int)\n",
    "    values_df = values_df.loc[values_df['TP_base'] > 0] # remove cases absent from ground truth\n",
    "    roc_df = roc_df.loc[values_df.index]\n",
    "    display(values_df)"
   ]
  },
  {
   "cell_type": "code",
   "execution_count": 116,
   "metadata": {},
   "outputs": [
    {
     "data": {
      "image/png": "[encoded data removed]",
      "text/plain": [
       "<Figure size 900x300 with 3 Axes>"
      ]
     },
     "metadata": {},
     "output_type": "display_data"
    }
   ],
   "source": [
    "if has_concordance_data:\n",
    "    fig,ax = plt.subplots(1,roc_df.shape[0],figsize=(roc_df.shape[0]*3,3))\n",
    "    for i,v in enumerate(roc_df.iterrows()):\n",
    "        plt.subplot(1,roc_df.shape[0],i+1)\n",
    "        plt.plot(v[1]['recall roc'],v[1]['precision roc'])\n",
    "        plt.title(v[0])\n",
    "        plt.xlabel('Recall')\n",
    "        plt.xlim(0,0.8)\n",
    "        plt.ylim(0.6,1)\n",
    "    ax[0].set_ylabel(\"Precision\")\n"
   ]
  },
  {
   "cell_type": "code",
   "execution_count": 124,
   "metadata": {},
   "outputs": [
    {
     "data": {
      "text/markdown": [
       "### 2.2 Recall per variant length and type"
      ],
      "text/plain": [
       "<IPython.core.display.Markdown object>"
      ]
     },
     "metadata": {},
     "output_type": "display_data"
    },
    {
     "data": {
      "text/html": [
       "<div>\n",
       "<style scoped>\n",
       "    .dataframe tbody tr th:only-of-type {\n",
       "        vertical-align: middle;\n",
       "    }\n",
       "\n",
       "    .dataframe tbody tr th {\n",
       "        vertical-align: top;\n",
       "    }\n",
       "\n",
       "    .dataframe thead th {\n",
       "        text-align: right;\n",
       "    }\n",
       "</style>\n",
       "<table border=\"1\" class=\"dataframe\">\n",
       "  <thead>\n",
       "    <tr style=\"text-align: right;\">\n",
       "      <th></th>\n",
       "      <th></th>\n",
       "      <th>TP_base</th>\n",
       "      <th>TP_calls</th>\n",
       "      <th>FN</th>\n",
       "      <th>Recall</th>\n",
       "    </tr>\n",
       "    <tr>\n",
       "      <th>SV type</th>\n",
       "      <th>SV length</th>\n",
       "      <th></th>\n",
       "      <th></th>\n",
       "      <th></th>\n",
       "      <th></th>\n",
       "    </tr>\n",
       "  </thead>\n",
       "  <tbody>\n",
       "    <tr>\n",
       "      <th rowspan=\"9\" valign=\"top\">ALL</th>\n",
       "      <th>50-100</th>\n",
       "      <td>3171</td>\n",
       "      <td>3684</td>\n",
       "      <td>4365</td>\n",
       "      <td>42.08%</td>\n",
       "    </tr>\n",
       "    <tr>\n",
       "      <th>100-300</th>\n",
       "      <td>2124</td>\n",
       "      <td>2124</td>\n",
       "      <td>4416</td>\n",
       "      <td>32.48%</td>\n",
       "    </tr>\n",
       "    <tr>\n",
       "      <th>300-500</th>\n",
       "      <td>2308</td>\n",
       "      <td>2734</td>\n",
       "      <td>1692</td>\n",
       "      <td>57.70%</td>\n",
       "    </tr>\n",
       "    <tr>\n",
       "      <th>0.5-1k</th>\n",
       "      <td>611</td>\n",
       "      <td>232</td>\n",
       "      <td>1193</td>\n",
       "      <td>33.87%</td>\n",
       "    </tr>\n",
       "    <tr>\n",
       "      <th>1k-5k</th>\n",
       "      <td>899</td>\n",
       "      <td>417</td>\n",
       "      <td>1210</td>\n",
       "      <td>42.63%</td>\n",
       "    </tr>\n",
       "    <tr>\n",
       "      <th>5k-10k</th>\n",
       "      <td>183</td>\n",
       "      <td>109</td>\n",
       "      <td>162</td>\n",
       "      <td>53.04%</td>\n",
       "    </tr>\n",
       "    <tr>\n",
       "      <th>10k-100k</th>\n",
       "      <td>45</td>\n",
       "      <td>41</td>\n",
       "      <td>154</td>\n",
       "      <td>22.61%</td>\n",
       "    </tr>\n",
       "    <tr>\n",
       "      <th>100k-1M</th>\n",
       "      <td>0</td>\n",
       "      <td>0</td>\n",
       "      <td>0</td>\n",
       "      <td>0.00%</td>\n",
       "    </tr>\n",
       "    <tr>\n",
       "      <th>&gt;1M</th>\n",
       "      <td>0</td>\n",
       "      <td>0</td>\n",
       "      <td>0</td>\n",
       "      <td>0.00%</td>\n",
       "    </tr>\n",
       "    <tr>\n",
       "      <th rowspan=\"9\" valign=\"top\">DEL</th>\n",
       "      <th>50-100</th>\n",
       "      <td>1751</td>\n",
       "      <td>2051</td>\n",
       "      <td>1758</td>\n",
       "      <td>49.90%</td>\n",
       "    </tr>\n",
       "    <tr>\n",
       "      <th>100-300</th>\n",
       "      <td>955</td>\n",
       "      <td>919</td>\n",
       "      <td>1555</td>\n",
       "      <td>38.05%</td>\n",
       "    </tr>\n",
       "    <tr>\n",
       "      <th>300-500</th>\n",
       "      <td>1070</td>\n",
       "      <td>1049</td>\n",
       "      <td>559</td>\n",
       "      <td>65.68%</td>\n",
       "    </tr>\n",
       "    <tr>\n",
       "      <th>0.5-1k</th>\n",
       "      <td>195</td>\n",
       "      <td>197</td>\n",
       "      <td>348</td>\n",
       "      <td>35.91%</td>\n",
       "    </tr>\n",
       "    <tr>\n",
       "      <th>1k-5k</th>\n",
       "      <td>391</td>\n",
       "      <td>391</td>\n",
       "      <td>334</td>\n",
       "      <td>53.93%</td>\n",
       "    </tr>\n",
       "    <tr>\n",
       "      <th>5k-10k</th>\n",
       "      <td>104</td>\n",
       "      <td>105</td>\n",
       "      <td>48</td>\n",
       "      <td>68.42%</td>\n",
       "    </tr>\n",
       "    <tr>\n",
       "      <th>10k-100k</th>\n",
       "      <td>31</td>\n",
       "      <td>33</td>\n",
       "      <td>60</td>\n",
       "      <td>34.07%</td>\n",
       "    </tr>\n",
       "    <tr>\n",
       "      <th>100k-1M</th>\n",
       "      <td>0</td>\n",
       "      <td>0</td>\n",
       "      <td>0</td>\n",
       "      <td>0.00%</td>\n",
       "    </tr>\n",
       "    <tr>\n",
       "      <th>&gt;1M</th>\n",
       "      <td>0</td>\n",
       "      <td>0</td>\n",
       "      <td>0</td>\n",
       "      <td>0.00%</td>\n",
       "    </tr>\n",
       "    <tr>\n",
       "      <th rowspan=\"9\" valign=\"top\">INS</th>\n",
       "      <th>50-100</th>\n",
       "      <td>1420</td>\n",
       "      <td>1309</td>\n",
       "      <td>2607</td>\n",
       "      <td>35.26%</td>\n",
       "    </tr>\n",
       "    <tr>\n",
       "      <th>100-300</th>\n",
       "      <td>1169</td>\n",
       "      <td>1057</td>\n",
       "      <td>2861</td>\n",
       "      <td>29.01%</td>\n",
       "    </tr>\n",
       "    <tr>\n",
       "      <th>300-500</th>\n",
       "      <td>1238</td>\n",
       "      <td>1640</td>\n",
       "      <td>1133</td>\n",
       "      <td>52.21%</td>\n",
       "    </tr>\n",
       "    <tr>\n",
       "      <th>0.5-1k</th>\n",
       "      <td>416</td>\n",
       "      <td>5</td>\n",
       "      <td>845</td>\n",
       "      <td>32.99%</td>\n",
       "    </tr>\n",
       "    <tr>\n",
       "      <th>1k-5k</th>\n",
       "      <td>508</td>\n",
       "      <td>0</td>\n",
       "      <td>876</td>\n",
       "      <td>36.71%</td>\n",
       "    </tr>\n",
       "    <tr>\n",
       "      <th>5k-10k</th>\n",
       "      <td>79</td>\n",
       "      <td>0</td>\n",
       "      <td>114</td>\n",
       "      <td>40.93%</td>\n",
       "    </tr>\n",
       "    <tr>\n",
       "      <th>10k-100k</th>\n",
       "      <td>14</td>\n",
       "      <td>0</td>\n",
       "      <td>94</td>\n",
       "      <td>12.96%</td>\n",
       "    </tr>\n",
       "    <tr>\n",
       "      <th>100k-1M</th>\n",
       "      <td>0</td>\n",
       "      <td>0</td>\n",
       "      <td>0</td>\n",
       "      <td>0.00%</td>\n",
       "    </tr>\n",
       "    <tr>\n",
       "      <th>&gt;1M</th>\n",
       "      <td>0</td>\n",
       "      <td>0</td>\n",
       "      <td>0</td>\n",
       "      <td>0.00%</td>\n",
       "    </tr>\n",
       "  </tbody>\n",
       "</table>\n",
       "</div>"
      ],
      "text/plain": [
       "                   TP_base  TP_calls    FN  Recall\n",
       "SV type SV length                                 \n",
       "ALL     50-100        3171      3684  4365  42.08%\n",
       "        100-300       2124      2124  4416  32.48%\n",
       "        300-500       2308      2734  1692  57.70%\n",
       "        0.5-1k         611       232  1193  33.87%\n",
       "        1k-5k          899       417  1210  42.63%\n",
       "        5k-10k         183       109   162  53.04%\n",
       "        10k-100k        45        41   154  22.61%\n",
       "        100k-1M          0         0     0   0.00%\n",
       "        >1M              0         0     0   0.00%\n",
       "DEL     50-100        1751      2051  1758  49.90%\n",
       "        100-300        955       919  1555  38.05%\n",
       "        300-500       1070      1049   559  65.68%\n",
       "        0.5-1k         195       197   348  35.91%\n",
       "        1k-5k          391       391   334  53.93%\n",
       "        5k-10k         104       105    48  68.42%\n",
       "        10k-100k        31        33    60  34.07%\n",
       "        100k-1M          0         0     0   0.00%\n",
       "        >1M              0         0     0   0.00%\n",
       "INS     50-100        1420      1309  2607  35.26%\n",
       "        100-300       1169      1057  2861  29.01%\n",
       "        300-500       1238      1640  1133  52.21%\n",
       "        0.5-1k         416         5   845  32.99%\n",
       "        1k-5k          508         0   876  36.71%\n",
       "        5k-10k          79         0   114  40.93%\n",
       "        10k-100k        14         0    94  12.96%\n",
       "        100k-1M          0         0     0   0.00%\n",
       "        >1M              0         0     0   0.00%"
      ]
     },
     "metadata": {},
     "output_type": "display_data"
    }
   ],
   "source": [
    "if has_concordance_data:\n",
    "    display(Markdown(f\"### 2.2 Recall per variant length and type\"))\n",
    "    concordance_df = data_gt['concordance'].copy()\n",
    "    values_df = concordance_df.drop(['precision roc', 'recall roc','thresholds'],axis=1).query('`SV length`!=\"\"')\n",
    "    values_df = values_df[['TP_base', 'TP_calls', 'FN','Recall']]\n",
    "    values_df[['TP_base','TP_calls','FN']] = values_df[['TP_base','TP_calls','FN']].astype(int)\n",
    "    display(values_df)\n"
   ]
  },
  {
   "cell_type": "code",
   "execution_count": 129,
   "metadata": {},
   "outputs": [
    {
     "data": {
      "image/png": "[encoded data removed]",
      "text/plain": [
       "<Figure size 640x480 with 1 Axes>"
      ]
     },
     "metadata": {},
     "output_type": "display_data"
    }
   ],
   "source": [
    "## generate a bar chart of values_df using SV length as x axis and recall as y axis \n",
    "sns.barplot(data=values_df.reset_index(), x='SV length', y='Recall', hue='SV type')\n",
    "plt.xticks(rotation=45);"
   ]
  },
  {
   "cell_type": "code",
   "execution_count": null,
   "metadata": {},
   "outputs": [],
   "source": []
  }
 ],
 "metadata": {
  "celltoolbar": "Tags",
  "kernelspec": {
   "display_name": "genomics.py3",
   "language": "python",
   "name": "python3"
  },
  "language_info": {
   "codemirror_mode": {
    "name": "ipython",
    "version": 3
   },
   "file_extension": ".py",
   "mimetype": "text/x-python",
   "name": "python",
   "nbconvert_exporter": "python",
   "pygments_lexer": "ipython3",
   "version": "3.10.14"
  },
  "toc": {
   "base_numbering": 1,
   "nav_menu": {},
   "number_sections": true,
   "sideBar": true,
   "skip_h1_title": false,
   "title_cell": "Table of Contents",
   "title_sidebar": "Contents",
   "toc_cell": false,
   "toc_position": {},
   "toc_section_display": true,
   "toc_window_display": false
  }
 },
 "nbformat": 4,
 "nbformat_minor": 4
}
