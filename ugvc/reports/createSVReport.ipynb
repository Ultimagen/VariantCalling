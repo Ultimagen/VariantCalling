{
 "cells": [
  {
   "cell_type": "code",
   "execution_count": 1,
   "metadata": {
    "ExecuteTime": {
     "end_time": "2022-07-25T13:41:08.009132Z",
     "start_time": "2022-07-25T13:41:06.919618Z"
    }
   },
   "outputs": [],
   "source": [
    "import pandas as pd\n",
    "import dill as pickle\n",
    "from ugvc.reports.report_utils import ReportUtils\n",
    "from ugvc.reports.report_data_loader import ReportDataLoader\n",
    "from IPython.display import display, Markdown\n",
    "import seaborn as sns\n",
    "from matplotlib import pyplot as plt\n",
    "pd.options.display.float_format = '{:,.2%}'.format\n",
    "pd.set_option('display.max_colwidth', None)\n",
    "sns.set_theme(style=\"whitegrid\")\n",
    "sns.set_context(\"talk\")"
   ]
  },
  {
   "cell_type": "code",
   "execution_count": 2,
   "metadata": {
    "tags": [
     "parameters"
    ]
   },
   "outputs": [],
   "source": [
    "run_id = \"NA\"\n",
    "pipeline_version = \"NA\"\n",
    "statistics_file = \"/data/Runs/VariantCalling/work/250515/hg002.release.stats.pkl\"\n",
    "reference_version = \"hg38\"\n",
    "truth_sample_name = \"NA\"\n",
    "h5outfile = \"var_report.h5\"    \n"
   ]
  },
  {
   "cell_type": "code",
   "execution_count": 3,
   "metadata": {
    "ExecuteTime": {
     "end_time": "2022-07-25T13:41:08.938665Z",
     "start_time": "2022-07-25T13:41:08.864530Z"
    },
    "collapsed": false,
    "jupyter": {
     "outputs_hidden": false
    },
    "pycharm": {
     "name": "#%%\n"
    }
   },
   "outputs": [
    {
     "data": {
      "text/markdown": [
       "# SV/CNV Calling report NA (INTERNAL usage)"
      ],
      "text/plain": [
       "<IPython.core.display.Markdown object>"
      ]
     },
     "metadata": {},
     "output_type": "display_data"
    }
   ],
   "source": [
    "parameters = {\n",
    "    'statistics_file': statistics_file,\n",
    "    'run_id': run_id,\n",
    "    'reference_version': reference_version,\n",
    "    'pipeline_version': str(pipeline_version),\n",
    "    'truth_sample_name': truth_sample_name,\n",
    "    'h5outfile': h5outfile,\n",
    "}\n",
    "\n",
    "parameters = {name: parameters[name] for name in parameters if parameters[name] is not None}\n",
    "param_names = list(parameters)\n",
    "\n",
    "report_utils = ReportUtils(1, h5outfile)\n",
    "\n",
    "display(Markdown(f\"# SV/CNV Calling report {pipeline_version} (INTERNAL usage)\"))\n"
   ]
  },
  {
   "cell_type": "markdown",
   "metadata": {},
   "source": [
    "## 1. Input Parameters <a class=\"anchor\" id=\"input_parameters\"></a>"
   ]
  },
  {
   "cell_type": "code",
   "execution_count": 4,
   "metadata": {
    "pycharm": {
     "name": "#%%\n"
    }
   },
   "outputs": [],
   "source": [
    "# load data\n",
    "data_loader = ReportDataLoader(concordance_file=parameters['statistics_file'],\n",
    "                               reference_version=parameters['reference_version'],\n",
    "                               exome_column_name = \"exome.twist\"\n",
    ")\n",
    "data_no_gt, data_gt = data_loader.load_sv_concordance_df()\n",
    "has_concordance_data = len(data_gt)>0"
   ]
  },
  {
   "cell_type": "code",
   "execution_count": 5,
   "metadata": {
    "ExecuteTime": {
     "end_time": "2022-07-25T13:41:11.945866Z",
     "start_time": "2022-07-25T13:41:11.910842Z"
    }
   },
   "outputs": [
    {
     "data": {
      "text/html": [
       "<div>\n",
       "<style scoped>\n",
       "    .dataframe tbody tr th:only-of-type {\n",
       "        vertical-align: middle;\n",
       "    }\n",
       "\n",
       "    .dataframe tbody tr th {\n",
       "        vertical-align: top;\n",
       "    }\n",
       "\n",
       "    .dataframe thead th {\n",
       "        text-align: right;\n",
       "    }\n",
       "</style>\n",
       "<table border=\"1\" class=\"dataframe\">\n",
       "  <thead>\n",
       "    <tr style=\"text-align: right;\">\n",
       "      <th></th>\n",
       "      <th>value</th>\n",
       "    </tr>\n",
       "  </thead>\n",
       "  <tbody>\n",
       "    <tr>\n",
       "      <th>statistics_file</th>\n",
       "      <td>/data/Runs/VariantCalling/work/250515/hg002.release.stats.pkl</td>\n",
       "    </tr>\n",
       "    <tr>\n",
       "      <th>run_id</th>\n",
       "      <td>NA</td>\n",
       "    </tr>\n",
       "    <tr>\n",
       "      <th>reference_version</th>\n",
       "      <td>hg38</td>\n",
       "    </tr>\n",
       "    <tr>\n",
       "      <th>pipeline_version</th>\n",
       "      <td>NA</td>\n",
       "    </tr>\n",
       "    <tr>\n",
       "      <th>truth_sample_name</th>\n",
       "      <td>NA</td>\n",
       "    </tr>\n",
       "    <tr>\n",
       "      <th>h5outfile</th>\n",
       "      <td>var_report.h5</td>\n",
       "    </tr>\n",
       "  </tbody>\n",
       "</table>\n",
       "</div>"
      ],
      "text/plain": [
       "                                                                           value\n",
       "statistics_file    /data/Runs/VariantCalling/work/250515/hg002.release.stats.pkl\n",
       "run_id                                                                        NA\n",
       "reference_version                                                           hg38\n",
       "pipeline_version                                                              NA\n",
       "truth_sample_name                                                             NA\n",
       "h5outfile                                                          var_report.h5"
      ]
     },
     "metadata": {},
     "output_type": "display_data"
    }
   ],
   "source": [
    "parameters_df = pd.DataFrame.from_dict(parameters, orient='index', columns=['value']).reindex(param_names)\n",
    "parameters_df.to_hdf(h5outfile, key=\"parameters\")\n",
    "display(parameters_df)"
   ]
  },
  {
   "cell_type": "code",
   "execution_count": 6,
   "metadata": {},
   "outputs": [
    {
     "data": {
      "text/markdown": [
       "## Table of Contents <a class ='anchor' id='top'> </a>"
      ],
      "text/plain": [
       "<IPython.core.display.Markdown object>"
      ]
     },
     "metadata": {},
     "output_type": "display_data"
    },
    {
     "data": {
      "text/markdown": [
       "* [Input Parameters](#input_parameters)\n",
       "* [General statistics](#general_statistics)\n",
       "* [Accuracy](#gen_acc_all_data)\n"
      ],
      "text/plain": [
       "<IPython.core.display.Markdown object>"
      ]
     },
     "metadata": {},
     "output_type": "display_data"
    }
   ],
   "source": [
    "anchor = report_utils.get_anchor(\"top\")\n",
    "display(Markdown(f\"## Table of Contents {anchor}\"))\n",
    "tc = \"* [Input Parameters](#input_parameters)\\n\"\n",
    "tc += \"* [General statistics](#general_statistics)\\n\"\n",
    "if data_gt is not None:\n",
    "    tc += \"* [Accuracy](#gen_acc_all_data)\\n\"\n",
    "\n",
    "display(Markdown(tc))"
   ]
  },
  {
   "cell_type": "markdown",
   "metadata": {},
   "source": [
    "## General statistics  <a class='anchor' id='all_data'></a>\n",
    "\n",
    "The tables below summarize class and length distributions of called SVs\n"
   ]
  },
  {
   "cell_type": "markdown",
   "metadata": {},
   "source": [
    "### SV type distribution"
   ]
  },
  {
   "cell_type": "code",
   "execution_count": 7,
   "metadata": {},
   "outputs": [],
   "source": [
    "pd.options.display.float_format = '{:,.2%}'.format\n",
    "data_no_gt['type_counts'].name = 'SV type'\n",
    "data_no_gt['type_counts'] = pd.DataFrame(data_no_gt['type_counts']).T"
   ]
  },
  {
   "cell_type": "code",
   "execution_count": 8,
   "metadata": {},
   "outputs": [],
   "source": [
    "data_no_gt['type_counts'].to_hdf(h5outfile, key=\"type_counts\")"
   ]
  },
  {
   "cell_type": "code",
   "execution_count": 9,
   "metadata": {},
   "outputs": [
    {
     "data": {
      "image/png": "[encoded data removed]",
      "text/plain": [
       "<Figure size 640x480 with 1 Axes>"
      ]
     },
     "metadata": {},
     "output_type": "display_data"
    }
   ],
   "source": [
    "# Pie chart of data_no_gt['type_counts']\n",
    "fig, ax = plt.subplots(subplot_kw=dict(aspect=\"equal\"))\n",
    "wedges, texts, autotexts = ax.pie(data_no_gt['type_counts'].values[0],\n",
    "                                   labels=data_no_gt['type_counts'].columns,\n",
    "                                   autopct='%1.1f%%',\n",
    "                                   startangle=90,\n",
    "                                   colors=sns.color_palette(\"pastel\"),\n",
    "                                    pctdistance=0.9,         # keep percentages inside\n",
    "                                    labeldistance=1.1,        # move labels outside\n",
    "\n",
    "                                   textprops=dict(color=\"b\"))\n",
    "for text in texts + autotexts:\n",
    "    text.set_color(\"black\")\n",
    "    text.set_fontsize(10)"
   ]
  },
  {
   "cell_type": "markdown",
   "metadata": {},
   "source": [
    "### SV length distribution"
   ]
  },
  {
   "cell_type": "code",
   "execution_count": 10,
   "metadata": {},
   "outputs": [
    {
     "data": {
      "text/html": [
       "<div>\n",
       "<style scoped>\n",
       "    .dataframe tbody tr th:only-of-type {\n",
       "        vertical-align: middle;\n",
       "    }\n",
       "\n",
       "    .dataframe tbody tr th {\n",
       "        vertical-align: top;\n",
       "    }\n",
       "\n",
       "    .dataframe thead th {\n",
       "        text-align: right;\n",
       "    }\n",
       "</style>\n",
       "<table border=\"1\" class=\"dataframe\">\n",
       "  <thead>\n",
       "    <tr style=\"text-align: right;\">\n",
       "      <th></th>\n",
       "      <th>50-100</th>\n",
       "      <th>100-300</th>\n",
       "      <th>300-500</th>\n",
       "      <th>0.5-1k</th>\n",
       "      <th>1k-5k</th>\n",
       "      <th>5k-10k</th>\n",
       "      <th>10k-100k</th>\n",
       "      <th>100k-1M</th>\n",
       "      <th>&gt;1M</th>\n",
       "    </tr>\n",
       "  </thead>\n",
       "  <tbody>\n",
       "    <tr>\n",
       "      <th>SV Length</th>\n",
       "      <td>11016</td>\n",
       "      <td>2943</td>\n",
       "      <td>3114</td>\n",
       "      <td>316</td>\n",
       "      <td>580</td>\n",
       "      <td>130</td>\n",
       "      <td>82</td>\n",
       "      <td>17</td>\n",
       "      <td>53</td>\n",
       "    </tr>\n",
       "  </tbody>\n",
       "</table>\n",
       "</div>"
      ],
      "text/plain": [
       "           50-100  100-300  300-500  0.5-1k  1k-5k  5k-10k  10k-100k  100k-1M  \\\n",
       "SV Length   11016     2943     3114     316    580     130        82       17   \n",
       "\n",
       "           >1M  \n",
       "SV Length   53  "
      ]
     },
     "execution_count": 10,
     "metadata": {},
     "output_type": "execute_result"
    }
   ],
   "source": [
    "data_no_gt['length_counts'].name = 'SV Length'\n",
    "data_no_gt['length_counts'] = pd.DataFrame(data_no_gt['length_counts']).T\n",
    "data_no_gt['length_counts']"
   ]
  },
  {
   "cell_type": "code",
   "execution_count": 12,
   "metadata": {},
   "outputs": [],
   "source": [
    "data_no_gt['length_counts'].columns = data_no_gt['length_counts'].columns.astype(str)\n",
    "data_no_gt['length_counts'].to_hdf(h5outfile, key=\"length_counts\")"
   ]
  },
  {
   "cell_type": "code",
   "execution_count": 13,
   "metadata": {},
   "outputs": [
    {
     "data": {
      "image/png": "[encoded data removed]",
      "text/plain": [
       "<Figure size 640x480 with 1 Axes>"
      ]
     },
     "metadata": {},
     "output_type": "display_data"
    }
   ],
   "source": [
    "data_no_gt['length_counts'].T.plot.bar(legend=False)\n",
    "plt.xlabel(\"Length\")\n",
    "plt.ylabel('# Calls')\n",
    "# set y axis log scale\n",
    "plt.yscale('log')\n"
   ]
  },
  {
   "cell_type": "markdown",
   "metadata": {},
   "source": [
    "### Length and type distribution"
   ]
  },
  {
   "cell_type": "code",
   "execution_count": 14,
   "metadata": {},
   "outputs": [
    {
     "data": {
      "text/html": [
       "<div>\n",
       "<style scoped>\n",
       "    .dataframe tbody tr th:only-of-type {\n",
       "        vertical-align: middle;\n",
       "    }\n",
       "\n",
       "    .dataframe tbody tr th {\n",
       "        vertical-align: top;\n",
       "    }\n",
       "\n",
       "    .dataframe thead th {\n",
       "        text-align: right;\n",
       "    }\n",
       "</style>\n",
       "<table border=\"1\" class=\"dataframe\">\n",
       "  <thead>\n",
       "    <tr style=\"text-align: right;\">\n",
       "      <th>binned_svlens</th>\n",
       "      <th>50-100</th>\n",
       "      <th>100-300</th>\n",
       "      <th>300-500</th>\n",
       "      <th>0.5-1k</th>\n",
       "      <th>1k-5k</th>\n",
       "      <th>5k-10k</th>\n",
       "      <th>10k-100k</th>\n",
       "      <th>100k-1M</th>\n",
       "      <th>&gt;1M</th>\n",
       "    </tr>\n",
       "    <tr>\n",
       "      <th>svtype</th>\n",
       "      <th></th>\n",
       "      <th></th>\n",
       "      <th></th>\n",
       "      <th></th>\n",
       "      <th></th>\n",
       "      <th></th>\n",
       "      <th></th>\n",
       "      <th></th>\n",
       "      <th></th>\n",
       "    </tr>\n",
       "  </thead>\n",
       "  <tbody>\n",
       "    <tr>\n",
       "      <th>BND</th>\n",
       "      <td>42</td>\n",
       "      <td>55</td>\n",
       "      <td>36</td>\n",
       "      <td>58</td>\n",
       "      <td>110</td>\n",
       "      <td>12</td>\n",
       "      <td>22</td>\n",
       "      <td>8</td>\n",
       "      <td>40</td>\n",
       "    </tr>\n",
       "    <tr>\n",
       "      <th>DEL</th>\n",
       "      <td>6365</td>\n",
       "      <td>1167</td>\n",
       "      <td>1099</td>\n",
       "      <td>210</td>\n",
       "      <td>431</td>\n",
       "      <td>110</td>\n",
       "      <td>48</td>\n",
       "      <td>5</td>\n",
       "      <td>1</td>\n",
       "    </tr>\n",
       "    <tr>\n",
       "      <th>DUP</th>\n",
       "      <td>578</td>\n",
       "      <td>187</td>\n",
       "      <td>54</td>\n",
       "      <td>41</td>\n",
       "      <td>39</td>\n",
       "      <td>8</td>\n",
       "      <td>12</td>\n",
       "      <td>4</td>\n",
       "      <td>12</td>\n",
       "    </tr>\n",
       "    <tr>\n",
       "      <th>INS</th>\n",
       "      <td>4031</td>\n",
       "      <td>1534</td>\n",
       "      <td>1925</td>\n",
       "      <td>7</td>\n",
       "      <td>0</td>\n",
       "      <td>0</td>\n",
       "      <td>0</td>\n",
       "      <td>0</td>\n",
       "      <td>0</td>\n",
       "    </tr>\n",
       "  </tbody>\n",
       "</table>\n",
       "</div>"
      ],
      "text/plain": [
       "binned_svlens  50-100  100-300  300-500  0.5-1k  1k-5k  5k-10k  10k-100k  \\\n",
       "svtype                                                                     \n",
       "BND                42       55       36      58    110      12        22   \n",
       "DEL              6365     1167     1099     210    431     110        48   \n",
       "DUP               578      187       54      41     39       8        12   \n",
       "INS              4031     1534     1925       7      0       0         0   \n",
       "\n",
       "binned_svlens  100k-1M  >1M  \n",
       "svtype                       \n",
       "BND                  8   40  \n",
       "DEL                  5    1  \n",
       "DUP                  4   12  \n",
       "INS                  0    0  "
      ]
     },
     "execution_count": 14,
     "metadata": {},
     "output_type": "execute_result"
    }
   ],
   "source": [
    "data_no_gt['length_by_type_counts']"
   ]
  },
  {
   "cell_type": "code",
   "execution_count": 15,
   "metadata": {},
   "outputs": [
    {
     "data": {
      "text/html": [
       "<div>\n",
       "<style scoped>\n",
       "    .dataframe tbody tr th:only-of-type {\n",
       "        vertical-align: middle;\n",
       "    }\n",
       "\n",
       "    .dataframe tbody tr th {\n",
       "        vertical-align: top;\n",
       "    }\n",
       "\n",
       "    .dataframe thead th {\n",
       "        text-align: right;\n",
       "    }\n",
       "</style>\n",
       "<table border=\"1\" class=\"dataframe\">\n",
       "  <thead>\n",
       "    <tr style=\"text-align: right;\">\n",
       "      <th>svtype</th>\n",
       "      <th>BND</th>\n",
       "      <th>DEL</th>\n",
       "      <th>DUP</th>\n",
       "      <th>INS</th>\n",
       "    </tr>\n",
       "    <tr>\n",
       "      <th>binned_svlens</th>\n",
       "      <th></th>\n",
       "      <th></th>\n",
       "      <th></th>\n",
       "      <th></th>\n",
       "    </tr>\n",
       "  </thead>\n",
       "  <tbody>\n",
       "    <tr>\n",
       "      <th>50-100</th>\n",
       "      <td>42</td>\n",
       "      <td>6365</td>\n",
       "      <td>578</td>\n",
       "      <td>4031</td>\n",
       "    </tr>\n",
       "    <tr>\n",
       "      <th>100-300</th>\n",
       "      <td>55</td>\n",
       "      <td>1167</td>\n",
       "      <td>187</td>\n",
       "      <td>1534</td>\n",
       "    </tr>\n",
       "    <tr>\n",
       "      <th>300-500</th>\n",
       "      <td>36</td>\n",
       "      <td>1099</td>\n",
       "      <td>54</td>\n",
       "      <td>1925</td>\n",
       "    </tr>\n",
       "    <tr>\n",
       "      <th>0.5-1k</th>\n",
       "      <td>58</td>\n",
       "      <td>210</td>\n",
       "      <td>41</td>\n",
       "      <td>7</td>\n",
       "    </tr>\n",
       "    <tr>\n",
       "      <th>1k-5k</th>\n",
       "      <td>110</td>\n",
       "      <td>431</td>\n",
       "      <td>39</td>\n",
       "      <td>0</td>\n",
       "    </tr>\n",
       "    <tr>\n",
       "      <th>5k-10k</th>\n",
       "      <td>12</td>\n",
       "      <td>110</td>\n",
       "      <td>8</td>\n",
       "      <td>0</td>\n",
       "    </tr>\n",
       "    <tr>\n",
       "      <th>10k-100k</th>\n",
       "      <td>22</td>\n",
       "      <td>48</td>\n",
       "      <td>12</td>\n",
       "      <td>0</td>\n",
       "    </tr>\n",
       "    <tr>\n",
       "      <th>100k-1M</th>\n",
       "      <td>8</td>\n",
       "      <td>5</td>\n",
       "      <td>4</td>\n",
       "      <td>0</td>\n",
       "    </tr>\n",
       "    <tr>\n",
       "      <th>&gt;1M</th>\n",
       "      <td>40</td>\n",
       "      <td>1</td>\n",
       "      <td>12</td>\n",
       "      <td>0</td>\n",
       "    </tr>\n",
       "  </tbody>\n",
       "</table>\n",
       "</div>"
      ],
      "text/plain": [
       "svtype         BND   DEL  DUP   INS\n",
       "binned_svlens                      \n",
       "50-100          42  6365  578  4031\n",
       "100-300         55  1167  187  1534\n",
       "300-500         36  1099   54  1925\n",
       "0.5-1k          58   210   41     7\n",
       "1k-5k          110   431   39     0\n",
       "5k-10k          12   110    8     0\n",
       "10k-100k        22    48   12     0\n",
       "100k-1M          8     5    4     0\n",
       ">1M             40     1   12     0"
      ]
     },
     "execution_count": 15,
     "metadata": {},
     "output_type": "execute_result"
    }
   ],
   "source": [
    "data_no_gt['length_by_type_counts'] = data_no_gt['length_by_type_counts'].T\n",
    "data_no_gt['length_by_type_counts']"
   ]
  },
  {
   "cell_type": "code",
   "execution_count": 16,
   "metadata": {},
   "outputs": [
    {
     "data": {
      "image/png": "[encoded data removed]",
      "text/plain": [
       "<Figure size 800x600 with 1 Axes>"
      ]
     },
     "metadata": {},
     "output_type": "display_data"
    }
   ],
   "source": [
    "# Make sure the SV types are in the desired order\n",
    "desired_order = ['DEL', 'INS', 'DUP', 'BND']\n",
    "df = data_no_gt['length_by_type_counts']\n",
    "df = df.set_index('svtype') if 'svtype' in df.columns else df\n",
    "df = df[desired_order].dropna(how='all')\n",
    "\n",
    "# Plot with legend inside and correct order\n",
    "ax = df.T.plot(kind='bar', stacked=False, figsize=(8, 6))\n",
    "plt.xlabel(\"Length\")\n",
    "plt.ylabel('# Calls')\n",
    "plt.title('SV Length by Type')\n",
    "plt.xticks(rotation=45)\n",
    "plt.tight_layout()\n",
    "plt.legend(\n",
    "    title='SV Type',\n",
    "    loc='upper right',   # inside the plot\n",
    "    bbox_to_anchor=(0.98, 0.98),\n",
    "    fontsize=10,\n",
    "    title_fontsize=11\n",
    ")\n",
    "plt.yscale('log')\n",
    "plt.show()\n"
   ]
  },
  {
   "cell_type": "code",
   "execution_count": 17,
   "metadata": {},
   "outputs": [],
   "source": [
    "data_no_gt['length_by_type_counts'].to_hdf(h5outfile, key=\"length_by_type_counts\")"
   ]
  },
  {
   "cell_type": "code",
   "execution_count": 18,
   "metadata": {},
   "outputs": [
    {
     "data": {
      "text/markdown": [
       "## 2 Concordance evaluation <a class ='anchor' id='concordance_eval'> </a>"
      ],
      "text/plain": [
       "<IPython.core.display.Markdown object>"
      ]
     },
     "metadata": {},
     "output_type": "display_data"
    }
   ],
   "source": [
    "if has_concordance_data:\n",
    "    anchor = report_utils.get_anchor('concordance_eval')\n",
    "    display(Markdown(f\"## 2 Concordance evaluation {anchor}\"))\n"
   ]
  },
  {
   "cell_type": "code",
   "execution_count": 19,
   "metadata": {
    "pycharm": {
     "name": "#%%\n"
    }
   },
   "outputs": [
    {
     "data": {
      "text/markdown": [
       "### 2.1 Overall concordance"
      ],
      "text/plain": [
       "<IPython.core.display.Markdown object>"
      ]
     },
     "metadata": {},
     "output_type": "display_data"
    }
   ],
   "source": [
    "if has_concordance_data:\n",
    "    display(Markdown(f\"### 2.1 Overall concordance\"))\n",
    "    concordance_df = data_gt['concordance'].copy()\n"
   ]
  },
  {
   "cell_type": "code",
   "execution_count": 20,
   "metadata": {},
   "outputs": [
    {
     "data": {
      "text/markdown": [
       "Recall and precision with comparison to ground truth. Note that sometimes the categories of the variants in ground truth are different than from the callsIn the evaluation - we do not compare the variant type in the callset to that of the truth set."
      ],
      "text/plain": [
       "<IPython.core.display.Markdown object>"
      ]
     },
     "metadata": {},
     "output_type": "display_data"
    },
    {
     "data": {
      "text/html": [
       "<div>\n",
       "<style scoped>\n",
       "    .dataframe tbody tr th:only-of-type {\n",
       "        vertical-align: middle;\n",
       "    }\n",
       "\n",
       "    .dataframe tbody tr th {\n",
       "        vertical-align: top;\n",
       "    }\n",
       "\n",
       "    .dataframe thead th {\n",
       "        text-align: right;\n",
       "    }\n",
       "</style>\n",
       "<table border=\"1\" class=\"dataframe\">\n",
       "  <thead>\n",
       "    <tr style=\"text-align: right;\">\n",
       "      <th></th>\n",
       "      <th>TP_base</th>\n",
       "      <th>TP_calls</th>\n",
       "      <th>FP</th>\n",
       "      <th>FN</th>\n",
       "      <th>Recall</th>\n",
       "      <th>Precision</th>\n",
       "      <th>F1</th>\n",
       "    </tr>\n",
       "    <tr>\n",
       "      <th>SV type</th>\n",
       "      <th></th>\n",
       "      <th></th>\n",
       "      <th></th>\n",
       "      <th></th>\n",
       "      <th></th>\n",
       "      <th></th>\n",
       "      <th></th>\n",
       "    </tr>\n",
       "  </thead>\n",
       "  <tbody>\n",
       "    <tr>\n",
       "      <th>ALL</th>\n",
       "      <td>8966</td>\n",
       "      <td>8966</td>\n",
       "      <td>1422</td>\n",
       "      <td>10570</td>\n",
       "      <td>45.89%</td>\n",
       "      <td>86.31%</td>\n",
       "      <td>59.93%</td>\n",
       "    </tr>\n",
       "    <tr>\n",
       "      <th>DEL</th>\n",
       "      <td>4345</td>\n",
       "      <td>4575</td>\n",
       "      <td>232</td>\n",
       "      <td>3614</td>\n",
       "      <td>54.59%</td>\n",
       "      <td>95.17%</td>\n",
       "      <td>69.38%</td>\n",
       "    </tr>\n",
       "    <tr>\n",
       "      <th>INS</th>\n",
       "      <td>4621</td>\n",
       "      <td>3832</td>\n",
       "      <td>353</td>\n",
       "      <td>6956</td>\n",
       "      <td>39.92%</td>\n",
       "      <td>91.57%</td>\n",
       "      <td>55.60%</td>\n",
       "    </tr>\n",
       "  </tbody>\n",
       "</table>\n",
       "</div>"
      ],
      "text/plain": [
       "         TP_base  TP_calls    FP     FN  Recall  Precision     F1\n",
       "SV type                                                          \n",
       "ALL         8966      8966  1422  10570  45.89%     86.31% 59.93%\n",
       "DEL         4345      4575   232   3614  54.59%     95.17% 69.38%\n",
       "INS         4621      3832   353   6956  39.92%     91.57% 55.60%"
      ]
     },
     "metadata": {},
     "output_type": "display_data"
    }
   ],
   "source": [
    "if has_concordance_data:\n",
    "    display(Markdown(\"Recall and precision with comparison to ground truth. Note that sometimes the categories of the variants in ground truth are different than from the calls\"\n",
    "                     \"In the evaluation - we do not compare the variant type in the callset to that of the truth set.\"))\n",
    "    values_df = concordance_df.drop(['precision roc', 'recall roc','thresholds'],axis=1).query('`SV length`==\"\"').droplevel(1,axis=0)\n",
    "    values_df = values_df[['TP_base', 'TP_calls', 'FP', 'FN','Recall','Precision','F1']]\n",
    "    roc_df    = concordance_df.query('`SV length`==\"\"').droplevel(1,axis=0)[['precision roc', 'recall roc','thresholds']]\n",
    "    # show pandas representation for TP_base, TP_calls, FP and FN as integers\n",
    "    values_df[['TP_base', 'TP_calls', 'FP', 'FN']] = values_df[['TP_base', 'TP_calls', 'FP', 'FN']].astype(int)\n",
    "    values_df = values_df.loc[values_df['TP_base'] > 0] # remove cases absent from ground truth\n",
    "    roc_df = roc_df.loc[values_df.index]\n",
    "    display(values_df)"
   ]
  },
  {
   "cell_type": "code",
   "execution_count": 21,
   "metadata": {},
   "outputs": [],
   "source": [
    "values_df.to_hdf(h5outfile, key=\"recall_per_type\")"
   ]
  },
  {
   "cell_type": "code",
   "execution_count": 22,
   "metadata": {},
   "outputs": [
    {
     "data": {
      "image/png": "[encoded data removed]",
      "text/plain": [
       "<Figure size 900x300 with 3 Axes>"
      ]
     },
     "metadata": {},
     "output_type": "display_data"
    }
   ],
   "source": [
    "if has_concordance_data:\n",
    "    fig,ax = plt.subplots(1,roc_df.shape[0],figsize=(roc_df.shape[0]*3,3))\n",
    "    for i,v in enumerate(roc_df.iterrows()):\n",
    "        plt.subplot(1,roc_df.shape[0],i+1)\n",
    "        plt.plot(v[1]['recall roc'],v[1]['precision roc'])\n",
    "        plt.title(v[0])\n",
    "        plt.xlabel('Recall')\n",
    "        plt.xlim(0,0.8)\n",
    "        plt.ylim(0.6,1)\n",
    "    ax[0].set_ylabel(\"Precision\")\n"
   ]
  },
  {
   "cell_type": "code",
   "execution_count": 23,
   "metadata": {},
   "outputs": [
    {
     "data": {
      "text/markdown": [
       "### 2.2 Recall per variant length and type"
      ],
      "text/plain": [
       "<IPython.core.display.Markdown object>"
      ]
     },
     "metadata": {},
     "output_type": "display_data"
    },
    {
     "data": {
      "text/html": [
       "<div>\n",
       "<style scoped>\n",
       "    .dataframe tbody tr th:only-of-type {\n",
       "        vertical-align: middle;\n",
       "    }\n",
       "\n",
       "    .dataframe tbody tr th {\n",
       "        vertical-align: top;\n",
       "    }\n",
       "\n",
       "    .dataframe thead th {\n",
       "        text-align: right;\n",
       "    }\n",
       "</style>\n",
       "<table border=\"1\" class=\"dataframe\">\n",
       "  <thead>\n",
       "    <tr style=\"text-align: right;\">\n",
       "      <th></th>\n",
       "      <th></th>\n",
       "      <th>TP_base</th>\n",
       "      <th>TP_calls</th>\n",
       "      <th>FN</th>\n",
       "      <th>Recall</th>\n",
       "    </tr>\n",
       "    <tr>\n",
       "      <th>SV type</th>\n",
       "      <th>SV length</th>\n",
       "      <th></th>\n",
       "      <th></th>\n",
       "      <th></th>\n",
       "      <th></th>\n",
       "    </tr>\n",
       "  </thead>\n",
       "  <tbody>\n",
       "    <tr>\n",
       "      <th rowspan=\"9\" valign=\"top\">ALL</th>\n",
       "      <th>50-100</th>\n",
       "      <td>3039</td>\n",
       "      <td>3520</td>\n",
       "      <td>3855</td>\n",
       "      <td>44.08%</td>\n",
       "    </tr>\n",
       "    <tr>\n",
       "      <th>100-300</th>\n",
       "      <td>2027</td>\n",
       "      <td>2022</td>\n",
       "      <td>3740</td>\n",
       "      <td>35.15%</td>\n",
       "    </tr>\n",
       "    <tr>\n",
       "      <th>300-500</th>\n",
       "      <td>2241</td>\n",
       "      <td>2665</td>\n",
       "      <td>1173</td>\n",
       "      <td>65.64%</td>\n",
       "    </tr>\n",
       "    <tr>\n",
       "      <th>0.5-1k</th>\n",
       "      <td>585</td>\n",
       "      <td>219</td>\n",
       "      <td>866</td>\n",
       "      <td>40.32%</td>\n",
       "    </tr>\n",
       "    <tr>\n",
       "      <th>1k-5k</th>\n",
       "      <td>863</td>\n",
       "      <td>404</td>\n",
       "      <td>747</td>\n",
       "      <td>53.60%</td>\n",
       "    </tr>\n",
       "    <tr>\n",
       "      <th>5k-10k</th>\n",
       "      <td>174</td>\n",
       "      <td>105</td>\n",
       "      <td>106</td>\n",
       "      <td>62.14%</td>\n",
       "    </tr>\n",
       "    <tr>\n",
       "      <th>10k-100k</th>\n",
       "      <td>37</td>\n",
       "      <td>31</td>\n",
       "      <td>83</td>\n",
       "      <td>30.83%</td>\n",
       "    </tr>\n",
       "    <tr>\n",
       "      <th>100k-1M</th>\n",
       "      <td>0</td>\n",
       "      <td>0</td>\n",
       "      <td>0</td>\n",
       "      <td>0.00%</td>\n",
       "    </tr>\n",
       "    <tr>\n",
       "      <th>&gt;1M</th>\n",
       "      <td>0</td>\n",
       "      <td>0</td>\n",
       "      <td>0</td>\n",
       "      <td>0.00%</td>\n",
       "    </tr>\n",
       "    <tr>\n",
       "      <th rowspan=\"9\" valign=\"top\">DEL</th>\n",
       "      <th>50-100</th>\n",
       "      <td>1685</td>\n",
       "      <td>1963</td>\n",
       "      <td>1566</td>\n",
       "      <td>51.83%</td>\n",
       "    </tr>\n",
       "    <tr>\n",
       "      <th>100-300</th>\n",
       "      <td>913</td>\n",
       "      <td>875</td>\n",
       "      <td>1301</td>\n",
       "      <td>41.24%</td>\n",
       "    </tr>\n",
       "    <tr>\n",
       "      <th>300-500</th>\n",
       "      <td>1059</td>\n",
       "      <td>1043</td>\n",
       "      <td>334</td>\n",
       "      <td>76.02%</td>\n",
       "    </tr>\n",
       "    <tr>\n",
       "      <th>0.5-1k</th>\n",
       "      <td>182</td>\n",
       "      <td>186</td>\n",
       "      <td>201</td>\n",
       "      <td>47.52%</td>\n",
       "    </tr>\n",
       "    <tr>\n",
       "      <th>1k-5k</th>\n",
       "      <td>380</td>\n",
       "      <td>380</td>\n",
       "      <td>155</td>\n",
       "      <td>71.03%</td>\n",
       "    </tr>\n",
       "    <tr>\n",
       "      <th>5k-10k</th>\n",
       "      <td>101</td>\n",
       "      <td>102</td>\n",
       "      <td>30</td>\n",
       "      <td>77.10%</td>\n",
       "    </tr>\n",
       "    <tr>\n",
       "      <th>10k-100k</th>\n",
       "      <td>25</td>\n",
       "      <td>26</td>\n",
       "      <td>27</td>\n",
       "      <td>48.08%</td>\n",
       "    </tr>\n",
       "    <tr>\n",
       "      <th>100k-1M</th>\n",
       "      <td>0</td>\n",
       "      <td>0</td>\n",
       "      <td>0</td>\n",
       "      <td>0.00%</td>\n",
       "    </tr>\n",
       "    <tr>\n",
       "      <th>&gt;1M</th>\n",
       "      <td>0</td>\n",
       "      <td>0</td>\n",
       "      <td>0</td>\n",
       "      <td>0.00%</td>\n",
       "    </tr>\n",
       "    <tr>\n",
       "      <th rowspan=\"9\" valign=\"top\">INS</th>\n",
       "      <th>50-100</th>\n",
       "      <td>1354</td>\n",
       "      <td>1240</td>\n",
       "      <td>2289</td>\n",
       "      <td>37.17%</td>\n",
       "    </tr>\n",
       "    <tr>\n",
       "      <th>100-300</th>\n",
       "      <td>1114</td>\n",
       "      <td>1007</td>\n",
       "      <td>2439</td>\n",
       "      <td>31.35%</td>\n",
       "    </tr>\n",
       "    <tr>\n",
       "      <th>300-500</th>\n",
       "      <td>1182</td>\n",
       "      <td>1580</td>\n",
       "      <td>839</td>\n",
       "      <td>58.49%</td>\n",
       "    </tr>\n",
       "    <tr>\n",
       "      <th>0.5-1k</th>\n",
       "      <td>403</td>\n",
       "      <td>5</td>\n",
       "      <td>665</td>\n",
       "      <td>37.73%</td>\n",
       "    </tr>\n",
       "    <tr>\n",
       "      <th>1k-5k</th>\n",
       "      <td>483</td>\n",
       "      <td>0</td>\n",
       "      <td>592</td>\n",
       "      <td>44.93%</td>\n",
       "    </tr>\n",
       "    <tr>\n",
       "      <th>5k-10k</th>\n",
       "      <td>73</td>\n",
       "      <td>0</td>\n",
       "      <td>76</td>\n",
       "      <td>48.99%</td>\n",
       "    </tr>\n",
       "    <tr>\n",
       "      <th>10k-100k</th>\n",
       "      <td>12</td>\n",
       "      <td>0</td>\n",
       "      <td>56</td>\n",
       "      <td>17.65%</td>\n",
       "    </tr>\n",
       "    <tr>\n",
       "      <th>100k-1M</th>\n",
       "      <td>0</td>\n",
       "      <td>0</td>\n",
       "      <td>0</td>\n",
       "      <td>0.00%</td>\n",
       "    </tr>\n",
       "    <tr>\n",
       "      <th>&gt;1M</th>\n",
       "      <td>0</td>\n",
       "      <td>0</td>\n",
       "      <td>0</td>\n",
       "      <td>0.00%</td>\n",
       "    </tr>\n",
       "  </tbody>\n",
       "</table>\n",
       "</div>"
      ],
      "text/plain": [
       "                   TP_base  TP_calls    FN  Recall\n",
       "SV type SV length                                 \n",
       "ALL     50-100        3039      3520  3855  44.08%\n",
       "        100-300       2027      2022  3740  35.15%\n",
       "        300-500       2241      2665  1173  65.64%\n",
       "        0.5-1k         585       219   866  40.32%\n",
       "        1k-5k          863       404   747  53.60%\n",
       "        5k-10k         174       105   106  62.14%\n",
       "        10k-100k        37        31    83  30.83%\n",
       "        100k-1M          0         0     0   0.00%\n",
       "        >1M              0         0     0   0.00%\n",
       "DEL     50-100        1685      1963  1566  51.83%\n",
       "        100-300        913       875  1301  41.24%\n",
       "        300-500       1059      1043   334  76.02%\n",
       "        0.5-1k         182       186   201  47.52%\n",
       "        1k-5k          380       380   155  71.03%\n",
       "        5k-10k         101       102    30  77.10%\n",
       "        10k-100k        25        26    27  48.08%\n",
       "        100k-1M          0         0     0   0.00%\n",
       "        >1M              0         0     0   0.00%\n",
       "INS     50-100        1354      1240  2289  37.17%\n",
       "        100-300       1114      1007  2439  31.35%\n",
       "        300-500       1182      1580   839  58.49%\n",
       "        0.5-1k         403         5   665  37.73%\n",
       "        1k-5k          483         0   592  44.93%\n",
       "        5k-10k          73         0    76  48.99%\n",
       "        10k-100k        12         0    56  17.65%\n",
       "        100k-1M          0         0     0   0.00%\n",
       "        >1M              0         0     0   0.00%"
      ]
     },
     "metadata": {},
     "output_type": "display_data"
    }
   ],
   "source": [
    "if has_concordance_data:\n",
    "    display(Markdown(f\"### 2.2 Recall per variant length and type\"))\n",
    "    concordance_df = data_gt['concordance'].copy()\n",
    "    values_df = concordance_df.drop(['precision roc', 'recall roc','thresholds'],axis=1).query('`SV length`!=\"\"')\n",
    "    values_df = values_df[['TP_base', 'TP_calls', 'FN','Recall']]\n",
    "    values_df[['TP_base','TP_calls','FN']] = values_df[['TP_base','TP_calls','FN']].astype(int)\n",
    "    display(values_df)\n"
   ]
  },
  {
   "cell_type": "code",
   "execution_count": 24,
   "metadata": {},
   "outputs": [],
   "source": [
    "values_df.index = values_df.index.rename({'SV length':'SV_length', 'SV type':'SV_type'})"
   ]
  },
  {
   "cell_type": "code",
   "execution_count": 25,
   "metadata": {},
   "outputs": [],
   "source": [
    "values_df.to_hdf(h5outfile, key=\"recall_per_length_and_type\")"
   ]
  },
  {
   "cell_type": "code",
   "execution_count": 26,
   "metadata": {},
   "outputs": [
    {
     "data": {
      "image/png": "[encoded data removed]",
      "text/plain": [
       "<Figure size 640x480 with 1 Axes>"
      ]
     },
     "metadata": {},
     "output_type": "display_data"
    }
   ],
   "source": [
    "if has_concordance_data:\n",
    "    sns.barplot(data=values_df.reset_index(), x='SV_length', y='Recall', hue='SV_type')\n",
    "    plt.xticks(rotation=45);"
   ]
  }
 ],
 "metadata": {
  "celltoolbar": "Tags",
  "kernelspec": {
   "display_name": "genomics.py3",
   "language": "python",
   "name": "python3"
  },
  "language_info": {
   "codemirror_mode": {
    "name": "ipython",
    "version": 3
   },
   "file_extension": ".py",
   "mimetype": "text/x-python",
   "name": "python",
   "nbconvert_exporter": "python",
   "pygments_lexer": "ipython3",
   "version": "3.10.14"
  },
  "toc": {
   "base_numbering": 1,
   "nav_menu": {},
   "number_sections": true,
   "sideBar": true,
   "skip_h1_title": false,
   "title_cell": "Table of Contents",
   "title_sidebar": "Contents",
   "toc_cell": false,
   "toc_position": {},
   "toc_section_display": true,
   "toc_window_display": false
  }
 },
 "nbformat": 4,
 "nbformat_minor": 4
}
