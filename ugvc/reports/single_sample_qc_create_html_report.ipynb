{
 "cells": [
  {
   "cell_type": "code",
   "execution_count": null,
   "metadata": {},
   "outputs": [],
   "source": [
    "import pandas as pd  \n",
    "import numpy as np  \n",
    "import os  \n",
    "import sys  \n",
    "import collections\n",
    "from itertools import chain\n",
    "import json\n",
    "from IPython.display import display, HTML\n",
    "import csv\n",
    "import glob\n",
    "import h5py\n",
    "import re\n"
   ]
  },
  {
   "cell_type": "code",
   "execution_count": null,
   "metadata": {},
   "outputs": [],
   "source": [
    "pd.set_option('display.max_rows', 5000)\n",
    "pd.set_option('display.max_colwidth', 0)\n",
    "pd.options.display.float_format = lambda x: '{:,.0f}'.format(x) if x>1 else '{:,.2%}'.format(x)\n"
   ]
  },
  {
   "cell_type": "code",
   "execution_count": null,
   "metadata": {},
   "outputs": [],
   "source": [
    "from IPython.core.interactiveshell import InteractiveShell\n",
    "InteractiveShell.ast_node_interactivity = \"all\"\n"
   ]
  },
  {
   "cell_type": "code",
   "execution_count": null,
   "metadata": {},
   "outputs": [],
   "source": [
    "top_metrics_file = None\n",
    "dict_features ={}\n",
    "top_metrics_file = 'top_metrics_for_tbl.csv'\n",
    "dict_features = {row[0] : row[1] for _, row in pd.read_csv(top_metrics_file).iterrows()}\n",
    "df_features = pd.read_csv(top_metrics_file)\n",
    "list_metrics = list(set(df_features['metric'] ))\n"
   ]
  },
  {
   "cell_type": "code",
   "execution_count": null,
   "metadata": {},
   "outputs": [],
   "source": [
    "# Get input H5 file\n",
    "input_h5_file = []\n",
    "input_h5_file = 'input_for_html_report.h5'\n"
   ]
  },
  {
   "cell_type": "code",
   "execution_count": null,
   "metadata": {},
   "outputs": [],
   "source": [
    "# get jeys in H5 file\n",
    "f = h5py.File(input_h5_file, 'r')\n",
    "list_h5_df = []\n",
    "list_keys = list(f.keys())\n",
    "hist_list_keys =  [i for i in list_keys if i.startswith('histogram_')]\n",
    "tbl_list_keys = list(set(list_keys) - set(hist_list_keys))\n",
    "del(list_keys)\n"
   ]
  },
  {
   "cell_type": "code",
   "execution_count": null,
   "metadata": {},
   "outputs": [],
   "source": [
    "HTML(\"<b>\"+\"\"+\"</b>\")\n",
    "HTML(\"<hr/>\")\n",
    "HTML(\"<h2 style=\\\"font-size:20px;\\\">\"+\"Summary View: Main Metrics\"+\"</h2>\")\n",
    "HTML(\"<hr/>\")\n",
    "HTML(\"<b>\"+\"\"+\"</b>\")\n"
   ]
  },
  {
   "cell_type": "code",
   "execution_count": null,
   "metadata": {},
   "outputs": [],
   "source": [
    "# file in copy of top table features with values\n",
    "tbl_top_values = df_features.copy()\n",
    "tbl_top_values['value'] = np.nan\n"
   ]
  },
  {
   "cell_type": "code",
   "execution_count": null,
   "metadata": {},
   "outputs": [],
   "source": [
    "separator = '___'\n",
    "i_value= np.nan \n",
    "\n",
    "tbl_top = pd.DataFrame()\n",
    "for temp_metric in list_metrics:\n",
    "    df = pd.read_hdf(input_h5_file, temp_metric)\n",
    "    idx = df_features['metric'] == temp_metric\n",
    "    cols = df_features['key'][idx]\n",
    "    df_t = df.T.copy()\n",
    "    for col in cols:\n",
    "        index_2 = index_1 = str()\n",
    "        if (temp_metric.startswith('stats') ):\n",
    "            [index_1, index_2] = col.split(separator)\n",
    "            i_value = df_t.loc[index_1,index_2][0]\n",
    "\n",
    "        else:\n",
    "            i_value = df_t.loc[col,:][0]\n",
    "        i_col1 = tbl_top_values[tbl_top_values['key']==col].index.values\n",
    "        tbl_top_values.loc[i_col1,\"value\"] = i_value\n",
    "\n",
    "tbl_top_values.set_index('key')\n"
   ]
  },
  {
   "cell_type": "code",
   "execution_count": null,
   "metadata": {},
   "outputs": [],
   "source": [
    "HTML(\"<b>\"+\"\"+\"</b>\")\n",
    "HTML(\"<hr/>\")\n",
    "HTML(\"<h2 style=\\\"font-size:20px;\\\">\"+\"Detailed View: All Metrics\"+\"</h2>\")\n",
    "HTML(\"<hr/>\")\n",
    "HTML(\"<b>\"+\"\"+\"</b>\")\n"
   ]
  },
  {
   "cell_type": "code",
   "execution_count": null,
   "metadata": {},
   "outputs": [],
   "source": [
    "tbl_top = pd.DataFrame()\n",
    "\n",
    "order = [6,0,3,8,4,2,7,5,1]\n",
    "sort_list_keys =  [tbl_list_keys[i] for i in order]\n",
    "\n",
    "col_names = ['metric','value']\n",
    "for tbl_key in sort_list_keys:\n",
    "    HTML(\"<br>\"+\"<br>\"+\"<b>\"+\"Metric type: \"+tbl_key+\"</b>\"+\"<br>\")\n",
    "    df = pd.read_hdf(input_h5_file, tbl_key)\n",
    "    df_T = df.T.copy()\n",
    "    if (tbl_key.startswith('stats') ):\n",
    "        df_T.columns = ['value']\n",
    "        df_T\n",
    "    else:\n",
    "        df_T = df_T.reset_index()\n",
    "        df_T.columns =['metric','value']\n",
    "        df_T\n"
   ]
  },
  {
   "cell_type": "code",
   "execution_count": null,
   "metadata": {},
   "outputs": [],
   "source": []
  },
  {
   "cell_type": "code",
   "execution_count": null,
   "metadata": {},
   "outputs": [],
   "source": []
  },
  {
   "cell_type": "code",
   "execution_count": null,
   "metadata": {},
   "outputs": [],
   "source": [
    "# FIN #"
   ]
  },
  {
   "cell_type": "code",
   "execution_count": null,
   "metadata": {},
   "outputs": [],
   "source": []
  }
 ],
 "metadata": {
  "kernelspec": {
   "display_name": "Python 3",
   "language": "python",
   "name": "python3"
  },
  "language_info": {
   "codemirror_mode": {
    "name": "ipython",
    "version": 3
   },
   "file_extension": ".py",
   "mimetype": "text/x-python",
   "name": "python",
   "nbconvert_exporter": "python",
   "pygments_lexer": "ipython3",
   "version": "3.8.5"
  }
 },
 "nbformat": 4,
 "nbformat_minor": 4
}
