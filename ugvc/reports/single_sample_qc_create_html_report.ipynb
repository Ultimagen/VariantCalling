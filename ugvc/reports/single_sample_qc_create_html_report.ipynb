{
 "cells": [
  {
   "cell_type": "code",
   "execution_count": null,
   "metadata": {
    "pycharm": {
     "is_executing": true,
     "name": "#%%\n"
    }
   },
   "outputs": [],
   "source": [
    "import pandas as pd  \n",
    "import numpy as np  \n",
    "import os  \n",
    "import sys  \n",
    "import collections\n",
    "from itertools import chain\n",
    "import json\n",
    "from IPython.display import display, HTML\n",
    "import csv\n",
    "import glob\n",
    "import h5py\n",
    "import re\n"
   ]
  },
  {
   "cell_type": "code",
   "execution_count": null,
   "metadata": {
    "pycharm": {
     "name": "#%%\n",
     "is_executing": true
    }
   },
   "outputs": [],
   "source": [
    "pd.set_option('display.max_rows', 5000)\n",
    "pd.set_option('display.max_colwidth', 0)\n",
    "pd.options.display.float_format = lambda x: '{:,.0f}'.format(x) if x > 1 else '{:,.2%}'.format(x)"
   ]
  },
  {
   "cell_type": "code",
   "execution_count": null,
   "metadata": {
    "pycharm": {
     "name": "#%%\n"
    }
   },
   "outputs": [],
   "source": [
    "from IPython.core.interactiveshell import InteractiveShell\n",
    "InteractiveShell.ast_node_interactivity = \"all\"\n"
   ]
  },
  {
   "cell_type": "code",
   "execution_count": null,
   "metadata": {
    "pycharm": {
     "name": "#%%\n"
    }
   },
   "outputs": [],
   "source": [
    "top_metrics_file = None\n",
    "dict_features ={}\n",
    "top_metrics_file = 'top_metrics_for_tbl.csv'\n",
    "dict_features = {row[0] : row[1] for _, row in pd.read_csv(top_metrics_file).iterrows()}\n",
    "df_features = pd.read_csv(top_metrics_file)\n",
    "list_metrics = list(set(df_features['metric'] ))\n"
   ]
  },
  {
   "cell_type": "code",
   "execution_count": 3,
   "metadata": {
    "pycharm": {
     "name": "#%%\n"
    }
   },
   "outputs": [],
   "source": [
    "# Get input H5 file\n",
    "input_h5_file = []\n",
    "input_h5_file = 'input_for_html_report.h5'\n"
   ]
  },
  {
   "cell_type": "code",
   "execution_count": null,
   "metadata": {
    "pycharm": {
     "name": "#%%\n"
    }
   },
   "outputs": [],
   "source": [
    "# get Keys within the H5 file\n",
    "f = h5py.File(input_h5_file, 'r')\n",
    "list_h5_df = []\n",
    "list_keys = list(f.keys())\n",
    "hist_list_keys =  [i for i in list_keys if i.startswith('histogram_')]\n",
    "tbl_list_keys = pd.DataFrame(list(set(list_keys) - set(hist_list_keys)))\n",
    "tbl_list_keys.columns = ['metric']\n",
    "del(list_keys)\n",
    "\n",
    "# create table merging top required metrics to display and input provided\n",
    "# ....................\n",
    "tbl_top_values = pd.merge(df_features,tbl_list_keys,on='metric',how='inner')"
   ]
  },
  {
   "cell_type": "code",
   "execution_count": null,
   "metadata": {
    "pycharm": {
     "name": "#%%\n"
    }
   },
   "outputs": [],
   "source": [
    "\n",
    "HTML(\"<b>\"+\"\"+\"</b>\")\n",
    "HTML(\"<hr/>\")\n",
    "HTML(\"<h2 style=\\\"font-size:20px;\\\">\"+\"Summary View: Main Metrics\"+\"</h2>\")\n",
    "HTML(\"<hr/>\")\n",
    "HTML(\"<b>\"+\"\"+\"</b>\")\n",
    "\n"
   ]
  },
  {
   "cell_type": "code",
   "execution_count": null,
   "metadata": {
    "pycharm": {
     "name": "#%%\n"
    }
   },
   "outputs": [],
   "source": [
    "separator = '___'\n",
    "i_value= np.nan \n",
    "to_print = pd.DataFrame()\n",
    "\n",
    "tbl_top = pd.DataFrame()\n",
    "for temp_metric in tbl_top_values['metric'].unique():\n",
    "    list_top_tbl = sub_top_tbl = pd.DataFrame()\n",
    "    sub_top_tbl =  tbl_top_values[tbl_top_values['metric'] == temp_metric]\n",
    "    df_h5_tbl = pd.read_hdf(input_h5_file, temp_metric).T\n",
    "    df_h5_tbl = df_h5_tbl.reset_index()\n",
    "    \n",
    "    # stats_coverage is a multiindex dataframe    \n",
    "    if (temp_metric.startswith('stats') ):\n",
    "        df_h5_tbl['metric'] = df_h5_tbl['level_0'] + separator + df_h5_tbl['level_1']\n",
    "        df_h5_tbl = df_h5_tbl.drop(columns=['level_0','level_1']).copy()\n",
    "        df_h5_tbl.columns = ['value','key']\n",
    "        df_h5_tbl = df_h5_tbl[['key', 'value']]        \n",
    "        list_top_tbl = pd.merge(df_h5_tbl, sub_top_tbl ,on='key',how='inner')\n",
    "        to_print = to_print.append(list_top_tbl)\n",
    "        \n",
    "    else:\n",
    "        df_h5_tbl.columns = ['key','value']        \n",
    "        list_top_tbl = pd.merge(df_h5_tbl, sub_top_tbl ,on='key',how='inner')\n",
    "        to_print = to_print.append(list_top_tbl)\n",
    "to_print.reset_index().drop(columns = 'index')\n",
    "\n",
    "    \n",
    "\n"
   ]
  },
  {
   "cell_type": "code",
   "execution_count": null,
   "metadata": {
    "pycharm": {
     "name": "#%%\n"
    }
   },
   "outputs": [],
   "source": []
  },
  {
   "cell_type": "code",
   "execution_count": null,
   "metadata": {
    "pycharm": {
     "name": "#%%\n"
    }
   },
   "outputs": [],
   "source": [
    "HTML(\"<b>\"+\"\"+\"</b>\")\n",
    "HTML(\"<hr/>\")\n",
    "HTML(\"<h2 style=\\\"font-size:20px;\\\">\"+\"Detailed View: All Metrics\"+\"</h2>\")\n",
    "HTML(\"<hr/>\")\n",
    "HTML(\"<b>\"+\"\"+\"</b>\")\n"
   ]
  },
  {
   "cell_type": "code",
   "execution_count": null,
   "metadata": {
    "pycharm": {
     "name": "#%%\n"
    }
   },
   "outputs": [],
   "source": [
    "to_print = pd.DataFrame()\n",
    "sorted_keys  = tbl_list_keys['metric'].sort_values()\n",
    "\n",
    "for tbl_key in sorted_keys:\n",
    "    \n",
    "    HTML(\"<br>\"+\"<br>\"+\"<b>\"+\"Metric type: \"+tbl_key+\"</b>\"+\"<br>\")\n",
    "    df_h5_tbl = pd.read_hdf(input_h5_file, tbl_key).T\n",
    "    df_h5_tbl = df_h5_tbl.reset_index()\n",
    "    \n",
    "\n",
    "    if (tbl_key.startswith('stats') ):\n",
    "        df_h5_tbl['metric'] = df_h5_tbl['level_0'] + separator + df_h5_tbl['level_1']\n",
    "        df_h5_tbl = df_h5_tbl.drop(columns=['level_0','level_1']).copy()\n",
    "        df_h5_tbl.columns = ['value','key']\n",
    "        to_print = df_h5_tbl[['key', 'value']]        \n",
    "        to_print\n",
    "\n",
    "    else:\n",
    "        to_print = df_h5_tbl\n",
    "        to_print.columns = ['key','value'] \n",
    "        to_print\n",
    "        \n"
   ]
  },
  {
   "cell_type": "code",
   "execution_count": null,
   "metadata": {
    "pycharm": {
     "name": "#%%\n"
    }
   },
   "outputs": [],
   "source": []
  },
  {
   "cell_type": "code",
   "execution_count": null,
   "metadata": {
    "pycharm": {
     "name": "#%%\n"
    }
   },
   "outputs": [],
   "source": []
  },
  {
   "cell_type": "code",
   "execution_count": null,
   "metadata": {
    "pycharm": {
     "name": "#%%\n"
    }
   },
   "outputs": [],
   "source": [
    "# FIN #"
   ]
  },
  {
   "cell_type": "code",
   "execution_count": null,
   "metadata": {
    "pycharm": {
     "name": "#%%\n"
    }
   },
   "outputs": [],
   "source": []
  }
 ],
 "metadata": {
  "kernelspec": {
   "display_name": "Python 3",
   "language": "python",
   "name": "python3"
  },
  "language_info": {
   "codemirror_mode": {
    "name": "ipython",
    "version": 3
   },
   "file_extension": ".py",
   "mimetype": "text/x-python",
   "name": "python",
   "nbconvert_exporter": "python",
   "pygments_lexer": "ipython3",
   "version": "3.8.6"
  }
 },
 "nbformat": 4,
 "nbformat_minor": 4
}