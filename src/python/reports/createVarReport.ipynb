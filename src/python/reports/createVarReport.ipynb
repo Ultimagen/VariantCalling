{
 "cells": [
  {
   "cell_type": "markdown",
   "metadata": {},
   "source": [
    "## Variant Calling Report v1.2.3\n",
    "## Input Parameters"
   ]
  },
  {
   "cell_type": "code",
   "execution_count": 1,
   "metadata": {},
   "outputs": [
    {
     "name": "stdout",
     "output_type": "stream",
     "text": [
      "WARNING: mpld3 not available\n"
     ]
    },
    {
     "data": {
      "text/html": [
       "<div>\n",
       "<style scoped>\n",
       "    .dataframe tbody tr th:only-of-type {\n",
       "        vertical-align: middle;\n",
       "    }\n",
       "\n",
       "    .dataframe tbody tr th {\n",
       "        vertical-align: top;\n",
       "    }\n",
       "\n",
       "    .dataframe thead th {\n",
       "        text-align: right;\n",
       "    }\n",
       "</style>\n",
       "<table border=\"1\" class=\"dataframe\">\n",
       "  <thead>\n",
       "    <tr style=\"text-align: right;\">\n",
       "      <th></th>\n",
       "      <th>value</th>\n",
       "    </tr>\n",
       "  </thead>\n",
       "  <tbody>\n",
       "    <tr>\n",
       "      <th>run_id</th>\n",
       "      <td>001043-X0024</td>\n",
       "    </tr>\n",
       "    <tr>\n",
       "      <th>pipeline_version</th>\n",
       "      <td>2.5.1</td>\n",
       "    </tr>\n",
       "    <tr>\n",
       "      <th>h5_concordance_file</th>\n",
       "      <td>/data/classify_gt_short_reprot/001043-X0024.comp.h5</td>\n",
       "    </tr>\n",
       "    <tr>\n",
       "      <th>h5_model_file</th>\n",
       "      <td>/data/classify_gt_short_reprot/001043-X0024.model.h5</td>\n",
       "    </tr>\n",
       "    <tr>\n",
       "      <th>model_name_with_gt</th>\n",
       "      <td>threshold_model_ignore_gt_incl_hpol_runs</td>\n",
       "    </tr>\n",
       "    <tr>\n",
       "      <th>model_name_without_gt</th>\n",
       "      <td>rf_model_ignore_gt_incl_hpol_runs</td>\n",
       "    </tr>\n",
       "    <tr>\n",
       "      <th>model_pkl_with_gt</th>\n",
       "      <td>/data/classify_gt_short_reprot/with_gt/001043-X0024.model.pkl</td>\n",
       "    </tr>\n",
       "    <tr>\n",
       "      <th>model_pkl_without_gt</th>\n",
       "      <td>/data/classify_gt_short_reprot/no_gt/001043-X0024.model.pkl</td>\n",
       "    </tr>\n",
       "    <tr>\n",
       "      <th>mean_var_depth</th>\n",
       "      <td>36.15</td>\n",
       "    </tr>\n",
       "    <tr>\n",
       "      <th>truth_sample_name</th>\n",
       "      <td>HG002</td>\n",
       "    </tr>\n",
       "  </tbody>\n",
       "</table>\n",
       "</div>"
      ],
      "text/plain": [
       "                                                                               value\n",
       "run_id                                                                  001043-X0024\n",
       "pipeline_version                                                               2.5.1\n",
       "h5_concordance_file              /data/classify_gt_short_reprot/001043-X0024.comp.h5\n",
       "h5_model_file                   /data/classify_gt_short_reprot/001043-X0024.model.h5\n",
       "model_name_with_gt                          threshold_model_ignore_gt_incl_hpol_runs\n",
       "model_name_without_gt                              rf_model_ignore_gt_incl_hpol_runs\n",
       "model_pkl_with_gt      /data/classify_gt_short_reprot/with_gt/001043-X0024.model.pkl\n",
       "model_pkl_without_gt     /data/classify_gt_short_reprot/no_gt/001043-X0024.model.pkl\n",
       "mean_var_depth                                                                 36.15\n",
       "truth_sample_name                                                              HG002"
      ]
     },
     "execution_count": 1,
     "metadata": {},
     "output_type": "execute_result"
    }
   ],
   "source": [
    "import pandas as pd\n",
    "import h5py\n",
    "import matplotlib.pyplot as plt\n",
    "import numpy as np\n",
    "import nexusplt as nxp\n",
    "from configparser import ConfigParser\n",
    "\n",
    "pd.options.display.float_format = '{:,.2%}'.format\n",
    "pd.set_option('display.max_colwidth', None)\n",
    "\n",
    "configFile='var_report.config'\n",
    "parser = ConfigParser()\n",
    "parser.read(configFile)\n",
    "\n",
    "prmNames=['run_id','pipeline_version',\n",
    "          'h5_concordance_file', 'h5_model_file',\n",
    "          'model_name_with_gt','model_name_without_gt','model_pkl_with_gt','model_pkl_without_gt'\n",
    "         ]\n",
    "\n",
    "prm={}\n",
    "for name in prmNames:\n",
    "    prm[name]=parser.get('VarReport', name)\n",
    "\n",
    "h5outfile = parser.get('VarReport', 'h5_output', fallback='var_report.h5')\n",
    "imgpref = parser.get('VarReport', 'image_output_prefix', fallback=prm['run_id']+'.vars')+'.'\n",
    "imgdir = 'plots'\n",
    "\n",
    "sources = {'Trained wo gt':(prm['h5_concordance_file'],\"concordance\"),\n",
    "           'Trained with gt':(prm['h5_model_file'],\"scored_concordance\"),\n",
    "          }\n",
    "\n",
    "data = {}\n",
    "for s in sources:\n",
    "    data[s]={}\n",
    "    d=pd.read_hdf(sources[s][0], key=sources[s][1], mode='r')\n",
    "    data[s]=d\n",
    "\n",
    "with pd.HDFStore(prm['h5_concordance_file']) as hdf:\n",
    "    keys=hdf.keys()\n",
    "    wg_dfs=[pd.read_hdf(hdf,k) for k in keys if k not in ['/concordance','/input_args']]\n",
    "    wg_df=pd.concat(wg_dfs)\n",
    "    \n",
    "data['whole genome'] = wg_df\n",
    "sources['whole genome'] = (prm['h5_concordance_file'],\"all\")\n",
    "    \n",
    "prm['mean_var_depth']='{:.2f}'.format(data['Trained wo gt']['well_mapped_coverage'].mean())\n",
    "prmNames.append('mean_var_depth')\n",
    "   \n",
    "try:\n",
    "    args=pd.read_hdf(sources['Trained wo gt'][0], 'input_args', mode='r')\n",
    "    prm['truth_sample_name']=args['truth_sample_name'][0]\n",
    "except:\n",
    "    prm['truth_sample_name']=parser.get('VarReport', 'truth_sample_name', fallback='NA')\n",
    "prmNames.append('truth_sample_name')\n",
    "\n",
    "\n",
    "prmdf = pd.DataFrame.from_dict(prm, orient='index',columns=['value']).reindex(prmNames)\n",
    "prmdf.to_hdf(h5outfile, key=\"parameters\")\n",
    "\n",
    "prmdf"
   ]
  },
  {
   "cell_type": "code",
   "execution_count": 2,
   "metadata": {
    "pycharm": {
     "name": "#%%\n"
    }
   },
   "outputs": [],
   "source": [
    "def filterByCategory(data,cat):\n",
    "    if cat=='SNP':\n",
    "        return data[data['indel']==False]\n",
    "    elif cat=='non-hmer Indel':\n",
    "        return data[(data['indel']==True) & (data['hmer_indel_length']==0) & (data['indel_length']>0)]\n",
    "    elif cat=='non-hmer Indel w/o LCR':\n",
    "        return data[(data['indel']==True) & (data['hmer_indel_length']==0) & (data['indel_length']>0) & \n",
    "                    (~data['LCR-hs38'])]\n",
    "    elif cat=='hmer Indel <=4':\n",
    "        return data[(data['indel']==True) & (data['hmer_indel_length']>0) & (data['hmer_indel_length']<=4)]\n",
    "    elif cat=='hmer Indel >4,<=8':\n",
    "        return data[(data['indel']==True) & (data['hmer_indel_length']>4) & (data['hmer_indel_length']<=8)]\n",
    "    elif cat=='hmer Indel >8,<=10':\n",
    "        return data[(data['indel']==True) & (data['hmer_indel_length']>8) & (data['hmer_indel_length']<=10)]\n",
    "    for i in range (1,10):\n",
    "        if cat=='hmer Indel {0:d}'.format(i):\n",
    "            return data[(data['indel']==True) & (data['hmer_indel_length']==i)]\n",
    "    return None\n"
   ]
  },
  {
   "cell_type": "code",
   "execution_count": 3,
   "metadata": {},
   "outputs": [],
   "source": [
    "def calcPerformance(data, gt=False):\n",
    "    classify='classify_gt' \n",
    "    d=data.copy()\n",
    "    \n",
    "    d['tree_score'] = np.where(d[classify]=='fn',-1,d['tree_score'])\n",
    "    d=d[[classify,'tree_score','filter']].sort_values(by=['tree_score'])\n",
    "    \n",
    "    d['label'] = np.where(d[classify]=='fp',0,1)\n",
    "\n",
    "    d.loc[d['filter']=='HPOL_RUN','filter']='PASS'\n",
    "    d.loc[d['filter']=='COHORT_FP','filter']='PASS'\n",
    "    d.loc[d[classify]=='fn','filter']='MISS'\n",
    "    d['class'] = np.where(d['label']==0,'FP','FN')\n",
    "    d.loc[(d['label']==1) & (d['filter']=='PASS'),'class']='TP'\n",
    "    d.loc[(d['label']==0) & (d['filter']!='PASS'),'class']='TN'\n",
    "\n",
    "    num=len(d)\n",
    "    numPos=sum(d['label'])\n",
    "    numNeg=num-numPos\n",
    "    if num<10:\n",
    "        return (pd.DataFrame(),None,numPos,numNeg)\n",
    "    \n",
    "    d['fn']=np.cumsum(d['label'])\n",
    "    d['tp']=numPos-(d['fn'])\n",
    "    d['fp']=numNeg-np.cumsum(1-d['label'])\n",
    "\n",
    "    d['recall']=d['tp']/(d['tp']+d['fn'])\n",
    "    d['precision']=d['tp']/(d['tp']+d['fp'])\n",
    "\n",
    "    d['f1']=d['tp']/(d['tp']+0.5*d['fn']+0.5*d['fp'])\n",
    "\n",
    "    d['mask']=((d['tp']+d['fn'])>=20) & ((d['tp']+d['fp'])>=20) & (d['tree_score']>=0)\n",
    "    if len(d[d['mask']])==0:\n",
    "        return (pd.DataFrame(),None,numPos,numNeg)\n",
    "\n",
    "    # The model value\n",
    "    fn=len(d[d['class']=='FN'])\n",
    "    tp=len(d[d['class']=='TP'])\n",
    "    fp=len(d[d['class']=='FP'])\n",
    "\n",
    "    recall=tp/(tp+fn) if (tp+fn>0) else np.nan\n",
    "    precision=tp/(tp+fp) if (tp+fp>0) else np.nan\n",
    "    max_recall=1-len(d[d['filter']=='MISS'])/numPos\n",
    "\n",
    "    f1=tp/(tp+0.5*fn+0.5*fp)\n",
    "    \n",
    "    return (d[['recall','precision']][d['mask']],\n",
    "            dict({'recall':recall,'precision':precision,'f1':f1}),\n",
    "            numPos,numNeg)\n",
    "\n"
   ]
  },
  {
   "cell_type": "code",
   "execution_count": 4,
   "metadata": {},
   "outputs": [],
   "source": [
    "def plotPerformance(perfCurve,optRes,categories,source=sources,ext=None,img=None):\n",
    "    n=len(categories)\n",
    "    fig, ax = plt.subplots(1,n,figsize=(4*n,4))\n",
    "    col=['r','b','g','m','k']\n",
    "\n",
    "    for i,cat in enumerate(categories):\n",
    "        for j,s in enumerate(source):\n",
    "            perf=perfCurve[s][cat]\n",
    "            opt=optRes[s][cat]\n",
    "            if not perf.empty:\n",
    "                ax[i].plot(perf.recall,perf.precision,'-',label=s,color=col[j])    \n",
    "                ax[i].plot(opt.get('recall'),opt.get('precision'),'o',color=col[j])\n",
    "            title=cat if ext==None else '{0} ({1})'.format(cat,ext)\n",
    "            ax[i].set_title(title)\n",
    "            ax[i].set_xlabel(\"Recall\")\n",
    "            ax[i].set_xlim([0.4,1])\n",
    "            ax[i].set_ylim([0.4,1])\n",
    "            ax[i].grid(True)\n",
    "\n",
    "    ax[0].set_ylabel(\"Precision\")\n",
    "    ax[0].legend(loc='lower left')\n",
    "    \n",
    "    if img:\n",
    "        nxp.save(fig,imgpref+img,'png',outdir=imgdir)\n",
    "    \n",
    "    \n",
    "def getPerformance(data,categories,gt=False):\n",
    "    optTab={}\n",
    "    optRes={}\n",
    "    perfCurve={}\n",
    "    for s in sources:\n",
    "        optTab[s]=pd.DataFrame()\n",
    "        optRes[s]={}\n",
    "        perfCurve[s]={}\n",
    "\n",
    "        for i,cat in enumerate(categories):\n",
    "            d=filterByCategory(data[s],cat)\n",
    "            perf,opt,pos,neg=calcPerformance(d,gt)\n",
    "            perfCurve[s][cat]=perf\n",
    "            optRes[s][cat]=opt\n",
    "            \n",
    "            row=pd.DataFrame({'# pos':pos,\n",
    "                              '# neg':neg,\n",
    "                              'max recall':np.nan if perf.empty else max(perf.recall),\n",
    "                              'recall':np.nan if perf.empty else opt.get('recall'),\n",
    "                              'precision':np.nan if perf.empty else opt.get('precision'),\n",
    "                              'F1':np.nan if perf.empty else opt.get('f1')\n",
    "                             },index=[cat])\n",
    "            optTab[s]=pd.concat([optTab[s],row])\n",
    "            \n",
    "    return optTab,optRes,perfCurve"
   ]
  },
  {
   "cell_type": "markdown",
   "metadata": {
    "pycharm": {
     "name": "#%% md\n"
    }
   },
   "source": [
    "## Performance: all Data"
   ]
  },
  {
   "cell_type": "code",
   "execution_count": 5,
   "metadata": {
    "pycharm": {
     "name": "#%%\n"
    }
   },
   "outputs": [
    {
     "data": {
      "image/png": "[encoded data removed]",
      "text/plain": [
       "<Figure size 1440x288 with 5 Axes>"
      ]
     },
     "metadata": {
      "needs_background": "light"
     },
     "output_type": "display_data"
    }
   ],
   "source": [
    "categories=['SNP','non-hmer Indel','non-hmer Indel w/o LCR','hmer Indel <=4','hmer Indel >4,<=8']\n",
    "optTab1,optRes,perfCurve=getPerformance(data,categories)\n",
    "plotPerformance(perfCurve,optRes,categories,img='all.primary',source={'whole genome':sources['whole genome']})"
   ]
  },
  {
   "cell_type": "code",
   "execution_count": 6,
   "metadata": {},
   "outputs": [
    {
     "data": {
      "image/png": "[encoded data removed]",
      "text/plain": [
       "<Figure size 1728x288 with 6 Axes>"
      ]
     },
     "metadata": {
      "needs_background": "light"
     },
     "output_type": "display_data"
    }
   ],
   "source": [
    "categories=['hmer Indel 4','hmer Indel 5','hmer Indel 6','hmer Indel 7','hmer Indel 8','hmer Indel >8,<=10']\n",
    "optTab2,optRes,perfCurve=getPerformance(data,categories)\n",
    "plotPerformance(perfCurve,optRes,categories,img='all.hmers',source={'whole genome':sources['whole genome']})"
   ]
  },
  {
   "cell_type": "code",
   "execution_count": 7,
   "metadata": {},
   "outputs": [
    {
     "data": {
      "text/html": [
       "<div>\n",
       "<style scoped>\n",
       "    .dataframe tbody tr th:only-of-type {\n",
       "        vertical-align: middle;\n",
       "    }\n",
       "\n",
       "    .dataframe tbody tr th {\n",
       "        vertical-align: top;\n",
       "    }\n",
       "\n",
       "    .dataframe thead th {\n",
       "        text-align: right;\n",
       "    }\n",
       "</style>\n",
       "<table border=\"1\" class=\"dataframe\">\n",
       "  <thead>\n",
       "    <tr style=\"text-align: right;\">\n",
       "      <th></th>\n",
       "      <th># pos</th>\n",
       "      <th># neg</th>\n",
       "      <th>max recall</th>\n",
       "      <th>recall</th>\n",
       "      <th>precision</th>\n",
       "      <th>F1</th>\n",
       "    </tr>\n",
       "  </thead>\n",
       "  <tbody>\n",
       "    <tr>\n",
       "      <th>SNP</th>\n",
       "      <td>3358973</td>\n",
       "      <td>197500</td>\n",
       "      <td>98.31%</td>\n",
       "      <td>98.30%</td>\n",
       "      <td>96.58%</td>\n",
       "      <td>97.43%</td>\n",
       "    </tr>\n",
       "    <tr>\n",
       "      <th>non-hmer Indel</th>\n",
       "      <td>234044</td>\n",
       "      <td>195227</td>\n",
       "      <td>83.78%</td>\n",
       "      <td>83.38%</td>\n",
       "      <td>86.74%</td>\n",
       "      <td>85.03%</td>\n",
       "    </tr>\n",
       "    <tr>\n",
       "      <th>non-hmer Indel w/o LCR</th>\n",
       "      <td>234044</td>\n",
       "      <td>195227</td>\n",
       "      <td>83.78%</td>\n",
       "      <td>83.38%</td>\n",
       "      <td>86.74%</td>\n",
       "      <td>85.03%</td>\n",
       "    </tr>\n",
       "    <tr>\n",
       "      <th>hmer Indel &lt;=4</th>\n",
       "      <td>61509</td>\n",
       "      <td>92454</td>\n",
       "      <td>95.71%</td>\n",
       "      <td>95.51%</td>\n",
       "      <td>85.01%</td>\n",
       "      <td>89.96%</td>\n",
       "    </tr>\n",
       "    <tr>\n",
       "      <th>hmer Indel &gt;4,&lt;=8</th>\n",
       "      <td>47943</td>\n",
       "      <td>41396</td>\n",
       "      <td>90.52%</td>\n",
       "      <td>89.97%</td>\n",
       "      <td>87.91%</td>\n",
       "      <td>88.93%</td>\n",
       "    </tr>\n",
       "    <tr>\n",
       "      <th>hmer Indel 4</th>\n",
       "      <td>10324</td>\n",
       "      <td>20923</td>\n",
       "      <td>95.26%</td>\n",
       "      <td>94.99%</td>\n",
       "      <td>82.52%</td>\n",
       "      <td>88.32%</td>\n",
       "    </tr>\n",
       "    <tr>\n",
       "      <th>hmer Indel 5</th>\n",
       "      <td>8270</td>\n",
       "      <td>16169</td>\n",
       "      <td>94.82%</td>\n",
       "      <td>94.43%</td>\n",
       "      <td>83.64%</td>\n",
       "      <td>88.71%</td>\n",
       "    </tr>\n",
       "    <tr>\n",
       "      <th>hmer Indel 6</th>\n",
       "      <td>10806</td>\n",
       "      <td>9780</td>\n",
       "      <td>93.60%</td>\n",
       "      <td>93.16%</td>\n",
       "      <td>89.43%</td>\n",
       "      <td>91.26%</td>\n",
       "    </tr>\n",
       "    <tr>\n",
       "      <th>hmer Indel 7</th>\n",
       "      <td>13834</td>\n",
       "      <td>8206</td>\n",
       "      <td>90.34%</td>\n",
       "      <td>89.87%</td>\n",
       "      <td>90.17%</td>\n",
       "      <td>90.02%</td>\n",
       "    </tr>\n",
       "    <tr>\n",
       "      <th>hmer Indel 8</th>\n",
       "      <td>15033</td>\n",
       "      <td>7241</td>\n",
       "      <td>86.12%</td>\n",
       "      <td>85.31%</td>\n",
       "      <td>87.33%</td>\n",
       "      <td>86.31%</td>\n",
       "    </tr>\n",
       "    <tr>\n",
       "      <th>hmer Indel &gt;8,&lt;=10</th>\n",
       "      <td>37417</td>\n",
       "      <td>18288</td>\n",
       "      <td>62.33%</td>\n",
       "      <td>61.44%</td>\n",
       "      <td>73.88%</td>\n",
       "      <td>67.09%</td>\n",
       "    </tr>\n",
       "  </tbody>\n",
       "</table>\n",
       "</div>"
      ],
      "text/plain": [
       "                          # pos   # neg  max recall  recall  precision     F1\n",
       "SNP                     3358973  197500      98.31%  98.30%     96.58% 97.43%\n",
       "non-hmer Indel           234044  195227      83.78%  83.38%     86.74% 85.03%\n",
       "non-hmer Indel w/o LCR   234044  195227      83.78%  83.38%     86.74% 85.03%\n",
       "hmer Indel <=4            61509   92454      95.71%  95.51%     85.01% 89.96%\n",
       "hmer Indel >4,<=8         47943   41396      90.52%  89.97%     87.91% 88.93%\n",
       "hmer Indel 4              10324   20923      95.26%  94.99%     82.52% 88.32%\n",
       "hmer Indel 5               8270   16169      94.82%  94.43%     83.64% 88.71%\n",
       "hmer Indel 6              10806    9780      93.60%  93.16%     89.43% 91.26%\n",
       "hmer Indel 7              13834    8206      90.34%  89.87%     90.17% 90.02%\n",
       "hmer Indel 8              15033    7241      86.12%  85.31%     87.33% 86.31%\n",
       "hmer Indel >8,<=10        37417   18288      62.33%  61.44%     73.88% 67.09%"
      ]
     },
     "execution_count": 7,
     "metadata": {},
     "output_type": "execute_result"
    }
   ],
   "source": [
    "pd.options.display.float_format = '{:,.2%}'.format\n",
    "\n",
    "optTab={}\n",
    "for s in sources:\n",
    "    optTab[s]=pd.concat([optTab1[s], optTab2[s]])\n",
    "df=pd.concat([optTab[s] for s in sources], axis=1, keys=[s for s in sources])\n",
    "df.to_hdf(h5outfile, key=\"all_data\")\n",
    "df_all=df\n",
    "df['whole genome']"
   ]
  },
  {
   "cell_type": "markdown",
   "metadata": {
    "pycharm": {
     "name": "#%% md\n"
    }
   },
   "source": [
    "### Including genotype"
   ]
  },
  {
   "cell_type": "code",
   "execution_count": 9,
   "metadata": {
    "pycharm": {
     "name": "#%%\n"
    }
   },
   "outputs": [
    {
     "data": {
      "image/png": "[encoded data removed]",
      "text/plain": [
       "<Figure size 1440x288 with 5 Axes>"
      ]
     },
     "metadata": {
      "needs_background": "light"
     },
     "output_type": "display_data"
    }
   ],
   "source": [
    "categories=['SNP','non-hmer Indel','non-hmer Indel w/o LCR','hmer Indel <=4','hmer Indel >4,<=8']\n",
    "optTab,optRes,perfCurve=getPerformance(data,categories,gt=True)\n",
    "plotPerformance(perfCurve,optRes,categories,source={'whole genome':sources['whole genome']})"
   ]
  },
  {
   "cell_type": "code",
   "execution_count": 10,
   "metadata": {},
   "outputs": [
    {
     "data": {
      "text/html": [
       "<div>\n",
       "<style scoped>\n",
       "    .dataframe tbody tr th:only-of-type {\n",
       "        vertical-align: middle;\n",
       "    }\n",
       "\n",
       "    .dataframe tbody tr th {\n",
       "        vertical-align: top;\n",
       "    }\n",
       "\n",
       "    .dataframe thead th {\n",
       "        text-align: right;\n",
       "    }\n",
       "</style>\n",
       "<table border=\"1\" class=\"dataframe\">\n",
       "  <thead>\n",
       "    <tr style=\"text-align: right;\">\n",
       "      <th></th>\n",
       "      <th># pos</th>\n",
       "      <th># neg</th>\n",
       "      <th>max recall</th>\n",
       "      <th>recall</th>\n",
       "      <th>precision</th>\n",
       "      <th>F1</th>\n",
       "    </tr>\n",
       "  </thead>\n",
       "  <tbody>\n",
       "    <tr>\n",
       "      <th>SNP</th>\n",
       "      <td>3358973</td>\n",
       "      <td>197500</td>\n",
       "      <td>98.31%</td>\n",
       "      <td>98.30%</td>\n",
       "      <td>96.58%</td>\n",
       "      <td>97.43%</td>\n",
       "    </tr>\n",
       "    <tr>\n",
       "      <th>non-hmer Indel</th>\n",
       "      <td>234044</td>\n",
       "      <td>195227</td>\n",
       "      <td>83.78%</td>\n",
       "      <td>83.38%</td>\n",
       "      <td>86.74%</td>\n",
       "      <td>85.03%</td>\n",
       "    </tr>\n",
       "    <tr>\n",
       "      <th>non-hmer Indel w/o LCR</th>\n",
       "      <td>234044</td>\n",
       "      <td>195227</td>\n",
       "      <td>83.78%</td>\n",
       "      <td>83.38%</td>\n",
       "      <td>86.74%</td>\n",
       "      <td>85.03%</td>\n",
       "    </tr>\n",
       "    <tr>\n",
       "      <th>hmer Indel &lt;=4</th>\n",
       "      <td>61509</td>\n",
       "      <td>92454</td>\n",
       "      <td>95.71%</td>\n",
       "      <td>95.51%</td>\n",
       "      <td>85.01%</td>\n",
       "      <td>89.96%</td>\n",
       "    </tr>\n",
       "    <tr>\n",
       "      <th>hmer Indel &gt;4,&lt;=8</th>\n",
       "      <td>47943</td>\n",
       "      <td>41396</td>\n",
       "      <td>90.52%</td>\n",
       "      <td>89.97%</td>\n",
       "      <td>87.91%</td>\n",
       "      <td>88.93%</td>\n",
       "    </tr>\n",
       "  </tbody>\n",
       "</table>\n",
       "</div>"
      ],
      "text/plain": [
       "                          # pos   # neg  max recall  recall  precision     F1\n",
       "SNP                     3358973  197500      98.31%  98.30%     96.58% 97.43%\n",
       "non-hmer Indel           234044  195227      83.78%  83.38%     86.74% 85.03%\n",
       "non-hmer Indel w/o LCR   234044  195227      83.78%  83.38%     86.74% 85.03%\n",
       "hmer Indel <=4            61509   92454      95.71%  95.51%     85.01% 89.96%\n",
       "hmer Indel >4,<=8         47943   41396      90.52%  89.97%     87.91% 88.93%"
      ]
     },
     "execution_count": 10,
     "metadata": {},
     "output_type": "execute_result"
    }
   ],
   "source": [
    "df=pd.concat([optTab[s] for s in sources], axis=1, keys=[s for s in sources])\n",
    "df.to_hdf(h5outfile, key=\"all_data_gt\")\n",
    "df['whole genome']"
   ]
  },
  {
   "cell_type": "markdown",
   "metadata": {
    "pycharm": {
     "name": "#%% md\n"
    }
   },
   "source": [
    "### homozygous genotyping accuracy"
   ]
  },
  {
   "cell_type": "code",
   "execution_count": 11,
   "metadata": {
    "pycharm": {
     "name": "#%%\n"
    }
   },
   "outputs": [
    {
     "data": {
      "text/html": [
       "<div>\n",
       "<style scoped>\n",
       "    .dataframe tbody tr th:only-of-type {\n",
       "        vertical-align: middle;\n",
       "    }\n",
       "\n",
       "    .dataframe tbody tr th {\n",
       "        vertical-align: top;\n",
       "    }\n",
       "\n",
       "    .dataframe thead th {\n",
       "        text-align: right;\n",
       "    }\n",
       "</style>\n",
       "<table border=\"1\" class=\"dataframe\">\n",
       "  <thead>\n",
       "    <tr style=\"text-align: right;\">\n",
       "      <th></th>\n",
       "      <th># pos</th>\n",
       "      <th># neg</th>\n",
       "      <th>max recall</th>\n",
       "      <th>recall</th>\n",
       "      <th>precision</th>\n",
       "      <th>F1</th>\n",
       "    </tr>\n",
       "  </thead>\n",
       "  <tbody>\n",
       "    <tr>\n",
       "      <th>SNP</th>\n",
       "      <td>1282499</td>\n",
       "      <td>73</td>\n",
       "      <td>100.00%</td>\n",
       "      <td>100.00%</td>\n",
       "      <td>99.99%</td>\n",
       "      <td>100.00%</td>\n",
       "    </tr>\n",
       "    <tr>\n",
       "      <th>non-hmer Indel</th>\n",
       "      <td>70770</td>\n",
       "      <td>180</td>\n",
       "      <td>100.00%</td>\n",
       "      <td>99.86%</td>\n",
       "      <td>99.76%</td>\n",
       "      <td>99.81%</td>\n",
       "    </tr>\n",
       "    <tr>\n",
       "      <th>non-hmer Indel w/o LCR</th>\n",
       "      <td>70770</td>\n",
       "      <td>180</td>\n",
       "      <td>100.00%</td>\n",
       "      <td>99.86%</td>\n",
       "      <td>99.76%</td>\n",
       "      <td>99.81%</td>\n",
       "    </tr>\n",
       "    <tr>\n",
       "      <th>hmer Indel &lt;=4</th>\n",
       "      <td>25697</td>\n",
       "      <td>61</td>\n",
       "      <td>100.00%</td>\n",
       "      <td>99.99%</td>\n",
       "      <td>99.77%</td>\n",
       "      <td>99.88%</td>\n",
       "    </tr>\n",
       "    <tr>\n",
       "      <th>hmer Indel &gt;4,&lt;=8</th>\n",
       "      <td>16893</td>\n",
       "      <td>60</td>\n",
       "      <td>100.00%</td>\n",
       "      <td>99.97%</td>\n",
       "      <td>99.68%</td>\n",
       "      <td>99.82%</td>\n",
       "    </tr>\n",
       "  </tbody>\n",
       "</table>\n",
       "</div>"
      ],
      "text/plain": [
       "                          # pos  # neg  max recall  recall  precision      F1\n",
       "SNP                     1282499     73     100.00% 100.00%     99.99% 100.00%\n",
       "non-hmer Indel            70770    180     100.00%  99.86%     99.76%  99.81%\n",
       "non-hmer Indel w/o LCR    70770    180     100.00%  99.86%     99.76%  99.81%\n",
       "hmer Indel <=4            25697     61     100.00%  99.99%     99.77%  99.88%\n",
       "hmer Indel >4,<=8         16893     60     100.00%  99.97%     99.68%  99.82%"
      ]
     },
     "execution_count": 11,
     "metadata": {},
     "output_type": "execute_result"
    }
   ],
   "source": [
    "categories=['SNP','non-hmer Indel','non-hmer Indel w/o LCR','hmer Indel <=4','hmer Indel >4,<=8']\n",
    "\n",
    "hmzData={}\n",
    "for s in sources:\n",
    "        d=data[s]\n",
    "        hmzData[s]=d[(d['gt_ground_truth']==(1,1)) & (d['classify_gt']!='fn')]\n",
    "optTab,optRes,perfCurve=getPerformance(hmzData,categories,gt=True)\n",
    "df=pd.concat([optTab[s] for s in sources], axis=1, keys=[s for s in sources])\n",
    "df.to_hdf(h5outfile, key=\"all_data_homozygous\")\n",
    "df['whole genome']"
   ]
  },
  {
   "cell_type": "markdown",
   "metadata": {
    "pycharm": {
     "name": "#%% md\n"
    }
   },
   "source": [
    "## Performance: cvg>=20, mappability.0"
   ]
  },
  {
   "cell_type": "code",
   "execution_count": 12,
   "metadata": {
    "pycharm": {
     "name": "#%%\n"
    }
   },
   "outputs": [
    {
     "data": {
      "image/png": "[encoded data removed]",
      "text/plain": [
       "<Figure size 1440x288 with 5 Axes>"
      ]
     },
     "metadata": {
      "needs_background": "light"
     },
     "output_type": "display_data"
    }
   ],
   "source": [
    "filtData={}\n",
    "for s in sources:\n",
    "    d=data[s]\n",
    "    filtData[s]=d[(d['well_mapped_coverage']>=20) &\n",
    "                  (d['mappability.0'])\n",
    "                 ]\n",
    "\n",
    "categories=['SNP','non-hmer Indel','non-hmer Indel w/o LCR','hmer Indel <=4','hmer Indel >4,<=8']\n",
    "optTab1,optRes,perfCurve=getPerformance(filtData,categories)\n",
    "plotPerformance(perfCurve,optRes,categories,img='hicvg.primary',source={'whole genome':sources['whole genome']})\n"
   ]
  },
  {
   "cell_type": "code",
   "execution_count": 13,
   "metadata": {},
   "outputs": [
    {
     "data": {
      "image/png": "[encoded data removed]",
      "text/plain": [
       "<Figure size 1728x288 with 6 Axes>"
      ]
     },
     "metadata": {
      "needs_background": "light"
     },
     "output_type": "display_data"
    }
   ],
   "source": [
    "categories=['hmer Indel 4','hmer Indel 5','hmer Indel 6','hmer Indel 7','hmer Indel 8','hmer Indel >8,<=10']\n",
    "optTab2,optRes,perfCurve=getPerformance(filtData,categories)\n",
    "plotPerformance(perfCurve,optRes,categories,img='hicvg.hmers',source={'whole genome':sources['whole genome']})\n"
   ]
  },
  {
   "cell_type": "code",
   "execution_count": 14,
   "metadata": {},
   "outputs": [
    {
     "data": {
      "text/html": [
       "<div>\n",
       "<style scoped>\n",
       "    .dataframe tbody tr th:only-of-type {\n",
       "        vertical-align: middle;\n",
       "    }\n",
       "\n",
       "    .dataframe tbody tr th {\n",
       "        vertical-align: top;\n",
       "    }\n",
       "\n",
       "    .dataframe thead th {\n",
       "        text-align: right;\n",
       "    }\n",
       "</style>\n",
       "<table border=\"1\" class=\"dataframe\">\n",
       "  <thead>\n",
       "    <tr style=\"text-align: right;\">\n",
       "      <th></th>\n",
       "      <th># pos</th>\n",
       "      <th># neg</th>\n",
       "      <th>max recall</th>\n",
       "      <th>recall</th>\n",
       "      <th>precision</th>\n",
       "      <th>F1</th>\n",
       "    </tr>\n",
       "  </thead>\n",
       "  <tbody>\n",
       "    <tr>\n",
       "      <th>SNP</th>\n",
       "      <td>3168658</td>\n",
       "      <td>146183</td>\n",
       "      <td>99.57%</td>\n",
       "      <td>99.56%</td>\n",
       "      <td>97.64%</td>\n",
       "      <td>98.59%</td>\n",
       "    </tr>\n",
       "    <tr>\n",
       "      <th>non-hmer Indel</th>\n",
       "      <td>190407</td>\n",
       "      <td>161775</td>\n",
       "      <td>94.35%</td>\n",
       "      <td>93.92%</td>\n",
       "      <td>91.75%</td>\n",
       "      <td>92.82%</td>\n",
       "    </tr>\n",
       "    <tr>\n",
       "      <th>non-hmer Indel w/o LCR</th>\n",
       "      <td>190407</td>\n",
       "      <td>161775</td>\n",
       "      <td>94.35%</td>\n",
       "      <td>93.92%</td>\n",
       "      <td>91.75%</td>\n",
       "      <td>92.82%</td>\n",
       "    </tr>\n",
       "    <tr>\n",
       "      <th>hmer Indel &lt;=4</th>\n",
       "      <td>57758</td>\n",
       "      <td>70301</td>\n",
       "      <td>97.83%</td>\n",
       "      <td>97.64%</td>\n",
       "      <td>90.69%</td>\n",
       "      <td>94.04%</td>\n",
       "    </tr>\n",
       "    <tr>\n",
       "      <th>hmer Indel &gt;4,&lt;=8</th>\n",
       "      <td>44691</td>\n",
       "      <td>35712</td>\n",
       "      <td>92.90%</td>\n",
       "      <td>92.34%</td>\n",
       "      <td>90.16%</td>\n",
       "      <td>91.24%</td>\n",
       "    </tr>\n",
       "    <tr>\n",
       "      <th>hmer Indel 4</th>\n",
       "      <td>9642</td>\n",
       "      <td>17170</td>\n",
       "      <td>97.71%</td>\n",
       "      <td>97.43%</td>\n",
       "      <td>87.70%</td>\n",
       "      <td>92.31%</td>\n",
       "    </tr>\n",
       "    <tr>\n",
       "      <th>hmer Indel 5</th>\n",
       "      <td>7670</td>\n",
       "      <td>13528</td>\n",
       "      <td>97.39%</td>\n",
       "      <td>96.96%</td>\n",
       "      <td>88.08%</td>\n",
       "      <td>92.31%</td>\n",
       "    </tr>\n",
       "    <tr>\n",
       "      <th>hmer Indel 6</th>\n",
       "      <td>9968</td>\n",
       "      <td>8307</td>\n",
       "      <td>96.30%</td>\n",
       "      <td>95.89%</td>\n",
       "      <td>91.93%</td>\n",
       "      <td>93.87%</td>\n",
       "    </tr>\n",
       "    <tr>\n",
       "      <th>hmer Indel 7</th>\n",
       "      <td>12908</td>\n",
       "      <td>7316</td>\n",
       "      <td>92.73%</td>\n",
       "      <td>92.25%</td>\n",
       "      <td>91.80%</td>\n",
       "      <td>92.03%</td>\n",
       "    </tr>\n",
       "    <tr>\n",
       "      <th>hmer Indel 8</th>\n",
       "      <td>14145</td>\n",
       "      <td>6561</td>\n",
       "      <td>88.22%</td>\n",
       "      <td>87.42%</td>\n",
       "      <td>88.58%</td>\n",
       "      <td>88.00%</td>\n",
       "    </tr>\n",
       "    <tr>\n",
       "      <th>hmer Indel &gt;8,&lt;=10</th>\n",
       "      <td>35155</td>\n",
       "      <td>16913</td>\n",
       "      <td>64.49%</td>\n",
       "      <td>63.58%</td>\n",
       "      <td>75.13%</td>\n",
       "      <td>68.87%</td>\n",
       "    </tr>\n",
       "  </tbody>\n",
       "</table>\n",
       "</div>"
      ],
      "text/plain": [
       "                          # pos   # neg  max recall  recall  precision     F1\n",
       "SNP                     3168658  146183      99.57%  99.56%     97.64% 98.59%\n",
       "non-hmer Indel           190407  161775      94.35%  93.92%     91.75% 92.82%\n",
       "non-hmer Indel w/o LCR   190407  161775      94.35%  93.92%     91.75% 92.82%\n",
       "hmer Indel <=4            57758   70301      97.83%  97.64%     90.69% 94.04%\n",
       "hmer Indel >4,<=8         44691   35712      92.90%  92.34%     90.16% 91.24%\n",
       "hmer Indel 4               9642   17170      97.71%  97.43%     87.70% 92.31%\n",
       "hmer Indel 5               7670   13528      97.39%  96.96%     88.08% 92.31%\n",
       "hmer Indel 6               9968    8307      96.30%  95.89%     91.93% 93.87%\n",
       "hmer Indel 7              12908    7316      92.73%  92.25%     91.80% 92.03%\n",
       "hmer Indel 8              14145    6561      88.22%  87.42%     88.58% 88.00%\n",
       "hmer Indel >8,<=10        35155   16913      64.49%  63.58%     75.13% 68.87%"
      ]
     },
     "execution_count": 14,
     "metadata": {},
     "output_type": "execute_result"
    }
   ],
   "source": [
    "optTab={}\n",
    "for s in sources:\n",
    "    optTab[s]=pd.concat([optTab1[s], optTab2[s]])\n",
    "df=pd.concat([optTab[s] for s in sources], axis=1, keys=[s for s in sources])\n",
    "df.to_hdf(h5outfile, key=\"good_cvg_data\")\n",
    "defTable=df.copy()\n",
    "df['whole genome']"
   ]
  },
  {
   "cell_type": "markdown",
   "metadata": {
    "pycharm": {
     "name": "#%% md\n"
    }
   },
   "source": [
    "### Including genotype"
   ]
  },
  {
   "cell_type": "code",
   "execution_count": 15,
   "metadata": {
    "pycharm": {
     "name": "#%%\n"
    }
   },
   "outputs": [
    {
     "data": {
      "image/png": "[encoded data removed]",
      "text/plain": [
       "<Figure size 1440x288 with 5 Axes>"
      ]
     },
     "metadata": {
      "needs_background": "light"
     },
     "output_type": "display_data"
    }
   ],
   "source": [
    "categories=['SNP','non-hmer Indel','non-hmer Indel w/o LCR','hmer Indel <=4','hmer Indel >4,<=8']\n",
    "optTab,optRes,perfCurve=getPerformance(filtData,categories,gt=True)\n",
    "plotPerformance(perfCurve,optRes,categories,source={'whole genome':sources['whole genome']})"
   ]
  },
  {
   "cell_type": "code",
   "execution_count": 16,
   "metadata": {},
   "outputs": [
    {
     "data": {
      "text/html": [
       "<div>\n",
       "<style scoped>\n",
       "    .dataframe tbody tr th:only-of-type {\n",
       "        vertical-align: middle;\n",
       "    }\n",
       "\n",
       "    .dataframe tbody tr th {\n",
       "        vertical-align: top;\n",
       "    }\n",
       "\n",
       "    .dataframe thead th {\n",
       "        text-align: right;\n",
       "    }\n",
       "</style>\n",
       "<table border=\"1\" class=\"dataframe\">\n",
       "  <thead>\n",
       "    <tr style=\"text-align: right;\">\n",
       "      <th></th>\n",
       "      <th># pos</th>\n",
       "      <th># neg</th>\n",
       "      <th>max recall</th>\n",
       "      <th>recall</th>\n",
       "      <th>precision</th>\n",
       "      <th>F1</th>\n",
       "    </tr>\n",
       "  </thead>\n",
       "  <tbody>\n",
       "    <tr>\n",
       "      <th>SNP</th>\n",
       "      <td>3168658</td>\n",
       "      <td>146183</td>\n",
       "      <td>99.57%</td>\n",
       "      <td>99.56%</td>\n",
       "      <td>97.64%</td>\n",
       "      <td>98.59%</td>\n",
       "    </tr>\n",
       "    <tr>\n",
       "      <th>non-hmer Indel</th>\n",
       "      <td>190407</td>\n",
       "      <td>161775</td>\n",
       "      <td>94.35%</td>\n",
       "      <td>93.92%</td>\n",
       "      <td>91.75%</td>\n",
       "      <td>92.82%</td>\n",
       "    </tr>\n",
       "    <tr>\n",
       "      <th>non-hmer Indel w/o LCR</th>\n",
       "      <td>190407</td>\n",
       "      <td>161775</td>\n",
       "      <td>94.35%</td>\n",
       "      <td>93.92%</td>\n",
       "      <td>91.75%</td>\n",
       "      <td>92.82%</td>\n",
       "    </tr>\n",
       "    <tr>\n",
       "      <th>hmer Indel &lt;=4</th>\n",
       "      <td>57758</td>\n",
       "      <td>70301</td>\n",
       "      <td>97.83%</td>\n",
       "      <td>97.64%</td>\n",
       "      <td>90.69%</td>\n",
       "      <td>94.04%</td>\n",
       "    </tr>\n",
       "    <tr>\n",
       "      <th>hmer Indel &gt;4,&lt;=8</th>\n",
       "      <td>44691</td>\n",
       "      <td>35712</td>\n",
       "      <td>92.90%</td>\n",
       "      <td>92.34%</td>\n",
       "      <td>90.16%</td>\n",
       "      <td>91.24%</td>\n",
       "    </tr>\n",
       "  </tbody>\n",
       "</table>\n",
       "</div>"
      ],
      "text/plain": [
       "                          # pos   # neg  max recall  recall  precision     F1\n",
       "SNP                     3168658  146183      99.57%  99.56%     97.64% 98.59%\n",
       "non-hmer Indel           190407  161775      94.35%  93.92%     91.75% 92.82%\n",
       "non-hmer Indel w/o LCR   190407  161775      94.35%  93.92%     91.75% 92.82%\n",
       "hmer Indel <=4            57758   70301      97.83%  97.64%     90.69% 94.04%\n",
       "hmer Indel >4,<=8         44691   35712      92.90%  92.34%     90.16% 91.24%"
      ]
     },
     "execution_count": 16,
     "metadata": {},
     "output_type": "execute_result"
    }
   ],
   "source": [
    "df=pd.concat([optTab[s] for s in sources], axis=1, keys=[s for s in sources])\n",
    "df.to_hdf(h5outfile, key=\"good_cvg_data_gt\")\n",
    "df['whole genome']"
   ]
  },
  {
   "cell_type": "markdown",
   "metadata": {
    "pycharm": {
     "name": "#%% md\n"
    }
   },
   "source": [
    "### homozygous calls"
   ]
  },
  {
   "cell_type": "code",
   "execution_count": 17,
   "metadata": {
    "pycharm": {
     "name": "#%%\n"
    }
   },
   "outputs": [
    {
     "data": {
      "text/html": [
       "<div>\n",
       "<style scoped>\n",
       "    .dataframe tbody tr th:only-of-type {\n",
       "        vertical-align: middle;\n",
       "    }\n",
       "\n",
       "    .dataframe tbody tr th {\n",
       "        vertical-align: top;\n",
       "    }\n",
       "\n",
       "    .dataframe thead th {\n",
       "        text-align: right;\n",
       "    }\n",
       "</style>\n",
       "<table border=\"1\" class=\"dataframe\">\n",
       "  <thead>\n",
       "    <tr style=\"text-align: right;\">\n",
       "      <th></th>\n",
       "      <th># pos</th>\n",
       "      <th># neg</th>\n",
       "      <th>max recall</th>\n",
       "      <th>recall</th>\n",
       "      <th>precision</th>\n",
       "      <th>F1</th>\n",
       "    </tr>\n",
       "  </thead>\n",
       "  <tbody>\n",
       "    <tr>\n",
       "      <th>SNP</th>\n",
       "      <td>1216785</td>\n",
       "      <td>30</td>\n",
       "      <td>100.00%</td>\n",
       "      <td>100.00%</td>\n",
       "      <td>100.00%</td>\n",
       "      <td>100.00%</td>\n",
       "    </tr>\n",
       "    <tr>\n",
       "      <th>non-hmer Indel</th>\n",
       "      <td>63753</td>\n",
       "      <td>55</td>\n",
       "      <td>100.00%</td>\n",
       "      <td>99.87%</td>\n",
       "      <td>99.92%</td>\n",
       "      <td>99.89%</td>\n",
       "    </tr>\n",
       "    <tr>\n",
       "      <th>non-hmer Indel w/o LCR</th>\n",
       "      <td>63753</td>\n",
       "      <td>55</td>\n",
       "      <td>100.00%</td>\n",
       "      <td>99.87%</td>\n",
       "      <td>99.92%</td>\n",
       "      <td>99.89%</td>\n",
       "    </tr>\n",
       "    <tr>\n",
       "      <th>hmer Indel &lt;=4</th>\n",
       "      <td>24474</td>\n",
       "      <td>27</td>\n",
       "      <td>100.00%</td>\n",
       "      <td>100.00%</td>\n",
       "      <td>99.90%</td>\n",
       "      <td>99.95%</td>\n",
       "    </tr>\n",
       "    <tr>\n",
       "      <th>hmer Indel &gt;4,&lt;=8</th>\n",
       "      <td>16048</td>\n",
       "      <td>37</td>\n",
       "      <td>100.00%</td>\n",
       "      <td>99.97%</td>\n",
       "      <td>99.78%</td>\n",
       "      <td>99.88%</td>\n",
       "    </tr>\n",
       "  </tbody>\n",
       "</table>\n",
       "</div>"
      ],
      "text/plain": [
       "                          # pos  # neg  max recall  recall  precision      F1\n",
       "SNP                     1216785     30     100.00% 100.00%    100.00% 100.00%\n",
       "non-hmer Indel            63753     55     100.00%  99.87%     99.92%  99.89%\n",
       "non-hmer Indel w/o LCR    63753     55     100.00%  99.87%     99.92%  99.89%\n",
       "hmer Indel <=4            24474     27     100.00% 100.00%     99.90%  99.95%\n",
       "hmer Indel >4,<=8         16048     37     100.00%  99.97%     99.78%  99.88%"
      ]
     },
     "execution_count": 17,
     "metadata": {},
     "output_type": "execute_result"
    }
   ],
   "source": [
    "categories=['SNP','non-hmer Indel','non-hmer Indel w/o LCR','hmer Indel <=4','hmer Indel >4,<=8']\n",
    "\n",
    "hmzData={}\n",
    "for s in sources:\n",
    "        d=filtData[s]\n",
    "        hmzData[s]=d[(d['gt_ground_truth']==(1,1)) & (d['classify_gt']!='fn')]\n",
    "optTab,optRes,perfCurve=getPerformance(hmzData,categories,gt=True)\n",
    "df=pd.concat([optTab[s] for s in sources], axis=1, keys=[s for s in sources])\n",
    "df.to_hdf(h5outfile, key=\"good_cvg_data_homozygous\")\n",
    "df['whole genome']"
   ]
  },
  {
   "cell_type": "markdown",
   "metadata": {
    "pycharm": {
     "name": "#%% md\n"
    }
   },
   "source": [
    "### per base"
   ]
  },
  {
   "cell_type": "code",
   "execution_count": 18,
   "metadata": {
    "pycharm": {
     "name": "#%%\n"
    }
   },
   "outputs": [
    {
     "data": {
      "image/png": "[encoded data removed]",
      "text/plain": [
       "<Figure size 1440x288 with 5 Axes>"
      ]
     },
     "metadata": {
      "needs_background": "light"
     },
     "output_type": "display_data"
    }
   ],
   "source": [
    "categories=['SNP','hmer Indel <=4','hmer Indel >4,<=8','hmer Indel >8,<=10','hmer Indel 8']\n",
    "\n",
    "baseData={}\n",
    "b =('A','T')\n",
    "for s in sources:\n",
    "        d=filtData[s]\n",
    "        baseData[s]=d[((d['indel']==False) & ((d['ref']==b[0]) | (d['ref']==b[1]))) |\n",
    "                      ((d['hmer_indel_length']>0) & ((d['hmer_indel_nuc']==b[0]) | (d['hmer_indel_nuc']==b[1])))\n",
    "                     ]\n",
    "optTab1,optRes,perfCurve=getPerformance(baseData,categories)\n",
    "for s in sources:\n",
    "    optTab1[s].rename(index={a:'{0} ({1}/{2})'.format(a,b[0],b[1]) for a in optTab1[s].index}, inplace=True)\n",
    "plotPerformance(perfCurve,optRes,categories,source={'whole genome':sources['whole genome']})"
   ]
  },
  {
   "cell_type": "code",
   "execution_count": 19,
   "metadata": {},
   "outputs": [
    {
     "data": {
      "image/png": "[encoded data removed]",
      "text/plain": [
       "<Figure size 1440x288 with 5 Axes>"
      ]
     },
     "metadata": {
      "needs_background": "light"
     },
     "output_type": "display_data"
    }
   ],
   "source": [
    "categories=['SNP','hmer Indel <=4','hmer Indel >4,<=8','hmer Indel >8,<=10','hmer Indel 6']\n",
    "baseData={}\n",
    "b =('C','G')\n",
    "for s in sources:\n",
    "        d=filtData[s]\n",
    "        baseData[s]=d[((d['indel']==False) & ((d['ref']==b[0]) | (d['ref']==b[1]))) |\n",
    "                      ((d['hmer_indel_length']>0) & ((d['hmer_indel_nuc']==b[0]) | (d['hmer_indel_nuc']==b[1])))\n",
    "                     ]\n",
    "optTab2,optRes,perfCurve=getPerformance(baseData,categories)\n",
    "for s in sources:\n",
    "    optTab2[s].rename(index={a:'{0} ({1}/{2})'.format(a,b[0],b[1]) for a in optTab2[s].index}, inplace=True)\n",
    "plotPerformance(perfCurve,optRes,categories,source={'whole genome':sources['whole genome']})"
   ]
  },
  {
   "cell_type": "code",
   "execution_count": 20,
   "metadata": {},
   "outputs": [
    {
     "data": {
      "text/html": [
       "<div>\n",
       "<style scoped>\n",
       "    .dataframe tbody tr th:only-of-type {\n",
       "        vertical-align: middle;\n",
       "    }\n",
       "\n",
       "    .dataframe tbody tr th {\n",
       "        vertical-align: top;\n",
       "    }\n",
       "\n",
       "    .dataframe thead th {\n",
       "        text-align: right;\n",
       "    }\n",
       "</style>\n",
       "<table border=\"1\" class=\"dataframe\">\n",
       "  <thead>\n",
       "    <tr style=\"text-align: right;\">\n",
       "      <th></th>\n",
       "      <th># pos</th>\n",
       "      <th># neg</th>\n",
       "      <th>max recall</th>\n",
       "      <th>recall</th>\n",
       "      <th>precision</th>\n",
       "      <th>F1</th>\n",
       "    </tr>\n",
       "  </thead>\n",
       "  <tbody>\n",
       "    <tr>\n",
       "      <th>SNP (A/T)</th>\n",
       "      <td>1526030</td>\n",
       "      <td>105835</td>\n",
       "      <td>99.53%</td>\n",
       "      <td>99.52%</td>\n",
       "      <td>96.19%</td>\n",
       "      <td>97.83%</td>\n",
       "    </tr>\n",
       "    <tr>\n",
       "      <th>hmer Indel &lt;=4 (A/T)</th>\n",
       "      <td>35357</td>\n",
       "      <td>22372</td>\n",
       "      <td>97.94%</td>\n",
       "      <td>97.74%</td>\n",
       "      <td>92.77%</td>\n",
       "      <td>95.19%</td>\n",
       "    </tr>\n",
       "    <tr>\n",
       "      <th>hmer Indel &gt;4,&lt;=8 (A/T)</th>\n",
       "      <td>37377</td>\n",
       "      <td>23834</td>\n",
       "      <td>94.31%</td>\n",
       "      <td>93.75%</td>\n",
       "      <td>92.78%</td>\n",
       "      <td>93.27%</td>\n",
       "    </tr>\n",
       "    <tr>\n",
       "      <th>hmer Indel &gt;8,&lt;=10 (A/T)</th>\n",
       "      <td>33723</td>\n",
       "      <td>14681</td>\n",
       "      <td>65.51%</td>\n",
       "      <td>64.58%</td>\n",
       "      <td>79.30%</td>\n",
       "      <td>71.18%</td>\n",
       "    </tr>\n",
       "    <tr>\n",
       "      <th>hmer Indel 8 (A/T)</th>\n",
       "      <td>12921</td>\n",
       "      <td>5315</td>\n",
       "      <td>90.21%</td>\n",
       "      <td>89.39%</td>\n",
       "      <td>92.32%</td>\n",
       "      <td>90.83%</td>\n",
       "    </tr>\n",
       "    <tr>\n",
       "      <th>SNP (C/G)</th>\n",
       "      <td>1642628</td>\n",
       "      <td>40348</td>\n",
       "      <td>99.61%</td>\n",
       "      <td>99.59%</td>\n",
       "      <td>99.03%</td>\n",
       "      <td>99.31%</td>\n",
       "    </tr>\n",
       "    <tr>\n",
       "      <th>hmer Indel &lt;=4 (C/G)</th>\n",
       "      <td>22292</td>\n",
       "      <td>45611</td>\n",
       "      <td>98.14%</td>\n",
       "      <td>97.95%</td>\n",
       "      <td>92.43%</td>\n",
       "      <td>95.11%</td>\n",
       "    </tr>\n",
       "    <tr>\n",
       "      <th>hmer Indel &gt;4,&lt;=8 (C/G)</th>\n",
       "      <td>7186</td>\n",
       "      <td>10866</td>\n",
       "      <td>87.20%</td>\n",
       "      <td>86.65%</td>\n",
       "      <td>85.51%</td>\n",
       "      <td>86.08%</td>\n",
       "    </tr>\n",
       "    <tr>\n",
       "      <th>hmer Indel &gt;8,&lt;=10 (C/G)</th>\n",
       "      <td>1310</td>\n",
       "      <td>853</td>\n",
       "      <td>44.27%</td>\n",
       "      <td>43.82%</td>\n",
       "      <td>47.71%</td>\n",
       "      <td>45.68%</td>\n",
       "    </tr>\n",
       "    <tr>\n",
       "      <th>hmer Indel 6 (C/G)</th>\n",
       "      <td>1931</td>\n",
       "      <td>3426</td>\n",
       "      <td>93.11%</td>\n",
       "      <td>92.44%</td>\n",
       "      <td>87.89%</td>\n",
       "      <td>90.11%</td>\n",
       "    </tr>\n",
       "  </tbody>\n",
       "</table>\n",
       "</div>"
      ],
      "text/plain": [
       "                            # pos   # neg  max recall  recall  precision  \\\n",
       "SNP (A/T)                 1526030  105835      99.53%  99.52%     96.19%   \n",
       "hmer Indel <=4 (A/T)        35357   22372      97.94%  97.74%     92.77%   \n",
       "hmer Indel >4,<=8 (A/T)     37377   23834      94.31%  93.75%     92.78%   \n",
       "hmer Indel >8,<=10 (A/T)    33723   14681      65.51%  64.58%     79.30%   \n",
       "hmer Indel 8 (A/T)          12921    5315      90.21%  89.39%     92.32%   \n",
       "SNP (C/G)                 1642628   40348      99.61%  99.59%     99.03%   \n",
       "hmer Indel <=4 (C/G)        22292   45611      98.14%  97.95%     92.43%   \n",
       "hmer Indel >4,<=8 (C/G)      7186   10866      87.20%  86.65%     85.51%   \n",
       "hmer Indel >8,<=10 (C/G)     1310     853      44.27%  43.82%     47.71%   \n",
       "hmer Indel 6 (C/G)           1931    3426      93.11%  92.44%     87.89%   \n",
       "\n",
       "                             F1  \n",
       "SNP (A/T)                97.83%  \n",
       "hmer Indel <=4 (A/T)     95.19%  \n",
       "hmer Indel >4,<=8 (A/T)  93.27%  \n",
       "hmer Indel >8,<=10 (A/T) 71.18%  \n",
       "hmer Indel 8 (A/T)       90.83%  \n",
       "SNP (C/G)                99.31%  \n",
       "hmer Indel <=4 (C/G)     95.11%  \n",
       "hmer Indel >4,<=8 (C/G)  86.08%  \n",
       "hmer Indel >8,<=10 (C/G) 45.68%  \n",
       "hmer Indel 6 (C/G)       90.11%  "
      ]
     },
     "execution_count": 20,
     "metadata": {},
     "output_type": "execute_result"
    }
   ],
   "source": [
    "optTab={}\n",
    "for s in sources:\n",
    "    optTab[s]=pd.concat([optTab1[s], optTab2[s]])\n",
    "df=pd.concat([optTab[s] for s in sources], axis=1, keys=[s for s in sources])\n",
    "df.to_hdf(h5outfile, key=\"per_base_data\")\n",
    "df['whole genome']"
   ]
  },
  {
   "cell_type": "markdown",
   "metadata": {
    "pycharm": {
     "name": "#%% md\n"
    }
   },
   "source": [
    "###  Trained with GT vs without GT"
   ]
  },
  {
   "cell_type": "code",
   "execution_count": null,
   "outputs": [],
   "source": [
    "categories=['SNP','non-hmer Indel','non-hmer Indel w/o LCR','hmer Indel <=4','hmer Indel >4,<=8']\n",
    "optTab1,optRes,perfCurve=getPerformance(data,categories)\n",
    "plotPerformance(perfCurve,optRes,categories,img='all.primary',source={'Trained wo gt':sources['Trained wo gt'], 'Trained with gt': sources['Trained wo gt']})"
   ],
   "metadata": {
    "collapsed": false,
    "pycharm": {
     "name": "#%%\n"
    }
   }
  },
  {
   "cell_type": "code",
   "execution_count": null,
   "outputs": [],
   "source": [
    "categories=['hmer Indel 4','hmer Indel 5','hmer Indel 6','hmer Indel 7','hmer Indel 8','hmer Indel >8,<=10']\n",
    "optTab2,optRes,perfCurve=getPerformance(data,categories)\n",
    "plotPerformance(perfCurve,optRes,categories,img='all.hmers',source={'Trained wo gt':sources['Trained wo gt'], 'Trained with gt': sources['Trained wo gt']})"
   ],
   "metadata": {
    "collapsed": false,
    "pycharm": {
     "name": "#%%\n"
    }
   }
  },
  {
   "cell_type": "code",
   "execution_count": null,
   "outputs": [],
   "source": [
    "pd.options.display.float_format = '{:,.2%}'.format\n",
    "sources={'Trained wo gt':sources['Trained wo gt'], 'Trained with gt': sources['Trained wo gt']}\n",
    "optTab={}\n",
    "for s in sources:\n",
    "    optTab[s]=pd.concat([optTab1[s], optTab2[s]])\n",
    "df=pd.concat([optTab[s] for s in sources], axis=1, keys=[s for s in sources])\n",
    "df.to_hdf(h5outfile, key=\"trained_w_wo_gt\")\n",
    "df_all=df\n",
    "df"
   ],
   "metadata": {
    "collapsed": false,
    "pycharm": {
     "name": "#%%\n"
    }
   }
  },
  {
   "cell_type": "code",
   "execution_count": 6,
   "metadata": {},
   "outputs": [
    {
     "data": {
      "image/png": "[encoded data removed]",
      "text/plain": [
       "<Figure size 1440x288 with 5 Axes>"
      ]
     },
     "metadata": {
      "needs_background": "light"
     },
     "output_type": "display_data"
    }
   ],
   "source": [
    "%matplotlib agg\n",
    "d=defTable['Trained with gt'][['max recall','recall','precision']]\n",
    "labels=['SNP','nhmer','nhmer w/o LCR','hmer 2-4','hmer 5-8','hmer 4','hmer 5','hmer 6','hmer 7','hmer 8','hmer 9-10']\n",
    "fig=plt.figure()\n",
    "ax=d.plot()\n",
    "plt.xticks(np.arange(len(d.index)), rotation=30, ha='right')\n",
    "ax.set_xticklabels(labels)\n",
    "plt.ylim([0.4,1.05])\n",
    "plt.grid()\n",
    "plt.title('Cvg>20X, Trained variant calls')\n",
    "plt.tight_layout()\n",
    "nxp.save(fig,imgpref+'summary','png',outdir=imgdir)\n",
    "plt.close(fig)"
   ]
  },
  {
   "cell_type": "code",
   "execution_count": 10,
   "metadata": {},
   "outputs": [
    {
     "data": {
      "image/png": "[encoded data removed]",
      "text/plain": [
       "<Figure size 1728x288 with 6 Axes>"
      ]
     },
     "metadata": {
      "needs_background": "light"
     },
     "output_type": "display_data"
    }
   ],
   "source": [
    "categories=['hmer Indel 4','hmer Indel 5','hmer Indel 6','hmer Indel 7','hmer Indel 8','hmer Indel >8,<=10']\n",
    "optTab2,optRes,perfCurve=getPerformance(data,categories)\n",
    "plotPerformance(perfCurve,optRes,categories,img='all.hmers',source={'Trained wo gt':sources['Trained wo gt'], 'Trained with gt': sources['Trained wo gt']})"
   ]
  },
  {
   "cell_type": "code",
   "execution_count": 9,
   "metadata": {},
   "outputs": [
    {
     "data": {
      "text/html": [
       "<div>\n",
       "<style scoped>\n",
       "    .dataframe tbody tr th:only-of-type {\n",
       "        vertical-align: middle;\n",
       "    }\n",
       "\n",
       "    .dataframe tbody tr th {\n",
       "        vertical-align: top;\n",
       "    }\n",
       "\n",
       "    .dataframe thead tr th {\n",
       "        text-align: left;\n",
       "    }\n",
       "</style>\n",
       "<table border=\"1\" class=\"dataframe\">\n",
       "  <thead>\n",
       "    <tr>\n",
       "      <th></th>\n",
       "      <th colspan=\"6\" halign=\"left\">Trained wo gt</th>\n",
       "      <th colspan=\"6\" halign=\"left\">Trained with gt</th>\n",
       "    </tr>\n",
       "    <tr>\n",
       "      <th></th>\n",
       "      <th># pos</th>\n",
       "      <th># neg</th>\n",
       "      <th>max recall</th>\n",
       "      <th>recall</th>\n",
       "      <th>precision</th>\n",
       "      <th>F1</th>\n",
       "      <th># pos</th>\n",
       "      <th># neg</th>\n",
       "      <th>max recall</th>\n",
       "      <th>recall</th>\n",
       "      <th>precision</th>\n",
       "      <th>F1</th>\n",
       "    </tr>\n",
       "  </thead>\n",
       "  <tbody>\n",
       "    <tr>\n",
       "      <th>SNP</th>\n",
       "      <td>145897</td>\n",
       "      <td>8787</td>\n",
       "      <td>97.25%</td>\n",
       "      <td>97.22%</td>\n",
       "      <td>96.32%</td>\n",
       "      <td>96.77%</td>\n",
       "      <td>145897</td>\n",
       "      <td>8787</td>\n",
       "      <td>97.25%</td>\n",
       "      <td>96.08%</td>\n",
       "      <td>98.08%</td>\n",
       "      <td>97.07%</td>\n",
       "    </tr>\n",
       "    <tr>\n",
       "      <th>non-hmer Indel</th>\n",
       "      <td>9407</td>\n",
       "      <td>8232</td>\n",
       "      <td>83.83%</td>\n",
       "      <td>83.48%</td>\n",
       "      <td>84.87%</td>\n",
       "      <td>84.17%</td>\n",
       "      <td>9423</td>\n",
       "      <td>8533</td>\n",
       "      <td>83.69%</td>\n",
       "      <td>78.37%</td>\n",
       "      <td>88.20%</td>\n",
       "      <td>83.00%</td>\n",
       "    </tr>\n",
       "    <tr>\n",
       "      <th>non-hmer Indel w/o LCR</th>\n",
       "      <td>6635</td>\n",
       "      <td>6638</td>\n",
       "      <td>90.69%</td>\n",
       "      <td>90.41%</td>\n",
       "      <td>90.52%</td>\n",
       "      <td>90.47%</td>\n",
       "      <td>6641</td>\n",
       "      <td>6739</td>\n",
       "      <td>90.60%</td>\n",
       "      <td>85.17%</td>\n",
       "      <td>92.49%</td>\n",
       "      <td>88.68%</td>\n",
       "    </tr>\n",
       "    <tr>\n",
       "      <th>hmer Indel &lt;=4</th>\n",
       "      <td>2332</td>\n",
       "      <td>4159</td>\n",
       "      <td>94.94%</td>\n",
       "      <td>94.81%</td>\n",
       "      <td>80.72%</td>\n",
       "      <td>87.20%</td>\n",
       "      <td>2321</td>\n",
       "      <td>4066</td>\n",
       "      <td>95.39%</td>\n",
       "      <td>88.45%</td>\n",
       "      <td>83.56%</td>\n",
       "      <td>85.94%</td>\n",
       "    </tr>\n",
       "    <tr>\n",
       "      <th>hmer Indel &gt;4,&lt;=8</th>\n",
       "      <td>1970</td>\n",
       "      <td>1861</td>\n",
       "      <td>89.75%</td>\n",
       "      <td>89.54%</td>\n",
       "      <td>86.13%</td>\n",
       "      <td>87.80%</td>\n",
       "      <td>1965</td>\n",
       "      <td>1819</td>\n",
       "      <td>89.97%</td>\n",
       "      <td>82.60%</td>\n",
       "      <td>83.79%</td>\n",
       "      <td>83.19%</td>\n",
       "    </tr>\n",
       "    <tr>\n",
       "      <th>hmer Indel 4</th>\n",
       "      <td>388</td>\n",
       "      <td>917</td>\n",
       "      <td>93.30%</td>\n",
       "      <td>93.30%</td>\n",
       "      <td>79.91%</td>\n",
       "      <td>86.09%</td>\n",
       "      <td>385</td>\n",
       "      <td>891</td>\n",
       "      <td>94.03%</td>\n",
       "      <td>86.49%</td>\n",
       "      <td>79.29%</td>\n",
       "      <td>82.73%</td>\n",
       "    </tr>\n",
       "    <tr>\n",
       "      <th>hmer Indel 5</th>\n",
       "      <td>352</td>\n",
       "      <td>733</td>\n",
       "      <td>93.18%</td>\n",
       "      <td>93.18%</td>\n",
       "      <td>79.81%</td>\n",
       "      <td>85.98%</td>\n",
       "      <td>350</td>\n",
       "      <td>723</td>\n",
       "      <td>93.71%</td>\n",
       "      <td>88.86%</td>\n",
       "      <td>75.85%</td>\n",
       "      <td>81.84%</td>\n",
       "    </tr>\n",
       "    <tr>\n",
       "      <th>hmer Indel 6</th>\n",
       "      <td>454</td>\n",
       "      <td>447</td>\n",
       "      <td>93.17%</td>\n",
       "      <td>93.17%</td>\n",
       "      <td>88.12%</td>\n",
       "      <td>90.58%</td>\n",
       "      <td>453</td>\n",
       "      <td>437</td>\n",
       "      <td>93.38%</td>\n",
       "      <td>85.87%</td>\n",
       "      <td>85.31%</td>\n",
       "      <td>85.59%</td>\n",
       "    </tr>\n",
       "    <tr>\n",
       "      <th>hmer Indel 7</th>\n",
       "      <td>548</td>\n",
       "      <td>367</td>\n",
       "      <td>89.96%</td>\n",
       "      <td>89.78%</td>\n",
       "      <td>88.97%</td>\n",
       "      <td>89.37%</td>\n",
       "      <td>547</td>\n",
       "      <td>364</td>\n",
       "      <td>90.13%</td>\n",
       "      <td>83.55%</td>\n",
       "      <td>85.26%</td>\n",
       "      <td>84.40%</td>\n",
       "    </tr>\n",
       "    <tr>\n",
       "      <th>hmer Indel 8</th>\n",
       "      <td>616</td>\n",
       "      <td>314</td>\n",
       "      <td>85.06%</td>\n",
       "      <td>84.58%</td>\n",
       "      <td>86.26%</td>\n",
       "      <td>85.41%</td>\n",
       "      <td>615</td>\n",
       "      <td>295</td>\n",
       "      <td>85.20%</td>\n",
       "      <td>75.77%</td>\n",
       "      <td>87.10%</td>\n",
       "      <td>81.04%</td>\n",
       "    </tr>\n",
       "    <tr>\n",
       "      <th>hmer Indel &gt;8,&lt;=10</th>\n",
       "      <td>1504</td>\n",
       "      <td>725</td>\n",
       "      <td>61.57%</td>\n",
       "      <td>60.77%</td>\n",
       "      <td>74.13%</td>\n",
       "      <td>66.79%</td>\n",
       "      <td>1507</td>\n",
       "      <td>715</td>\n",
       "      <td>61.45%</td>\n",
       "      <td>48.84%</td>\n",
       "      <td>73.67%</td>\n",
       "      <td>58.74%</td>\n",
       "    </tr>\n",
       "  </tbody>\n",
       "</table>\n",
       "</div>"
      ],
      "text/plain": [
       "                       Trained wo gt                                           \\\n",
       "                               # pos # neg max recall recall precision     F1   \n",
       "SNP                           145897  8787     97.25% 97.22%    96.32% 96.77%   \n",
       "non-hmer Indel                  9407  8232     83.83% 83.48%    84.87% 84.17%   \n",
       "non-hmer Indel w/o LCR          6635  6638     90.69% 90.41%    90.52% 90.47%   \n",
       "hmer Indel <=4                  2332  4159     94.94% 94.81%    80.72% 87.20%   \n",
       "hmer Indel >4,<=8               1970  1861     89.75% 89.54%    86.13% 87.80%   \n",
       "hmer Indel 4                     388   917     93.30% 93.30%    79.91% 86.09%   \n",
       "hmer Indel 5                     352   733     93.18% 93.18%    79.81% 85.98%   \n",
       "hmer Indel 6                     454   447     93.17% 93.17%    88.12% 90.58%   \n",
       "hmer Indel 7                     548   367     89.96% 89.78%    88.97% 89.37%   \n",
       "hmer Indel 8                     616   314     85.06% 84.58%    86.26% 85.41%   \n",
       "hmer Indel >8,<=10              1504   725     61.57% 60.77%    74.13% 66.79%   \n",
       "\n",
       "                       Trained with gt                                    \\\n",
       "                                 # pos # neg max recall recall precision   \n",
       "SNP                             145897  8787     97.25% 96.08%    98.08%   \n",
       "non-hmer Indel                    9423  8533     83.69% 78.37%    88.20%   \n",
       "non-hmer Indel w/o LCR            6641  6739     90.60% 85.17%    92.49%   \n",
       "hmer Indel <=4                    2321  4066     95.39% 88.45%    83.56%   \n",
       "hmer Indel >4,<=8                 1965  1819     89.97% 82.60%    83.79%   \n",
       "hmer Indel 4                       385   891     94.03% 86.49%    79.29%   \n",
       "hmer Indel 5                       350   723     93.71% 88.86%    75.85%   \n",
       "hmer Indel 6                       453   437     93.38% 85.87%    85.31%   \n",
       "hmer Indel 7                       547   364     90.13% 83.55%    85.26%   \n",
       "hmer Indel 8                       615   295     85.20% 75.77%    87.10%   \n",
       "hmer Indel >8,<=10                1507   715     61.45% 48.84%    73.67%   \n",
       "\n",
       "                               \n",
       "                           F1  \n",
       "SNP                    97.07%  \n",
       "non-hmer Indel         83.00%  \n",
       "non-hmer Indel w/o LCR 88.68%  \n",
       "hmer Indel <=4         85.94%  \n",
       "hmer Indel >4,<=8      83.19%  \n",
       "hmer Indel 4           82.73%  \n",
       "hmer Indel 5           81.84%  \n",
       "hmer Indel 6           85.59%  \n",
       "hmer Indel 7           84.40%  \n",
       "hmer Indel 8           81.04%  \n",
       "hmer Indel >8,<=10     58.74%  "
      ]
     },
     "execution_count": 9,
     "metadata": {},
     "output_type": "execute_result"
    }
   ],
   "source": [
    "pd.options.display.float_format = '{:,.2%}'.format\n",
    "sources={'Trained wo gt':sources['Trained wo gt'], 'Trained with gt': sources['Trained wo gt']}\n",
    "optTab={}\n",
    "for s in sources:\n",
    "    optTab[s]=pd.concat([optTab1[s], optTab2[s]])\n",
    "df=pd.concat([optTab[s] for s in sources], axis=1, keys=[s for s in sources])\n",
    "df.to_hdf(h5outfile, key=\"trained_w_wo_gt\")\n",
    "df_all=df\n",
    "df"
   ]
  },
  {
   "cell_type": "code",
   "execution_count": 20,
   "metadata": {},
   "outputs": [],
   "source": [
    "%matplotlib agg\n",
    "d=defTable['Trained with gt'][['max recall','recall','precision']]\n",
    "labels=['SNP','nhmer','nhmer w/o LCR','hmer 2-4','hmer 5-8','hmer 4','hmer 5','hmer 6','hmer 7','hmer 8','hmer 9-10']\n",
    "fig=plt.figure()\n",
    "ax=d.plot()\n",
    "plt.xticks(np.arange(len(d.index)), rotation=30, ha='right')\n",
    "ax.set_xticklabels(labels)\n",
    "plt.ylim([0.4,1.05])\n",
    "plt.grid()\n",
    "plt.title('Cvg>20X, Trained variant calls')\n",
    "plt.tight_layout()\n",
    "nxp.save(fig,imgpref+'summary','png',outdir=imgdir)\n",
    "plt.close(fig)"
   ]
  }
 ],
 "metadata": {
  "kernelspec": {
   "display_name": "Python 3",
   "language": "python",
   "name": "python3"
  },
  "language_info": {
   "codemirror_mode": {
    "name": "ipython",
    "version": 3
   },
   "file_extension": ".py",
   "mimetype": "text/x-python",
   "name": "python",
   "nbconvert_exporter": "python",
   "pygments_lexer": "ipython3",
   "version": "3.7.8"
  },
  "toc": {
   "base_numbering": 1,
   "nav_menu": {},
   "number_sections": true,
   "sideBar": true,
   "skip_h1_title": false,
   "title_cell": "Table of Contents",
   "title_sidebar": "Contents",
   "toc_cell": false,
   "toc_position": {},
   "toc_section_display": true,
   "toc_window_display": false
  }
 },
 "nbformat": 4,
 "nbformat_minor": 2
}