{
 "cells": [
  {
   "cell_type": "markdown",
   "metadata": {},
   "source": [
    "## Variant Calling Report v1.2.3\n",
    "## Input Parameters"
   ]
  },
  {
   "cell_type": "code",
   "execution_count": 1,
   "metadata": {},
   "outputs": [
    {
     "name": "stdout",
     "output_type": "stream",
     "text": [
      "WARNING: mpld3 not available\n"
     ]
    },
    {
     "data": {
      "text/html": [
       "<div>\n",
       "<style scoped>\n",
       "    .dataframe tbody tr th:only-of-type {\n",
       "        vertical-align: middle;\n",
       "    }\n",
       "\n",
       "    .dataframe tbody tr th {\n",
       "        vertical-align: top;\n",
       "    }\n",
       "\n",
       "    .dataframe thead th {\n",
       "        text-align: right;\n",
       "    }\n",
       "</style>\n",
       "<table border=\"1\" class=\"dataframe\">\n",
       "  <thead>\n",
       "    <tr style=\"text-align: right;\">\n",
       "      <th></th>\n",
       "      <th>value</th>\n",
       "    </tr>\n",
       "  </thead>\n",
       "  <tbody>\n",
       "    <tr>\n",
       "      <th>run_id</th>\n",
       "      <td>004788-X0032</td>\n",
       "    </tr>\n",
       "    <tr>\n",
       "      <th>pipeline_version</th>\n",
       "      <td>3.2.3</td>\n",
       "    </tr>\n",
       "    <tr>\n",
       "      <th>h5_concordance_file</th>\n",
       "      <td>/data/ug_hcr_report_debug/004788-X0032.comp.h5</td>\n",
       "    </tr>\n",
       "    <tr>\n",
       "      <th>h5_model_file</th>\n",
       "      <td>/data/ug_hcr_report_debug/004788-X0032.model.h5</td>\n",
       "    </tr>\n",
       "    <tr>\n",
       "      <th>model_name_with_gt</th>\n",
       "      <td>threshold_model_ignore_gt_incl_hpol_runs</td>\n",
       "    </tr>\n",
       "    <tr>\n",
       "      <th>model_name_without_gt</th>\n",
       "      <td>rf_model_ignore_gt_incl_hpol_runs</td>\n",
       "    </tr>\n",
       "    <tr>\n",
       "      <th>model_pkl_with_gt</th>\n",
       "      <td>004788-X0032.model.withgt.h5</td>\n",
       "    </tr>\n",
       "    <tr>\n",
       "      <th>model_pkl_without_gt</th>\n",
       "      <td>004788-X0032.model.nogt.pkl</td>\n",
       "    </tr>\n",
       "    <tr>\n",
       "      <th>mean_var_depth</th>\n",
       "      <td>64.28</td>\n",
       "    </tr>\n",
       "    <tr>\n",
       "      <th>truth_sample_name</th>\n",
       "      <td>INTEGRATION</td>\n",
       "    </tr>\n",
       "  </tbody>\n",
       "</table>\n",
       "</div>"
      ],
      "text/plain": [
       "                                                                 value\n",
       "run_id                                                    004788-X0032\n",
       "pipeline_version                                                 3.2.3\n",
       "h5_concordance_file     /data/ug_hcr_report_debug/004788-X0032.comp.h5\n",
       "h5_model_file          /data/ug_hcr_report_debug/004788-X0032.model.h5\n",
       "model_name_with_gt            threshold_model_ignore_gt_incl_hpol_runs\n",
       "model_name_without_gt                rf_model_ignore_gt_incl_hpol_runs\n",
       "model_pkl_with_gt                         004788-X0032.model.withgt.h5\n",
       "model_pkl_without_gt                       004788-X0032.model.nogt.pkl\n",
       "mean_var_depth                                                   64.28\n",
       "truth_sample_name                                          INTEGRATION"
      ]
     },
     "execution_count": 1,
     "metadata": {},
     "output_type": "execute_result"
    }
   ],
   "source": [
    "import pandas as pd\n",
    "import h5py\n",
    "import matplotlib.pyplot as plt\n",
    "import numpy as np\n",
    "import nexusplt as nxp\n",
    "from configparser import ConfigParser\n",
    "\n",
    "pd.options.display.float_format = '{:,.2%}'.format\n",
    "pd.set_option('display.max_colwidth', None)\n",
    "\n",
    "configFile='/data/ug_hcr_report_debug/var_report.config'\n",
    "parser = ConfigParser()\n",
    "parser.read(configFile)\n",
    "\n",
    "prmNames=['run_id','pipeline_version',\n",
    "          'h5_concordance_file', 'h5_model_file',\n",
    "          'model_name_with_gt','model_name_without_gt','model_pkl_with_gt','model_pkl_without_gt'\n",
    "         ]\n",
    "\n",
    "prm={}\n",
    "for name in prmNames:\n",
    "    prm[name]=parser.get('VarReport', name)\n",
    "\n",
    "h5outfile = parser.get('VarReport', 'h5_output', fallback='var_report.h5')\n",
    "imgpref = parser.get('VarReport', 'image_output_prefix', fallback=prm['run_id']+'.vars')+'.'\n",
    "imgdir = 'plots'\n",
    "\n",
    "sources = {'Trained wo gt':(prm['h5_concordance_file'],\"concordance\"),\n",
    "           'Trained with gt':(prm['h5_model_file'],\"scored_concordance\"),\n",
    "          }\n",
    "\n",
    "data = {}\n",
    "for s in sources:\n",
    "    data[s]={}\n",
    "    d=pd.read_hdf(sources[s][0], key=sources[s][1], mode='r')\n",
    "    data[s]=d\n",
    "\n",
    "with pd.HDFStore(prm['h5_concordance_file']) as hdf:\n",
    "    keys=hdf.keys()\n",
    "    wg_dfs=[pd.read_hdf(hdf,k) for k in keys if k not in ['/concordance','/input_args']]\n",
    "    wg_df=pd.concat(wg_dfs)\n",
    "    \n",
    "data['whole genome'] = wg_df\n",
    "sources['whole genome'] = (prm['h5_concordance_file'],\"all\")\n",
    "    \n",
    "prm['mean_var_depth']='{:.2f}'.format(data['Trained wo gt']['well_mapped_coverage'].mean())\n",
    "prmNames.append('mean_var_depth')\n",
    "   \n",
    "try:\n",
    "    args=pd.read_hdf(sources['Trained wo gt'][0], 'input_args', mode='r')\n",
    "    prm['truth_sample_name']=args['truth_sample_name'][0]\n",
    "except:\n",
    "    prm['truth_sample_name']=parser.get('VarReport', 'truth_sample_name', fallback='NA')\n",
    "prmNames.append('truth_sample_name')\n",
    "\n",
    "\n",
    "prmdf = pd.DataFrame.from_dict(prm, orient='index',columns=['value']).reindex(prmNames)\n",
    "prmdf.to_hdf(h5outfile, key=\"parameters\")\n",
    "\n",
    "prmdf"
   ]
  },
  {
   "cell_type": "code",
   "execution_count": 38,
   "metadata": {},
   "outputs": [],
   "source": [
    "%matplotlib inline"
   ]
  },
  {
   "cell_type": "code",
   "execution_count": 3,
   "metadata": {
    "pycharm": {
     "name": "#%%\n"
    }
   },
   "outputs": [],
   "source": [
    "def filterByCategory(data,cat):\n",
    "    if cat=='SNP':\n",
    "        return data[data['indel']==False]\n",
    "    elif cat=='non-hmer Indel':\n",
    "        return data[(data['indel']==True) & (data['hmer_indel_length']==0) & (data['indel_length']>0)]\n",
    "    elif cat=='non-hmer Indel w/o LCR':\n",
    "        return data[(data['indel']==True) & (data['hmer_indel_length']==0) & (data['indel_length']>0) & \n",
    "                    (~data['LCR-hs38'])]\n",
    "    elif cat=='hmer Indel <=4':\n",
    "        return data[(data['indel']==True) & (data['hmer_indel_length']>0) & (data['hmer_indel_length']<=4)]\n",
    "    elif cat=='hmer Indel >4,<=8':\n",
    "        return data[(data['indel']==True) & (data['hmer_indel_length']>4) & (data['hmer_indel_length']<=8)]\n",
    "    elif cat=='hmer Indel >8,<=10':\n",
    "        return data[(data['indel']==True) & (data['hmer_indel_length']>8) & (data['hmer_indel_length']<=10)]\n",
    "    for i in range (1,10):\n",
    "        if cat=='hmer Indel {0:d}'.format(i):\n",
    "            return data[(data['indel']==True) & (data['hmer_indel_length']==i)]\n",
    "    return None\n"
   ]
  },
  {
   "cell_type": "code",
   "execution_count": 4,
   "metadata": {},
   "outputs": [],
   "source": [
    "def calcPerformance(data, gt=False):\n",
    "    classify='classify_gt' \n",
    "    d=data.copy()\n",
    "    \n",
    "    d['tree_score'] = np.where(d[classify]=='fn',-1,d['tree_score'])\n",
    "    d=d[[classify,'tree_score','filter']].sort_values(by=['tree_score'])\n",
    "    \n",
    "    d['label'] = np.where(d[classify]=='fp',0,1)\n",
    "\n",
    "    d.loc[d['filter']=='HPOL_RUN','filter']='PASS'\n",
    "    d.loc[d['filter']=='COHORT_FP','filter']='PASS'\n",
    "    d.loc[d[classify]=='fn','filter']='MISS'\n",
    "    d['class'] = np.where(d['label']==0,'FP','FN')\n",
    "    d.loc[(d['label']==1) & (d['filter']=='PASS'),'class']='TP'\n",
    "    d.loc[(d['label']==0) & (d['filter']!='PASS'),'class']='TN'\n",
    "\n",
    "    num=len(d)\n",
    "    numPos=sum(d['label'])\n",
    "    numNeg=num-numPos\n",
    "    if num<10:\n",
    "        return (pd.DataFrame(),None,numPos,numNeg)\n",
    "    \n",
    "    d['fn']=np.cumsum(d['label'])\n",
    "    d['tp']=numPos-(d['fn'])\n",
    "    d['fp']=numNeg-np.cumsum(1-d['label'])\n",
    "\n",
    "    d['recall']=d['tp']/(d['tp']+d['fn'])\n",
    "    d['precision']=d['tp']/(d['tp']+d['fp'])\n",
    "\n",
    "    d['f1']=d['tp']/(d['tp']+0.5*d['fn']+0.5*d['fp'])\n",
    "\n",
    "    d['mask']=((d['tp']+d['fn'])>=20) & ((d['tp']+d['fp'])>=20) & (d['tree_score']>=0)\n",
    "    if len(d[d['mask']])==0:\n",
    "        return (pd.DataFrame(),None,numPos,numNeg)\n",
    "\n",
    "    # The model value\n",
    "    fn=len(d[d['class']=='FN'])\n",
    "    tp=len(d[d['class']=='TP'])\n",
    "    fp=len(d[d['class']=='FP'])\n",
    "\n",
    "    recall=tp/(tp+fn) if (tp+fn>0) else np.nan\n",
    "    precision=tp/(tp+fp) if (tp+fp>0) else np.nan\n",
    "    max_recall=1-len(d[d['filter']=='MISS'])/numPos\n",
    "\n",
    "    f1=tp/(tp+0.5*fn+0.5*fp)\n",
    "    \n",
    "    return (d[['recall','precision']][d['mask']],\n",
    "            dict({'recall':recall,'precision':precision,'f1':f1}),\n",
    "            numPos,numNeg)\n",
    "\n"
   ]
  },
  {
   "cell_type": "code",
   "execution_count": 5,
   "metadata": {
    "pycharm": {
     "name": "#%%\n"
    }
   },
   "outputs": [],
   "source": [
    "def plotPerformance(perfCurve,optRes,categories,source=sources,ext=None,img=None):\n",
    "    n=len(categories)\n",
    "    fig, ax = plt.subplots(1,n,figsize=(4*n,4))\n",
    "    col=['r','b','g','m','k']\n",
    "\n",
    "    for i,cat in enumerate(categories):\n",
    "        for j,s in enumerate(source):\n",
    "            perf=perfCurve[s][cat]\n",
    "            opt=optRes[s][cat]\n",
    "            if not perf.empty:\n",
    "                ax[i].plot(perf.recall,perf.precision,'-',label=s,color=col[j])    \n",
    "                ax[i].plot(opt.get('recall'),opt.get('precision'),'o',color=col[j])\n",
    "            title=cat if ext==None else '{0} ({1})'.format(cat,ext)\n",
    "            ax[i].set_title(title)\n",
    "            ax[i].set_xlabel(\"Recall\")\n",
    "            ax[i].set_xlim([0.4,1])\n",
    "            ax[i].set_ylim([0.4,1])\n",
    "            ax[i].grid(True)\n",
    "\n",
    "    ax[0].set_ylabel(\"Precision\")\n",
    "    ax[0].legend(loc='lower left')\n",
    "    \n",
    "    if img:\n",
    "        nxp.save(fig,imgpref+img,'png',outdir=imgdir)\n",
    "    \n",
    "    \n",
    "def getPerformance(data,categories,gt=False):\n",
    "    optTab={}\n",
    "    optRes={}\n",
    "    perfCurve={}\n",
    "    for s in sources:\n",
    "        optTab[s]=pd.DataFrame()\n",
    "        optRes[s]={}\n",
    "        perfCurve[s]={}\n",
    "\n",
    "        for i,cat in enumerate(categories):\n",
    "            d=filterByCategory(data[s],cat)\n",
    "            perf,opt,pos,neg=calcPerformance(d,gt)\n",
    "            perfCurve[s][cat]=perf\n",
    "            optRes[s][cat]=opt\n",
    "            \n",
    "            row=pd.DataFrame({'# pos':pos,\n",
    "                              '# neg':neg,\n",
    "                              'max recall':np.nan if perf.empty else max(perf.recall),\n",
    "                              'recall':np.nan if perf.empty else opt.get('recall'),\n",
    "                              'precision':np.nan if perf.empty else opt.get('precision'),\n",
    "                              'F1':np.nan if perf.empty else opt.get('f1')\n",
    "                             },index=[cat])\n",
    "            optTab[s]=pd.concat([optTab[s],row])\n",
    "            \n",
    "    return optTab,optRes,perfCurve"
   ]
  },
  {
   "cell_type": "markdown",
   "metadata": {
    "pycharm": {
     "name": "#%% md\n"
    }
   },
   "source": [
    "## Performance over all Data"
   ]
  },
  {
   "cell_type": "code",
   "execution_count": 6,
   "metadata": {
    "pycharm": {
     "name": "#%%\n"
    }
   },
   "outputs": [
    {
     "data": {
      "image/png": "[encoded data removed]",
      "text/plain": [
       "<Figure size 1440x288 with 5 Axes>"
      ]
     },
     "metadata": {
      "needs_background": "light"
     },
     "output_type": "display_data"
    }
   ],
   "source": [
    "categories=['SNP','non-hmer Indel','non-hmer Indel w/o LCR','hmer Indel <=4','hmer Indel >4,<=8']\n",
    "optTab1,optRes,perfCurve=getPerformance(data,categories)\n",
    "plotPerformance(perfCurve,optRes,categories,img='all.primary',source={'whole genome':sources['whole genome']})"
   ]
  },
  {
   "cell_type": "code",
   "execution_count": 7,
   "metadata": {},
   "outputs": [
    {
     "data": {
      "image/png": "[encoded data removed]",
      "text/plain": [
       "<Figure size 1728x288 with 6 Axes>"
      ]
     },
     "metadata": {
      "needs_background": "light"
     },
     "output_type": "display_data"
    }
   ],
   "source": [
    "categories=['hmer Indel 4','hmer Indel 5','hmer Indel 6','hmer Indel 7','hmer Indel 8','hmer Indel >8,<=10']\n",
    "optTab2,optRes,perfCurve=getPerformance(data,categories)\n",
    "plotPerformance(perfCurve,optRes,categories,img='all.hmers',source={'whole genome':sources['whole genome']})"
   ]
  },
  {
   "cell_type": "code",
   "execution_count": 8,
   "metadata": {
    "pycharm": {
     "name": "#%%\n"
    }
   },
   "outputs": [
    {
     "data": {
      "text/html": [
       "<div>\n",
       "<style scoped>\n",
       "    .dataframe tbody tr th:only-of-type {\n",
       "        vertical-align: middle;\n",
       "    }\n",
       "\n",
       "    .dataframe tbody tr th {\n",
       "        vertical-align: top;\n",
       "    }\n",
       "\n",
       "    .dataframe thead th {\n",
       "        text-align: right;\n",
       "    }\n",
       "</style>\n",
       "<table border=\"1\" class=\"dataframe\">\n",
       "  <thead>\n",
       "    <tr style=\"text-align: right;\">\n",
       "      <th></th>\n",
       "      <th># pos</th>\n",
       "      <th># neg</th>\n",
       "      <th>max recall</th>\n",
       "      <th>recall</th>\n",
       "      <th>precision</th>\n",
       "      <th>F1</th>\n",
       "    </tr>\n",
       "  </thead>\n",
       "  <tbody>\n",
       "    <tr>\n",
       "      <th>SNP</th>\n",
       "      <td>2980250</td>\n",
       "      <td>25800</td>\n",
       "      <td>99.52%</td>\n",
       "      <td>99.49%</td>\n",
       "      <td>99.58%</td>\n",
       "      <td>99.54%</td>\n",
       "    </tr>\n",
       "    <tr>\n",
       "      <th>non-hmer Indel</th>\n",
       "      <td>177001</td>\n",
       "      <td>20725</td>\n",
       "      <td>89.83%</td>\n",
       "      <td>89.31%</td>\n",
       "      <td>95.95%</td>\n",
       "      <td>92.51%</td>\n",
       "    </tr>\n",
       "    <tr>\n",
       "      <th>non-hmer Indel w/o LCR</th>\n",
       "      <td>177001</td>\n",
       "      <td>20725</td>\n",
       "      <td>89.83%</td>\n",
       "      <td>89.31%</td>\n",
       "      <td>95.95%</td>\n",
       "      <td>92.51%</td>\n",
       "    </tr>\n",
       "    <tr>\n",
       "      <th>hmer Indel &lt;=4</th>\n",
       "      <td>52675</td>\n",
       "      <td>41676</td>\n",
       "      <td>98.16%</td>\n",
       "      <td>96.53%</td>\n",
       "      <td>94.27%</td>\n",
       "      <td>95.39%</td>\n",
       "    </tr>\n",
       "    <tr>\n",
       "      <th>hmer Indel &gt;4,&lt;=8</th>\n",
       "      <td>38931</td>\n",
       "      <td>8008</td>\n",
       "      <td>97.67%</td>\n",
       "      <td>96.08%</td>\n",
       "      <td>96.00%</td>\n",
       "      <td>96.04%</td>\n",
       "    </tr>\n",
       "    <tr>\n",
       "      <th>hmer Indel 4</th>\n",
       "      <td>8882</td>\n",
       "      <td>6162</td>\n",
       "      <td>98.12%</td>\n",
       "      <td>96.28%</td>\n",
       "      <td>92.65%</td>\n",
       "      <td>94.43%</td>\n",
       "    </tr>\n",
       "    <tr>\n",
       "      <th>hmer Indel 5</th>\n",
       "      <td>7215</td>\n",
       "      <td>3898</td>\n",
       "      <td>98.21%</td>\n",
       "      <td>95.95%</td>\n",
       "      <td>93.77%</td>\n",
       "      <td>94.85%</td>\n",
       "    </tr>\n",
       "    <tr>\n",
       "      <th>hmer Indel 6</th>\n",
       "      <td>9524</td>\n",
       "      <td>2019</td>\n",
       "      <td>98.07%</td>\n",
       "      <td>96.22%</td>\n",
       "      <td>96.47%</td>\n",
       "      <td>96.35%</td>\n",
       "    </tr>\n",
       "    <tr>\n",
       "      <th>hmer Indel 7</th>\n",
       "      <td>10620</td>\n",
       "      <td>1182</td>\n",
       "      <td>97.77%</td>\n",
       "      <td>96.30%</td>\n",
       "      <td>96.78%</td>\n",
       "      <td>96.54%</td>\n",
       "    </tr>\n",
       "    <tr>\n",
       "      <th>hmer Indel 8</th>\n",
       "      <td>11572</td>\n",
       "      <td>909</td>\n",
       "      <td>96.92%</td>\n",
       "      <td>95.85%</td>\n",
       "      <td>96.31%</td>\n",
       "      <td>96.08%</td>\n",
       "    </tr>\n",
       "    <tr>\n",
       "      <th>hmer Indel &gt;8,&lt;=10</th>\n",
       "      <td>28210</td>\n",
       "      <td>3357</td>\n",
       "      <td>88.92%</td>\n",
       "      <td>88.08%</td>\n",
       "      <td>91.31%</td>\n",
       "      <td>89.66%</td>\n",
       "    </tr>\n",
       "  </tbody>\n",
       "</table>\n",
       "</div>"
      ],
      "text/plain": [
       "                          # pos  # neg  max recall  recall  precision     F1\n",
       "SNP                     2980250  25800      99.52%  99.49%     99.58% 99.54%\n",
       "non-hmer Indel           177001  20725      89.83%  89.31%     95.95% 92.51%\n",
       "non-hmer Indel w/o LCR   177001  20725      89.83%  89.31%     95.95% 92.51%\n",
       "hmer Indel <=4            52675  41676      98.16%  96.53%     94.27% 95.39%\n",
       "hmer Indel >4,<=8         38931   8008      97.67%  96.08%     96.00% 96.04%\n",
       "hmer Indel 4               8882   6162      98.12%  96.28%     92.65% 94.43%\n",
       "hmer Indel 5               7215   3898      98.21%  95.95%     93.77% 94.85%\n",
       "hmer Indel 6               9524   2019      98.07%  96.22%     96.47% 96.35%\n",
       "hmer Indel 7              10620   1182      97.77%  96.30%     96.78% 96.54%\n",
       "hmer Indel 8              11572    909      96.92%  95.85%     96.31% 96.08%\n",
       "hmer Indel >8,<=10        28210   3357      88.92%  88.08%     91.31% 89.66%"
      ]
     },
     "execution_count": 8,
     "metadata": {},
     "output_type": "execute_result"
    }
   ],
   "source": [
    "pd.options.display.float_format = '{:,.2%}'.format\n",
    "\n",
    "optTab={}\n",
    "for s in sources:\n",
    "    optTab[s]=pd.concat([optTab1[s], optTab2[s]])\n",
    "df=pd.concat([optTab[s] for s in sources], axis=1, keys=[s for s in sources])\n",
    "df.to_hdf(h5outfile, key=\"all_data\")\n",
    "df_all=df\n",
    "df['whole genome']"
   ]
  },
  {
   "cell_type": "markdown",
   "metadata": {
    "pycharm": {
     "name": "#%% md\n"
    }
   },
   "source": [
    "### Homozygous genotyping accuracy"
   ]
  },
  {
   "cell_type": "code",
   "execution_count": 11,
   "metadata": {
    "pycharm": {
     "name": "#%%\n"
    }
   },
   "outputs": [
    {
     "data": {
      "text/html": [
       "<div>\n",
       "<style scoped>\n",
       "    .dataframe tbody tr th:only-of-type {\n",
       "        vertical-align: middle;\n",
       "    }\n",
       "\n",
       "    .dataframe tbody tr th {\n",
       "        vertical-align: top;\n",
       "    }\n",
       "\n",
       "    .dataframe thead th {\n",
       "        text-align: right;\n",
       "    }\n",
       "</style>\n",
       "<table border=\"1\" class=\"dataframe\">\n",
       "  <thead>\n",
       "    <tr style=\"text-align: right;\">\n",
       "      <th></th>\n",
       "      <th># pos</th>\n",
       "      <th># neg</th>\n",
       "      <th>max recall</th>\n",
       "      <th>recall</th>\n",
       "      <th>precision</th>\n",
       "      <th>F1</th>\n",
       "    </tr>\n",
       "  </thead>\n",
       "  <tbody>\n",
       "    <tr>\n",
       "      <th>SNP</th>\n",
       "      <td>1283872</td>\n",
       "      <td>13</td>\n",
       "      <td>100.00%</td>\n",
       "      <td>100.00%</td>\n",
       "      <td>100.00%</td>\n",
       "      <td>100.00%</td>\n",
       "    </tr>\n",
       "    <tr>\n",
       "      <th>non-hmer Indel</th>\n",
       "      <td>58377</td>\n",
       "      <td>131</td>\n",
       "      <td>100.00%</td>\n",
       "      <td>99.85%</td>\n",
       "      <td>99.78%</td>\n",
       "      <td>99.82%</td>\n",
       "    </tr>\n",
       "    <tr>\n",
       "      <th>non-hmer Indel w/o LCR</th>\n",
       "      <td>58377</td>\n",
       "      <td>131</td>\n",
       "      <td>100.00%</td>\n",
       "      <td>99.85%</td>\n",
       "      <td>99.78%</td>\n",
       "      <td>99.82%</td>\n",
       "    </tr>\n",
       "    <tr>\n",
       "      <th>hmer Indel &lt;=4</th>\n",
       "      <td>24586</td>\n",
       "      <td>29</td>\n",
       "      <td>100.00%</td>\n",
       "      <td>99.96%</td>\n",
       "      <td>99.89%</td>\n",
       "      <td>99.92%</td>\n",
       "    </tr>\n",
       "    <tr>\n",
       "      <th>hmer Indel &gt;4,&lt;=8</th>\n",
       "      <td>14242</td>\n",
       "      <td>9</td>\n",
       "      <td>99.99%</td>\n",
       "      <td>99.93%</td>\n",
       "      <td>99.94%</td>\n",
       "      <td>99.94%</td>\n",
       "    </tr>\n",
       "  </tbody>\n",
       "</table>\n",
       "</div>"
      ],
      "text/plain": [
       "                          # pos  # neg  max recall  recall  precision      F1\n",
       "SNP                     1283872     13     100.00% 100.00%    100.00% 100.00%\n",
       "non-hmer Indel            58377    131     100.00%  99.85%     99.78%  99.82%\n",
       "non-hmer Indel w/o LCR    58377    131     100.00%  99.85%     99.78%  99.82%\n",
       "hmer Indel <=4            24586     29     100.00%  99.96%     99.89%  99.92%\n",
       "hmer Indel >4,<=8         14242      9      99.99%  99.93%     99.94%  99.94%"
      ]
     },
     "execution_count": 11,
     "metadata": {},
     "output_type": "execute_result"
    }
   ],
   "source": [
    "categories=['SNP','non-hmer Indel','non-hmer Indel w/o LCR','hmer Indel <=4','hmer Indel >4,<=8']\n",
    "\n",
    "hmzData={}\n",
    "for s in sources:\n",
    "        d=data[s]\n",
    "        hmzData[s]=d[(d['gt_ground_truth']==(1,1)) & (d['classify_gt']!='fn')]\n",
    "optTab,optRes,perfCurve=getPerformance(hmzData,categories,gt=True)\n",
    "df=pd.concat([optTab[s] for s in sources], axis=1, keys=[s for s in sources])\n",
    "df.to_hdf(h5outfile, key=\"all_data_homozygous\")\n",
    "df['whole genome']"
   ]
  },
  {
   "cell_type": "markdown",
   "metadata": {},
   "source": [
    "## Performance over UG high confidence regions"
   ]
  },
  {
   "cell_type": "code",
   "execution_count": 12,
   "metadata": {},
   "outputs": [
    {
     "data": {
      "image/png": "[encoded data removed]",
      "text/plain": [
       "<Figure size 1440x288 with 5 Axes>"
      ]
     },
     "metadata": {
      "needs_background": "light"
     },
     "output_type": "display_data"
    }
   ],
   "source": [
    "filtData={}\n",
    "for s in sources:\n",
    "    d=data[s]\n",
    "    filtData[s]=d.query(\"ug_hcr==True\")\n",
    "\n",
    "categories=['SNP','non-hmer Indel','non-hmer Indel w/o LCR','hmer Indel <=4','hmer Indel >4,<=8']\n",
    "optTab1,optRes,perfCurve=getPerformance(filtData,categories)\n",
    "plotPerformance(perfCurve,optRes,categories,img='hicvg.primary',source={'whole genome':sources['whole genome']})"
   ]
  },
  {
   "cell_type": "code",
   "execution_count": 13,
   "metadata": {
    "pycharm": {
     "name": "#%%\n"
    }
   },
   "outputs": [
    {
     "data": {
      "image/png": "[encoded data removed]",
      "text/plain": [
       "<Figure size 1728x288 with 6 Axes>"
      ]
     },
     "metadata": {
      "needs_background": "light"
     },
     "output_type": "display_data"
    }
   ],
   "source": [
    "categories=['hmer Indel 4','hmer Indel 5','hmer Indel 6','hmer Indel 7','hmer Indel 8','hmer Indel >8,<=10']\n",
    "optTab2,optRes,perfCurve=getPerformance(filtData,categories)\n",
    "plotPerformance(perfCurve,optRes,categories,img='hicvg.hmers',source={'whole genome':sources['whole genome']})"
   ]
  },
  {
   "cell_type": "code",
   "execution_count": 14,
   "metadata": {},
   "outputs": [
    {
     "data": {
      "text/html": [
       "<div>\n",
       "<style scoped>\n",
       "    .dataframe tbody tr th:only-of-type {\n",
       "        vertical-align: middle;\n",
       "    }\n",
       "\n",
       "    .dataframe tbody tr th {\n",
       "        vertical-align: top;\n",
       "    }\n",
       "\n",
       "    .dataframe thead th {\n",
       "        text-align: right;\n",
       "    }\n",
       "</style>\n",
       "<table border=\"1\" class=\"dataframe\">\n",
       "  <thead>\n",
       "    <tr style=\"text-align: right;\">\n",
       "      <th></th>\n",
       "      <th># pos</th>\n",
       "      <th># neg</th>\n",
       "      <th>max recall</th>\n",
       "      <th>recall</th>\n",
       "      <th>precision</th>\n",
       "      <th>F1</th>\n",
       "    </tr>\n",
       "  </thead>\n",
       "  <tbody>\n",
       "    <tr>\n",
       "      <th>SNP</th>\n",
       "      <td>2936835</td>\n",
       "      <td>17685</td>\n",
       "      <td>99.82%</td>\n",
       "      <td>99.80%</td>\n",
       "      <td>99.76%</td>\n",
       "      <td>99.78%</td>\n",
       "    </tr>\n",
       "    <tr>\n",
       "      <th>non-hmer Indel</th>\n",
       "      <td>142384</td>\n",
       "      <td>12325</td>\n",
       "      <td>98.68%</td>\n",
       "      <td>98.25%</td>\n",
       "      <td>98.46%</td>\n",
       "      <td>98.36%</td>\n",
       "    </tr>\n",
       "    <tr>\n",
       "      <th>non-hmer Indel w/o LCR</th>\n",
       "      <td>142384</td>\n",
       "      <td>12325</td>\n",
       "      <td>98.68%</td>\n",
       "      <td>98.25%</td>\n",
       "      <td>98.46%</td>\n",
       "      <td>98.36%</td>\n",
       "    </tr>\n",
       "    <tr>\n",
       "      <th>hmer Indel &lt;=4</th>\n",
       "      <td>51332</td>\n",
       "      <td>39368</td>\n",
       "      <td>99.38%</td>\n",
       "      <td>97.80%</td>\n",
       "      <td>95.01%</td>\n",
       "      <td>96.39%</td>\n",
       "    </tr>\n",
       "    <tr>\n",
       "      <th>hmer Indel &gt;4,&lt;=8</th>\n",
       "      <td>37993</td>\n",
       "      <td>7522</td>\n",
       "      <td>98.40%</td>\n",
       "      <td>96.85%</td>\n",
       "      <td>96.36%</td>\n",
       "      <td>96.61%</td>\n",
       "    </tr>\n",
       "    <tr>\n",
       "      <th>hmer Indel 4</th>\n",
       "      <td>8647</td>\n",
       "      <td>5826</td>\n",
       "      <td>99.33%</td>\n",
       "      <td>97.57%</td>\n",
       "      <td>93.45%</td>\n",
       "      <td>95.47%</td>\n",
       "    </tr>\n",
       "    <tr>\n",
       "      <th>hmer Indel 5</th>\n",
       "      <td>7051</td>\n",
       "      <td>3711</td>\n",
       "      <td>99.12%</td>\n",
       "      <td>96.91%</td>\n",
       "      <td>94.34%</td>\n",
       "      <td>95.61%</td>\n",
       "    </tr>\n",
       "    <tr>\n",
       "      <th>hmer Indel 6</th>\n",
       "      <td>9297</td>\n",
       "      <td>1892</td>\n",
       "      <td>98.90%</td>\n",
       "      <td>97.12%</td>\n",
       "      <td>96.76%</td>\n",
       "      <td>96.94%</td>\n",
       "    </tr>\n",
       "    <tr>\n",
       "      <th>hmer Indel 7</th>\n",
       "      <td>10381</td>\n",
       "      <td>1086</td>\n",
       "      <td>98.38%</td>\n",
       "      <td>96.97%</td>\n",
       "      <td>97.11%</td>\n",
       "      <td>97.04%</td>\n",
       "    </tr>\n",
       "    <tr>\n",
       "      <th>hmer Indel 8</th>\n",
       "      <td>11264</td>\n",
       "      <td>833</td>\n",
       "      <td>97.57%</td>\n",
       "      <td>96.49%</td>\n",
       "      <td>96.65%</td>\n",
       "      <td>96.57%</td>\n",
       "    </tr>\n",
       "    <tr>\n",
       "      <th>hmer Indel &gt;8,&lt;=10</th>\n",
       "      <td>27258</td>\n",
       "      <td>2952</td>\n",
       "      <td>89.75%</td>\n",
       "      <td>88.90%</td>\n",
       "      <td>92.25%</td>\n",
       "      <td>90.54%</td>\n",
       "    </tr>\n",
       "  </tbody>\n",
       "</table>\n",
       "</div>"
      ],
      "text/plain": [
       "                          # pos  # neg  max recall  recall  precision     F1\n",
       "SNP                     2936835  17685      99.82%  99.80%     99.76% 99.78%\n",
       "non-hmer Indel           142384  12325      98.68%  98.25%     98.46% 98.36%\n",
       "non-hmer Indel w/o LCR   142384  12325      98.68%  98.25%     98.46% 98.36%\n",
       "hmer Indel <=4            51332  39368      99.38%  97.80%     95.01% 96.39%\n",
       "hmer Indel >4,<=8         37993   7522      98.40%  96.85%     96.36% 96.61%\n",
       "hmer Indel 4               8647   5826      99.33%  97.57%     93.45% 95.47%\n",
       "hmer Indel 5               7051   3711      99.12%  96.91%     94.34% 95.61%\n",
       "hmer Indel 6               9297   1892      98.90%  97.12%     96.76% 96.94%\n",
       "hmer Indel 7              10381   1086      98.38%  96.97%     97.11% 97.04%\n",
       "hmer Indel 8              11264    833      97.57%  96.49%     96.65% 96.57%\n",
       "hmer Indel >8,<=10        27258   2952      89.75%  88.90%     92.25% 90.54%"
      ]
     },
     "execution_count": 14,
     "metadata": {},
     "output_type": "execute_result"
    }
   ],
   "source": [
    "optTab={}\n",
    "for s in sources:\n",
    "    optTab[s]=pd.concat([optTab1[s], optTab2[s]])\n",
    "df=pd.concat([optTab[s] for s in sources], axis=1, keys=[s for s in sources])\n",
    "df.to_hdf(h5outfile, key=\"ug_hcr\")\n",
    "defTable=df.copy()\n",
    "df['whole genome']"
   ]
  },
  {
   "cell_type": "markdown",
   "metadata": {
    "pycharm": {
     "name": "#%% md\n"
    }
   },
   "source": [
    "### Homozygous genotyping accuracy"
   ]
  },
  {
   "cell_type": "code",
   "execution_count": 17,
   "metadata": {},
   "outputs": [],
   "source": [
    "categories=['SNP','non-hmer Indel','non-hmer Indel w/o LCR','hmer Indel <=4','hmer Indel >4,<=8']\n",
    "\n",
    "hmzData={}\n",
    "for s in sources:\n",
    "        d=filtData[s]\n",
    "        hmzData[s]=d[(d['gt_ground_truth']==(1,1)) & (d['classify_gt']!='fn')]\n",
    "optTab,optRes,perfCurve=getPerformance(hmzData,categories,gt=True)\n",
    "df=pd.concat([optTab[s] for s in sources], axis=1, keys=[s for s in sources])\n",
    "df.to_hdf(h5outfile, key=\"ug_hcr_homozygous\")\n",
    "df['whole genome']\n",
    "\n",
    "categories=['SNP','non-hmer Indel','non-hmer Indel w/o LCR','hmer Indel <=4','hmer Indel >4,<=8']"
   ]
  },
  {
   "cell_type": "markdown",
   "metadata": {},
   "source": [
    "### Stratified by base"
   ]
  },
  {
   "cell_type": "markdown",
   "metadata": {
    "pycharm": {
     "name": "#%% md\n"
    }
   },
   "source": [
    "#### (A,T)"
   ]
  },
  {
   "cell_type": "code",
   "execution_count": 18,
   "metadata": {},
   "outputs": [
    {
     "data": {
      "image/png": "[encoded data removed]",
      "text/plain": [
       "<Figure size 1440x288 with 5 Axes>"
      ]
     },
     "metadata": {
      "needs_background": "light"
     },
     "output_type": "display_data"
    }
   ],
   "source": [
    "categories=['SNP','hmer Indel <=4','hmer Indel >4,<=8','hmer Indel >8,<=10','hmer Indel 8']\n",
    "\n",
    "baseData={}\n",
    "b =('A','T')\n",
    "for s in sources:\n",
    "        d=filtData[s]\n",
    "        baseData[s]=d[((d['indel']==False) & ((d['ref']==b[0]) | (d['ref']==b[1]))) |\n",
    "                      ((d['hmer_indel_length']>0) & ((d['hmer_indel_nuc']==b[0]) | (d['hmer_indel_nuc']==b[1])))\n",
    "                     ]\n",
    "optTab1,optRes,perfCurve=getPerformance(baseData,categories)\n",
    "for s in sources:\n",
    "    optTab1[s].rename(index={a:'{0} ({1}/{2})'.format(a,b[0],b[1]) for a in optTab1[s].index}, inplace=True)\n",
    "plotPerformance(perfCurve,optRes,categories,source={'whole genome':sources['whole genome']})"
   ]
  },
  {
   "cell_type": "markdown",
   "metadata": {
    "pycharm": {
     "name": "#%% md\n"
    }
   },
   "source": [
    "#### (G,C)"
   ]
  },
  {
   "cell_type": "code",
   "execution_count": 19,
   "metadata": {
    "pycharm": {
     "name": "#%%\n"
    }
   },
   "outputs": [
    {
     "data": {
      "image/png": "[encoded data removed]",
      "text/plain": [
       "<Figure size 1440x288 with 5 Axes>"
      ]
     },
     "metadata": {
      "needs_background": "light"
     },
     "output_type": "display_data"
    }
   ],
   "source": [
    "categories=['SNP','hmer Indel <=4','hmer Indel >4,<=8','hmer Indel >8,<=10','hmer Indel 6']\n",
    "baseData={}\n",
    "b =('C','G')\n",
    "for s in sources:\n",
    "        d=filtData[s]\n",
    "        baseData[s]=d[((d['indel']==False) & ((d['ref']==b[0]) | (d['ref']==b[1]))) |\n",
    "                      ((d['hmer_indel_length']>0) & ((d['hmer_indel_nuc']==b[0]) | (d['hmer_indel_nuc']==b[1])))\n",
    "                     ]\n",
    "optTab2,optRes,perfCurve=getPerformance(baseData,categories)\n",
    "for s in sources:\n",
    "    optTab2[s].rename(index={a:'{0} ({1}/{2})'.format(a,b[0],b[1]) for a in optTab2[s].index}, inplace=True)\n",
    "plotPerformance(perfCurve,optRes,categories,source={'whole genome':sources['whole genome']})"
   ]
  },
  {
   "cell_type": "code",
   "execution_count": 20,
   "metadata": {
    "pycharm": {
     "name": "#%%\n"
    }
   },
   "outputs": [
    {
     "data": {
      "text/html": [
       "<div>\n",
       "<style scoped>\n",
       "    .dataframe tbody tr th:only-of-type {\n",
       "        vertical-align: middle;\n",
       "    }\n",
       "\n",
       "    .dataframe tbody tr th {\n",
       "        vertical-align: top;\n",
       "    }\n",
       "\n",
       "    .dataframe thead th {\n",
       "        text-align: right;\n",
       "    }\n",
       "</style>\n",
       "<table border=\"1\" class=\"dataframe\">\n",
       "  <thead>\n",
       "    <tr style=\"text-align: right;\">\n",
       "      <th></th>\n",
       "      <th># pos</th>\n",
       "      <th># neg</th>\n",
       "      <th>max recall</th>\n",
       "      <th>recall</th>\n",
       "      <th>precision</th>\n",
       "      <th>F1</th>\n",
       "    </tr>\n",
       "  </thead>\n",
       "  <tbody>\n",
       "    <tr>\n",
       "      <th>SNP (A/T)</th>\n",
       "      <td>1413627</td>\n",
       "      <td>12758</td>\n",
       "      <td>99.84%</td>\n",
       "      <td>99.81%</td>\n",
       "      <td>99.74%</td>\n",
       "      <td>99.78%</td>\n",
       "    </tr>\n",
       "    <tr>\n",
       "      <th>hmer Indel &lt;=4 (A/T)</th>\n",
       "      <td>31607</td>\n",
       "      <td>2008</td>\n",
       "      <td>99.53%</td>\n",
       "      <td>98.49%</td>\n",
       "      <td>99.19%</td>\n",
       "      <td>98.84%</td>\n",
       "    </tr>\n",
       "    <tr>\n",
       "      <th>hmer Indel &gt;4,&lt;=8 (A/T)</th>\n",
       "      <td>31646</td>\n",
       "      <td>3254</td>\n",
       "      <td>99.02%</td>\n",
       "      <td>98.45%</td>\n",
       "      <td>98.07%</td>\n",
       "      <td>98.26%</td>\n",
       "    </tr>\n",
       "    <tr>\n",
       "      <th>hmer Indel &gt;8,&lt;=10 (A/T)</th>\n",
       "      <td>26121</td>\n",
       "      <td>2074</td>\n",
       "      <td>91.77%</td>\n",
       "      <td>91.11%</td>\n",
       "      <td>94.83%</td>\n",
       "      <td>92.93%</td>\n",
       "    </tr>\n",
       "    <tr>\n",
       "      <th>hmer Indel 8 (A/T)</th>\n",
       "      <td>10278</td>\n",
       "      <td>413</td>\n",
       "      <td>98.62%</td>\n",
       "      <td>98.35%</td>\n",
       "      <td>98.45%</td>\n",
       "      <td>98.40%</td>\n",
       "    </tr>\n",
       "    <tr>\n",
       "      <th>SNP (C/G)</th>\n",
       "      <td>1523208</td>\n",
       "      <td>4927</td>\n",
       "      <td>99.81%</td>\n",
       "      <td>99.79%</td>\n",
       "      <td>99.78%</td>\n",
       "      <td>99.79%</td>\n",
       "    </tr>\n",
       "    <tr>\n",
       "      <th>hmer Indel &lt;=4 (C/G)</th>\n",
       "      <td>19693</td>\n",
       "      <td>37007</td>\n",
       "      <td>99.30%</td>\n",
       "      <td>96.85%</td>\n",
       "      <td>89.93%</td>\n",
       "      <td>93.26%</td>\n",
       "    </tr>\n",
       "    <tr>\n",
       "      <th>hmer Indel &gt;4,&lt;=8 (C/G)</th>\n",
       "      <td>6320</td>\n",
       "      <td>4121</td>\n",
       "      <td>95.76%</td>\n",
       "      <td>89.27%</td>\n",
       "      <td>89.61%</td>\n",
       "      <td>89.44%</td>\n",
       "    </tr>\n",
       "    <tr>\n",
       "      <th>hmer Indel &gt;8,&lt;=10 (C/G)</th>\n",
       "      <td>1112</td>\n",
       "      <td>572</td>\n",
       "      <td>44.51%</td>\n",
       "      <td>39.03%</td>\n",
       "      <td>48.60%</td>\n",
       "      <td>43.29%</td>\n",
       "    </tr>\n",
       "    <tr>\n",
       "      <th>hmer Indel 6 (C/G)</th>\n",
       "      <td>1848</td>\n",
       "      <td>1036</td>\n",
       "      <td>97.56%</td>\n",
       "      <td>91.77%</td>\n",
       "      <td>91.38%</td>\n",
       "      <td>91.58%</td>\n",
       "    </tr>\n",
       "  </tbody>\n",
       "</table>\n",
       "</div>"
      ],
      "text/plain": [
       "                            # pos  # neg  max recall  recall  precision     F1\n",
       "SNP (A/T)                 1413627  12758      99.84%  99.81%     99.74% 99.78%\n",
       "hmer Indel <=4 (A/T)        31607   2008      99.53%  98.49%     99.19% 98.84%\n",
       "hmer Indel >4,<=8 (A/T)     31646   3254      99.02%  98.45%     98.07% 98.26%\n",
       "hmer Indel >8,<=10 (A/T)    26121   2074      91.77%  91.11%     94.83% 92.93%\n",
       "hmer Indel 8 (A/T)          10278    413      98.62%  98.35%     98.45% 98.40%\n",
       "SNP (C/G)                 1523208   4927      99.81%  99.79%     99.78% 99.79%\n",
       "hmer Indel <=4 (C/G)        19693  37007      99.30%  96.85%     89.93% 93.26%\n",
       "hmer Indel >4,<=8 (C/G)      6320   4121      95.76%  89.27%     89.61% 89.44%\n",
       "hmer Indel >8,<=10 (C/G)     1112    572      44.51%  39.03%     48.60% 43.29%\n",
       "hmer Indel 6 (C/G)           1848   1036      97.56%  91.77%     91.38% 91.58%"
      ]
     },
     "execution_count": 20,
     "metadata": {},
     "output_type": "execute_result"
    }
   ],
   "source": [
    "optTab={}\n",
    "for s in sources:\n",
    "    optTab[s]=pd.concat([optTab1[s], optTab2[s]])\n",
    "df=pd.concat([optTab[s] for s in sources], axis=1, keys=[s for s in sources])\n",
    "df.to_hdf(h5outfile, key=\"ug_hcr_per_base\")\n",
    "df['whole genome']"
   ],
   "metadata": {
    "collapsed": false,
    "pycharm": {
     "name": "#%%\n"
    }
   }
  },
  {
   "cell_type": "markdown",
   "source": [
    "## Performance over regions with coverage>=20 and mappability.0"
   ],
   "metadata": {
    "collapsed": false
   }
  },
  {
   "cell_type": "code",
   "execution_count": null,
   "outputs": [],
   "source": [
    "filtData={}\n",
    "for s in sources:\n",
    "    d=data[s]\n",
    "    filtData[s]=d[(d['well_mapped_coverage']>=20) &\n",
    "                  (d['mappability.0'])\n",
    "                 ]\n",
    "\n",
    "categories=['SNP','non-hmer Indel','non-hmer Indel w/o LCR','hmer Indel <=4','hmer Indel >4,<=8']\n",
    "optTab1,optRes,perfCurve=getPerformance(filtData,categories)\n",
    "plotPerformance(perfCurve,optRes,categories,img='hicvg.primary',source={'whole genome':sources['whole genome']})\n"
   ],
   "metadata": {
    "collapsed": false,
    "pycharm": {
     "name": "#%%\n"
    }
   }
  },
  {
   "cell_type": "code",
   "execution_count": null,
   "outputs": [],
   "source": [
    "categories=['hmer Indel 4','hmer Indel 5','hmer Indel 6','hmer Indel 7','hmer Indel 8','hmer Indel >8,<=10']\n",
    "optTab2,optRes,perfCurve=getPerformance(filtData,categories)\n",
    "plotPerformance(perfCurve,optRes,categories,img='hicvg.hmers',source={'whole genome':sources['whole genome']})"
   ],
   "metadata": {
    "collapsed": false,
    "pycharm": {
     "name": "#%%\n"
    }
   }
  },
  {
   "cell_type": "code",
   "execution_count": null,
   "outputs": [],
   "source": [
    "optTab={}\n",
    "for s in sources:\n",
    "    optTab[s]=pd.concat([optTab1[s], optTab2[s]])\n",
    "df=pd.concat([optTab[s] for s in sources], axis=1, keys=[s for s in sources])\n",
    "df.to_hdf(h5outfile, key=\"good_cvg_data\")\n",
    "defTable=df.copy()\n",
    "df['whole genome']"
   ],
   "metadata": {
    "collapsed": false,
    "pycharm": {
     "name": "#%%\n"
    }
   }
  },
  {
   "cell_type": "markdown",
   "source": [
    "### Including genotype"
   ],
   "metadata": {
    "collapsed": false
   }
  },
  {
   "cell_type": "code",
   "execution_count": null,
   "outputs": [],
   "source": [
    "categories=['SNP','non-hmer Indel','non-hmer Indel w/o LCR','hmer Indel <=4','hmer Indel >4,<=8']\n",
    "optTab,optRes,perfCurve=getPerformance(filtData,categories,gt=True)\n",
    "plotPerformance(perfCurve,optRes,categories,source={'whole genome':sources['whole genome']})"
   ],
   "metadata": {
    "collapsed": false,
    "pycharm": {
     "name": "#%%\n"
    }
   }
  },
  {
   "cell_type": "code",
   "execution_count": null,
   "outputs": [],
   "source": [
    "df=pd.concat([optTab[s] for s in sources], axis=1, keys=[s for s in sources])\n",
    "df.to_hdf(h5outfile, key=\"good_cvg_data_gt\")\n",
    "df['whole genome']"
   ],
   "metadata": {
    "collapsed": false,
    "pycharm": {
     "name": "#%%\n"
    }
   }
  },
  {
   "cell_type": "markdown",
   "source": [
    "### Homozygous genotyping accuracy"
   ],
   "metadata": {
    "collapsed": false
   }
  },
  {
   "cell_type": "code",
   "execution_count": null,
   "outputs": [],
   "source": [
    "categories=['SNP','non-hmer Indel','non-hmer Indel w/o LCR','hmer Indel <=4','hmer Indel >4,<=8']\n",
    "\n",
    "hmzData={}\n",
    "for s in sources:\n",
    "        d=filtData[s]\n",
    "        hmzData[s]=d[(d['gt_ground_truth']==(1,1)) & (d['classify_gt']!='fn')]\n",
    "optTab,optRes,perfCurve=getPerformance(hmzData,categories,gt=True)\n",
    "df=pd.concat([optTab[s] for s in sources], axis=1, keys=[s for s in sources])\n",
    "df.to_hdf(h5outfile, key=\"good_cvg_data_homozygous\")\n",
    "df['whole genome']"
   ],
   "metadata": {
    "collapsed": false,
    "pycharm": {
     "name": "#%%\n"
    }
   }
  },
  {
   "cell_type": "markdown",
   "source": [
    "### Stratified by base"
   ],
   "metadata": {
    "collapsed": false
   }
  },
  {
   "cell_type": "markdown",
   "source": [
    "#### (A,T)"
   ],
   "metadata": {
    "collapsed": false
   }
  },
  {
   "cell_type": "code",
   "execution_count": null,
   "outputs": [],
   "source": [
    "categories=['SNP','hmer Indel <=4','hmer Indel >4,<=8','hmer Indel >8,<=10','hmer Indel 8']\n",
    "\n",
    "baseData={}\n",
    "b =('A','T')\n",
    "for s in sources:\n",
    "        d=filtData[s]\n",
    "        baseData[s]=d[((d['indel']==False) & ((d['ref']==b[0]) | (d['ref']==b[1]))) |\n",
    "                      ((d['hmer_indel_length']>0) & ((d['hmer_indel_nuc']==b[0]) | (d['hmer_indel_nuc']==b[1])))\n",
    "                     ]\n",
    "optTab1,optRes,perfCurve=getPerformance(baseData,categories)\n",
    "for s in sources:\n",
    "    optTab1[s].rename(index={a:'{0} ({1}/{2})'.format(a,b[0],b[1]) for a in optTab1[s].index}, inplace=True)\n",
    "plotPerformance(perfCurve,optRes,categories,source={'whole genome':sources['whole genome']})"
   ],
   "metadata": {
    "collapsed": false,
    "pycharm": {
     "name": "#%%\n"
    }
   }
  },
  {
   "cell_type": "markdown",
   "source": [
    "#### (G,C)"
   ],
   "metadata": {
    "collapsed": false
   }
  },
  {
   "cell_type": "code",
   "execution_count": null,
   "outputs": [],
   "source": [
    "categories=['SNP','hmer Indel <=4','hmer Indel >4,<=8','hmer Indel >8,<=10','hmer Indel 6']\n",
    "baseData={}\n",
    "b =('C','G')\n",
    "for s in sources:\n",
    "        d=filtData[s]\n",
    "        baseData[s]=d[((d['indel']==False) & ((d['ref']==b[0]) | (d['ref']==b[1]))) |\n",
    "                      ((d['hmer_indel_length']>0) & ((d['hmer_indel_nuc']==b[0]) | (d['hmer_indel_nuc']==b[1])))\n",
    "                     ]\n",
    "optTab2,optRes,perfCurve=getPerformance(baseData,categories)\n",
    "for s in sources:\n",
    "    optTab2[s].rename(index={a:'{0} ({1}/{2})'.format(a,b[0],b[1]) for a in optTab2[s].index}, inplace=True)\n",
    "plotPerformance(perfCurve,optRes,categories,source={'whole genome':sources['whole genome']})"
   ],
   "metadata": {
    "collapsed": false,
    "pycharm": {
     "name": "#%%\n"
    }
   }
  },
  {
   "cell_type": "code",
   "execution_count": null,
   "outputs": [],
   "source": [
    "optTab={}\n",
    "for s in sources:\n",
    "    optTab[s]=pd.concat([optTab1[s], optTab2[s]])\n",
    "df=pd.concat([optTab[s] for s in sources], axis=1, keys=[s for s in sources])\n",
    "df.to_hdf(h5outfile, key=\"good_cvg_data_per_base\")\n",
    "df['whole genome']"
   ],
   "metadata": {
    "collapsed": false,
    "pycharm": {
     "name": "#%%\n"
    }
   }
  },
  {
   "cell_type": "markdown",
   "source": [
    "###  Trained with and without Ground Truth"
   ],
   "metadata": {
    "collapsed": false
   }
  },
  {
   "cell_type": "code",
   "execution_count": null,
   "metadata": {},
   "outputs": [],
   "source": [
    "categories=['SNP','non-hmer Indel','non-hmer Indel w/o LCR','hmer Indel <=4','hmer Indel >4,<=8']\n",
    "optTab1,optRes,perfCurve=getPerformance(data,categories)\n",
    "plotPerformance(perfCurve,optRes,categories,img='all.primary',source={'Trained wo gt':sources['Trained wo gt'], 'Trained with gt': sources['Trained wo gt']})"
   ]
  },
  {
   "cell_type": "markdown",
   "metadata": {
    "pycharm": {
     "name": "#%% md\n"
    }
   },
   "source": [
    "## Performance over regions with coverage>=20 and mappability.0"
   ]
  },
  {
   "cell_type": "code",
   "execution_count": 21,
   "metadata": {
    "pycharm": {
     "name": "#%%\n"
    }
   },
   "outputs": [
    {
     "data": {
      "image/png": "[encoded data removed]",
      "text/plain": [
       "<Figure size 1440x288 with 5 Axes>"
      ]
     },
     "metadata": {
      "needs_background": "light"
     },
     "output_type": "display_data"
    }
   ],
   "source": [
    "filtData={}\n",
    "for s in sources:\n",
    "    d=data[s]\n",
    "    filtData[s]=d[(d['well_mapped_coverage']>=20) &\n",
    "                  (d['mappability.0'])\n",
    "                 ]\n",
    "\n",
    "categories=['SNP','non-hmer Indel','non-hmer Indel w/o LCR','hmer Indel <=4','hmer Indel >4,<=8']\n",
    "optTab1,optRes,perfCurve=getPerformance(filtData,categories)\n",
    "plotPerformance(perfCurve,optRes,categories,img='hicvg.primary',source={'whole genome':sources['whole genome']})\n"
   ]
  },
  {
   "cell_type": "code",
   "execution_count": 22,
   "metadata": {
    "pycharm": {
     "name": "#%%\n"
    }
   },
   "outputs": [
    {
     "data": {
      "image/png": "[encoded data removed]",
      "text/plain": [
       "<Figure size 1728x288 with 6 Axes>"
      ]
     },
     "metadata": {
      "needs_background": "light"
     },
     "output_type": "display_data"
    }
   ],
   "source": [
    "categories=['hmer Indel 4','hmer Indel 5','hmer Indel 6','hmer Indel 7','hmer Indel 8','hmer Indel >8,<=10']\n",
    "optTab2,optRes,perfCurve=getPerformance(filtData,categories)\n",
    "plotPerformance(perfCurve,optRes,categories,img='hicvg.hmers',source={'whole genome':sources['whole genome']})"
   ]
  },
  {
   "cell_type": "code",
   "execution_count": 23,
   "metadata": {
    "pycharm": {
     "name": "#%%\n"
    }
   },
   "outputs": [
    {
     "data": {
      "text/html": [
       "<div>\n",
       "<style scoped>\n",
       "    .dataframe tbody tr th:only-of-type {\n",
       "        vertical-align: middle;\n",
       "    }\n",
       "\n",
       "    .dataframe tbody tr th {\n",
       "        vertical-align: top;\n",
       "    }\n",
       "\n",
       "    .dataframe thead th {\n",
       "        text-align: right;\n",
       "    }\n",
       "</style>\n",
       "<table border=\"1\" class=\"dataframe\">\n",
       "  <thead>\n",
       "    <tr style=\"text-align: right;\">\n",
       "      <th></th>\n",
       "      <th># pos</th>\n",
       "      <th># neg</th>\n",
       "      <th>max recall</th>\n",
       "      <th>recall</th>\n",
       "      <th>precision</th>\n",
       "      <th>F1</th>\n",
       "    </tr>\n",
       "  </thead>\n",
       "  <tbody>\n",
       "    <tr>\n",
       "      <th>SNP</th>\n",
       "      <td>2925783</td>\n",
       "      <td>16766</td>\n",
       "      <td>99.80%</td>\n",
       "      <td>99.78%</td>\n",
       "      <td>99.76%</td>\n",
       "      <td>99.77%</td>\n",
       "    </tr>\n",
       "    <tr>\n",
       "      <th>non-hmer Indel</th>\n",
       "      <td>160997</td>\n",
       "      <td>15806</td>\n",
       "      <td>96.28%</td>\n",
       "      <td>95.74%</td>\n",
       "      <td>97.60%</td>\n",
       "      <td>96.66%</td>\n",
       "    </tr>\n",
       "    <tr>\n",
       "      <th>non-hmer Indel w/o LCR</th>\n",
       "      <td>160997</td>\n",
       "      <td>15806</td>\n",
       "      <td>96.28%</td>\n",
       "      <td>95.74%</td>\n",
       "      <td>97.60%</td>\n",
       "      <td>96.66%</td>\n",
       "    </tr>\n",
       "    <tr>\n",
       "      <th>hmer Indel &lt;=4</th>\n",
       "      <td>51798</td>\n",
       "      <td>38024</td>\n",
       "      <td>98.81%</td>\n",
       "      <td>97.29%</td>\n",
       "      <td>94.61%</td>\n",
       "      <td>95.93%</td>\n",
       "    </tr>\n",
       "    <tr>\n",
       "      <th>hmer Indel &gt;4,&lt;=8</th>\n",
       "      <td>38248</td>\n",
       "      <td>7517</td>\n",
       "      <td>98.32%</td>\n",
       "      <td>96.81%</td>\n",
       "      <td>96.19%</td>\n",
       "      <td>96.50%</td>\n",
       "    </tr>\n",
       "    <tr>\n",
       "      <th>hmer Indel 4</th>\n",
       "      <td>8697</td>\n",
       "      <td>5708</td>\n",
       "      <td>98.98%</td>\n",
       "      <td>97.32%</td>\n",
       "      <td>93.02%</td>\n",
       "      <td>95.12%</td>\n",
       "    </tr>\n",
       "    <tr>\n",
       "      <th>hmer Indel 5</th>\n",
       "      <td>7056</td>\n",
       "      <td>3645</td>\n",
       "      <td>99.01%</td>\n",
       "      <td>96.84%</td>\n",
       "      <td>94.05%</td>\n",
       "      <td>95.43%</td>\n",
       "    </tr>\n",
       "    <tr>\n",
       "      <th>hmer Indel 6</th>\n",
       "      <td>9242</td>\n",
       "      <td>1874</td>\n",
       "      <td>98.92%</td>\n",
       "      <td>97.21%</td>\n",
       "      <td>96.62%</td>\n",
       "      <td>96.91%</td>\n",
       "    </tr>\n",
       "    <tr>\n",
       "      <th>hmer Indel 7</th>\n",
       "      <td>10491</td>\n",
       "      <td>1128</td>\n",
       "      <td>98.29%</td>\n",
       "      <td>96.89%</td>\n",
       "      <td>96.95%</td>\n",
       "      <td>96.92%</td>\n",
       "    </tr>\n",
       "    <tr>\n",
       "      <th>hmer Indel 8</th>\n",
       "      <td>11459</td>\n",
       "      <td>870</td>\n",
       "      <td>97.44%</td>\n",
       "      <td>96.39%</td>\n",
       "      <td>96.49%</td>\n",
       "      <td>96.44%</td>\n",
       "    </tr>\n",
       "    <tr>\n",
       "      <th>hmer Indel &gt;8,&lt;=10</th>\n",
       "      <td>27973</td>\n",
       "      <td>3291</td>\n",
       "      <td>89.40%</td>\n",
       "      <td>88.56%</td>\n",
       "      <td>91.45%</td>\n",
       "      <td>89.98%</td>\n",
       "    </tr>\n",
       "  </tbody>\n",
       "</table>\n",
       "</div>"
      ],
      "text/plain": [
       "                          # pos  # neg  max recall  recall  precision     F1\n",
       "SNP                     2925783  16766      99.80%  99.78%     99.76% 99.77%\n",
       "non-hmer Indel           160997  15806      96.28%  95.74%     97.60% 96.66%\n",
       "non-hmer Indel w/o LCR   160997  15806      96.28%  95.74%     97.60% 96.66%\n",
       "hmer Indel <=4            51798  38024      98.81%  97.29%     94.61% 95.93%\n",
       "hmer Indel >4,<=8         38248   7517      98.32%  96.81%     96.19% 96.50%\n",
       "hmer Indel 4               8697   5708      98.98%  97.32%     93.02% 95.12%\n",
       "hmer Indel 5               7056   3645      99.01%  96.84%     94.05% 95.43%\n",
       "hmer Indel 6               9242   1874      98.92%  97.21%     96.62% 96.91%\n",
       "hmer Indel 7              10491   1128      98.29%  96.89%     96.95% 96.92%\n",
       "hmer Indel 8              11459    870      97.44%  96.39%     96.49% 96.44%\n",
       "hmer Indel >8,<=10        27973   3291      89.40%  88.56%     91.45% 89.98%"
      ]
     },
     "execution_count": 23,
     "metadata": {},
     "output_type": "execute_result"
    }
   ],
   "source": [
    "optTab={}\n",
    "for s in sources:\n",
    "    optTab[s]=pd.concat([optTab1[s], optTab2[s]])\n",
    "df=pd.concat([optTab[s] for s in sources], axis=1, keys=[s for s in sources])\n",
    "df.to_hdf(h5outfile, key=\"good_cvg_data\")\n",
    "defTable=df.copy()\n",
    "df['whole genome']"
   ]
  },
  {
   "cell_type": "markdown",
   "metadata": {
    "pycharm": {
     "name": "#%% md\n"
    }
   },
   "source": [
    "### Including genotype"
   ]
  },
  {
   "cell_type": "code",
   "execution_count": null,
   "metadata": {
    "pycharm": {
     "name": "#%%\n"
    }
   },
   "outputs": [],
   "source": [
    "categories=['SNP','non-hmer Indel','non-hmer Indel w/o LCR','hmer Indel <=4','hmer Indel >4,<=8']\n",
    "optTab,optRes,perfCurve=getPerformance(filtData,categories,gt=True)\n",
    "plotPerformance(perfCurve,optRes,categories,source={'whole genome':sources['whole genome']})"
   ]
  },
  {
   "cell_type": "code",
   "execution_count": null,
   "metadata": {},
   "outputs": [],
   "source": [
    "df=pd.concat([optTab[s] for s in sources], axis=1, keys=[s for s in sources])\n",
    "df.to_hdf(h5outfile, key=\"good_cvg_data_gt\")\n",
    "df['whole genome']"
   ]
  },
  {
   "cell_type": "markdown",
   "metadata": {
    "pycharm": {
     "name": "#%% md\n"
    }
   },
   "source": [
    "### Homozygous genotyping accuracy"
   ]
  },
  {
   "cell_type": "code",
   "execution_count": 26,
   "metadata": {
    "pycharm": {
     "name": "#%%\n"
    }
   },
   "outputs": [
    {
     "data": {
      "text/html": [
       "<div>\n",
       "<style scoped>\n",
       "    .dataframe tbody tr th:only-of-type {\n",
       "        vertical-align: middle;\n",
       "    }\n",
       "\n",
       "    .dataframe tbody tr th {\n",
       "        vertical-align: top;\n",
       "    }\n",
       "\n",
       "    .dataframe thead th {\n",
       "        text-align: right;\n",
       "    }\n",
       "</style>\n",
       "<table border=\"1\" class=\"dataframe\">\n",
       "  <thead>\n",
       "    <tr style=\"text-align: right;\">\n",
       "      <th></th>\n",
       "      <th># pos</th>\n",
       "      <th># neg</th>\n",
       "      <th>max recall</th>\n",
       "      <th>recall</th>\n",
       "      <th>precision</th>\n",
       "      <th>F1</th>\n",
       "    </tr>\n",
       "  </thead>\n",
       "  <tbody>\n",
       "    <tr>\n",
       "      <th>SNP</th>\n",
       "      <td>1263105</td>\n",
       "      <td>8</td>\n",
       "      <td>100.00%</td>\n",
       "      <td>100.00%</td>\n",
       "      <td>100.00%</td>\n",
       "      <td>100.00%</td>\n",
       "    </tr>\n",
       "    <tr>\n",
       "      <th>non-hmer Indel</th>\n",
       "      <td>56778</td>\n",
       "      <td>47</td>\n",
       "      <td>100.00%</td>\n",
       "      <td>99.85%</td>\n",
       "      <td>99.92%</td>\n",
       "      <td>99.88%</td>\n",
       "    </tr>\n",
       "    <tr>\n",
       "      <th>non-hmer Indel w/o LCR</th>\n",
       "      <td>56778</td>\n",
       "      <td>47</td>\n",
       "      <td>100.00%</td>\n",
       "      <td>99.85%</td>\n",
       "      <td>99.92%</td>\n",
       "      <td>99.88%</td>\n",
       "    </tr>\n",
       "    <tr>\n",
       "      <th>hmer Indel &lt;=4</th>\n",
       "      <td>24345</td>\n",
       "      <td>27</td>\n",
       "      <td>100.00%</td>\n",
       "      <td>99.97%</td>\n",
       "      <td>99.89%</td>\n",
       "      <td>99.93%</td>\n",
       "    </tr>\n",
       "    <tr>\n",
       "      <th>hmer Indel &gt;4,&lt;=8</th>\n",
       "      <td>14091</td>\n",
       "      <td>9</td>\n",
       "      <td>99.99%</td>\n",
       "      <td>99.95%</td>\n",
       "      <td>99.94%</td>\n",
       "      <td>99.95%</td>\n",
       "    </tr>\n",
       "  </tbody>\n",
       "</table>\n",
       "</div>"
      ],
      "text/plain": [
       "                          # pos  # neg  max recall  recall  precision      F1\n",
       "SNP                     1263105      8     100.00% 100.00%    100.00% 100.00%\n",
       "non-hmer Indel            56778     47     100.00%  99.85%     99.92%  99.88%\n",
       "non-hmer Indel w/o LCR    56778     47     100.00%  99.85%     99.92%  99.88%\n",
       "hmer Indel <=4            24345     27     100.00%  99.97%     99.89%  99.93%\n",
       "hmer Indel >4,<=8         14091      9      99.99%  99.95%     99.94%  99.95%"
      ]
     },
     "execution_count": 26,
     "metadata": {},
     "output_type": "execute_result"
    }
   ],
   "source": [
    "categories=['SNP','non-hmer Indel','non-hmer Indel w/o LCR','hmer Indel <=4','hmer Indel >4,<=8']\n",
    "\n",
    "hmzData={}\n",
    "for s in sources:\n",
    "        d=filtData[s]\n",
    "        hmzData[s]=d[(d['gt_ground_truth']==(1,1)) & (d['classify_gt']!='fn')]\n",
    "optTab,optRes,perfCurve=getPerformance(hmzData,categories,gt=True)\n",
    "df=pd.concat([optTab[s] for s in sources], axis=1, keys=[s for s in sources])\n",
    "df.to_hdf(h5outfile, key=\"good_cvg_data_homozygous\")\n",
    "df['whole genome']"
   ]
  },
  {
   "cell_type": "markdown",
   "metadata": {
    "pycharm": {
     "name": "#%% md\n"
    }
   },
   "source": [
    "### Stratified by base"
   ]
  },
  {
   "cell_type": "markdown",
   "metadata": {
    "pycharm": {
     "name": "#%% md\n"
    }
   },
   "source": [
    "#### (A,T)"
   ]
  },
  {
   "cell_type": "code",
   "execution_count": 27,
   "metadata": {
    "pycharm": {
     "name": "#%%\n"
    }
   },
   "outputs": [
    {
     "data": {
      "image/png": "[encoded data removed]",
      "text/plain": [
       "<Figure size 1440x288 with 5 Axes>"
      ]
     },
     "metadata": {
      "needs_background": "light"
     },
     "output_type": "display_data"
    }
   ],
   "source": [
    "categories=['SNP','hmer Indel <=4','hmer Indel >4,<=8','hmer Indel >8,<=10','hmer Indel 8']\n",
    "\n",
    "baseData={}\n",
    "b =('A','T')\n",
    "for s in sources:\n",
    "        d=filtData[s]\n",
    "        baseData[s]=d[((d['indel']==False) & ((d['ref']==b[0]) | (d['ref']==b[1]))) |\n",
    "                      ((d['hmer_indel_length']>0) & ((d['hmer_indel_nuc']==b[0]) | (d['hmer_indel_nuc']==b[1])))\n",
    "                     ]\n",
    "optTab1,optRes,perfCurve=getPerformance(baseData,categories)\n",
    "for s in sources:\n",
    "    optTab1[s].rename(index={a:'{0} ({1}/{2})'.format(a,b[0],b[1]) for a in optTab1[s].index}, inplace=True)\n",
    "plotPerformance(perfCurve,optRes,categories,source={'whole genome':sources['whole genome']})"
   ]
  },
  {
   "cell_type": "markdown",
   "metadata": {},
   "source": [
    "#### (G,C)"
   ]
  },
  {
   "cell_type": "code",
   "execution_count": 28,
   "metadata": {},
   "outputs": [
    {
     "data": {
      "image/png": "[encoded data removed]",
      "text/plain": [
       "<Figure size 1440x288 with 5 Axes>"
      ]
     },
     "metadata": {
      "needs_background": "light"
     },
     "output_type": "display_data"
    }
   ],
   "source": [
    "categories=['SNP','hmer Indel <=4','hmer Indel >4,<=8','hmer Indel >8,<=10','hmer Indel 6']\n",
    "baseData={}\n",
    "b =('C','G')\n",
    "for s in sources:\n",
    "        d=filtData[s]\n",
    "        baseData[s]=d[((d['indel']==False) & ((d['ref']==b[0]) | (d['ref']==b[1]))) |\n",
    "                      ((d['hmer_indel_length']>0) & ((d['hmer_indel_nuc']==b[0]) | (d['hmer_indel_nuc']==b[1])))\n",
    "                     ]\n",
    "optTab2,optRes,perfCurve=getPerformance(baseData,categories)\n",
    "for s in sources:\n",
    "    optTab2[s].rename(index={a:'{0} ({1}/{2})'.format(a,b[0],b[1]) for a in optTab2[s].index}, inplace=True)\n",
    "plotPerformance(perfCurve,optRes,categories,source={'whole genome':sources['whole genome']})"
   ]
  },
  {
   "cell_type": "code",
   "execution_count": 29,
   "metadata": {},
   "outputs": [
    {
     "data": {
      "text/html": [
       "<div>\n",
       "<style scoped>\n",
       "    .dataframe tbody tr th:only-of-type {\n",
       "        vertical-align: middle;\n",
       "    }\n",
       "\n",
       "    .dataframe tbody tr th {\n",
       "        vertical-align: top;\n",
       "    }\n",
       "\n",
       "    .dataframe thead th {\n",
       "        text-align: right;\n",
       "    }\n",
       "</style>\n",
       "<table border=\"1\" class=\"dataframe\">\n",
       "  <thead>\n",
       "    <tr style=\"text-align: right;\">\n",
       "      <th></th>\n",
       "      <th># pos</th>\n",
       "      <th># neg</th>\n",
       "      <th>max recall</th>\n",
       "      <th>recall</th>\n",
       "      <th>precision</th>\n",
       "      <th>F1</th>\n",
       "    </tr>\n",
       "  </thead>\n",
       "  <tbody>\n",
       "    <tr>\n",
       "      <th>SNP (A/T)</th>\n",
       "      <td>1414668</td>\n",
       "      <td>12299</td>\n",
       "      <td>99.79%</td>\n",
       "      <td>99.77%</td>\n",
       "      <td>99.73%</td>\n",
       "      <td>99.75%</td>\n",
       "    </tr>\n",
       "    <tr>\n",
       "      <th>hmer Indel &lt;=4 (A/T)</th>\n",
       "      <td>31914</td>\n",
       "      <td>2120</td>\n",
       "      <td>99.03%</td>\n",
       "      <td>98.00%</td>\n",
       "      <td>98.86%</td>\n",
       "      <td>98.43%</td>\n",
       "    </tr>\n",
       "    <tr>\n",
       "      <th>hmer Indel &gt;4,&lt;=8 (A/T)</th>\n",
       "      <td>31896</td>\n",
       "      <td>3315</td>\n",
       "      <td>98.94%</td>\n",
       "      <td>98.39%</td>\n",
       "      <td>98.00%</td>\n",
       "      <td>98.19%</td>\n",
       "    </tr>\n",
       "    <tr>\n",
       "      <th>hmer Indel &gt;8,&lt;=10 (A/T)</th>\n",
       "      <td>26790</td>\n",
       "      <td>2254</td>\n",
       "      <td>91.49%</td>\n",
       "      <td>90.85%</td>\n",
       "      <td>94.44%</td>\n",
       "      <td>92.61%</td>\n",
       "    </tr>\n",
       "    <tr>\n",
       "      <th>hmer Indel 8 (A/T)</th>\n",
       "      <td>10468</td>\n",
       "      <td>440</td>\n",
       "      <td>98.49%</td>\n",
       "      <td>98.20%</td>\n",
       "      <td>98.38%</td>\n",
       "      <td>98.29%</td>\n",
       "    </tr>\n",
       "    <tr>\n",
       "      <th>SNP (C/G)</th>\n",
       "      <td>1511115</td>\n",
       "      <td>4467</td>\n",
       "      <td>99.81%</td>\n",
       "      <td>99.79%</td>\n",
       "      <td>99.79%</td>\n",
       "      <td>99.79%</td>\n",
       "    </tr>\n",
       "    <tr>\n",
       "      <th>hmer Indel &lt;=4 (C/G)</th>\n",
       "      <td>19823</td>\n",
       "      <td>35372</td>\n",
       "      <td>98.77%</td>\n",
       "      <td>96.43%</td>\n",
       "      <td>89.94%</td>\n",
       "      <td>93.07%</td>\n",
       "    </tr>\n",
       "    <tr>\n",
       "      <th>hmer Indel &gt;4,&lt;=8 (C/G)</th>\n",
       "      <td>6303</td>\n",
       "      <td>3979</td>\n",
       "      <td>95.94%</td>\n",
       "      <td>89.53%</td>\n",
       "      <td>89.76%</td>\n",
       "      <td>89.64%</td>\n",
       "    </tr>\n",
       "    <tr>\n",
       "      <th>hmer Indel &gt;8,&lt;=10 (C/G)</th>\n",
       "      <td>1121</td>\n",
       "      <td>586</td>\n",
       "      <td>44.34%</td>\n",
       "      <td>38.89%</td>\n",
       "      <td>48.02%</td>\n",
       "      <td>42.98%</td>\n",
       "    </tr>\n",
       "    <tr>\n",
       "      <th>hmer Indel 6 (C/G)</th>\n",
       "      <td>1836</td>\n",
       "      <td>995</td>\n",
       "      <td>97.82%</td>\n",
       "      <td>92.21%</td>\n",
       "      <td>91.56%</td>\n",
       "      <td>91.89%</td>\n",
       "    </tr>\n",
       "  </tbody>\n",
       "</table>\n",
       "</div>"
      ],
      "text/plain": [
       "                            # pos  # neg  max recall  recall  precision     F1\n",
       "SNP (A/T)                 1414668  12299      99.79%  99.77%     99.73% 99.75%\n",
       "hmer Indel <=4 (A/T)        31914   2120      99.03%  98.00%     98.86% 98.43%\n",
       "hmer Indel >4,<=8 (A/T)     31896   3315      98.94%  98.39%     98.00% 98.19%\n",
       "hmer Indel >8,<=10 (A/T)    26790   2254      91.49%  90.85%     94.44% 92.61%\n",
       "hmer Indel 8 (A/T)          10468    440      98.49%  98.20%     98.38% 98.29%\n",
       "SNP (C/G)                 1511115   4467      99.81%  99.79%     99.79% 99.79%\n",
       "hmer Indel <=4 (C/G)        19823  35372      98.77%  96.43%     89.94% 93.07%\n",
       "hmer Indel >4,<=8 (C/G)      6303   3979      95.94%  89.53%     89.76% 89.64%\n",
       "hmer Indel >8,<=10 (C/G)     1121    586      44.34%  38.89%     48.02% 42.98%\n",
       "hmer Indel 6 (C/G)           1836    995      97.82%  92.21%     91.56% 91.89%"
      ]
     },
     "execution_count": 29,
     "metadata": {},
     "output_type": "execute_result"
    }
   ],
   "source": [
    "optTab={}\n",
    "for s in sources:\n",
    "    optTab[s]=pd.concat([optTab1[s], optTab2[s]])\n",
    "df=pd.concat([optTab[s] for s in sources], axis=1, keys=[s for s in sources])\n",
    "df.to_hdf(h5outfile, key=\"good_cvg_data_per_base\")\n",
    "df['whole genome']"
   ]
  },
  {
   "cell_type": "markdown",
   "metadata": {
    "pycharm": {
     "name": "#%% md\n"
    }
   },
   "source": [
    "###  Trained with and without Ground Truth"
   ]
  },
  {
   "cell_type": "code",
   "execution_count": 30,
   "metadata": {
    "jupyter": {
     "outputs_hidden": false
    },
    "pycharm": {
     "name": "#%%\n"
    }
   },
   "outputs": [
    {
     "data": {
      "image/png": "[encoded data removed]",
      "text/plain": [
       "<Figure size 1440x288 with 5 Axes>"
      ]
     },
     "metadata": {
      "needs_background": "light"
     },
     "output_type": "display_data"
    }
   ],
   "source": [
    "categories=['SNP','non-hmer Indel','non-hmer Indel w/o LCR','hmer Indel <=4','hmer Indel >4,<=8']\n",
    "optTab1,optRes,perfCurve=getPerformance(data,categories)\n",
    "plotPerformance(perfCurve,optRes,categories,img='all.primary',source={'Trained wo gt':sources['Trained wo gt'], 'Trained with gt': sources['Trained wo gt']})"
   ]
  },
  {
   "cell_type": "code",
   "execution_count": 31,
   "metadata": {
    "jupyter": {
     "outputs_hidden": false
    },
    "pycharm": {
     "name": "#%%\n"
    }
   },
   "outputs": [
    {
     "data": {
      "image/png": "[encoded data removed]",
      "text/plain": [
       "<Figure size 1728x288 with 6 Axes>"
      ]
     },
     "metadata": {
      "needs_background": "light"
     },
     "output_type": "display_data"
    }
   ],
   "source": [
    "categories=['hmer Indel 4','hmer Indel 5','hmer Indel 6','hmer Indel 7','hmer Indel 8','hmer Indel >8,<=10']\n",
    "optTab2,optRes,perfCurve=getPerformance(data,categories)\n",
    "plotPerformance(perfCurve,optRes,categories,img='all.hmers',source={'Trained wo gt':sources['Trained wo gt'], 'Trained with gt': sources['Trained wo gt']})"
   ]
  },
  {
   "cell_type": "code",
   "execution_count": 32,
   "metadata": {
    "jupyter": {
     "outputs_hidden": false
    },
    "pycharm": {
     "name": "#%%\n"
    }
   },
   "outputs": [
    {
     "data": {
      "text/html": [
       "<div>\n",
       "<style scoped>\n",
       "    .dataframe tbody tr th:only-of-type {\n",
       "        vertical-align: middle;\n",
       "    }\n",
       "\n",
       "    .dataframe tbody tr th {\n",
       "        vertical-align: top;\n",
       "    }\n",
       "\n",
       "    .dataframe thead tr th {\n",
       "        text-align: left;\n",
       "    }\n",
       "</style>\n",
       "<table border=\"1\" class=\"dataframe\">\n",
       "  <thead>\n",
       "    <tr>\n",
       "      <th></th>\n",
       "      <th colspan=\"6\" halign=\"left\">Trained wo gt</th>\n",
       "      <th colspan=\"6\" halign=\"left\">Trained with gt</th>\n",
       "    </tr>\n",
       "    <tr>\n",
       "      <th></th>\n",
       "      <th># pos</th>\n",
       "      <th># neg</th>\n",
       "      <th>max recall</th>\n",
       "      <th>recall</th>\n",
       "      <th>precision</th>\n",
       "      <th>F1</th>\n",
       "      <th># pos</th>\n",
       "      <th># neg</th>\n",
       "      <th>max recall</th>\n",
       "      <th>recall</th>\n",
       "      <th>precision</th>\n",
       "      <th>F1</th>\n",
       "    </tr>\n",
       "  </thead>\n",
       "  <tbody>\n",
       "    <tr>\n",
       "      <th>SNP</th>\n",
       "      <td>130683</td>\n",
       "      <td>1177</td>\n",
       "      <td>99.55%</td>\n",
       "      <td>99.52%</td>\n",
       "      <td>99.51%</td>\n",
       "      <td>99.52%</td>\n",
       "      <td>130683</td>\n",
       "      <td>1177</td>\n",
       "      <td>99.55%</td>\n",
       "      <td>99.48%</td>\n",
       "      <td>99.50%</td>\n",
       "      <td>99.49%</td>\n",
       "    </tr>\n",
       "    <tr>\n",
       "      <th>non-hmer Indel</th>\n",
       "      <td>7400</td>\n",
       "      <td>908</td>\n",
       "      <td>90.19%</td>\n",
       "      <td>89.78%</td>\n",
       "      <td>95.82%</td>\n",
       "      <td>92.70%</td>\n",
       "      <td>7410</td>\n",
       "      <td>1130</td>\n",
       "      <td>90.07%</td>\n",
       "      <td>89.46%</td>\n",
       "      <td>92.36%</td>\n",
       "      <td>90.89%</td>\n",
       "    </tr>\n",
       "    <tr>\n",
       "      <th>non-hmer Indel w/o LCR</th>\n",
       "      <td>5484</td>\n",
       "      <td>665</td>\n",
       "      <td>95.70%</td>\n",
       "      <td>95.30%</td>\n",
       "      <td>97.21%</td>\n",
       "      <td>96.24%</td>\n",
       "      <td>5488</td>\n",
       "      <td>714</td>\n",
       "      <td>95.63%</td>\n",
       "      <td>95.08%</td>\n",
       "      <td>95.57%</td>\n",
       "      <td>95.32%</td>\n",
       "    </tr>\n",
       "    <tr>\n",
       "      <th>hmer Indel &lt;=4</th>\n",
       "      <td>2123</td>\n",
       "      <td>1920</td>\n",
       "      <td>98.12%</td>\n",
       "      <td>95.76%</td>\n",
       "      <td>93.04%</td>\n",
       "      <td>94.38%</td>\n",
       "      <td>2120</td>\n",
       "      <td>1915</td>\n",
       "      <td>98.25%</td>\n",
       "      <td>97.50%</td>\n",
       "      <td>86.67%</td>\n",
       "      <td>91.76%</td>\n",
       "    </tr>\n",
       "    <tr>\n",
       "      <th>hmer Indel &gt;4,&lt;=8</th>\n",
       "      <td>1644</td>\n",
       "      <td>369</td>\n",
       "      <td>98.11%</td>\n",
       "      <td>96.05%</td>\n",
       "      <td>95.58%</td>\n",
       "      <td>95.81%</td>\n",
       "      <td>1642</td>\n",
       "      <td>379</td>\n",
       "      <td>98.23%</td>\n",
       "      <td>96.29%</td>\n",
       "      <td>93.00%</td>\n",
       "      <td>94.61%</td>\n",
       "    </tr>\n",
       "    <tr>\n",
       "      <th>hmer Indel 4</th>\n",
       "      <td>368</td>\n",
       "      <td>286</td>\n",
       "      <td>98.10%</td>\n",
       "      <td>95.65%</td>\n",
       "      <td>91.43%</td>\n",
       "      <td>93.49%</td>\n",
       "      <td>368</td>\n",
       "      <td>289</td>\n",
       "      <td>98.10%</td>\n",
       "      <td>97.01%</td>\n",
       "      <td>82.64%</td>\n",
       "      <td>89.25%</td>\n",
       "    </tr>\n",
       "    <tr>\n",
       "      <th>hmer Indel 5</th>\n",
       "      <td>334</td>\n",
       "      <td>170</td>\n",
       "      <td>98.50%</td>\n",
       "      <td>95.81%</td>\n",
       "      <td>93.57%</td>\n",
       "      <td>94.67%</td>\n",
       "      <td>334</td>\n",
       "      <td>170</td>\n",
       "      <td>98.50%</td>\n",
       "      <td>97.01%</td>\n",
       "      <td>87.10%</td>\n",
       "      <td>91.78%</td>\n",
       "    </tr>\n",
       "    <tr>\n",
       "      <th>hmer Indel 6</th>\n",
       "      <td>385</td>\n",
       "      <td>108</td>\n",
       "      <td>99.22%</td>\n",
       "      <td>96.10%</td>\n",
       "      <td>95.36%</td>\n",
       "      <td>95.73%</td>\n",
       "      <td>384</td>\n",
       "      <td>108</td>\n",
       "      <td>99.48%</td>\n",
       "      <td>97.40%</td>\n",
       "      <td>94.21%</td>\n",
       "      <td>95.77%</td>\n",
       "    </tr>\n",
       "    <tr>\n",
       "      <th>hmer Indel 7</th>\n",
       "      <td>438</td>\n",
       "      <td>52</td>\n",
       "      <td>98.40%</td>\n",
       "      <td>97.03%</td>\n",
       "      <td>97.25%</td>\n",
       "      <td>97.14%</td>\n",
       "      <td>439</td>\n",
       "      <td>54</td>\n",
       "      <td>97.95%</td>\n",
       "      <td>96.81%</td>\n",
       "      <td>95.94%</td>\n",
       "      <td>96.37%</td>\n",
       "    </tr>\n",
       "    <tr>\n",
       "      <th>hmer Indel 8</th>\n",
       "      <td>487</td>\n",
       "      <td>39</td>\n",
       "      <td>96.71%</td>\n",
       "      <td>95.28%</td>\n",
       "      <td>95.67%</td>\n",
       "      <td>95.47%</td>\n",
       "      <td>485</td>\n",
       "      <td>47</td>\n",
       "      <td>97.11%</td>\n",
       "      <td>94.43%</td>\n",
       "      <td>93.85%</td>\n",
       "      <td>94.14%</td>\n",
       "    </tr>\n",
       "    <tr>\n",
       "      <th>hmer Indel &gt;8,&lt;=10</th>\n",
       "      <td>1160</td>\n",
       "      <td>125</td>\n",
       "      <td>87.59%</td>\n",
       "      <td>86.81%</td>\n",
       "      <td>91.96%</td>\n",
       "      <td>89.31%</td>\n",
       "      <td>1159</td>\n",
       "      <td>129</td>\n",
       "      <td>87.66%</td>\n",
       "      <td>83.52%</td>\n",
       "      <td>92.90%</td>\n",
       "      <td>87.96%</td>\n",
       "    </tr>\n",
       "  </tbody>\n",
       "</table>\n",
       "</div>"
      ],
      "text/plain": [
       "                       Trained wo gt                                           \\\n",
       "                               # pos # neg max recall recall precision     F1   \n",
       "SNP                           130683  1177     99.55% 99.52%    99.51% 99.52%   \n",
       "non-hmer Indel                  7400   908     90.19% 89.78%    95.82% 92.70%   \n",
       "non-hmer Indel w/o LCR          5484   665     95.70% 95.30%    97.21% 96.24%   \n",
       "hmer Indel <=4                  2123  1920     98.12% 95.76%    93.04% 94.38%   \n",
       "hmer Indel >4,<=8               1644   369     98.11% 96.05%    95.58% 95.81%   \n",
       "hmer Indel 4                     368   286     98.10% 95.65%    91.43% 93.49%   \n",
       "hmer Indel 5                     334   170     98.50% 95.81%    93.57% 94.67%   \n",
       "hmer Indel 6                     385   108     99.22% 96.10%    95.36% 95.73%   \n",
       "hmer Indel 7                     438    52     98.40% 97.03%    97.25% 97.14%   \n",
       "hmer Indel 8                     487    39     96.71% 95.28%    95.67% 95.47%   \n",
       "hmer Indel >8,<=10              1160   125     87.59% 86.81%    91.96% 89.31%   \n",
       "\n",
       "                       Trained with gt                                    \\\n",
       "                                 # pos # neg max recall recall precision   \n",
       "SNP                             130683  1177     99.55% 99.48%    99.50%   \n",
       "non-hmer Indel                    7410  1130     90.07% 89.46%    92.36%   \n",
       "non-hmer Indel w/o LCR            5488   714     95.63% 95.08%    95.57%   \n",
       "hmer Indel <=4                    2120  1915     98.25% 97.50%    86.67%   \n",
       "hmer Indel >4,<=8                 1642   379     98.23% 96.29%    93.00%   \n",
       "hmer Indel 4                       368   289     98.10% 97.01%    82.64%   \n",
       "hmer Indel 5                       334   170     98.50% 97.01%    87.10%   \n",
       "hmer Indel 6                       384   108     99.48% 97.40%    94.21%   \n",
       "hmer Indel 7                       439    54     97.95% 96.81%    95.94%   \n",
       "hmer Indel 8                       485    47     97.11% 94.43%    93.85%   \n",
       "hmer Indel >8,<=10                1159   129     87.66% 83.52%    92.90%   \n",
       "\n",
       "                               \n",
       "                           F1  \n",
       "SNP                    99.49%  \n",
       "non-hmer Indel         90.89%  \n",
       "non-hmer Indel w/o LCR 95.32%  \n",
       "hmer Indel <=4         91.76%  \n",
       "hmer Indel >4,<=8      94.61%  \n",
       "hmer Indel 4           89.25%  \n",
       "hmer Indel 5           91.78%  \n",
       "hmer Indel 6           95.77%  \n",
       "hmer Indel 7           96.37%  \n",
       "hmer Indel 8           94.14%  \n",
       "hmer Indel >8,<=10     87.96%  "
      ]
     },
     "execution_count": 32,
     "metadata": {},
     "output_type": "execute_result"
    }
   ],
   "source": [
    "pd.options.display.float_format = '{:,.2%}'.format\n",
    "sources={'Trained wo gt':sources['Trained wo gt'], 'Trained with gt': sources['Trained wo gt']}\n",
    "optTab={}\n",
    "for s in sources:\n",
    "    optTab[s]=pd.concat([optTab1[s], optTab2[s]])\n",
    "df=pd.concat([optTab[s] for s in sources], axis=1, keys=[s for s in sources])\n",
    "df.to_hdf(h5outfile, key=\"trained_w_wo_gt\")\n",
    "df_all=df\n",
    "df"
   ]
  },
  {
   "cell_type": "code",
   "execution_count": 40,
   "metadata": {},
   "outputs": [],
   "source": [
    "%matplotlib agg\n",
    "d=defTable['Trained with gt'][['max recall','recall','precision']]\n",
    "labels=['SNP','nhmer','nhmer w/o LCR','hmer 2-4','hmer 5-8','hmer 4','hmer 5','hmer 6','hmer 7','hmer 8','hmer 9-10']\n",
    "fig=plt.figure()\n",
    "ax=d.plot()\n",
    "plt.xticks(np.arange(len(d.index)), rotation=30, ha='right')\n",
    "ax.set_xticklabels(labels)\n",
    "plt.ylim([0.4,1.05])\n",
    "plt.grid()\n",
    "plt.title('Cvg>20X, Trained variant calls')\n",
    "plt.tight_layout()\n",
    "nxp.save(fig,imgpref+'summary','png',outdir=imgdir)\n",
    "plt.close(fig)"
   ]
  },
  {
   "cell_type": "code",
   "execution_count": null,
   "metadata": {
    "pycharm": {
     "name": "#%%\n"
    }
   },
   "outputs": [],
   "source": []
  }
 ],
 "metadata": {
  "kernelspec": {
   "display_name": "Python 3",
   "language": "python",
   "name": "python3"
  },
  "language_info": {
   "codemirror_mode": {
    "name": "ipython",
    "version": 3
   },
   "file_extension": ".py",
   "mimetype": "text/x-python",
   "name": "python",
   "nbconvert_exporter": "python",
   "pygments_lexer": "ipython3",
   "version": "3.7.8"
  },
  "toc": {
   "base_numbering": 1,
   "nav_menu": {},
   "number_sections": true,
   "sideBar": true,
   "skip_h1_title": false,
   "title_cell": "Table of Contents",
   "title_sidebar": "Contents",
   "toc_cell": false,
   "toc_position": {},
   "toc_section_display": true,
   "toc_window_display": false
  }
 },
 "nbformat": 4,
 "nbformat_minor": 4
}