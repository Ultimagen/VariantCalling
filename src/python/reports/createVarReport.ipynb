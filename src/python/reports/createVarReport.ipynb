{
 "cells": [
  {
   "cell_type": "markdown",
   "metadata": {},
   "source": [
    "## Variant Calling Report v1.2.3\n",
    "## Input Parameters"
   ]
  },
  {
   "cell_type": "code",
   "execution_count": 1,
   "metadata": {},
   "outputs": [
    {
     "name": "stdout",
     "output_type": "stream",
     "text": [
      "WARNING: mpld3 not available\n"
     ]
    },
    {
     "data": {
      "text/html": [
       "<div>\n",
       "<style scoped>\n",
       "    .dataframe tbody tr th:only-of-type {\n",
       "        vertical-align: middle;\n",
       "    }\n",
       "\n",
       "    .dataframe tbody tr th {\n",
       "        vertical-align: top;\n",
       "    }\n",
       "\n",
       "    .dataframe thead th {\n",
       "        text-align: right;\n",
       "    }\n",
       "</style>\n",
       "<table border=\"1\" class=\"dataframe\">\n",
       "  <thead>\n",
       "    <tr style=\"text-align: right;\">\n",
       "      <th></th>\n",
       "      <th>value</th>\n",
       "    </tr>\n",
       "  </thead>\n",
       "  <tbody>\n",
       "    <tr>\n",
       "      <th>run_id</th>\n",
       "      <td>002111-X0003</td>\n",
       "    </tr>\n",
       "    <tr>\n",
       "      <th>pipeline_version</th>\n",
       "      <td>3.2.3</td>\n",
       "    </tr>\n",
       "    <tr>\n",
       "      <th>h5_concordance_file</th>\n",
       "      <td>002111-X0003.comp.h5</td>\n",
       "    </tr>\n",
       "    <tr>\n",
       "      <th>h5_model_file</th>\n",
       "      <td>002111-X0003.model.h5</td>\n",
       "    </tr>\n",
       "    <tr>\n",
       "      <th>model_name_with_gt</th>\n",
       "      <td>threshold_model_ignore_gt_incl_hpol_runs</td>\n",
       "    </tr>\n",
       "    <tr>\n",
       "      <th>model_name_without_gt</th>\n",
       "      <td>rf_model_ignore_gt_incl_hpol_runs</td>\n",
       "    </tr>\n",
       "    <tr>\n",
       "      <th>model_pkl_with_gt</th>\n",
       "      <td>002111-X0003.model.wgt.pkl</td>\n",
       "    </tr>\n",
       "    <tr>\n",
       "      <th>model_pkl_without_gt</th>\n",
       "      <td>002111-X0003.model.nogt.pkl</td>\n",
       "    </tr>\n",
       "    <tr>\n",
       "      <th>mean_var_depth</th>\n",
       "      <td>49.02</td>\n",
       "    </tr>\n",
       "    <tr>\n",
       "      <th>truth_sample_name</th>\n",
       "      <td>HG01204</td>\n",
       "    </tr>\n",
       "  </tbody>\n",
       "</table>\n",
       "</div>"
      ],
      "text/plain": [
       "                                                          value\n",
       "run_id                                             002111-X0003\n",
       "pipeline_version                                          3.2.3\n",
       "h5_concordance_file                        002111-X0003.comp.h5\n",
       "h5_model_file                             002111-X0003.model.h5\n",
       "model_name_with_gt     threshold_model_ignore_gt_incl_hpol_runs\n",
       "model_name_without_gt         rf_model_ignore_gt_incl_hpol_runs\n",
       "model_pkl_with_gt                    002111-X0003.model.wgt.pkl\n",
       "model_pkl_without_gt                002111-X0003.model.nogt.pkl\n",
       "mean_var_depth                                            49.02\n",
       "truth_sample_name                                       HG01204"
      ]
     },
     "execution_count": 1,
     "metadata": {},
     "output_type": "execute_result"
    }
   ],
   "source": [
    "import pandas as pd\n",
    "import h5py\n",
    "import matplotlib.pyplot as plt\n",
    "import numpy as np\n",
    "import nexusplt as nxp\n",
    "from configparser import ConfigParser\n",
    "\n",
    "pd.options.display.float_format = '{:,.2%}'.format\n",
    "pd.set_option('display.max_colwidth', None)\n",
    "\n",
    "configFile='var_report.config'\n",
    "parser = ConfigParser()\n",
    "parser.read(configFile)\n",
    "\n",
    "prmNames=['run_id','pipeline_version',\n",
    "          'h5_concordance_file', 'h5_model_file',\n",
    "          'model_name_with_gt','model_name_without_gt','model_pkl_with_gt','model_pkl_without_gt'\n",
    "         ]\n",
    "\n",
    "prm={}\n",
    "for name in prmNames:\n",
    "    prm[name]=parser.get('VarReport', name)\n",
    "\n",
    "h5outfile = parser.get('VarReport', 'h5_output', fallback='var_report.h5')\n",
    "imgpref = parser.get('VarReport', 'image_output_prefix', fallback=prm['run_id']+'.vars')+'.'\n",
    "imgdir = 'plots'\n",
    "\n",
    "sources = {'Trained wo gt':(prm['h5_concordance_file'],\"concordance\"),\n",
    "           'Trained with gt':(prm['h5_model_file'],\"scored_concordance\"),\n",
    "          }\n",
    "\n",
    "data = {}\n",
    "for s in sources:\n",
    "    data[s]={}\n",
    "    d=pd.read_hdf(sources[s][0], key=sources[s][1], mode='r')\n",
    "    data[s]=d\n",
    "\n",
    "# Load the concordance data for the entire genome\n",
    "with pd.HDFStore(prm['h5_concordance_file']) as hdf:\n",
    "    keys=hdf.keys()\n",
    "    keys=[\"chr9\",\"chr19\"] #remove after dev is done\n",
    "    wg_dfs=[pd.read_hdf(hdf,k) for k in keys if k not in ['/concordance','/input_args']]\n",
    "    wg_df=pd.concat(wg_dfs)\n",
    "    \n",
    "data['whole genome'] = wg_df\n",
    "sources['whole genome'] = (prm['h5_concordance_file'],\"all\")\n",
    "    \n",
    "prm['mean_var_depth']='{:.2f}'.format(data['Trained wo gt']['well_mapped_coverage'].mean())\n",
    "prmNames.append('mean_var_depth')\n",
    "   \n",
    "try:\n",
    "    args=pd.read_hdf(sources['Trained wo gt'][0], 'input_args', mode='r')\n",
    "    prm['truth_sample_name']=args['truth_sample_name'][0]\n",
    "except:\n",
    "    prm['truth_sample_name']=parser.get('VarReport', 'truth_sample_name', fallback='NA')\n",
    "prmNames.append('truth_sample_name')\n",
    "\n",
    "\n",
    "prmdf = pd.DataFrame.from_dict(prm, orient='index',columns=['value']).reindex(prmNames)\n",
    "prmdf.to_hdf(h5outfile, key=\"parameters\")\n",
    "\n",
    "prmdf"
   ]
  },
  {
   "cell_type": "code",
   "execution_count": 2,
   "metadata": {
    "pycharm": {
     "name": "#%%\n"
    }
   },
   "outputs": [],
   "source": [
    "def filterByCategory(data,cat):\n",
    "    if cat=='SNP':\n",
    "        return data[data['indel']==False]\n",
    "    if cat=='Indel':\n",
    "        return data[data['indel']==True]\n",
    "    elif cat=='non-hmer Indel':\n",
    "        return data[(data['indel']==True) & (data['hmer_indel_length']==0) & (data['indel_length']>0)]\n",
    "    elif cat=='non-hmer Indel w/o LCR':\n",
    "        return data[(data['indel']==True) & (data['hmer_indel_length']==0) & (data['indel_length']>0) & \n",
    "                    (~data['LCR-hs38'])]\n",
    "    elif cat=='hmer Indel <=4':\n",
    "        return data[(data['indel']==True) & (data['hmer_indel_length']>0) & (data['hmer_indel_length']<=4)]\n",
    "    elif cat=='hmer Indel >4,<=8':\n",
    "        return data[(data['indel']==True) & (data['hmer_indel_length']>4) & (data['hmer_indel_length']<=8)]\n",
    "    elif cat=='hmer Indel >8,<=10':\n",
    "        return data[(data['indel']==True) & (data['hmer_indel_length']>8) & (data['hmer_indel_length']<=10)]\n",
    "    for i in range (1,10):\n",
    "        if cat=='hmer Indel {0:d}'.format(i):\n",
    "            return data[(data['indel']==True) & (data['hmer_indel_length']==i)]\n",
    "    return None\n"
   ]
  },
  {
   "cell_type": "code",
   "execution_count": 3,
   "metadata": {},
   "outputs": [],
   "source": [
    "def calcPerformance(data):\n",
    "    classify_col='classify_gt' \n",
    "    d=data.copy()\n",
    "    \n",
    "    # Calculate precision and recall continuously along the tree_score values\n",
    "    d['tree_score'] = np.where(d[classify_col]=='fn',-1,d['tree_score'])\n",
    "    d=d[[classify_col,'tree_score','filter']].sort_values(by=['tree_score'])\n",
    "    \n",
    "    d['label'] = np.where(d[classify_col]=='fp',0,1)\n",
    "\n",
    "    d.loc[d['filter']=='HPOL_RUN','filter']='PASS'\n",
    "    d.loc[d[classify_col]=='fn','filter']='MISS'\n",
    "\n",
    "    num=len(d)\n",
    "    numPos=sum(d['label'])\n",
    "    numNeg=num-numPos\n",
    "    if num<10:\n",
    "        return (pd.DataFrame(),None,numPos,numNeg)\n",
    "    \n",
    "    d['fn']=np.cumsum(d['label'])\n",
    "    d['tp']=numPos-(d['fn'])\n",
    "    d['fp']=numNeg-np.cumsum(1-d['label'])\n",
    "\n",
    "    d['recall']=d['tp']/(d['tp']+d['fn'])\n",
    "    d['precision']=d['tp']/(d['tp']+d['fp'])\n",
    "\n",
    "    d['f1']=d['tp']/(d['tp']+0.5*d['fn']+0.5*d['fp'])\n",
    "\n",
    "    d['mask']=((d['tp']+d['fn'])>=20) & ((d['tp']+d['fp'])>=20) & (d['tree_score']>=0)\n",
    "    if len(d[d['mask']])==0:\n",
    "        return (pd.DataFrame(),None,numPos,numNeg)\n",
    "\n",
    "    # Calculate the precision and recall as ouputted by the model (based on the FILTER column)\n",
    "    d['class'] = np.where(d['label']==0,'FP','FN')\n",
    "    d.loc[(d['label']==1) & (d['filter']=='PASS'),'class']='TP'\n",
    "    d.loc[(d['label']==0) & (d['filter']!='PASS'),'class']='TN'\n",
    "\n",
    "    fn=len(d[d['class']=='FN'])\n",
    "    tp=len(d[d['class']=='TP'])\n",
    "    fp=len(d[d['class']=='FP'])\n",
    "\n",
    "    recall=tp/(tp+fn) if (tp+fn>0) else np.nan\n",
    "    precision=tp/(tp+fp) if (tp+fp>0) else np.nan\n",
    "    max_recall=1-len(d[d['filter']=='MISS'])/numPos\n",
    "\n",
    "    f1=tp/(tp+0.5*fn+0.5*fp)\n",
    "    \n",
    "    return (d[['recall','precision']][d['mask']],\n",
    "            dict({'recall':recall,'precision':precision,'f1':f1}),\n",
    "            numPos,numNeg)\n",
    "\n"
   ]
  },
  {
   "cell_type": "code",
   "execution_count": 18,
   "metadata": {},
   "outputs": [],
   "source": [
    "def plotPerformance(perfCurve,optRes,categories,source=sources,ext=None,img=None,legend=None,optRes_SEC=None):\n",
    "    n=len(categories)\n",
    "    nrow=int(np.ceil(n/5))\n",
    "    ncol=int(max(5,n))\n",
    "    fig, ax = plt.subplots(nrow,ncol) #figsize=(4*nrow,4*ncol)\n",
    "    \n",
    "    col=['r','b','g','m','k']\n",
    "\n",
    "    for i,cat in enumerate(categories):\n",
    "        for j,s in enumerate(source):\n",
    "            perf=perfCurve[s][cat]\n",
    "            opt=optRes[s][cat]\n",
    "            opt_sec=optRes_SEC[s][cat]\n",
    "            if not perf.empty:\n",
    "                ax[i].plot(perf.recall,perf.precision,'-',label=s,color=col[j])    \n",
    "                ax[i].plot(opt.get('recall'),opt.get('precision'),'o',color=col[j])\n",
    "                if optRes_SEC is not None:\n",
    "                    ax[i].plot(opt_sec.get('recall'),opt_sec.get('precision'),'o',color=\"black\")\n",
    "            title=cat if ext==None else '{0} ({1})'.format(cat,ext)\n",
    "            ax[i].set_title(title)\n",
    "            ax[i].set_xlabel(\"Recall\")\n",
    "            ax[i].set_xlim([0.4,1])\n",
    "            ax[i].set_ylim([0.4,1])\n",
    "            ax[i].grid(True)\n",
    "\n",
    "    ax[0].set_ylabel(\"Precision\")\n",
    "    if legend: \n",
    "        ax[0].legend(loc='lower left')    \n",
    "    if img:\n",
    "        nxp.save(fig,imgpref+img,'png',outdir=imgdir)\n",
    "    \n",
    "    \n",
    "def getPerformance(data,categories):\n",
    "    optTab={}\n",
    "    optRes={}\n",
    "    perfCurve={}\n",
    "    for s in sources:\n",
    "        optTab[s]=pd.DataFrame()\n",
    "        optRes[s]={}\n",
    "        perfCurve[s]={}\n",
    "\n",
    "        for i,cat in enumerate(categories):\n",
    "            d=filterByCategory(data[s],cat)\n",
    "            perf,opt,pos,neg=calcPerformance(d)\n",
    "            perfCurve[s][cat]=perf\n",
    "            optRes[s][cat]=opt\n",
    "            \n",
    "            row=pd.DataFrame({'# pos':pos,\n",
    "                              '# neg':neg,\n",
    "                              'max recall':np.nan if perf.empty else max(perf.recall),\n",
    "                              'recall':np.nan if perf.empty else opt.get('recall'),\n",
    "                              'precision':np.nan if perf.empty else opt.get('precision'),\n",
    "                              'F1':np.nan if perf.empty else opt.get('f1')\n",
    "                             },index=[cat])\n",
    "            optTab[s]=pd.concat([optTab[s],row])\n",
    "            \n",
    "    return optTab,optRes,perfCurve"
   ]
  },
  {
   "cell_type": "markdown",
   "metadata": {
    "pycharm": {
     "name": "#%% md\n"
    }
   },
   "source": [
    "## Performance over all Data"
   ]
  },
  {
   "cell_type": "code",
   "execution_count": 6,
   "metadata": {},
   "outputs": [],
   "source": [
    "def has_sec(x):\n",
    "    res = False\n",
    "    if x is not None:\n",
    "        if x==x:\n",
    "            if \"SEC\" in x:\n",
    "                res=True\n",
    "    return res\n",
    "\n",
    "sec_df = data['whole genome'].copy()\n",
    "is_sec = sec_df['blacklst'].apply(has_sec)\n",
    "sec_df.loc[is_sec,'filter'] = \"SEC\"\n",
    "sec_df.loc[(is_sec) & (sec_df['classify_gt']=='tp'),'classify_gt'] = \"fn\"\n",
    "sec_df_new=sec_df[~((is_sec) & (sec_df['classify_gt']=='fp'))]\n",
    "#sec_df.loc[(is_sec) & (sec_df['classify_gt']=='fp'),'classify_gt'] = \"tn\"\n",
    "\n",
    "data_SEC={'whole genome': sec_df_new,'Trained wo gt':data['Trained wo gt'].copy(), 'Trained with gt':data['Trained with gt'].copy()}\n",
    "#data_SEC['whole genome']['classify_gt'].value_counts()\n",
    "\n",
    "#out_df=sec_df[(is_sec) & (sec_df['classify_gt']=='fp')]\n",
    "#out_df[(out_df['indel']==True) & (out_df['hmer_indel_length']>0) & (out_df['hmer_indel_length']<=4)]\n"
   ]
  },
  {
   "cell_type": "code",
   "execution_count": 7,
   "metadata": {},
   "outputs": [
    {
     "data": {
      "text/plain": [
       "tp    195341\n",
       "fn      2924\n",
       "fp      1832\n",
       "Name: classify_gt, dtype: int64"
      ]
     },
     "execution_count": 7,
     "metadata": {},
     "output_type": "execute_result"
    }
   ],
   "source": [
    "data_SEC['whole genome']['classify_gt'].value_counts()"
   ]
  },
  {
   "cell_type": "code",
   "execution_count": null,
   "metadata": {},
   "outputs": [],
   "source": []
  },
  {
   "cell_type": "code",
   "execution_count": 8,
   "metadata": {},
   "outputs": [
    {
     "data": {
      "text/plain": [
       "tp    195425\n",
       "fp      7753\n",
       "fn      2840\n",
       "Name: classify_gt, dtype: int64"
      ]
     },
     "execution_count": 8,
     "metadata": {},
     "output_type": "execute_result"
    }
   ],
   "source": [
    "data['whole genome']['classify_gt'].value_counts()"
   ]
  },
  {
   "cell_type": "code",
   "execution_count": 9,
   "metadata": {},
   "outputs": [],
   "source": [
    "categories=['SNP','Indel','non-hmer Indel','non-hmer Indel w/o LCR','hmer Indel <=4','hmer Indel >4,<=8']\n",
    "optTab1,optRes,perfCurve=getPerformance(data,categories)\n",
    "SEC_optTab1,SEC_optRes,SEC_perfCurve=getPerformance(data_SEC,categories)"
   ]
  },
  {
   "cell_type": "code",
   "execution_count": 10,
   "metadata": {},
   "outputs": [
    {
     "data": {
      "text/html": [
       "<div>\n",
       "<style scoped>\n",
       "    .dataframe tbody tr th:only-of-type {\n",
       "        vertical-align: middle;\n",
       "    }\n",
       "\n",
       "    .dataframe tbody tr th {\n",
       "        vertical-align: top;\n",
       "    }\n",
       "\n",
       "    .dataframe thead th {\n",
       "        text-align: right;\n",
       "    }\n",
       "</style>\n",
       "<table border=\"1\" class=\"dataframe\">\n",
       "  <thead>\n",
       "    <tr style=\"text-align: right;\">\n",
       "      <th></th>\n",
       "      <th># pos</th>\n",
       "      <th># neg</th>\n",
       "      <th>max recall</th>\n",
       "      <th>recall</th>\n",
       "      <th>precision</th>\n",
       "      <th>F1</th>\n",
       "      <th># pos</th>\n",
       "      <th># neg</th>\n",
       "      <th>max recall</th>\n",
       "      <th>recall</th>\n",
       "      <th>precision</th>\n",
       "      <th>F1</th>\n",
       "    </tr>\n",
       "  </thead>\n",
       "  <tbody>\n",
       "    <tr>\n",
       "      <th>SNP</th>\n",
       "      <td>181187</td>\n",
       "      <td>938</td>\n",
       "      <td>99.68%</td>\n",
       "      <td>99.61%</td>\n",
       "      <td>99.74%</td>\n",
       "      <td>99.68%</td>\n",
       "      <td>181187</td>\n",
       "      <td>596</td>\n",
       "      <td>99.67%</td>\n",
       "      <td>99.60%</td>\n",
       "      <td>99.79%</td>\n",
       "      <td>99.69%</td>\n",
       "    </tr>\n",
       "    <tr>\n",
       "      <th>Indel</th>\n",
       "      <td>17078</td>\n",
       "      <td>6815</td>\n",
       "      <td>86.72%</td>\n",
       "      <td>85.43%</td>\n",
       "      <td>92.98%</td>\n",
       "      <td>89.04%</td>\n",
       "      <td>17078</td>\n",
       "      <td>1236</td>\n",
       "      <td>86.39%</td>\n",
       "      <td>85.12%</td>\n",
       "      <td>96.14%</td>\n",
       "      <td>90.29%</td>\n",
       "    </tr>\n",
       "    <tr>\n",
       "      <th>non-hmer Indel</th>\n",
       "      <td>8454</td>\n",
       "      <td>1132</td>\n",
       "      <td>95.78%</td>\n",
       "      <td>95.10%</td>\n",
       "      <td>96.65%</td>\n",
       "      <td>95.87%</td>\n",
       "      <td>8454</td>\n",
       "      <td>425</td>\n",
       "      <td>95.71%</td>\n",
       "      <td>95.03%</td>\n",
       "      <td>97.67%</td>\n",
       "      <td>96.33%</td>\n",
       "    </tr>\n",
       "    <tr>\n",
       "      <th>non-hmer Indel w/o LCR</th>\n",
       "      <td>6995</td>\n",
       "      <td>968</td>\n",
       "      <td>97.97%</td>\n",
       "      <td>97.57%</td>\n",
       "      <td>97.10%</td>\n",
       "      <td>97.33%</td>\n",
       "      <td>6995</td>\n",
       "      <td>332</td>\n",
       "      <td>97.94%</td>\n",
       "      <td>97.54%</td>\n",
       "      <td>98.10%</td>\n",
       "      <td>97.82%</td>\n",
       "    </tr>\n",
       "    <tr>\n",
       "      <th>hmer Indel &lt;=4</th>\n",
       "      <td>2902</td>\n",
       "      <td>4267</td>\n",
       "      <td>98.97%</td>\n",
       "      <td>97.35%</td>\n",
       "      <td>92.44%</td>\n",
       "      <td>94.83%</td>\n",
       "      <td>2902</td>\n",
       "      <td>321</td>\n",
       "      <td>98.90%</td>\n",
       "      <td>97.28%</td>\n",
       "      <td>98.47%</td>\n",
       "      <td>97.87%</td>\n",
       "    </tr>\n",
       "    <tr>\n",
       "      <th>hmer Indel &gt;4,&lt;=8</th>\n",
       "      <td>2020</td>\n",
       "      <td>710</td>\n",
       "      <td>98.07%</td>\n",
       "      <td>96.44%</td>\n",
       "      <td>94.93%</td>\n",
       "      <td>95.68%</td>\n",
       "      <td>2020</td>\n",
       "      <td>92</td>\n",
       "      <td>97.77%</td>\n",
       "      <td>96.19%</td>\n",
       "      <td>98.33%</td>\n",
       "      <td>97.25%</td>\n",
       "    </tr>\n",
       "  </tbody>\n",
       "</table>\n",
       "</div>"
      ],
      "text/plain": [
       "                         # pos  # neg  max recall  recall  precision     F1  \\\n",
       "SNP                     181187    938      99.68%  99.61%     99.74% 99.68%   \n",
       "Indel                    17078   6815      86.72%  85.43%     92.98% 89.04%   \n",
       "non-hmer Indel            8454   1132      95.78%  95.10%     96.65% 95.87%   \n",
       "non-hmer Indel w/o LCR    6995    968      97.97%  97.57%     97.10% 97.33%   \n",
       "hmer Indel <=4            2902   4267      98.97%  97.35%     92.44% 94.83%   \n",
       "hmer Indel >4,<=8         2020    710      98.07%  96.44%     94.93% 95.68%   \n",
       "\n",
       "                         # pos  # neg  max recall  recall  precision     F1  \n",
       "SNP                     181187    596      99.67%  99.60%     99.79% 99.69%  \n",
       "Indel                    17078   1236      86.39%  85.12%     96.14% 90.29%  \n",
       "non-hmer Indel            8454    425      95.71%  95.03%     97.67% 96.33%  \n",
       "non-hmer Indel w/o LCR    6995    332      97.94%  97.54%     98.10% 97.82%  \n",
       "hmer Indel <=4            2902    321      98.90%  97.28%     98.47% 97.87%  \n",
       "hmer Indel >4,<=8         2020     92      97.77%  96.19%     98.33% 97.25%  "
      ]
     },
     "execution_count": 10,
     "metadata": {},
     "output_type": "execute_result"
    }
   ],
   "source": [
    "pd.concat([optTab1['whole genome'],SEC_optTab1['whole genome']], axis=1)"
   ]
  },
  {
   "cell_type": "code",
   "execution_count": 19,
   "metadata": {
    "pycharm": {
     "name": "#%%\n"
    }
   },
   "outputs": [
    {
     "ename": "AttributeError",
     "evalue": "'numpy.ndarray' object has no attribute 'plot'",
     "output_type": "error",
     "traceback": [
      "\u001b[0;31m---------------------------------------------------------------------------\u001b[0m",
      "\u001b[0;31mAttributeError\u001b[0m                            Traceback (most recent call last)",
      "\u001b[0;32m<ipython-input-19-501c4bbb8be0>\u001b[0m in \u001b[0;36m<module>\u001b[0;34m\u001b[0m\n\u001b[0;32m----> 1\u001b[0;31m \u001b[0mplotPerformance\u001b[0m\u001b[0;34m(\u001b[0m\u001b[0mperfCurve\u001b[0m\u001b[0;34m,\u001b[0m\u001b[0moptRes\u001b[0m\u001b[0;34m,\u001b[0m\u001b[0mcategories\u001b[0m\u001b[0;34m,\u001b[0m\u001b[0mimg\u001b[0m\u001b[0;34m=\u001b[0m\u001b[0;34m'all.primary'\u001b[0m\u001b[0;34m,\u001b[0m\u001b[0msource\u001b[0m\u001b[0;34m=\u001b[0m\u001b[0;34m{\u001b[0m\u001b[0;34m'whole genome'\u001b[0m\u001b[0;34m:\u001b[0m\u001b[0msources\u001b[0m\u001b[0;34m[\u001b[0m\u001b[0;34m'whole genome'\u001b[0m\u001b[0;34m]\u001b[0m\u001b[0;34m}\u001b[0m\u001b[0;34m,\u001b[0m\u001b[0moptRes_SEC\u001b[0m\u001b[0;34m=\u001b[0m\u001b[0mSEC_optRes\u001b[0m\u001b[0;34m)\u001b[0m\u001b[0;34m\u001b[0m\u001b[0;34m\u001b[0m\u001b[0m\n\u001b[0m",
      "\u001b[0;32m<ipython-input-18-e25d4ae39fb4>\u001b[0m in \u001b[0;36mplotPerformance\u001b[0;34m(perfCurve, optRes, categories, source, ext, img, legend, optRes_SEC)\u001b[0m\n\u001b[1;32m     13\u001b[0m             \u001b[0mopt_sec\u001b[0m\u001b[0;34m=\u001b[0m\u001b[0moptRes_SEC\u001b[0m\u001b[0;34m[\u001b[0m\u001b[0ms\u001b[0m\u001b[0;34m]\u001b[0m\u001b[0;34m[\u001b[0m\u001b[0mcat\u001b[0m\u001b[0;34m]\u001b[0m\u001b[0;34m\u001b[0m\u001b[0;34m\u001b[0m\u001b[0m\n\u001b[1;32m     14\u001b[0m             \u001b[0;32mif\u001b[0m \u001b[0;32mnot\u001b[0m \u001b[0mperf\u001b[0m\u001b[0;34m.\u001b[0m\u001b[0mempty\u001b[0m\u001b[0;34m:\u001b[0m\u001b[0;34m\u001b[0m\u001b[0;34m\u001b[0m\u001b[0m\n\u001b[0;32m---> 15\u001b[0;31m                 \u001b[0max\u001b[0m\u001b[0;34m[\u001b[0m\u001b[0mi\u001b[0m\u001b[0;34m]\u001b[0m\u001b[0;34m.\u001b[0m\u001b[0mplot\u001b[0m\u001b[0;34m(\u001b[0m\u001b[0mperf\u001b[0m\u001b[0;34m.\u001b[0m\u001b[0mrecall\u001b[0m\u001b[0;34m,\u001b[0m\u001b[0mperf\u001b[0m\u001b[0;34m.\u001b[0m\u001b[0mprecision\u001b[0m\u001b[0;34m,\u001b[0m\u001b[0;34m'-'\u001b[0m\u001b[0;34m,\u001b[0m\u001b[0mlabel\u001b[0m\u001b[0;34m=\u001b[0m\u001b[0ms\u001b[0m\u001b[0;34m,\u001b[0m\u001b[0mcolor\u001b[0m\u001b[0;34m=\u001b[0m\u001b[0mcol\u001b[0m\u001b[0;34m[\u001b[0m\u001b[0mj\u001b[0m\u001b[0;34m]\u001b[0m\u001b[0;34m)\u001b[0m\u001b[0;34m\u001b[0m\u001b[0;34m\u001b[0m\u001b[0m\n\u001b[0m\u001b[1;32m     16\u001b[0m                 \u001b[0max\u001b[0m\u001b[0;34m[\u001b[0m\u001b[0mi\u001b[0m\u001b[0;34m]\u001b[0m\u001b[0;34m.\u001b[0m\u001b[0mplot\u001b[0m\u001b[0;34m(\u001b[0m\u001b[0mopt\u001b[0m\u001b[0;34m.\u001b[0m\u001b[0mget\u001b[0m\u001b[0;34m(\u001b[0m\u001b[0;34m'recall'\u001b[0m\u001b[0;34m)\u001b[0m\u001b[0;34m,\u001b[0m\u001b[0mopt\u001b[0m\u001b[0;34m.\u001b[0m\u001b[0mget\u001b[0m\u001b[0;34m(\u001b[0m\u001b[0;34m'precision'\u001b[0m\u001b[0;34m)\u001b[0m\u001b[0;34m,\u001b[0m\u001b[0;34m'o'\u001b[0m\u001b[0;34m,\u001b[0m\u001b[0mcolor\u001b[0m\u001b[0;34m=\u001b[0m\u001b[0mcol\u001b[0m\u001b[0;34m[\u001b[0m\u001b[0mj\u001b[0m\u001b[0;34m]\u001b[0m\u001b[0;34m)\u001b[0m\u001b[0;34m\u001b[0m\u001b[0;34m\u001b[0m\u001b[0m\n\u001b[1;32m     17\u001b[0m                 \u001b[0;32mif\u001b[0m \u001b[0moptRes_SEC\u001b[0m \u001b[0;32mis\u001b[0m \u001b[0;32mnot\u001b[0m \u001b[0;32mNone\u001b[0m\u001b[0;34m:\u001b[0m\u001b[0;34m\u001b[0m\u001b[0;34m\u001b[0m\u001b[0m\n",
      "\u001b[0;31mAttributeError\u001b[0m: 'numpy.ndarray' object has no attribute 'plot'"
     ]
    },
    {
     "data": {
      "image/png": "[encoded data removed]",
      "text/plain": [
       "<Figure size 432x288 with 12 Axes>"
      ]
     },
     "metadata": {
      "needs_background": "light"
     },
     "output_type": "display_data"
    }
   ],
   "source": [
    "plotPerformance(perfCurve,optRes,categories,img='all.primary',source={'whole genome':sources['whole genome']},optRes_SEC=SEC_optRes)"
   ]
  },
  {
   "cell_type": "code",
   "execution_count": null,
   "metadata": {},
   "outputs": [],
   "source": [
    "categories=['hmer Indel 4','hmer Indel 5','hmer Indel 6','hmer Indel 7','hmer Indel 8','hmer Indel >8,<=10']\n",
    "optTab2,optRes,perfCurve=getPerformance(data,categories)\n",
    "plotPerformance(perfCurve,optRes,categories,img='all.hmers',source={'whole genome':sources['whole genome']})"
   ]
  },
  {
   "cell_type": "code",
   "execution_count": null,
   "metadata": {},
   "outputs": [],
   "source": [
    "pd.options.display.float_format = '{:,.2%}'.format\n",
    "\n",
    "optTab={}\n",
    "for s in sources:\n",
    "    optTab[s]=pd.concat([optTab1[s], optTab2[s]])\n",
    "df=pd.concat([optTab[s] for s in sources], axis=1, keys=[s for s in sources])\n",
    "df.to_hdf(h5outfile, key=\"all_data\")\n",
    "\n",
    "df['whole genome']"
   ]
  },
  {
   "cell_type": "markdown",
   "metadata": {
    "pycharm": {
     "name": "#%% md\n"
    }
   },
   "source": [
    "### Homozygous genotyping accuracy"
   ]
  },
  {
   "cell_type": "markdown",
   "metadata": {},
   "source": [
    "The precision and recall of called homozygous variants (where the variant was not classfied as False Negative)"
   ]
  },
  {
   "cell_type": "code",
   "execution_count": 15,
   "metadata": {
    "pycharm": {
     "name": "#%%\n"
    }
   },
   "outputs": [
    {
     "data": {
      "text/html": [
       "<div>\n",
       "<style scoped>\n",
       "    .dataframe tbody tr th:only-of-type {\n",
       "        vertical-align: middle;\n",
       "    }\n",
       "\n",
       "    .dataframe tbody tr th {\n",
       "        vertical-align: top;\n",
       "    }\n",
       "\n",
       "    .dataframe thead th {\n",
       "        text-align: right;\n",
       "    }\n",
       "</style>\n",
       "<table border=\"1\" class=\"dataframe\">\n",
       "  <thead>\n",
       "    <tr style=\"text-align: right;\">\n",
       "      <th></th>\n",
       "      <th># pos</th>\n",
       "      <th># neg</th>\n",
       "      <th>max recall</th>\n",
       "      <th>recall</th>\n",
       "      <th>precision</th>\n",
       "      <th>F1</th>\n",
       "    </tr>\n",
       "  </thead>\n",
       "  <tbody>\n",
       "    <tr>\n",
       "      <th>SNP</th>\n",
       "      <td>66215</td>\n",
       "      <td>0</td>\n",
       "      <td>99.94%</td>\n",
       "      <td>99.93%</td>\n",
       "      <td>100.00%</td>\n",
       "      <td>99.96%</td>\n",
       "    </tr>\n",
       "    <tr>\n",
       "      <th>non-hmer Indel</th>\n",
       "      <td>2679</td>\n",
       "      <td>2</td>\n",
       "      <td>98.25%</td>\n",
       "      <td>98.13%</td>\n",
       "      <td>99.92%</td>\n",
       "      <td>99.02%</td>\n",
       "    </tr>\n",
       "    <tr>\n",
       "      <th>non-hmer Indel w/o LCR</th>\n",
       "      <td>2348</td>\n",
       "      <td>1</td>\n",
       "      <td>99.02%</td>\n",
       "      <td>99.06%</td>\n",
       "      <td>99.96%</td>\n",
       "      <td>99.51%</td>\n",
       "    </tr>\n",
       "    <tr>\n",
       "      <th>hmer Indel &lt;=4</th>\n",
       "      <td>1144</td>\n",
       "      <td>0</td>\n",
       "      <td>99.56%</td>\n",
       "      <td>99.56%</td>\n",
       "      <td>100.00%</td>\n",
       "      <td>99.78%</td>\n",
       "    </tr>\n",
       "    <tr>\n",
       "      <th>hmer Indel &gt;4,&lt;=8</th>\n",
       "      <td>680</td>\n",
       "      <td>0</td>\n",
       "      <td>99.41%</td>\n",
       "      <td>99.41%</td>\n",
       "      <td>100.00%</td>\n",
       "      <td>99.71%</td>\n",
       "    </tr>\n",
       "  </tbody>\n",
       "</table>\n",
       "</div>"
      ],
      "text/plain": [
       "                        # pos  # neg  max recall  recall  precision     F1\n",
       "SNP                     66215      0      99.94%  99.93%    100.00% 99.96%\n",
       "non-hmer Indel           2679      2      98.25%  98.13%     99.92% 99.02%\n",
       "non-hmer Indel w/o LCR   2348      1      99.02%  99.06%     99.96% 99.51%\n",
       "hmer Indel <=4           1144      0      99.56%  99.56%    100.00% 99.78%\n",
       "hmer Indel >4,<=8         680      0      99.41%  99.41%    100.00% 99.71%"
      ]
     },
     "execution_count": 15,
     "metadata": {},
     "output_type": "execute_result"
    }
   ],
   "source": [
    "categories=['SNP','non-hmer Indel','non-hmer Indel w/o LCR','hmer Indel <=4','hmer Indel >4,<=8']\n",
    "\n",
    "hmzData={}\n",
    "for s in sources:\n",
    "        d=data[s]\n",
    "        hmzData[s]=d[(d['gt_ground_truth']==(1,1)) & (d['classify']!='fn')]\n",
    "optTab,optRes,perfCurve=getPerformance(hmzData,categories,gt=True)\n",
    "df=pd.concat([optTab[s] for s in sources], axis=1, keys=[s for s in sources])\n",
    "df.to_hdf(h5outfile, key=\"all_data_homozygous\")\n",
    "\n",
    "df['whole genome']"
   ]
  },
  {
   "cell_type": "markdown",
   "metadata": {
    "pycharm": {
     "name": "#%% md\n"
    }
   },
   "source": [
    "## Performance over UG high confidence regions"
   ]
  },
  {
   "cell_type": "code",
   "execution_count": null,
   "metadata": {
    "pycharm": {
     "name": "#%%\n"
    }
   },
   "outputs": [],
   "source": [
    "filtData={}\n",
    "for s in sources:\n",
    "    d=data[s]\n",
    "    filtData[s]=d.query(\"ug_hcr==True\")\n",
    "\n",
    "categories=['SNP','non-hmer Indel','non-hmer Indel w/o LCR','hmer Indel <=4','hmer Indel >4,<=8']\n",
    "optTab1,optRes,perfCurve=getPerformance(filtData,categories)\n",
    "plotPerformance(perfCurve,optRes,categories,img='hicvg.primary',source={'whole genome':sources['whole genome']})"
   ]
  },
  {
   "cell_type": "code",
   "execution_count": null,
   "metadata": {},
   "outputs": [],
   "source": [
    "categories=['hmer Indel 4','hmer Indel 5','hmer Indel 6','hmer Indel 7','hmer Indel 8','hmer Indel >8,<=10']\n",
    "optTab2,optRes,perfCurve=getPerformance(filtData,categories)\n",
    "plotPerformance(perfCurve,optRes,categories,img='hicvg.hmers',source={'whole genome':sources['whole genome']})"
   ]
  },
  {
   "cell_type": "code",
   "execution_count": null,
   "metadata": {},
   "outputs": [],
   "source": [
    "optTab={}\n",
    "for s in sources:\n",
    "    optTab[s]=pd.concat([optTab1[s], optTab2[s]])\n",
    "df=pd.concat([optTab[s] for s in sources], axis=1, keys=[s for s in sources])\n",
    "df.to_hdf(h5outfile, key=\"ug_hcr\")\n",
    "defTable=df.copy()\n",
    "df['whole genome']"
   ]
  },
  {
   "cell_type": "markdown",
   "metadata": {
    "pycharm": {
     "name": "#%% md\n"
    }
   },
   "source": [
    "### Homozygous genotyping accuracy"
   ]
  },
  {
   "cell_type": "code",
   "execution_count": null,
   "metadata": {
    "pycharm": {
     "name": "#%%\n"
    }
   },
   "outputs": [],
   "source": [
    "categories=['SNP','non-hmer Indel','hmer Indel <=4','hmer Indel >4,<=8','hmer Indel >8,<=10']\n",
    "\n",
    "hmzData={}\n",
    "for s in sources:\n",
    "        d=filtData[s]\n",
    "        hmzData[s]=d[(d['gt_ground_truth']==(1,1)) & (d['classify']!='fn')]\n",
    "optTab,optRes,perfCurve=getPerformance(hmzData,categories,gt=True)\n",
    "df=pd.concat([optTab[s] for s in sources], axis=1, keys=[s for s in sources])\n",
    "df.to_hdf(h5outfile, key=\"ug_hcr_homozygous\")\n",
    "df['whole genome']"
   ]
  },
  {
   "cell_type": "markdown",
   "metadata": {
    "pycharm": {
     "name": "#%% md\n"
    }
   },
   "source": [
    "### Stratified by base"
   ]
  },
  {
   "cell_type": "markdown",
   "metadata": {},
   "source": [
    "#### (A,T)"
   ]
  },
  {
   "cell_type": "code",
   "execution_count": null,
   "metadata": {
    "pycharm": {
     "name": "#%%\n"
    }
   },
   "outputs": [],
   "source": [
    "categories=['SNP','non-hmer Indel','hmer Indel <=4','hmer Indel >4,<=8','hmer Indel >8,<=10']\n",
    "\n",
    "baseData={}\n",
    "b =('A','T')\n",
    "for s in sources:\n",
    "        d=filtData[s]\n",
    "        baseData[s]=d[((d['indel']==False) & ((d['ref']==b[0]) | (d['ref']==b[1]))) |\n",
    "                      ((d['hmer_indel_length']>0) & ((d['hmer_indel_nuc']==b[0]) | (d['hmer_indel_nuc']==b[1])))\n",
    "                     ]\n",
    "optTab1,optRes,perfCurve=getPerformance(baseData,categories)\n",
    "for s in sources:\n",
    "    optTab1[s].rename(index={a:'{0} ({1}/{2})'.format(a,b[0],b[1]) for a in optTab1[s].index}, inplace=True)\n",
    "plotPerformance(perfCurve,optRes,categories,source={'whole genome':sources['whole genome']})"
   ]
  },
  {
   "cell_type": "markdown",
   "metadata": {
    "pycharm": {
     "name": "#%% md\n"
    }
   },
   "source": [
    "#### (G,C)"
   ]
  },
  {
   "cell_type": "code",
   "execution_count": null,
   "metadata": {
    "pycharm": {
     "name": "#%%\n"
    }
   },
   "outputs": [],
   "source": [
    "categories=['SNP','non-hmer Indel','hmer Indel <=4','hmer Indel >4,<=8','hmer Indel >8,<=10']\n",
    "baseData={}\n",
    "b =('C','G')\n",
    "for s in sources:\n",
    "        d=filtData[s]\n",
    "        baseData[s]=d[((d['indel']==False) & ((d['ref']==b[0]) | (d['ref']==b[1]))) |\n",
    "                      ((d['hmer_indel_length']>0) & ((d['hmer_indel_nuc']==b[0]) | (d['hmer_indel_nuc']==b[1])))\n",
    "                     ]\n",
    "optTab2,optRes,perfCurve=getPerformance(baseData,categories)\n",
    "for s in sources:\n",
    "    optTab2[s].rename(index={a:'{0} ({1}/{2})'.format(a,b[0],b[1]) for a in optTab2[s].index}, inplace=True)\n",
    "plotPerformance(perfCurve,optRes,categories,source={'whole genome':sources['whole genome']})"
   ]
  },
  {
   "cell_type": "code",
   "execution_count": null,
   "metadata": {
    "pycharm": {
     "name": "#%%\n"
    }
   },
   "outputs": [],
   "source": [
    "optTab={}\n",
    "for s in sources:\n",
    "    optTab[s]=pd.concat([optTab1[s], optTab2[s]])\n",
    "df=pd.concat([optTab[s] for s in sources], axis=1, keys=[s for s in sources])\n",
    "df.to_hdf(h5outfile, key=\"ug_hcr_per_base\")\n",
    "df['whole genome']"
   ]
  },
  {
   "cell_type": "markdown",
   "metadata": {},
   "source": [
    "## Performance over regions with coverage>=20 and mappability.0"
   ]
  },
  {
   "cell_type": "code",
   "execution_count": null,
   "metadata": {
    "pycharm": {
     "name": "#%%\n"
    }
   },
   "outputs": [],
   "source": [
    "filtData={}\n",
    "for s in sources:\n",
    "    d=data[s]\n",
    "    filtData[s]=d[(d['well_mapped_coverage']>=20) &\n",
    "                  (d['mappability.0'])\n",
    "                 ]\n",
    "\n",
    "categories=['SNP','non-hmer Indel','non-hmer Indel w/o LCR','hmer Indel <=4','hmer Indel >4,<=8']\n",
    "optTab1,optRes,perfCurve=getPerformance(filtData,categories)\n",
    "plotPerformance(perfCurve,optRes,categories,img='hicvg.primary',source={'whole genome':sources['whole genome']})\n"
   ]
  },
  {
   "cell_type": "code",
   "execution_count": null,
   "metadata": {
    "pycharm": {
     "name": "#%%\n"
    }
   },
   "outputs": [],
   "source": [
    "categories=['hmer Indel 4','hmer Indel 5','hmer Indel 6','hmer Indel 7','hmer Indel 8','hmer Indel >8,<=10']\n",
    "optTab2,optRes,perfCurve=getPerformance(filtData,categories)\n",
    "plotPerformance(perfCurve,optRes,categories,img='hicvg.hmers',source={'whole genome':sources['whole genome']})"
   ]
  },
  {
   "cell_type": "code",
   "execution_count": null,
   "metadata": {
    "pycharm": {
     "name": "#%%\n"
    }
   },
   "outputs": [],
   "source": [
    "optTab={}\n",
    "for s in sources:\n",
    "    optTab[s]=pd.concat([optTab1[s], optTab2[s]])\n",
    "df=pd.concat([optTab[s] for s in sources], axis=1, keys=[s for s in sources])\n",
    "df.to_hdf(h5outfile, key=\"good_cvg_data\")\n",
    "defTable=df.copy()\n",
    "df['whole genome']"
   ]
  },
  {
   "cell_type": "markdown",
   "metadata": {},
   "source": [
    "### Including genotype"
   ]
  },
  {
   "cell_type": "code",
   "execution_count": null,
   "metadata": {
    "pycharm": {
     "name": "#%%\n"
    }
   },
   "outputs": [],
   "source": [
    "categories=['SNP','non-hmer Indel','non-hmer Indel w/o LCR','hmer Indel <=4','hmer Indel >4,<=8']\n",
    "optTab,optRes,perfCurve=getPerformance(filtData,categories,gt=True)\n",
    "plotPerformance(perfCurve,optRes,categories,source={'whole genome':sources['whole genome']})"
   ]
  },
  {
   "cell_type": "code",
   "execution_count": null,
   "metadata": {
    "pycharm": {
     "name": "#%%\n"
    }
   },
   "outputs": [],
   "source": [
    "df=pd.concat([optTab[s] for s in sources], axis=1, keys=[s for s in sources])\n",
    "df.to_hdf(h5outfile, key=\"good_cvg_data_gt\")\n",
    "df['whole genome']"
   ]
  },
  {
   "cell_type": "markdown",
   "metadata": {},
   "source": [
    "### Homozygous genotyping accuracy"
   ]
  },
  {
   "cell_type": "code",
   "execution_count": null,
   "metadata": {
    "pycharm": {
     "name": "#%%\n"
    }
   },
   "outputs": [],
   "source": [
    "categories=['SNP','non-hmer Indel','non-hmer Indel w/o LCR','hmer Indel <=4','hmer Indel >4,<=8']\n",
    "\n",
    "hmzData={}\n",
    "for s in sources:\n",
    "        d=filtData[s]\n",
    "        hmzData[s]=d[(d['gt_ground_truth']==(1,1)) & (d['classify_gt']!='fn')]\n",
    "optTab,optRes,perfCurve=getPerformance(hmzData,categories,gt=True)\n",
    "df=pd.concat([optTab[s] for s in sources], axis=1, keys=[s for s in sources])\n",
    "df.to_hdf(h5outfile, key=\"good_cvg_data_homozygous\")\n",
    "df['whole genome']"
   ]
  },
  {
   "cell_type": "markdown",
   "metadata": {},
   "source": [
    "### Stratified by base"
   ]
  },
  {
   "cell_type": "markdown",
   "metadata": {},
   "source": [
    "#### (A,T)"
   ]
  },
  {
   "cell_type": "code",
   "execution_count": null,
   "metadata": {
    "pycharm": {
     "name": "#%%\n"
    }
   },
   "outputs": [],
   "source": [
    "categories=['SNP','hmer Indel <=4','hmer Indel >4,<=8','hmer Indel >8,<=10','hmer Indel 8']\n",
    "\n",
    "baseData={}\n",
    "b =('A','T')\n",
    "for s in sources:\n",
    "        d=filtData[s]\n",
    "        baseData[s]=d[((d['indel']==False) & ((d['ref']==b[0]) | (d['ref']==b[1]))) |\n",
    "                      ((d['hmer_indel_length']>0) & ((d['hmer_indel_nuc']==b[0]) | (d['hmer_indel_nuc']==b[1])))\n",
    "                     ]\n",
    "optTab1,optRes,perfCurve=getPerformance(baseData,categories)\n",
    "for s in sources:\n",
    "    optTab1[s].rename(index={a:'{0} ({1}/{2})'.format(a,b[0],b[1]) for a in optTab1[s].index}, inplace=True)\n",
    "plotPerformance(perfCurve,optRes,categories,source={'whole genome':sources['whole genome']})"
   ]
  },
  {
   "cell_type": "markdown",
   "metadata": {},
   "source": [
    "#### (G,C)"
   ]
  },
  {
   "cell_type": "code",
   "execution_count": null,
   "metadata": {
    "pycharm": {
     "name": "#%%\n"
    }
   },
   "outputs": [],
   "source": [
    "categories=['SNP','hmer Indel <=4','hmer Indel >4,<=8','hmer Indel >8,<=10','hmer Indel 6']\n",
    "baseData={}\n",
    "b =('C','G')\n",
    "for s in sources:\n",
    "        d=filtData[s]\n",
    "        baseData[s]=d[((d['indel']==False) & ((d['ref']==b[0]) | (d['ref']==b[1]))) |\n",
    "                      ((d['hmer_indel_length']>0) & ((d['hmer_indel_nuc']==b[0]) | (d['hmer_indel_nuc']==b[1])))\n",
    "                     ]\n",
    "optTab2,optRes,perfCurve=getPerformance(baseData,categories)\n",
    "for s in sources:\n",
    "    optTab2[s].rename(index={a:'{0} ({1}/{2})'.format(a,b[0],b[1]) for a in optTab2[s].index}, inplace=True)\n",
    "plotPerformance(perfCurve,optRes,categories,source={'whole genome':sources['whole genome']})"
   ]
  },
  {
   "cell_type": "code",
   "execution_count": null,
   "metadata": {
    "pycharm": {
     "name": "#%%\n"
    }
   },
   "outputs": [],
   "source": [
    "optTab={}\n",
    "for s in sources:\n",
    "    optTab[s]=pd.concat([optTab1[s], optTab2[s]])\n",
    "df=pd.concat([optTab[s] for s in sources], axis=1, keys=[s for s in sources])\n",
    "df.to_hdf(h5outfile, key=\"good_cvg_data_per_base\")\n",
    "df['whole genome']"
   ]
  },
  {
   "cell_type": "markdown",
   "metadata": {
    "pycharm": {
     "name": "#%% md\n"
    }
   },
   "source": [
    "## Performance over regions with coverage>=20 and mappability.0"
   ]
  },
  {
   "cell_type": "code",
   "execution_count": null,
   "metadata": {
    "pycharm": {
     "name": "#%%\n"
    }
   },
   "outputs": [],
   "source": [
    "filtData={}\n",
    "for s in sources:\n",
    "    d=data[s]\n",
    "    filtData[s]=d[(d['well_mapped_coverage']>=20) &\n",
    "                  (d['mappability.0'])\n",
    "                 ]\n",
    "\n",
    "categories=['SNP','non-hmer Indel','non-hmer Indel w/o LCR','hmer Indel <=4','hmer Indel >4,<=8']\n",
    "optTab1,optRes,perfCurve=getPerformance(filtData,categories)\n",
    "plotPerformance(perfCurve,optRes,categories,img='hicvg.primary',source={'whole genome':sources['whole genome']})\n"
   ]
  },
  {
   "cell_type": "code",
   "execution_count": null,
   "metadata": {},
   "outputs": [],
   "source": [
    "categories=['hmer Indel 4','hmer Indel 5','hmer Indel 6','hmer Indel 7','hmer Indel 8','hmer Indel >8,<=10']\n",
    "optTab2,optRes,perfCurve=getPerformance(filtData,categories)\n",
    "plotPerformance(perfCurve,optRes,categories,img='hicvg.hmers',source={'whole genome':sources['whole genome']})"
   ]
  },
  {
   "cell_type": "code",
   "execution_count": null,
   "metadata": {
    "pycharm": {
     "name": "#%%\n"
    }
   },
   "outputs": [],
   "source": [
    "optTab={}\n",
    "for s in sources:\n",
    "    optTab[s]=pd.concat([optTab1[s], optTab2[s]])\n",
    "df=pd.concat([optTab[s] for s in sources], axis=1, keys=[s for s in sources])\n",
    "df.to_hdf(h5outfile, key=\"good_cvg_data\")\n",
    "defTable=df.copy()\n",
    "df['whole genome']"
   ]
  },
  {
   "cell_type": "markdown",
   "metadata": {
    "pycharm": {
     "name": "#%% md\n"
    }
   },
   "source": [
    "### Including genotype"
   ]
  },
  {
   "cell_type": "code",
   "execution_count": null,
   "metadata": {
    "pycharm": {
     "name": "#%%\n"
    }
   },
   "outputs": [],
   "source": [
    "categories=['SNP','non-hmer Indel','non-hmer Indel w/o LCR','hmer Indel <=4','hmer Indel >4,<=8']\n",
    "optTab,optRes,perfCurve=getPerformance(filtData,categories,gt=True)\n",
    "plotPerformance(perfCurve,optRes,categories,source={'whole genome':sources['whole genome']})"
   ]
  },
  {
   "cell_type": "code",
   "execution_count": null,
   "metadata": {},
   "outputs": [],
   "source": [
    "df=pd.concat([optTab[s] for s in sources], axis=1, keys=[s for s in sources])\n",
    "df.to_hdf(h5outfile, key=\"good_cvg_data_gt\")\n",
    "df['whole genome']"
   ]
  },
  {
   "cell_type": "markdown",
   "metadata": {
    "pycharm": {
     "name": "#%% md\n"
    }
   },
   "source": [
    "### Homozygous genotyping accuracy"
   ]
  },
  {
   "cell_type": "code",
   "execution_count": null,
   "metadata": {
    "pycharm": {
     "name": "#%%\n"
    }
   },
   "outputs": [],
   "source": [
    "categories=['SNP','non-hmer Indel','non-hmer Indel w/o LCR','hmer Indel <=4','hmer Indel >4,<=8']\n",
    "\n",
    "hmzData={}\n",
    "for s in sources:\n",
    "        d=filtData[s]\n",
    "        hmzData[s]=d[(d['gt_ground_truth']==(1,1)) & (d['classify']!='fn')]\n",
    "optTab,optRes,perfCurve=getPerformance(hmzData,categories,gt=True)\n",
    "df=pd.concat([optTab[s] for s in sources], axis=1, keys=[s for s in sources])\n",
    "df.to_hdf(h5outfile, key=\"good_cvg_data_homozygous\")\n",
    "df['whole genome']"
   ]
  },
  {
   "cell_type": "markdown",
   "metadata": {
    "pycharm": {
     "name": "#%% md\n"
    }
   },
   "source": [
    "### Stratified by base"
   ]
  },
  {
   "cell_type": "markdown",
   "metadata": {},
   "source": [
    "#### (A,T)"
   ]
  },
  {
   "cell_type": "code",
   "execution_count": null,
   "metadata": {
    "pycharm": {
     "name": "#%%\n"
    }
   },
   "outputs": [],
   "source": [
    "categories=['SNP','non-hmer Indel','hmer Indel <=4','hmer Indel >4,<=8','hmer Indel >8,<=10']\n",
    "\n",
    "baseData={}\n",
    "b =('A','T')\n",
    "for s in sources:\n",
    "        d=filtData[s]\n",
    "        baseData[s]=d[((d['indel']==False) & ((d['ref']==b[0]) | (d['ref']==b[1]))) |\n",
    "                      ((d['hmer_indel_length']>0) & ((d['hmer_indel_nuc']==b[0]) | (d['hmer_indel_nuc']==b[1])))\n",
    "                     ]\n",
    "optTab1,optRes,perfCurve=getPerformance(baseData,categories)\n",
    "for s in sources:\n",
    "    optTab1[s].rename(index={a:'{0} ({1}/{2})'.format(a,b[0],b[1]) for a in optTab1[s].index}, inplace=True)\n",
    "plotPerformance(perfCurve,optRes,categories,source={'whole genome':sources['whole genome']})"
   ]
  },
  {
   "cell_type": "markdown",
   "metadata": {
    "pycharm": {
     "name": "#%% md\n"
    }
   },
   "source": [
    "#### (G,C)"
   ]
  },
  {
   "cell_type": "code",
   "execution_count": null,
   "metadata": {
    "pycharm": {
     "name": "#%%\n"
    }
   },
   "outputs": [],
   "source": [
    "categories=['SNP','non-hmer Indel','hmer Indel <=4','hmer Indel >4,<=8','hmer Indel >8,<=10']\n",
    "baseData={}\n",
    "b =('C','G')\n",
    "for s in sources:\n",
    "        d=filtData[s]\n",
    "        baseData[s]=d[((d['indel']==False) & ((d['ref']==b[0]) | (d['ref']==b[1]))) |\n",
    "                      ((d['hmer_indel_length']>0) & ((d['hmer_indel_nuc']==b[0]) | (d['hmer_indel_nuc']==b[1])))\n",
    "                     ]\n",
    "optTab2,optRes,perfCurve=getPerformance(baseData,categories)\n",
    "for s in sources:\n",
    "    optTab2[s].rename(index={a:'{0} ({1}/{2})'.format(a,b[0],b[1]) for a in optTab2[s].index}, inplace=True)\n",
    "plotPerformance(perfCurve,optRes,categories,source={'whole genome':sources['whole genome']})"
   ]
  },
  {
   "cell_type": "code",
   "execution_count": null,
   "metadata": {},
   "outputs": [],
   "source": [
    "optTab={}\n",
    "for s in sources:\n",
    "    optTab[s]=pd.concat([optTab1[s], optTab2[s]])\n",
    "df=pd.concat([optTab[s] for s in sources], axis=1, keys=[s for s in sources])\n",
    "df.to_hdf(h5outfile, key=\"good_cvg_data_per_base\")\n",
    "df['whole genome']"
   ]
  },
  {
   "cell_type": "markdown",
   "metadata": {
    "pycharm": {
     "name": "#%% md\n"
    }
   },
   "source": [
    "###  Trained with and without Ground Truth"
   ]
  },
  {
   "cell_type": "markdown",
   "metadata": {},
   "source": [
    "<ul>\n",
    "<li><b>Trained wo gt - Trained without ground truth </b></li>\n",
    "Random forest model trained on chromosome 9 using known variants in dbSNP and on common fp variants\n",
    "<li><b>Trained with gt - Trained with ground truth</b></li>\n",
    "Simple threshold model trained on chromosome 9 using its own ground truth\n",
    "</ul>"
   ]
  },
  {
   "cell_type": "code",
   "execution_count": null,
   "metadata": {
    "collapsed": false,
    "jupyter": {
     "outputs_hidden": false
    },
    "pycharm": {
     "name": "#%%\n"
    }
   },
   "outputs": [],
   "source": [
    "categories=['SNP','non-hmer Indel','non-hmer Indel w/o LCR','hmer Indel <=4','hmer Indel >4,<=8']\n",
    "optTab1,optRes,perfCurve=getPerformance(data,categories)\n",
    "plotPerformance(perfCurve,optRes,categories,img='all.primary',source={'Trained wo gt':sources['Trained wo gt'], 'Trained with gt': sources['Trained wo gt']},legend=sources[s])"
   ]
  },
  {
   "cell_type": "code",
   "execution_count": null,
   "metadata": {
    "collapsed": false,
    "jupyter": {
     "outputs_hidden": false
    },
    "pycharm": {
     "name": "#%%\n"
    }
   },
   "outputs": [],
   "source": [
    "categories=['hmer Indel 4','hmer Indel 5','hmer Indel 6','hmer Indel 7','hmer Indel 8','hmer Indel >8,<=10']\n",
    "optTab2,optRes,perfCurve=getPerformance(data,categories)\n",
    "plotPerformance(perfCurve,optRes,categories,img='all.hmers',source={'Trained wo gt':sources['Trained wo gt'], 'Trained with gt': sources['Trained wo gt']},legend=sources[s])"
   ]
  },
  {
   "cell_type": "code",
   "execution_count": null,
   "metadata": {
    "collapsed": false,
    "jupyter": {
     "outputs_hidden": false
    },
    "pycharm": {
     "name": "#%%\n"
    }
   },
   "outputs": [],
   "source": [
    "pd.options.display.float_format = '{:,.2%}'.format\n",
    "sources={'Trained wo gt':sources['Trained wo gt'], 'Trained with gt': sources['Trained wo gt']}\n",
    "optTab={}\n",
    "for s in sources:\n",
    "    optTab[s]=pd.concat([optTab1[s], optTab2[s]])\n",
    "df=pd.concat([optTab[s] for s in sources], axis=1, keys=[s for s in sources])\n",
    "df.to_hdf(h5outfile, key=\"trained_w_wo_gt\")\n",
    "df_all=df\n",
    "df"
   ]
  },
  {
   "cell_type": "code",
   "execution_count": null,
   "metadata": {},
   "outputs": [],
   "source": [
    "%matplotlib agg\n",
    "d=defTable['Trained with gt'][['max recall','recall','precision']]\n",
    "labels=['SNP','nhmer','nhmer w/o LCR','hmer 2-4','hmer 5-8','hmer 4','hmer 5','hmer 6','hmer 7','hmer 8','hmer 9-10']\n",
    "fig=plt.figure()\n",
    "ax=d.plot()\n",
    "plt.xticks(np.arange(len(d.index)), rotation=30, ha='right')\n",
    "ax.set_xticklabels(labels)\n",
    "plt.ylim([0.4,1.05])\n",
    "plt.grid()\n",
    "plt.title('Cvg>20X, Trained variant calls')\n",
    "plt.tight_layout()\n",
    "nxp.save(fig,imgpref+'summary','png',outdir=imgdir)\n",
    "plt.close(fig)"
   ]
  },
  {
   "cell_type": "code",
   "execution_count": null,
   "metadata": {
    "collapsed": false,
    "jupyter": {
     "outputs_hidden": false
    },
    "pycharm": {
     "name": "#%%\n"
    }
   },
   "outputs": [],
   "source": []
  },
  {
   "cell_type": "code",
   "execution_count": null,
   "metadata": {},
   "outputs": [],
   "source": []
  }
 ],
 "metadata": {
  "kernelspec": {
   "display_name": "Python [conda env:genomics.py3]",
   "language": "python",
   "name": "conda-env-genomics.py3-py"
  },
  "language_info": {
   "codemirror_mode": {
    "name": "ipython",
    "version": 3
   },
   "file_extension": ".py",
   "mimetype": "text/x-python",
   "name": "python",
   "nbconvert_exporter": "python",
   "pygments_lexer": "ipython3",
   "version": "3.7.8"
  },
  "toc": {
   "base_numbering": 1,
   "nav_menu": {},
   "number_sections": true,
   "sideBar": true,
   "skip_h1_title": false,
   "title_cell": "Table of Contents",
   "title_sidebar": "Contents",
   "toc_cell": false,
   "toc_position": {},
   "toc_section_display": true,
   "toc_window_display": false
  }
 },
 "nbformat": 4,
 "nbformat_minor": 4
}
