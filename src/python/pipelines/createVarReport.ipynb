{
 "cells": [
  {
   "cell_type": "markdown",
   "metadata": {},
   "source": [
    "# Variant Calling Report\n",
    "## Input File"
   ]
  },
  {
   "cell_type": "code",
   "execution_count": 91,
   "metadata": {},
   "outputs": [
    {
     "data": {
      "text/plain": [
       "'130249_test.model.h5'"
      ]
     },
     "execution_count": 91,
     "metadata": {},
     "output_type": "execute_result"
    }
   ],
   "source": [
    "import pandas as pd\n",
    "import h5py\n",
    "import matplotlib.pyplot as plt\n",
    "import numpy as np\n",
    "from configparser import ConfigParser\n",
    "\n",
    "configFile='var_report.config'\n",
    "parser = ConfigParser()\n",
    "parser.read(configFile)\n",
    "\n",
    "h5FileName_trained = parser.get('VarReport', 'trained_h5_model_file')\n",
    "h5FileName_const = parser.get('VarReport', 'const_h5_model_file')\n",
    "\n",
    "model = parser.get('VarReport', 'model')\n",
    "\n"
   ]
  },
  {
   "cell_type": "markdown",
   "metadata": {},
   "source": [
    "## Optimal Performance"
   ]
  },
  {
   "cell_type": "code",
   "execution_count": 93,
   "metadata": {},
   "outputs": [],
   "source": [
    "model=parser.get('VarReport','model')\n",
    "categories=['SNP','Non-hmer INDEL','HMER indel <= 4','HMER indel > 4, < 12']\n",
    "\n",
    "optimal=pd.read_hdf(h5FileName_trained, key='optimal_recall_precision', mode='r')\n",
    "curve=pd.read_hdf(h5FileName_trained, key='recall_precision_curve', mode='r')\n",
    "\n",
    "optimal=optimal[optimal['model']==model].set_index('category').reindex(categories)\n",
    "curve=curve[curve['model']==model].set_index('category').reindex(categories)\n"
   ]
  },
  {
   "cell_type": "code",
   "execution_count": 94,
   "metadata": {},
   "outputs": [
    {
     "data": {
      "text/html": [
       "<div>\n",
       "<style scoped>\n",
       "    .dataframe tbody tr th:only-of-type {\n",
       "        vertical-align: middle;\n",
       "    }\n",
       "\n",
       "    .dataframe tbody tr th {\n",
       "        vertical-align: top;\n",
       "    }\n",
       "\n",
       "    .dataframe thead th {\n",
       "        text-align: right;\n",
       "    }\n",
       "</style>\n",
       "<table border=\"1\" class=\"dataframe\">\n",
       "  <thead>\n",
       "    <tr style=\"text-align: right;\">\n",
       "      <th></th>\n",
       "      <th>recall</th>\n",
       "      <th>precision</th>\n",
       "    </tr>\n",
       "    <tr>\n",
       "      <th>category</th>\n",
       "      <th></th>\n",
       "      <th></th>\n",
       "    </tr>\n",
       "  </thead>\n",
       "  <tbody>\n",
       "    <tr>\n",
       "      <th>SNP</th>\n",
       "      <td>0.976595</td>\n",
       "      <td>0.994115</td>\n",
       "    </tr>\n",
       "    <tr>\n",
       "      <th>Non-hmer INDEL</th>\n",
       "      <td>0.800350</td>\n",
       "      <td>0.929483</td>\n",
       "    </tr>\n",
       "    <tr>\n",
       "      <th>HMER indel &lt;= 4</th>\n",
       "      <td>0.898167</td>\n",
       "      <td>0.873267</td>\n",
       "    </tr>\n",
       "    <tr>\n",
       "      <th>HMER indel &gt; 4, &lt; 12</th>\n",
       "      <td>0.628849</td>\n",
       "      <td>0.671280</td>\n",
       "    </tr>\n",
       "  </tbody>\n",
       "</table>\n",
       "</div>"
      ],
      "text/plain": [
       "                        recall  precision\n",
       "category                                 \n",
       "SNP                   0.976595   0.994115\n",
       "Non-hmer INDEL        0.800350   0.929483\n",
       "HMER indel <= 4       0.898167   0.873267\n",
       "HMER indel > 4, < 12  0.628849   0.671280"
      ]
     },
     "execution_count": 94,
     "metadata": {},
     "output_type": "execute_result"
    }
   ],
   "source": [
    "optimal[['recall','precision']]    "
   ]
  },
  {
   "cell_type": "markdown",
   "metadata": {},
   "source": [
    "## Performance Plots"
   ]
  },
  {
   "cell_type": "code",
   "execution_count": 95,
   "metadata": {},
   "outputs": [
    {
     "data": {
      "text/plain": [
       "Text(0, 0.5, 'Precision')"
      ]
     },
     "execution_count": 95,
     "metadata": {},
     "output_type": "execute_result"
    },
    {
     "data": {
      "image/png": "[encoded data removed]",
      "text/plain": [
       "<Figure size 1152x288 with 4 Axes>"
      ]
     },
     "metadata": {
      "needs_background": "light"
     },
     "output_type": "display_data"
    }
   ],
   "source": [
    "categories=['SNP','Non-hmer INDEL','HMER indel <= 4','HMER indel > 4, < 12']\n",
    "\n",
    "fig, ax = plt.subplots(1,4,figsize=(16,4))\n",
    "for i,cat in enumerate(categories):\n",
    "    recall=curve.loc[cat,'recall']\n",
    "    precision=curve.loc[cat,'precision']\n",
    "\n",
    "    recallOpt=optimal.loc[cat,'recall']\n",
    "    precisionOpt=optimal.loc[cat,'precision']\n",
    "    \n",
    "    ax[i].plot(recall,precision,'-',label=cat)    \n",
    "    ax[i].plot(recallOpt,precisionOpt,'or')    \n",
    "    ax[i].set_title(cat)\n",
    "    ax[i].set_xlabel(\"Recall\")\n",
    "    ax[i].set_xlim([0.40,1])\n",
    "    ax[i].set_ylim([0.40,1])\n",
    "    ax[i].grid(True)\n",
    "\n",
    "ax[0].set_ylabel(\"Precision\")\n"
   ]
  },
  {
   "cell_type": "code",
   "execution_count": null,
   "metadata": {},
   "outputs": [],
   "source": []
  },
  {
   "cell_type": "markdown",
   "metadata": {},
   "source": [
    "## Constant model Performance"
   ]
  },
  {
   "cell_type": "code",
   "execution_count": null,
   "metadata": {},
   "outputs": [],
   "source": []
  },
  {
   "cell_type": "code",
   "execution_count": 93,
   "metadata": {},
   "outputs": [],
   "source": [
    "model=parser.get('VarReport','model')\n",
    "categories=['SNP','Non-hmer INDEL','HMER indel <= 4','HMER indel > 4, < 12']\n",
    "\n",
    "optimal=pd.read_hdf(h5FileName_const, key='optimal_recall_precision', mode='r')\n",
    "curve=pd.read_hdf(h5FileName_const, key='recall_precision_curve', mode='r')\n",
    "\n",
    "\n",
    "optimal=optimal[optimal['model']==model].set_index('category').reindex(categories)\n",
    "curve=curve[curve['model']==model].set_index('category').reindex(categories)\n"
   ]
  },
  {
   "cell_type": "code",
   "execution_count": 94,
   "metadata": {},
   "outputs": [
    {
     "data": {
      "text/html": [
       "<div>\n",
       "<style scoped>\n",
       "    .dataframe tbody tr th:only-of-type {\n",
       "        vertical-align: middle;\n",
       "    }\n",
       "\n",
       "    .dataframe tbody tr th {\n",
       "        vertical-align: top;\n",
       "    }\n",
       "\n",
       "    .dataframe thead th {\n",
       "        text-align: right;\n",
       "    }\n",
       "</style>\n",
       "<table border=\"1\" class=\"dataframe\">\n",
       "  <thead>\n",
       "    <tr style=\"text-align: right;\">\n",
       "      <th></th>\n",
       "      <th>recall</th>\n",
       "      <th>precision</th>\n",
       "    </tr>\n",
       "    <tr>\n",
       "      <th>category</th>\n",
       "      <th></th>\n",
       "      <th></th>\n",
       "    </tr>\n",
       "  </thead>\n",
       "  <tbody>\n",
       "    <tr>\n",
       "      <th>SNP</th>\n",
       "      <td>0.976595</td>\n",
       "      <td>0.994115</td>\n",
       "    </tr>\n",
       "    <tr>\n",
       "      <th>Non-hmer INDEL</th>\n",
       "      <td>0.800350</td>\n",
       "      <td>0.929483</td>\n",
       "    </tr>\n",
       "    <tr>\n",
       "      <th>HMER indel &lt;= 4</th>\n",
       "      <td>0.898167</td>\n",
       "      <td>0.873267</td>\n",
       "    </tr>\n",
       "    <tr>\n",
       "      <th>HMER indel &gt; 4, &lt; 12</th>\n",
       "      <td>0.628849</td>\n",
       "      <td>0.671280</td>\n",
       "    </tr>\n",
       "  </tbody>\n",
       "</table>\n",
       "</div>"
      ],
      "text/plain": [
       "                        recall  precision\n",
       "category                                 \n",
       "SNP                   0.976595   0.994115\n",
       "Non-hmer INDEL        0.800350   0.929483\n",
       "HMER indel <= 4       0.898167   0.873267\n",
       "HMER indel > 4, < 12  0.628849   0.671280"
      ]
     },
     "execution_count": 94,
     "metadata": {},
     "output_type": "execute_result"
    }
   ],
   "source": [
    "optimal[['recall','precision']]    "
   ]
  },
  {
   "cell_type": "markdown",
   "metadata": {},
   "source": [
    "## Performance Plots"
   ]
  },
  {
   "cell_type": "code",
   "execution_count": 95,
   "metadata": {},
   "outputs": [
    {
     "data": {
      "text/plain": [
       "Text(0, 0.5, 'Precision')"
      ]
     },
     "execution_count": 95,
     "metadata": {},
     "output_type": "execute_result"
    },
    {
     "data": {
      "image/png": "[encoded data removed]",
      "text/plain": [
       "<Figure size 1152x288 with 4 Axes>"
      ]
     },
     "metadata": {
      "needs_background": "light"
     },
     "output_type": "display_data"
    }
   ],
   "source": [
    "categories=['SNP','Non-hmer INDEL','HMER indel <= 4','HMER indel > 4, < 12']\n",
    "\n",
    "fig, ax = plt.subplots(1,4,figsize=(16,4))\n",
    "for i,cat in enumerate(categories):\n",
    "    recall=curve.loc[cat,'recall']\n",
    "    precision=curve.loc[cat,'precision']\n",
    "\n",
    "    recallOpt=optimal.loc[cat,'recall']\n",
    "    precisionOpt=optimal.loc[cat,'precision']\n",
    "    \n",
    "    ax[i].plot(recall,precision,'-',label=cat)    \n",
    "    ax[i].plot(recallOpt,precisionOpt,'or')    \n",
    "    ax[i].set_title(cat)\n",
    "    ax[i].set_xlabel(\"Recall\")\n",
    "    ax[i].set_xlim([0.40,1])\n",
    "    ax[i].set_ylim([0.40,1])\n",
    "    ax[i].grid(True)\n",
    "\n",
    "ax[0].set_ylabel(\"Precision\")\n"
   ]
  }
 ],
 "metadata": {
  "kernelspec": {
   "display_name": "Python 3",
   "language": "python",
   "name": "python3"
  },
  "language_info": {
   "codemirror_mode": {
    "name": "ipython",
    "version": 3
   },
   "file_extension": ".py",
   "mimetype": "text/x-python",
   "name": "python",
   "nbconvert_exporter": "python",
   "pygments_lexer": "ipython3",
   "version": "3.7.3"
  },
  "toc": {
   "base_numbering": 1,
   "nav_menu": {},
   "number_sections": true,
   "sideBar": true,
   "skip_h1_title": false,
   "title_cell": "Table of Contents",
   "title_sidebar": "Contents",
   "toc_cell": false,
   "toc_position": {},
   "toc_section_display": true,
   "toc_window_display": false
  }
 },
 "nbformat": 4,
 "nbformat_minor": 2
}
